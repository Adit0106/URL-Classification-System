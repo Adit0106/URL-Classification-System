{
  "nbformat": 4,
  "nbformat_minor": 2,
  "metadata": {
    "colab": {
      "name": "URL Pre-processing.ipynb",
      "provenance": [],
      "collapsed_sections": []
    },
    "kernelspec": {
      "name": "python3",
      "display_name": "Python 3.8.5 64-bit ('base': conda)"
    },
    "language_info": {
      "name": "python",
      "version": "3.8.5",
      "mimetype": "text/x-python",
      "codemirror_mode": {
        "name": "ipython",
        "version": 3
      },
      "pygments_lexer": "ipython3",
      "nbconvert_exporter": "python",
      "file_extension": ".py"
    },
    "interpreter": {
      "hash": "42edb5975dee1615f8452f270255c8ca0a0b5c79cc4ff6f8b9efbed6eb669abf"
    }
  },
  "cells": [
    {
      "cell_type": "code",
      "execution_count": 3,
      "source": [
        "!pip install interruptingcow\r\n",
        "!pip install whois\r\n",
        "!pip install pyquery"
      ],
      "outputs": [
        {
          "output_type": "stream",
          "name": "stdout",
          "text": [
            "Requirement already satisfied: interruptingcow in c:\\users\\adi\\anaconda3\\lib\\site-packages (0.8)\n",
            "Requirement already satisfied: whois in c:\\users\\adi\\anaconda3\\lib\\site-packages (0.9.13)\n",
            "Requirement already satisfied: pyquery in c:\\users\\adi\\anaconda3\\lib\\site-packages (1.4.3)\n",
            "Requirement already satisfied: cssselect>0.7.9 in c:\\users\\adi\\anaconda3\\lib\\site-packages (from pyquery) (1.1.0)\n",
            "Requirement already satisfied: lxml>=2.1 in c:\\users\\adi\\anaconda3\\lib\\site-packages (from pyquery) (4.6.3)\n"
          ]
        }
      ],
      "metadata": {
        "colab": {
          "base_uri": "https://localhost:8080/"
        },
        "id": "sr7GKb3nRgwh",
        "outputId": "6b4fb004-16af-48dc-9993-7419e8b757e3"
      }
    },
    {
      "cell_type": "code",
      "execution_count": 4,
      "source": [
        "from tqdm import tqdm\r\n",
        "from interruptingcow import timeout\r\n",
        "import os\r\n",
        "import whois\r\n",
        "from datetime import datetime, timezone\r\n",
        "import math\r\n",
        "import pandas as pd\r\n",
        "import numpy as np\r\n",
        "from pyquery import PyQuery\r\n",
        "from requests import get"
      ],
      "outputs": [],
      "metadata": {
        "id": "FmYp4roPRWlM"
      }
    },
    {
      "cell_type": "code",
      "execution_count": 5,
      "source": [
        "class UrlFeaturizer(object):\r\n",
        "    def __init__(self, url):\r\n",
        "        self.url = url \r\n",
        "        self.domain = url.split('//')[-1].split('/')[0]\r\n",
        "        self.today = datetime.now().replace(tzinfo=None)\r\n",
        "\r\n",
        "        try:\r\n",
        "            self.whois = whois.query(self.domain).__dict__\r\n",
        "        except:\r\n",
        "            self.whois = None\r\n",
        "\r\n",
        "        try:\r\n",
        "            self.response = get(self.url)\r\n",
        "            self.pq = PyQuery(self.response.text)\r\n",
        "        except:\r\n",
        "            self.response = None\r\n",
        "            self.pq = None\r\n",
        "\r\n",
        "    ## URL string Features\r\n",
        "\r\n",
        "    def entropy(self):\r\n",
        "        string = self.url.strip()\r\n",
        "        prob = [float(string.count(c)) / len(string) for c in dict.fromkeys(list(string))]\r\n",
        "        entropy = sum([(p * math.log(p) / math.log(2.0)) for p in prob])\r\n",
        "        return entropy\r\n",
        "\r\n",
        "    def ip(self):\r\n",
        "        string = self.url\r\n",
        "        flag = False\r\n",
        "        if (\".\" in string):\r\n",
        "            elements_array = string.strip().split(\".\")\r\n",
        "            if(len(elements_array) == 4):\r\n",
        "                for i in elements_array:\r\n",
        "                    if (i.isnumeric() and int(i)>=0 and int(i)<=255):\r\n",
        "                        flag=True\r\n",
        "                    else:\r\n",
        "                        flag=False\r\n",
        "                        break\r\n",
        "        if flag:\r\n",
        "            return 1 \r\n",
        "        else:\r\n",
        "            return 0\r\n",
        "\r\n",
        "    def numDigits(self):\r\n",
        "        digits = [i for i in self.url if i.isdigit()]\r\n",
        "        return len(digits)\r\n",
        "\r\n",
        "    def urlLength(self):\r\n",
        "        return len(self.url)\r\n",
        "\r\n",
        "    def numParameters(self):\r\n",
        "        params = self.url.split('&')\r\n",
        "        return len(params) - 1\r\n",
        "\r\n",
        "    def numFragments(self):\r\n",
        "        fragments = self.url.split('#')\r\n",
        "        return len(fragments) - 1\r\n",
        "\r\n",
        "    def numSubDomains(self):\r\n",
        "        subdomains = self.url.split('http')[-1].split('//')[-1].split('/')\r\n",
        "        return len(subdomains)-1\r\n",
        "\r\n",
        "    def domainExtension(self):\r\n",
        "        ext = self.url.split('.')[-1].split('/')[0]\r\n",
        "        return ext\r\n",
        "\r\n",
        "    ## URL domain features\r\n",
        "    def hasHttp(self):\r\n",
        "        return 'http:' in self.url\r\n",
        "\r\n",
        "    def hasHttps(self):\r\n",
        "        return 'https:' in self.url\r\n",
        "\r\n",
        "    def daysSinceRegistration(self):\r\n",
        "        if self.whois and self.whois['creation_date']:\r\n",
        "            diff = self.today - self.whois['creation_date'].replace(tzinfo=None)\r\n",
        "            diff = str(diff).split(' days')[0]\r\n",
        "            return diff\r\n",
        "        else:\r\n",
        "            return 0\r\n",
        "\r\n",
        "    def daysSinceExpiration(self):\r\n",
        "        if self.whois and self.whois['expiration_date']:\r\n",
        "            diff = self.whois['expiration_date'].replace(tzinfo=None) - self.today\r\n",
        "            diff = str(diff).split(' days')[0]\r\n",
        "            return diff\r\n",
        "        else:\r\n",
        "            return 0\r\n",
        "    \r\n",
        "     ## URL Page Features\r\n",
        "    def bodyLength(self):\r\n",
        "        if self.pq is not None:\r\n",
        "            return len(self.pq('html').text()) if self.urlIsLive else 0\r\n",
        "        else:\r\n",
        "            return 0\r\n",
        "\r\n",
        "    def numTitles(self):\r\n",
        "        if self.pq is not None:\r\n",
        "            titles = ['h{}'.format(i) for i in range(7)]\r\n",
        "            titles = [self.pq(i).items() for i in titles]\r\n",
        "            return len([item for s in titles for item in s])\r\n",
        "        else:\r\n",
        "            return 0\r\n",
        "\r\n",
        "    def numImages(self):\r\n",
        "        if self.pq is not None:\r\n",
        "            return len([i for i in self.pq('img').items()])\r\n",
        "        else:\r\n",
        "            return 0\r\n",
        "\r\n",
        "    def numLinks(self):\r\n",
        "        if self.pq is not None:\r\n",
        "            return len([i for i in self.pq('a').items()])\r\n",
        "        else:\r\n",
        "            return 0\r\n",
        "\r\n",
        "    def scriptLength(self):\r\n",
        "        if self.pq is not None:\r\n",
        "            return len(self.pq('script').text())\r\n",
        "        else:\r\n",
        "            return 0\r\n",
        "\r\n",
        "    def specialCharacters(self):\r\n",
        "        if self.pq is not None:\r\n",
        "            bodyText = self.pq('html').text()\r\n",
        "            schars = [i for i in bodyText if not i.isdigit() and not i.isalpha()]\r\n",
        "            return len(schars)\r\n",
        "        else:\r\n",
        "            return 0\r\n",
        "\r\n",
        "    def scriptToSpecialCharsRatio(self):\r\n",
        "        v = self.specialCharacters()\r\n",
        "        if self.pq is not None and v!=0:\r\n",
        "            sscr = self.scriptLength()/v\r\n",
        "        else:\r\n",
        "            sscr = 0\r\n",
        "        return sscr\r\n",
        "\r\n",
        "    def scriptTobodyRatio(self):\r\n",
        "        v = self.bodyLength()\r\n",
        "        if self.pq is not None and v!=0:\r\n",
        "            sbr = self.scriptLength()/v\r\n",
        "        else:\r\n",
        "            sbr = 0\r\n",
        "        return sbr\r\n",
        "\r\n",
        "    def bodyToSpecialCharRatio(self):\r\n",
        "        v = self.bodyLength()\r\n",
        "        if self.pq is not None and v!=0:\r\n",
        "            bscr = self.specialCharacters()/v\r\n",
        "        else:\r\n",
        "            bscr = 0\r\n",
        "        return bscr\r\n",
        "\r\n",
        "    def urlIsLive(self):\r\n",
        "        return self.response == 200\r\n",
        "\r\n",
        "    def run(self):\r\n",
        "        data = {}\r\n",
        "        data['entropy'] = self.entropy()\r\n",
        "        data['numDigits'] = self.numDigits()\r\n",
        "        data['urlLength'] = self.urlLength()\r\n",
        "        data['numParams'] = self.numParameters()\r\n",
        "        data['hasHttp'] = self.hasHttp()\r\n",
        "        data['hasHttps'] = self.hasHttps()\r\n",
        "        data['urlIsLive'] = self.urlIsLive()\r\n",
        "        data['bodyLength'] = self.bodyLength()\r\n",
        "        data['numTitles'] = self.numTitles()\r\n",
        "        data['numImages'] = self.numImages()\r\n",
        "        data['numLinks'] = self.numLinks()\r\n",
        "        data['scriptLength'] = self.scriptLength()\r\n",
        "        data['specialChars'] = self.specialCharacters()\r\n",
        "        data['ext'] = self.domainExtension()\r\n",
        "        data['dsr'] = self.daysSinceRegistration()\r\n",
        "        data['dse'] = self.daysSinceExpiration()\r\n",
        "        data['sscr'] = self.scriptToSpecialCharsRatio()\r\n",
        "        data['sbr'] = self.scriptTobodyRatio()\r\n",
        "        data['bscr'] = self.bodyToSpecialCharRatio()\r\n",
        "        data['num_%20'] = self.url.count(\"%20\")\r\n",
        "        data['num_@'] = self.url.count(\"@\")\r\n",
        "        data['has_ip'] = self.ip()\r\n",
        "    \r\n",
        "        return data"
      ],
      "outputs": [],
      "metadata": {
        "id": "u0QCYeuoRflm"
      }
    },
    {
      "cell_type": "code",
      "execution_count": 10,
      "source": [
        "#path1= \"C:\\Users\\ADI\\Desktop\\Major Project\\DefacementSitesURLFiltered.csv\"\r\n",
        "#path2=\"/content/drive/My Drive/Major_Project/FinalDataset/URL/spam_dataset.csv\"\r\n",
        "#path3=\"/content/drive/My Drive/Major_Project/FinalDataset/URL/Malware_dataset.csv\"\r\n",
        "#path4=\"/content/drive/My Drive/Major_Project/FinalDataset/URL/Benign_list_big_final.csv\"\r\n",
        "defacement = pd.read_csv(\"DefacementSitesURLFiltered.csv\")\r\n",
        "spam = pd.read_csv(\"spam_dataset.csv\")\r\n",
        "malware = pd.read_csv(\"Malware_dataset1.csv\")\r\n",
        "benign = pd.read_csv(\"Benign_list_big_final.csv\")"
      ],
      "outputs": [],
      "metadata": {
        "id": "teEaz431RvsN"
      }
    },
    {
      "cell_type": "code",
      "execution_count": 11,
      "source": [
        "defacement.describe()"
      ],
      "outputs": [
        {
          "output_type": "execute_result",
          "data": {
            "text/plain": [
              "              http://www.sinduscongoias.com.br/index.html\n",
              "count                                               96456\n",
              "unique                                              95307\n",
              "top     http://www.tandemimmobilier.fr/index.php?optio...\n",
              "freq                                                    3"
            ],
            "text/html": [
              "<div>\n",
              "<style scoped>\n",
              "    .dataframe tbody tr th:only-of-type {\n",
              "        vertical-align: middle;\n",
              "    }\n",
              "\n",
              "    .dataframe tbody tr th {\n",
              "        vertical-align: top;\n",
              "    }\n",
              "\n",
              "    .dataframe thead th {\n",
              "        text-align: right;\n",
              "    }\n",
              "</style>\n",
              "<table border=\"1\" class=\"dataframe\">\n",
              "  <thead>\n",
              "    <tr style=\"text-align: right;\">\n",
              "      <th></th>\n",
              "      <th>http://www.sinduscongoias.com.br/index.html</th>\n",
              "    </tr>\n",
              "  </thead>\n",
              "  <tbody>\n",
              "    <tr>\n",
              "      <th>count</th>\n",
              "      <td>96456</td>\n",
              "    </tr>\n",
              "    <tr>\n",
              "      <th>unique</th>\n",
              "      <td>95307</td>\n",
              "    </tr>\n",
              "    <tr>\n",
              "      <th>top</th>\n",
              "      <td>http://www.tandemimmobilier.fr/index.php?optio...</td>\n",
              "    </tr>\n",
              "    <tr>\n",
              "      <th>freq</th>\n",
              "      <td>3</td>\n",
              "    </tr>\n",
              "  </tbody>\n",
              "</table>\n",
              "</div>"
            ]
          },
          "metadata": {},
          "execution_count": 11
        }
      ],
      "metadata": {
        "colab": {
          "base_uri": "https://localhost:8080/",
          "height": 175
        },
        "id": "3Rr0TldXR-x1",
        "outputId": "273b3140-e532-49fc-84e4-5a258535a90e"
      }
    },
    {
      "cell_type": "code",
      "execution_count": 12,
      "source": [
        "# Define systematic sampling function\r\n",
        "def systematic_sampling(df, step):\r\n",
        "    \r\n",
        "    indexes = np.arange(0,len(df),step=step)\r\n",
        "    systematic_sample = df.iloc[indexes]\r\n",
        "    return systematic_sample\r\n",
        "    \r\n",
        "# Obtain a systematic sample and save it in a new variable\r\n",
        "defacement = systematic_sampling(defacement, 20)\r\n",
        "defacement.reset_index(inplace = True)\r\n",
        "defacement=defacement.iloc[: , 1:]\r\n",
        "defacement"
      ],
      "outputs": [
        {
          "output_type": "execute_result",
          "data": {
            "text/plain": [
              "            http://www.sinduscongoias.com.br/index.html\n",
              "0     http://www.sinduscongoias.com.br/index.php/ins...\n",
              "1     http://www.sinduscongoias.com.br/index.php/com...\n",
              "2     http://www.pontoprofissional.com.br/portal/ind...\n",
              "3     http://www.coleyglesias.com/index.php?option=c...\n",
              "4     http://www.coleyglesias.com/index.php?option=c...\n",
              "...                                                 ...\n",
              "4818   http://www.platingroup.az/online-test/index.html\n",
              "4819  http://www.platingroup.az/en/telim-teqvimi/day...\n",
              "4820  http://www.platingroup.az/en/telim-teqvimi/day...\n",
              "4821  http://www.platingroup.az/en/component/jquarks...\n",
              "4822  http://www.hjlaw.biz/index.php?option=com_cont...\n",
              "\n",
              "[4823 rows x 1 columns]"
            ],
            "text/html": [
              "<div>\n",
              "<style scoped>\n",
              "    .dataframe tbody tr th:only-of-type {\n",
              "        vertical-align: middle;\n",
              "    }\n",
              "\n",
              "    .dataframe tbody tr th {\n",
              "        vertical-align: top;\n",
              "    }\n",
              "\n",
              "    .dataframe thead th {\n",
              "        text-align: right;\n",
              "    }\n",
              "</style>\n",
              "<table border=\"1\" class=\"dataframe\">\n",
              "  <thead>\n",
              "    <tr style=\"text-align: right;\">\n",
              "      <th></th>\n",
              "      <th>http://www.sinduscongoias.com.br/index.html</th>\n",
              "    </tr>\n",
              "  </thead>\n",
              "  <tbody>\n",
              "    <tr>\n",
              "      <th>0</th>\n",
              "      <td>http://www.sinduscongoias.com.br/index.php/ins...</td>\n",
              "    </tr>\n",
              "    <tr>\n",
              "      <th>1</th>\n",
              "      <td>http://www.sinduscongoias.com.br/index.php/com...</td>\n",
              "    </tr>\n",
              "    <tr>\n",
              "      <th>2</th>\n",
              "      <td>http://www.pontoprofissional.com.br/portal/ind...</td>\n",
              "    </tr>\n",
              "    <tr>\n",
              "      <th>3</th>\n",
              "      <td>http://www.coleyglesias.com/index.php?option=c...</td>\n",
              "    </tr>\n",
              "    <tr>\n",
              "      <th>4</th>\n",
              "      <td>http://www.coleyglesias.com/index.php?option=c...</td>\n",
              "    </tr>\n",
              "    <tr>\n",
              "      <th>...</th>\n",
              "      <td>...</td>\n",
              "    </tr>\n",
              "    <tr>\n",
              "      <th>4818</th>\n",
              "      <td>http://www.platingroup.az/online-test/index.html</td>\n",
              "    </tr>\n",
              "    <tr>\n",
              "      <th>4819</th>\n",
              "      <td>http://www.platingroup.az/en/telim-teqvimi/day...</td>\n",
              "    </tr>\n",
              "    <tr>\n",
              "      <th>4820</th>\n",
              "      <td>http://www.platingroup.az/en/telim-teqvimi/day...</td>\n",
              "    </tr>\n",
              "    <tr>\n",
              "      <th>4821</th>\n",
              "      <td>http://www.platingroup.az/en/component/jquarks...</td>\n",
              "    </tr>\n",
              "    <tr>\n",
              "      <th>4822</th>\n",
              "      <td>http://www.hjlaw.biz/index.php?option=com_cont...</td>\n",
              "    </tr>\n",
              "  </tbody>\n",
              "</table>\n",
              "<p>4823 rows × 1 columns</p>\n",
              "</div>"
            ]
          },
          "metadata": {},
          "execution_count": 12
        }
      ],
      "metadata": {
        "colab": {
          "base_uri": "https://localhost:8080/",
          "height": 423
        },
        "id": "mpGxdYrBpWdC",
        "outputId": "61bcfcc0-ab4f-46b4-ea29-3b53d7803f16"
      }
    },
    {
      "cell_type": "code",
      "execution_count": 13,
      "source": [
        "benign.describe()"
      ],
      "outputs": [
        {
          "output_type": "execute_result",
          "data": {
            "text/plain": [
              "       http://1337x.to/torrent/1048648/American-Sniper-2014-MD-iTALiAN-DVDSCR-X264-BST-MT/\n",
              "count                                               35377                                 \n",
              "unique                                              35377                                 \n",
              "top     http://extratorrent.cc/torrent_download/418903...                                 \n",
              "freq                                                    1                                 "
            ],
            "text/html": [
              "<div>\n",
              "<style scoped>\n",
              "    .dataframe tbody tr th:only-of-type {\n",
              "        vertical-align: middle;\n",
              "    }\n",
              "\n",
              "    .dataframe tbody tr th {\n",
              "        vertical-align: top;\n",
              "    }\n",
              "\n",
              "    .dataframe thead th {\n",
              "        text-align: right;\n",
              "    }\n",
              "</style>\n",
              "<table border=\"1\" class=\"dataframe\">\n",
              "  <thead>\n",
              "    <tr style=\"text-align: right;\">\n",
              "      <th></th>\n",
              "      <th>http://1337x.to/torrent/1048648/American-Sniper-2014-MD-iTALiAN-DVDSCR-X264-BST-MT/</th>\n",
              "    </tr>\n",
              "  </thead>\n",
              "  <tbody>\n",
              "    <tr>\n",
              "      <th>count</th>\n",
              "      <td>35377</td>\n",
              "    </tr>\n",
              "    <tr>\n",
              "      <th>unique</th>\n",
              "      <td>35377</td>\n",
              "    </tr>\n",
              "    <tr>\n",
              "      <th>top</th>\n",
              "      <td>http://extratorrent.cc/torrent_download/418903...</td>\n",
              "    </tr>\n",
              "    <tr>\n",
              "      <th>freq</th>\n",
              "      <td>1</td>\n",
              "    </tr>\n",
              "  </tbody>\n",
              "</table>\n",
              "</div>"
            ]
          },
          "metadata": {},
          "execution_count": 13
        }
      ],
      "metadata": {}
    },
    {
      "cell_type": "code",
      "execution_count": 14,
      "source": [
        "benign = systematic_sampling(benign, 8)\r\n",
        "benign.reset_index(inplace = True)\r\n",
        "benign=benign.iloc[: , 1:]\r\n",
        "benign"
      ],
      "outputs": [
        {
          "output_type": "execute_result",
          "data": {
            "text/plain": [
              "     http://1337x.to/torrent/1048648/American-Sniper-2014-MD-iTALiAN-DVDSCR-X264-BST-MT/\n",
              "0     http://1337x.to/torrent/1110018/Blackhat-2015-...                                 \n",
              "1     http://abc.go.com/shows/general-hospital/episo...                                 \n",
              "2     http://allegro.pl/sexy-g-string-stringi-z-kora...                                 \n",
              "3     http://allrecipes.com/Recipe/Fluffy-Pancakes-2...                                 \n",
              "4     http://anandtech.com/show/9199/lg-announces-th...                                 \n",
              "...                                                 ...                                 \n",
              "4418  http://babal.net/books/view/2/%D9%85%D8%B9%D9%...                                 \n",
              "4419  http://babal.net/books/view/76/%D9%85%D8%B9%D9...                                 \n",
              "4420  https://lastpass.com/signup2.php?ac=1&from_uri...                                 \n",
              "4421  https://lastpass.com/signup2.php?ac=1&from_uri...                                 \n",
              "4422  https://asana.com/guide/videos/%22//fast.wisti...                                 \n",
              "\n",
              "[4423 rows x 1 columns]"
            ],
            "text/html": [
              "<div>\n",
              "<style scoped>\n",
              "    .dataframe tbody tr th:only-of-type {\n",
              "        vertical-align: middle;\n",
              "    }\n",
              "\n",
              "    .dataframe tbody tr th {\n",
              "        vertical-align: top;\n",
              "    }\n",
              "\n",
              "    .dataframe thead th {\n",
              "        text-align: right;\n",
              "    }\n",
              "</style>\n",
              "<table border=\"1\" class=\"dataframe\">\n",
              "  <thead>\n",
              "    <tr style=\"text-align: right;\">\n",
              "      <th></th>\n",
              "      <th>http://1337x.to/torrent/1048648/American-Sniper-2014-MD-iTALiAN-DVDSCR-X264-BST-MT/</th>\n",
              "    </tr>\n",
              "  </thead>\n",
              "  <tbody>\n",
              "    <tr>\n",
              "      <th>0</th>\n",
              "      <td>http://1337x.to/torrent/1110018/Blackhat-2015-...</td>\n",
              "    </tr>\n",
              "    <tr>\n",
              "      <th>1</th>\n",
              "      <td>http://abc.go.com/shows/general-hospital/episo...</td>\n",
              "    </tr>\n",
              "    <tr>\n",
              "      <th>2</th>\n",
              "      <td>http://allegro.pl/sexy-g-string-stringi-z-kora...</td>\n",
              "    </tr>\n",
              "    <tr>\n",
              "      <th>3</th>\n",
              "      <td>http://allrecipes.com/Recipe/Fluffy-Pancakes-2...</td>\n",
              "    </tr>\n",
              "    <tr>\n",
              "      <th>4</th>\n",
              "      <td>http://anandtech.com/show/9199/lg-announces-th...</td>\n",
              "    </tr>\n",
              "    <tr>\n",
              "      <th>...</th>\n",
              "      <td>...</td>\n",
              "    </tr>\n",
              "    <tr>\n",
              "      <th>4418</th>\n",
              "      <td>http://babal.net/books/view/2/%D9%85%D8%B9%D9%...</td>\n",
              "    </tr>\n",
              "    <tr>\n",
              "      <th>4419</th>\n",
              "      <td>http://babal.net/books/view/76/%D9%85%D8%B9%D9...</td>\n",
              "    </tr>\n",
              "    <tr>\n",
              "      <th>4420</th>\n",
              "      <td>https://lastpass.com/signup2.php?ac=1&amp;from_uri...</td>\n",
              "    </tr>\n",
              "    <tr>\n",
              "      <th>4421</th>\n",
              "      <td>https://lastpass.com/signup2.php?ac=1&amp;from_uri...</td>\n",
              "    </tr>\n",
              "    <tr>\n",
              "      <th>4422</th>\n",
              "      <td>https://asana.com/guide/videos/%22//fast.wisti...</td>\n",
              "    </tr>\n",
              "  </tbody>\n",
              "</table>\n",
              "<p>4423 rows × 1 columns</p>\n",
              "</div>"
            ]
          },
          "metadata": {},
          "execution_count": 14
        }
      ],
      "metadata": {
        "colab": {
          "base_uri": "https://localhost:8080/",
          "height": 423
        },
        "id": "fxvBYZdvtNGj",
        "outputId": "d632482f-0541-4fb3-bf28-c144dc3e364f"
      }
    },
    {
      "cell_type": "code",
      "execution_count": 15,
      "source": [
        "spam.describe()"
      ],
      "outputs": [
        {
          "output_type": "execute_result",
          "data": {
            "text/plain": [
              "       http://astore.amazon.co.uk/allezvinsfrenchr/detail/1904010202/026-8324244-9330038\n",
              "count                                               11999                               \n",
              "unique                                              11920                               \n",
              "top     http://ancestry.co.uk/search/rectype/alldblist...                               \n",
              "freq                                                   67                               "
            ],
            "text/html": [
              "<div>\n",
              "<style scoped>\n",
              "    .dataframe tbody tr th:only-of-type {\n",
              "        vertical-align: middle;\n",
              "    }\n",
              "\n",
              "    .dataframe tbody tr th {\n",
              "        vertical-align: top;\n",
              "    }\n",
              "\n",
              "    .dataframe thead th {\n",
              "        text-align: right;\n",
              "    }\n",
              "</style>\n",
              "<table border=\"1\" class=\"dataframe\">\n",
              "  <thead>\n",
              "    <tr style=\"text-align: right;\">\n",
              "      <th></th>\n",
              "      <th>http://astore.amazon.co.uk/allezvinsfrenchr/detail/1904010202/026-8324244-9330038</th>\n",
              "    </tr>\n",
              "  </thead>\n",
              "  <tbody>\n",
              "    <tr>\n",
              "      <th>count</th>\n",
              "      <td>11999</td>\n",
              "    </tr>\n",
              "    <tr>\n",
              "      <th>unique</th>\n",
              "      <td>11920</td>\n",
              "    </tr>\n",
              "    <tr>\n",
              "      <th>top</th>\n",
              "      <td>http://ancestry.co.uk/search/rectype/alldblist...</td>\n",
              "    </tr>\n",
              "    <tr>\n",
              "      <th>freq</th>\n",
              "      <td>67</td>\n",
              "    </tr>\n",
              "  </tbody>\n",
              "</table>\n",
              "</div>"
            ]
          },
          "metadata": {},
          "execution_count": 15
        }
      ],
      "metadata": {}
    },
    {
      "cell_type": "code",
      "execution_count": 16,
      "source": [
        "spam = systematic_sampling(spam, 3)\r\n",
        "spam.reset_index(inplace = True)\r\n",
        "spam=spam.iloc[: , 1:]\r\n",
        "spam"
      ],
      "outputs": [
        {
          "output_type": "execute_result",
          "data": {
            "text/plain": [
              "     http://astore.amazon.co.uk/allezvinsfrenchr/detail/1904010202/026-8324244-9330038\n",
              "0     http://archive.salisburyjournal.co.uk/2007/3/6...                               \n",
              "1     http://acard4u.co.uk/product_reviews.php?cPath...                               \n",
              "2     http://archive.yorkpress.co.uk/2007/5/2/356167...                               \n",
              "3     http://abyssinica.co.uk/_vti_bin/shtml.dll/_ta...                               \n",
              "4     http://applerugs.co.uk/rugs/product_reviews.ph...                               \n",
              "...                                                 ...                               \n",
              "3995  http://abdn.ac.uk/registry/courses/course.php?...                               \n",
              "3996  http://aolshop.memberoffers.co.uk/csp/smp/aol/...                               \n",
              "3997    http://ancestry.co.uk/search/db.aspx?dbid=13208                               \n",
              "3998    http://archive.salisburyjournal.co.uk/2001/3/7/                               \n",
              "3999  http://applerugs.co.uk/rugs/product_info.php?p...                               \n",
              "\n",
              "[4000 rows x 1 columns]"
            ],
            "text/html": [
              "<div>\n",
              "<style scoped>\n",
              "    .dataframe tbody tr th:only-of-type {\n",
              "        vertical-align: middle;\n",
              "    }\n",
              "\n",
              "    .dataframe tbody tr th {\n",
              "        vertical-align: top;\n",
              "    }\n",
              "\n",
              "    .dataframe thead th {\n",
              "        text-align: right;\n",
              "    }\n",
              "</style>\n",
              "<table border=\"1\" class=\"dataframe\">\n",
              "  <thead>\n",
              "    <tr style=\"text-align: right;\">\n",
              "      <th></th>\n",
              "      <th>http://astore.amazon.co.uk/allezvinsfrenchr/detail/1904010202/026-8324244-9330038</th>\n",
              "    </tr>\n",
              "  </thead>\n",
              "  <tbody>\n",
              "    <tr>\n",
              "      <th>0</th>\n",
              "      <td>http://archive.salisburyjournal.co.uk/2007/3/6...</td>\n",
              "    </tr>\n",
              "    <tr>\n",
              "      <th>1</th>\n",
              "      <td>http://acard4u.co.uk/product_reviews.php?cPath...</td>\n",
              "    </tr>\n",
              "    <tr>\n",
              "      <th>2</th>\n",
              "      <td>http://archive.yorkpress.co.uk/2007/5/2/356167...</td>\n",
              "    </tr>\n",
              "    <tr>\n",
              "      <th>3</th>\n",
              "      <td>http://abyssinica.co.uk/_vti_bin/shtml.dll/_ta...</td>\n",
              "    </tr>\n",
              "    <tr>\n",
              "      <th>4</th>\n",
              "      <td>http://applerugs.co.uk/rugs/product_reviews.ph...</td>\n",
              "    </tr>\n",
              "    <tr>\n",
              "      <th>...</th>\n",
              "      <td>...</td>\n",
              "    </tr>\n",
              "    <tr>\n",
              "      <th>3995</th>\n",
              "      <td>http://abdn.ac.uk/registry/courses/course.php?...</td>\n",
              "    </tr>\n",
              "    <tr>\n",
              "      <th>3996</th>\n",
              "      <td>http://aolshop.memberoffers.co.uk/csp/smp/aol/...</td>\n",
              "    </tr>\n",
              "    <tr>\n",
              "      <th>3997</th>\n",
              "      <td>http://ancestry.co.uk/search/db.aspx?dbid=13208</td>\n",
              "    </tr>\n",
              "    <tr>\n",
              "      <th>3998</th>\n",
              "      <td>http://archive.salisburyjournal.co.uk/2001/3/7/</td>\n",
              "    </tr>\n",
              "    <tr>\n",
              "      <th>3999</th>\n",
              "      <td>http://applerugs.co.uk/rugs/product_info.php?p...</td>\n",
              "    </tr>\n",
              "  </tbody>\n",
              "</table>\n",
              "<p>4000 rows × 1 columns</p>\n",
              "</div>"
            ]
          },
          "metadata": {},
          "execution_count": 16
        }
      ],
      "metadata": {
        "colab": {
          "base_uri": "https://localhost:8080/",
          "height": 423
        },
        "id": "Hc1GNxfOtqJ7",
        "outputId": "b02efad4-dc55-46b7-d57a-5dd55312b462"
      }
    },
    {
      "cell_type": "code",
      "execution_count": 17,
      "source": [
        "malware.describe()"
      ],
      "outputs": [
        {
          "output_type": "execute_result",
          "data": {
            "text/plain": [
              "       http://gzzax.livechatvalue.com/chat/chatClient/chatbox.jsp?companyID=11806&enterurl=file%3A%2F%2F%2FC%3A%2FUsers%2Famelia%2FDesktop%2F%25E7%25BD%2591%25E4%25B8%258A%25E8%25B5%258C%25E5%259C%25BA.html&pagetitle=&pagereferrer=&firstEnterUrl=file%3A%2F%2F%2FC%3A%2FUsers%2Famelia%2FDesktop%2F%25E7%25BD%2591%25E4%25B8%258A%25E8%25B5%258C%25E5%259C%25BA.html&lan=zh&tm=1420533810210\n",
              "count                                                2691                                                                                                                                                                                                                                                                                                                                        \n",
              "unique                                               2691                                                                                                                                                                                                                                                                                                                                        \n",
              "top     http://amos.im.alisoft.com/online.aw?v=2&uid=%...                                                                                                                                                                                                                                                                                                                                        \n",
              "freq                                                    1                                                                                                                                                                                                                                                                                                                                        "
            ],
            "text/html": [
              "<div>\n",
              "<style scoped>\n",
              "    .dataframe tbody tr th:only-of-type {\n",
              "        vertical-align: middle;\n",
              "    }\n",
              "\n",
              "    .dataframe tbody tr th {\n",
              "        vertical-align: top;\n",
              "    }\n",
              "\n",
              "    .dataframe thead th {\n",
              "        text-align: right;\n",
              "    }\n",
              "</style>\n",
              "<table border=\"1\" class=\"dataframe\">\n",
              "  <thead>\n",
              "    <tr style=\"text-align: right;\">\n",
              "      <th></th>\n",
              "      <th>http://gzzax.livechatvalue.com/chat/chatClient/chatbox.jsp?companyID=11806&amp;enterurl=file%3A%2F%2F%2FC%3A%2FUsers%2Famelia%2FDesktop%2F%25E7%25BD%2591%25E4%25B8%258A%25E8%25B5%258C%25E5%259C%25BA.html&amp;pagetitle=&amp;pagereferrer=&amp;firstEnterUrl=file%3A%2F%2F%2FC%3A%2FUsers%2Famelia%2FDesktop%2F%25E7%25BD%2591%25E4%25B8%258A%25E8%25B5%258C%25E5%259C%25BA.html&amp;lan=zh&amp;tm=1420533810210</th>\n",
              "    </tr>\n",
              "  </thead>\n",
              "  <tbody>\n",
              "    <tr>\n",
              "      <th>count</th>\n",
              "      <td>2691</td>\n",
              "    </tr>\n",
              "    <tr>\n",
              "      <th>unique</th>\n",
              "      <td>2691</td>\n",
              "    </tr>\n",
              "    <tr>\n",
              "      <th>top</th>\n",
              "      <td>http://amos.im.alisoft.com/online.aw?v=2&amp;uid=%...</td>\n",
              "    </tr>\n",
              "    <tr>\n",
              "      <th>freq</th>\n",
              "      <td>1</td>\n",
              "    </tr>\n",
              "  </tbody>\n",
              "</table>\n",
              "</div>"
            ]
          },
          "metadata": {},
          "execution_count": 17
        }
      ],
      "metadata": {
        "colab": {
          "base_uri": "https://localhost:8080/",
          "height": 212
        },
        "id": "cef57q8bok9S",
        "outputId": "fc1ec669-1fdc-4c2a-8389-df7d45ecec3e"
      }
    },
    {
      "cell_type": "code",
      "execution_count": 18,
      "source": [
        "benign.to_csv(\"Benign_dataset.csv\",mode = 'w', index=False)\r\n",
        "defacement.to_csv(\"Defacement_dataset.csv\",mode = 'w', index=False)\r\n",
        "spam.to_csv(\"Spam_dataset.csv\",mode = 'w', index=False)"
      ],
      "outputs": [],
      "metadata": {
        "id": "dr3ikiNwSSqP"
      }
    },
    {
      "cell_type": "code",
      "execution_count": 19,
      "source": [
        "l = ['Defacement_dataset.csv','Malware_dataset1.csv','Spam_dataset.csv','Benign_dataset.csv']"
      ],
      "outputs": [],
      "metadata": {
        "id": "5AJUqTrbSBvM"
      }
    },
    {
      "cell_type": "code",
      "execution_count": 21,
      "source": [
        "emp = UrlFeaturizer(\"\").run().keys()\r\n",
        "\r\n",
        "A = pd.DataFrame(columns = emp)\r\n",
        "t=[]\r\n",
        "for j in l:\r\n",
        "    print(j)\r\n",
        "    d=pd.read_csv(j,header=None).to_numpy().flatten()\r\n",
        "    for i in tqdm(d):  \r\n",
        "        temp=UrlFeaturizer(i).run()\r\n",
        "        temp[\"File\"]=j.split(\".\")[0]\r\n",
        "        t.append(temp) \r\n",
        "A=A.append(t)\r\n",
        "os.chdir('../')\r\n",
        "A.to_csv(\"Features(4k).csv\")"
      ],
      "outputs": [
        {
          "output_type": "stream",
          "name": "stderr",
          "text": [
            "  0%|          | 0/4824 [00:00<?, ?it/s]"
          ]
        },
        {
          "output_type": "stream",
          "name": "stdout",
          "text": [
            "Defacement_dataset.csv\n",
            "downloading dependencies\n",
            "copy \\\\live.sysinternals.com\\tools\\whois.exe c:\\Users\\ADI\\Desktop\\Major Project\n"
          ]
        },
        {
          "output_type": "stream",
          "name": "stderr",
          "text": [
            "  0%|          | 1/4824 [00:29<39:54:42, 29.79s/it]"
          ]
        },
        {
          "output_type": "stream",
          "name": "stdout",
          "text": [
            "downloading dependencies\n",
            "copy \\\\live.sysinternals.com\\tools\\whois.exe c:\\Users\\ADI\\Desktop\\Major Project\n"
          ]
        },
        {
          "output_type": "stream",
          "name": "stderr",
          "text": [
            "  0%|          | 2/4824 [00:48<31:01:12, 23.16s/it]"
          ]
        },
        {
          "output_type": "stream",
          "name": "stdout",
          "text": [
            "downloading dependencies\n",
            "copy \\\\live.sysinternals.com\\tools\\whois.exe c:\\Users\\ADI\\Desktop\\Major Project\n"
          ]
        },
        {
          "output_type": "stream",
          "name": "stderr",
          "text": [
            "  0%|          | 3/4824 [01:06<27:55:44, 20.86s/it]"
          ]
        },
        {
          "output_type": "stream",
          "name": "stdout",
          "text": [
            "downloading dependencies\n",
            "copy \\\\live.sysinternals.com\\tools\\whois.exe c:\\Users\\ADI\\Desktop\\Major Project\n"
          ]
        },
        {
          "output_type": "stream",
          "name": "stderr",
          "text": [
            "  0%|          | 4/4824 [01:34<31:59:22, 23.89s/it]"
          ]
        },
        {
          "output_type": "stream",
          "name": "stdout",
          "text": [
            "downloading dependencies\n",
            "copy \\\\live.sysinternals.com\\tools\\whois.exe c:\\Users\\ADI\\Desktop\\Major Project\n"
          ]
        },
        {
          "output_type": "stream",
          "name": "stderr",
          "text": [
            "  0%|          | 5/4824 [01:37<21:42:48, 16.22s/it]"
          ]
        },
        {
          "output_type": "stream",
          "name": "stdout",
          "text": [
            "downloading dependencies\n",
            "copy \\\\live.sysinternals.com\\tools\\whois.exe c:\\Users\\ADI\\Desktop\\Major Project\n"
          ]
        },
        {
          "output_type": "stream",
          "name": "stderr",
          "text": [
            "  0%|          | 6/4824 [01:39<15:24:35, 11.51s/it]"
          ]
        },
        {
          "output_type": "stream",
          "name": "stdout",
          "text": [
            "downloading dependencies\n",
            "copy \\\\live.sysinternals.com\\tools\\whois.exe c:\\Users\\ADI\\Desktop\\Major Project\n"
          ]
        },
        {
          "output_type": "stream",
          "name": "stderr",
          "text": [
            "  0%|          | 7/4824 [01:42<11:22:31,  8.50s/it]"
          ]
        },
        {
          "output_type": "stream",
          "name": "stdout",
          "text": [
            "downloading dependencies\n",
            "copy \\\\live.sysinternals.com\\tools\\whois.exe c:\\Users\\ADI\\Desktop\\Major Project\n"
          ]
        },
        {
          "output_type": "stream",
          "name": "stderr",
          "text": [
            "  0%|          | 8/4824 [01:43<8:07:41,  6.08s/it] "
          ]
        },
        {
          "output_type": "stream",
          "name": "stdout",
          "text": [
            "downloading dependencies\n",
            "copy \\\\live.sysinternals.com\\tools\\whois.exe c:\\Users\\ADI\\Desktop\\Major Project\n"
          ]
        },
        {
          "output_type": "stream",
          "name": "stderr",
          "text": [
            "  0%|          | 9/4824 [01:47<7:33:25,  5.65s/it]"
          ]
        },
        {
          "output_type": "stream",
          "name": "stdout",
          "text": [
            "downloading dependencies\n",
            "copy \\\\live.sysinternals.com\\tools\\whois.exe c:\\Users\\ADI\\Desktop\\Major Project\n"
          ]
        },
        {
          "output_type": "stream",
          "name": "stderr",
          "text": [
            "  0%|          | 10/4824 [01:49<5:56:15,  4.44s/it]"
          ]
        },
        {
          "output_type": "stream",
          "name": "stdout",
          "text": [
            "downloading dependencies\n",
            "copy \\\\live.sysinternals.com\\tools\\whois.exe c:\\Users\\ADI\\Desktop\\Major Project\n"
          ]
        },
        {
          "output_type": "stream",
          "name": "stderr",
          "text": [
            "  0%|          | 11/4824 [01:51<4:48:03,  3.59s/it]"
          ]
        },
        {
          "output_type": "stream",
          "name": "stdout",
          "text": [
            "downloading dependencies\n",
            "copy \\\\live.sysinternals.com\\tools\\whois.exe c:\\Users\\ADI\\Desktop\\Major Project\n"
          ]
        },
        {
          "output_type": "stream",
          "name": "stderr",
          "text": [
            "  0%|          | 12/4824 [01:52<4:01:28,  3.01s/it]"
          ]
        },
        {
          "output_type": "stream",
          "name": "stdout",
          "text": [
            "downloading dependencies\n",
            "copy \\\\live.sysinternals.com\\tools\\whois.exe c:\\Users\\ADI\\Desktop\\Major Project\n"
          ]
        },
        {
          "output_type": "stream",
          "name": "stderr",
          "text": [
            "  0%|          | 13/4824 [01:54<3:22:12,  2.52s/it]"
          ]
        },
        {
          "output_type": "stream",
          "name": "stdout",
          "text": [
            "downloading dependencies\n",
            "copy \\\\live.sysinternals.com\\tools\\whois.exe c:\\Users\\ADI\\Desktop\\Major Project\n"
          ]
        },
        {
          "output_type": "stream",
          "name": "stderr",
          "text": [
            "  0%|          | 14/4824 [01:54<2:30:11,  1.87s/it]"
          ]
        },
        {
          "output_type": "stream",
          "name": "stdout",
          "text": [
            "downloading dependencies\n",
            "copy \\\\live.sysinternals.com\\tools\\whois.exe c:\\Users\\ADI\\Desktop\\Major Project\n",
            "downloading dependencies\n",
            "copy \\\\live.sysinternals.com\\tools\\whois.exe c:\\Users\\ADI\\Desktop\\Major Project\n"
          ]
        },
        {
          "output_type": "stream",
          "name": "stderr",
          "text": [
            "  0%|          | 16/4824 [01:55<1:26:18,  1.08s/it]"
          ]
        },
        {
          "output_type": "stream",
          "name": "stdout",
          "text": [
            "downloading dependencies\n",
            "copy \\\\live.sysinternals.com\\tools\\whois.exe c:\\Users\\ADI\\Desktop\\Major Project\n"
          ]
        },
        {
          "output_type": "stream",
          "name": "stderr",
          "text": [
            "  0%|          | 19/4824 [01:55<43:52,  1.83it/s]  "
          ]
        },
        {
          "output_type": "stream",
          "name": "stdout",
          "text": [
            "downloading dependencies\n",
            "copy \\\\live.sysinternals.com\\tools\\whois.exe c:\\Users\\ADI\\Desktop\\Major Project\n",
            "downloading dependencies\n",
            "copy \\\\live.sysinternals.com\\tools\\whois.exe c:\\Users\\ADI\\Desktop\\Major Project\n",
            "downloading dependencies\n",
            "copy \\\\live.sysinternals.com\\tools\\whois.exe c:\\Users\\ADI\\Desktop\\Major Project\n"
          ]
        },
        {
          "output_type": "stream",
          "name": "stderr",
          "text": [
            "  0%|          | 21/4824 [01:55<29:20,  2.73it/s]"
          ]
        },
        {
          "output_type": "stream",
          "name": "stdout",
          "text": [
            "downloading dependencies\n",
            "copy \\\\live.sysinternals.com\\tools\\whois.exe c:\\Users\\ADI\\Desktop\\Major Project\n",
            "downloading dependencies\n",
            "copy \\\\live.sysinternals.com\\tools\\whois.exe c:\\Users\\ADI\\Desktop\\Major Project\n"
          ]
        },
        {
          "output_type": "stream",
          "name": "stderr",
          "text": [
            "  0%|          | 22/4824 [01:58<1:08:46,  1.16it/s]"
          ]
        },
        {
          "output_type": "stream",
          "name": "stdout",
          "text": [
            "downloading dependencies\n",
            "copy \\\\live.sysinternals.com\\tools\\whois.exe c:\\Users\\ADI\\Desktop\\Major Project\n"
          ]
        },
        {
          "output_type": "stream",
          "name": "stderr",
          "text": [
            "  0%|          | 23/4824 [02:00<1:27:30,  1.09s/it]"
          ]
        },
        {
          "output_type": "stream",
          "name": "stdout",
          "text": [
            "downloading dependencies\n",
            "copy \\\\live.sysinternals.com\\tools\\whois.exe c:\\Users\\ADI\\Desktop\\Major Project\n"
          ]
        },
        {
          "output_type": "stream",
          "name": "stderr",
          "text": [
            "  0%|          | 24/4824 [02:01<1:39:32,  1.24s/it]"
          ]
        },
        {
          "output_type": "stream",
          "name": "stdout",
          "text": [
            "downloading dependencies\n",
            "copy \\\\live.sysinternals.com\\tools\\whois.exe c:\\Users\\ADI\\Desktop\\Major Project\n"
          ]
        },
        {
          "output_type": "stream",
          "name": "stderr",
          "text": [
            "  1%|          | 25/4824 [02:03<1:46:06,  1.33s/it]"
          ]
        },
        {
          "output_type": "stream",
          "name": "stdout",
          "text": [
            "downloading dependencies\n",
            "copy \\\\live.sysinternals.com\\tools\\whois.exe c:\\Users\\ADI\\Desktop\\Major Project\n"
          ]
        },
        {
          "output_type": "stream",
          "name": "stderr",
          "text": [
            "  1%|          | 26/4824 [02:31<11:22:20,  8.53s/it]"
          ]
        },
        {
          "output_type": "stream",
          "name": "stdout",
          "text": [
            "Unknown TLD: .vn\n",
            "Valid TLDs: .ac_uk .am .amsterdam .ar .at .au .bank .be .biz .br .by .ca .cc .cl .club .cn .co .co_il .co_jp .com .com_au .com_tr .cr .cz .de .download .edu .education .eu .fi .fm .fr .frl .game .global_ .hk .id_ .ie .im .in_ .info .ink .io .ir .is_ .it .jp .kr .kz .link .lt .lv .me .mobi .mu .mx .name .net .ninja .nl .nu .nyc .nz .online .org .pe .pharmacy .pl .press .pro .pt .pub .pw .rest .ru .ru_rf .rw .sale .se .security .sh .site .space .store .tech .tel .theatre .tickets .trade .tv .ua .uk .us .uz .video .website .wiki .work .xyz .za "
          ]
        },
        {
          "output_type": "stream",
          "name": "stderr",
          "text": [
            "  1%|          | 27/4824 [02:37<10:26:10,  7.83s/it]"
          ]
        },
        {
          "output_type": "stream",
          "name": "stdout",
          "text": [
            "Unknown TLD: .vn\n",
            "Valid TLDs: .ac_uk .am .amsterdam .ar .at .au .bank .be .biz .br .by .ca .cc .cl .club .cn .co .co_il .co_jp .com .com_au .com_tr .cr .cz .de .download .edu .education .eu .fi .fm .fr .frl .game .global_ .hk .id_ .ie .im .in_ .info .ink .io .ir .is_ .it .jp .kr .kz .link .lt .lv .me .mobi .mu .mx .name .net .ninja .nl .nu .nyc .nz .online .org .pe .pharmacy .pl .press .pro .pt .pub .pw .rest .ru .ru_rf .rw .sale .se .security .sh .site .space .store .tech .tel .theatre .tickets .trade .tv .ua .uk .us .uz .video .website .wiki .work .xyz .za "
          ]
        },
        {
          "output_type": "stream",
          "name": "stderr",
          "text": [
            "  1%|          | 28/4824 [02:40<8:33:46,  6.43s/it] "
          ]
        },
        {
          "output_type": "stream",
          "name": "stdout",
          "text": [
            "downloading dependencies\n",
            "copy \\\\live.sysinternals.com\\tools\\whois.exe c:\\Users\\ADI\\Desktop\\Major Project\n"
          ]
        },
        {
          "output_type": "stream",
          "name": "stderr",
          "text": [
            "  1%|          | 29/4824 [02:40<6:13:06,  4.67s/it]"
          ]
        },
        {
          "output_type": "stream",
          "name": "stdout",
          "text": [
            "downloading dependencies\n",
            "copy \\\\live.sysinternals.com\\tools\\whois.exe c:\\Users\\ADI\\Desktop\\Major Project\n",
            "downloading dependencies\n",
            "copy \\\\live.sysinternals.com\\tools\\whois.exe c:\\Users\\ADI\\Desktop\\Major Project\n"
          ]
        },
        {
          "output_type": "stream",
          "name": "stderr",
          "text": [
            "  1%|          | 31/4824 [02:42<3:58:29,  2.99s/it]"
          ]
        },
        {
          "output_type": "stream",
          "name": "stdout",
          "text": [
            "downloading dependencies\n",
            "copy \\\\live.sysinternals.com\\tools\\whois.exe c:\\Users\\ADI\\Desktop\\Major Project\n"
          ]
        },
        {
          "output_type": "stream",
          "name": "stderr",
          "text": [
            "  1%|          | 32/4824 [02:43<3:18:08,  2.48s/it]"
          ]
        },
        {
          "output_type": "stream",
          "name": "stdout",
          "text": [
            "downloading dependencies\n",
            "copy \\\\live.sysinternals.com\\tools\\whois.exe c:\\Users\\ADI\\Desktop\\Major Project\n"
          ]
        },
        {
          "output_type": "stream",
          "name": "stderr",
          "text": [
            "  1%|          | 33/4824 [02:44<2:47:03,  2.09s/it]"
          ]
        },
        {
          "output_type": "stream",
          "name": "stdout",
          "text": [
            "downloading dependencies\n",
            "copy \\\\live.sysinternals.com\\tools\\whois.exe c:\\Users\\ADI\\Desktop\\Major Project\n"
          ]
        },
        {
          "output_type": "stream",
          "name": "stderr",
          "text": [
            "  1%|          | 34/4824 [02:45<2:23:51,  1.80s/it]"
          ]
        },
        {
          "output_type": "stream",
          "name": "stdout",
          "text": [
            "downloading dependencies\n",
            "copy \\\\live.sysinternals.com\\tools\\whois.exe c:\\Users\\ADI\\Desktop\\Major Project\n"
          ]
        },
        {
          "output_type": "stream",
          "name": "stderr",
          "text": [
            "  1%|          | 35/4824 [02:51<4:06:50,  3.09s/it]"
          ]
        },
        {
          "output_type": "stream",
          "name": "stdout",
          "text": [
            "downloading dependencies\n",
            "copy \\\\live.sysinternals.com\\tools\\whois.exe c:\\Users\\ADI\\Desktop\\Major Project\n"
          ]
        },
        {
          "output_type": "stream",
          "name": "stderr",
          "text": [
            "  1%|          | 36/4824 [02:56<4:47:46,  3.61s/it]"
          ]
        },
        {
          "output_type": "stream",
          "name": "stdout",
          "text": [
            "downloading dependencies\n",
            "copy \\\\live.sysinternals.com\\tools\\whois.exe c:\\Users\\ADI\\Desktop\\Major Project\n"
          ]
        },
        {
          "output_type": "stream",
          "name": "stderr",
          "text": [
            "  1%|          | 37/4824 [03:02<5:40:30,  4.27s/it]"
          ]
        },
        {
          "output_type": "stream",
          "name": "stdout",
          "text": [
            "downloading dependencies\n",
            "copy \\\\live.sysinternals.com\\tools\\whois.exe c:\\Users\\ADI\\Desktop\\Major Project\n"
          ]
        },
        {
          "output_type": "stream",
          "name": "stderr",
          "text": [
            "  1%|          | 38/4824 [03:34<16:20:30, 12.29s/it]"
          ]
        },
        {
          "output_type": "stream",
          "name": "stdout",
          "text": [
            "downloading dependencies\n",
            "copy \\\\live.sysinternals.com\\tools\\whois.exe c:\\Users\\ADI\\Desktop\\Major Project\n"
          ]
        },
        {
          "output_type": "stream",
          "name": "stderr",
          "text": [
            "  1%|          | 39/4824 [03:35<11:49:52,  8.90s/it]"
          ]
        },
        {
          "output_type": "stream",
          "name": "stdout",
          "text": [
            "downloading dependencies\n",
            "copy \\\\live.sysinternals.com\\tools\\whois.exe c:\\Users\\ADI\\Desktop\\Major Project\n"
          ]
        },
        {
          "output_type": "stream",
          "name": "stderr",
          "text": [
            "  1%|          | 40/4824 [03:35<8:31:26,  6.41s/it] "
          ]
        },
        {
          "output_type": "stream",
          "name": "stdout",
          "text": [
            "downloading dependencies\n",
            "copy \\\\live.sysinternals.com\\tools\\whois.exe c:\\Users\\ADI\\Desktop\\Major Project\n"
          ]
        },
        {
          "output_type": "stream",
          "name": "stderr",
          "text": [
            "  1%|          | 41/4824 [03:36<6:13:59,  4.69s/it]"
          ]
        },
        {
          "output_type": "stream",
          "name": "stdout",
          "text": [
            "downloading dependencies\n",
            "copy \\\\live.sysinternals.com\\tools\\whois.exe c:\\Users\\ADI\\Desktop\\Major Project\n"
          ]
        },
        {
          "output_type": "stream",
          "name": "stderr",
          "text": [
            "  1%|          | 42/4824 [03:38<5:18:04,  3.99s/it]"
          ]
        },
        {
          "output_type": "stream",
          "name": "stdout",
          "text": [
            "downloading dependencies\n",
            "copy \\\\live.sysinternals.com\\tools\\whois.exe c:\\Users\\ADI\\Desktop\\Major Project\n"
          ]
        },
        {
          "output_type": "stream",
          "name": "stderr",
          "text": [
            "  1%|          | 43/4824 [03:40<4:22:35,  3.30s/it]"
          ]
        },
        {
          "output_type": "stream",
          "name": "stdout",
          "text": [
            "downloading dependencies\n",
            "copy \\\\live.sysinternals.com\\tools\\whois.exe c:\\Users\\ADI\\Desktop\\Major Project\n"
          ]
        },
        {
          "output_type": "stream",
          "name": "stderr",
          "text": [
            "  1%|          | 44/4824 [03:47<5:59:55,  4.52s/it]"
          ]
        },
        {
          "output_type": "stream",
          "name": "stdout",
          "text": [
            "downloading dependencies\n",
            "copy \\\\live.sysinternals.com\\tools\\whois.exe c:\\Users\\ADI\\Desktop\\Major Project\n"
          ]
        },
        {
          "output_type": "stream",
          "name": "stderr",
          "text": [
            "  1%|          | 45/4824 [03:52<5:59:16,  4.51s/it]"
          ]
        },
        {
          "output_type": "stream",
          "name": "stdout",
          "text": [
            "downloading dependencies\n",
            "copy \\\\live.sysinternals.com\\tools\\whois.exe c:\\Users\\ADI\\Desktop\\Major Project\n"
          ]
        },
        {
          "output_type": "stream",
          "name": "stderr",
          "text": [
            "  1%|          | 46/4824 [03:59<7:00:25,  5.28s/it]"
          ]
        },
        {
          "output_type": "stream",
          "name": "stdout",
          "text": [
            "downloading dependencies\n",
            "copy \\\\live.sysinternals.com\\tools\\whois.exe c:\\Users\\ADI\\Desktop\\Major Project\n"
          ]
        },
        {
          "output_type": "stream",
          "name": "stderr",
          "text": [
            "  1%|          | 47/4824 [04:28<16:34:04, 12.49s/it]"
          ]
        },
        {
          "output_type": "stream",
          "name": "stdout",
          "text": [
            "downloading dependencies\n",
            "copy \\\\live.sysinternals.com\\tools\\whois.exe c:\\Users\\ADI\\Desktop\\Major Project\n"
          ]
        },
        {
          "output_type": "stream",
          "name": "stderr",
          "text": [
            "  1%|          | 48/4824 [04:31<12:51:02,  9.69s/it]"
          ]
        },
        {
          "output_type": "stream",
          "name": "stdout",
          "text": [
            "downloading dependencies\n",
            "copy \\\\live.sysinternals.com\\tools\\whois.exe c:\\Users\\ADI\\Desktop\\Major Project\n"
          ]
        },
        {
          "output_type": "stream",
          "name": "stderr",
          "text": [
            "  1%|          | 49/4824 [04:34<9:55:28,  7.48s/it] "
          ]
        },
        {
          "output_type": "stream",
          "name": "stdout",
          "text": [
            "downloading dependencies\n",
            "copy \\\\live.sysinternals.com\\tools\\whois.exe c:\\Users\\ADI\\Desktop\\Major Project\n"
          ]
        },
        {
          "output_type": "stream",
          "name": "stderr",
          "text": [
            "  1%|          | 50/4824 [04:35<7:34:57,  5.72s/it]"
          ]
        },
        {
          "output_type": "stream",
          "name": "stdout",
          "text": [
            "downloading dependencies\n",
            "copy \\\\live.sysinternals.com\\tools\\whois.exe c:\\Users\\ADI\\Desktop\\Major Project\n"
          ]
        },
        {
          "output_type": "stream",
          "name": "stderr",
          "text": [
            "  1%|          | 51/4824 [04:37<5:54:34,  4.46s/it]"
          ]
        },
        {
          "output_type": "stream",
          "name": "stdout",
          "text": [
            "downloading dependencies\n",
            "copy \\\\live.sysinternals.com\\tools\\whois.exe c:\\Users\\ADI\\Desktop\\Major Project\n"
          ]
        },
        {
          "output_type": "stream",
          "name": "stderr",
          "text": [
            "  1%|          | 52/4824 [04:38<4:49:25,  3.64s/it]"
          ]
        },
        {
          "output_type": "stream",
          "name": "stdout",
          "text": [
            "downloading dependencies\n",
            "copy \\\\live.sysinternals.com\\tools\\whois.exe c:\\Users\\ADI\\Desktop\\Major Project\n"
          ]
        },
        {
          "output_type": "stream",
          "name": "stderr",
          "text": [
            "  1%|          | 53/4824 [04:39<3:27:31,  2.61s/it]"
          ]
        },
        {
          "output_type": "stream",
          "name": "stdout",
          "text": [
            "downloading dependencies\n",
            "copy \\\\live.sysinternals.com\\tools\\whois.exe c:\\Users\\ADI\\Desktop\\Major Project\n"
          ]
        },
        {
          "output_type": "stream",
          "name": "stderr",
          "text": [
            "  1%|          | 54/4824 [04:40<2:55:38,  2.21s/it]"
          ]
        },
        {
          "output_type": "stream",
          "name": "stdout",
          "text": [
            "downloading dependencies\n",
            "copy \\\\live.sysinternals.com\\tools\\whois.exe c:\\Users\\ADI\\Desktop\\Major Project\n"
          ]
        },
        {
          "output_type": "stream",
          "name": "stderr",
          "text": [
            "  1%|          | 55/4824 [04:42<2:56:10,  2.22s/it]"
          ]
        },
        {
          "output_type": "stream",
          "name": "stdout",
          "text": [
            "downloading dependencies\n",
            "copy \\\\live.sysinternals.com\\tools\\whois.exe c:\\Users\\ADI\\Desktop\\Major Project\n"
          ]
        },
        {
          "output_type": "stream",
          "name": "stderr",
          "text": [
            "  1%|          | 56/4824 [04:44<2:49:06,  2.13s/it]"
          ]
        },
        {
          "output_type": "stream",
          "name": "stdout",
          "text": [
            "downloading dependencies\n",
            "copy \\\\live.sysinternals.com\\tools\\whois.exe c:\\Users\\ADI\\Desktop\\Major Project\n"
          ]
        },
        {
          "output_type": "stream",
          "name": "stderr",
          "text": [
            "  1%|          | 57/4824 [04:47<3:04:05,  2.32s/it]"
          ]
        },
        {
          "output_type": "stream",
          "name": "stdout",
          "text": [
            "downloading dependencies\n",
            "copy \\\\live.sysinternals.com\\tools\\whois.exe c:\\Users\\ADI\\Desktop\\Major Project\n"
          ]
        },
        {
          "output_type": "stream",
          "name": "stderr",
          "text": [
            "  1%|          | 58/4824 [04:48<2:48:13,  2.12s/it]"
          ]
        },
        {
          "output_type": "stream",
          "name": "stdout",
          "text": [
            "downloading dependencies\n",
            "copy \\\\live.sysinternals.com\\tools\\whois.exe c:\\Users\\ADI\\Desktop\\Major Project\n"
          ]
        },
        {
          "output_type": "stream",
          "name": "stderr",
          "text": [
            "  1%|          | 59/4824 [04:49<2:14:36,  1.69s/it]"
          ]
        },
        {
          "output_type": "stream",
          "name": "stdout",
          "text": [
            "downloading dependencies\n",
            "copy \\\\live.sysinternals.com\\tools\\whois.exe c:\\Users\\ADI\\Desktop\\Major Project\n"
          ]
        },
        {
          "output_type": "stream",
          "name": "stderr",
          "text": [
            "  1%|          | 60/4824 [04:50<1:51:13,  1.40s/it]"
          ]
        },
        {
          "output_type": "stream",
          "name": "stdout",
          "text": [
            "downloading dependencies\n",
            "copy \\\\live.sysinternals.com\\tools\\whois.exe c:\\Users\\ADI\\Desktop\\Major Project\n"
          ]
        },
        {
          "output_type": "stream",
          "name": "stderr",
          "text": [
            "  1%|▏         | 61/4824 [04:51<1:50:01,  1.39s/it]"
          ]
        },
        {
          "output_type": "stream",
          "name": "stdout",
          "text": [
            "downloading dependencies\n",
            "copy \\\\live.sysinternals.com\\tools\\whois.exe c:\\Users\\ADI\\Desktop\\Major Project\n"
          ]
        },
        {
          "output_type": "stream",
          "name": "stderr",
          "text": [
            "  1%|▏         | 62/4824 [04:53<2:02:58,  1.55s/it]"
          ]
        },
        {
          "output_type": "stream",
          "name": "stdout",
          "text": [
            "downloading dependencies\n",
            "copy \\\\live.sysinternals.com\\tools\\whois.exe c:\\Users\\ADI\\Desktop\\Major Project\n"
          ]
        },
        {
          "output_type": "stream",
          "name": "stderr",
          "text": [
            "  1%|▏         | 63/4824 [04:55<2:19:08,  1.75s/it]"
          ]
        },
        {
          "output_type": "stream",
          "name": "stdout",
          "text": [
            "downloading dependencies\n",
            "copy \\\\live.sysinternals.com\\tools\\whois.exe c:\\Users\\ADI\\Desktop\\Major Project\n"
          ]
        },
        {
          "output_type": "stream",
          "name": "stderr",
          "text": [
            "  1%|▏         | 65/4824 [05:24<9:03:28,  6.85s/it] "
          ]
        },
        {
          "output_type": "stream",
          "name": "stdout",
          "text": [
            "downloading dependencies\n",
            "copy \\\\live.sysinternals.com\\tools\\whois.exe c:\\Users\\ADI\\Desktop\\Major Project\n"
          ]
        },
        {
          "output_type": "stream",
          "name": "stderr",
          "text": [
            "  1%|▏         | 67/4824 [05:24<4:54:36,  3.72s/it]"
          ]
        },
        {
          "output_type": "stream",
          "name": "stdout",
          "text": [
            "downloading dependencies\n",
            "copy \\\\live.sysinternals.com\\tools\\whois.exe c:\\Users\\ADI\\Desktop\\Major Project\n",
            "downloading dependencies\n",
            "copy \\\\live.sysinternals.com\\tools\\whois.exe c:\\Users\\ADI\\Desktop\\Major Project\n",
            "downloading dependencies\n",
            "copy \\\\live.sysinternals.com\\tools\\whois.exe c:\\Users\\ADI\\Desktop\\Major Project\n",
            "downloading dependencies\n",
            "copy \\\\live.sysinternals.com\\tools\\whois.exe c:\\Users\\ADI\\Desktop\\Major Project\n"
          ]
        },
        {
          "output_type": "stream",
          "name": "stderr",
          "text": [
            "  1%|▏         | 69/4824 [05:24<2:59:20,  2.26s/it]"
          ]
        },
        {
          "output_type": "stream",
          "name": "stdout",
          "text": [
            "downloading dependencies\n",
            "copy \\\\live.sysinternals.com\\tools\\whois.exe c:\\Users\\ADI\\Desktop\\Major Project\n"
          ]
        },
        {
          "output_type": "stream",
          "name": "stderr",
          "text": [
            "  1%|▏         | 70/4824 [05:26<2:58:36,  2.25s/it]"
          ]
        },
        {
          "output_type": "stream",
          "name": "stdout",
          "text": [
            "downloading dependencies\n",
            "copy \\\\live.sysinternals.com\\tools\\whois.exe c:\\Users\\ADI\\Desktop\\Major Project\n"
          ]
        },
        {
          "output_type": "stream",
          "name": "stderr",
          "text": [
            "  1%|▏         | 71/4824 [05:29<3:10:25,  2.40s/it]"
          ]
        },
        {
          "output_type": "stream",
          "name": "stdout",
          "text": [
            "downloading dependencies\n",
            "copy \\\\live.sysinternals.com\\tools\\whois.exe c:\\Users\\ADI\\Desktop\\Major Project\n"
          ]
        },
        {
          "output_type": "stream",
          "name": "stderr",
          "text": [
            "  1%|▏         | 72/4824 [05:31<3:03:21,  2.32s/it]"
          ]
        },
        {
          "output_type": "stream",
          "name": "stdout",
          "text": [
            "Unknown TLD: .rs\n",
            "Valid TLDs: .ac_uk .am .amsterdam .ar .at .au .bank .be .biz .br .by .ca .cc .cl .club .cn .co .co_il .co_jp .com .com_au .com_tr .cr .cz .de .download .edu .education .eu .fi .fm .fr .frl .game .global_ .hk .id_ .ie .im .in_ .info .ink .io .ir .is_ .it .jp .kr .kz .link .lt .lv .me .mobi .mu .mx .name .net .ninja .nl .nu .nyc .nz .online .org .pe .pharmacy .pl .press .pro .pt .pub .pw .rest .ru .ru_rf .rw .sale .se .security .sh .site .space .store .tech .tel .theatre .tickets .trade .tv .ua .uk .us .uz .video .website .wiki .work .xyz .za "
          ]
        },
        {
          "output_type": "stream",
          "name": "stderr",
          "text": [
            "  2%|▏         | 73/4824 [05:33<2:50:59,  2.16s/it]"
          ]
        },
        {
          "output_type": "stream",
          "name": "stdout",
          "text": [
            "downloading dependencies\n",
            "copy \\\\live.sysinternals.com\\tools\\whois.exe c:\\Users\\ADI\\Desktop\\Major Project\n"
          ]
        },
        {
          "output_type": "stream",
          "name": "stderr",
          "text": [
            "  2%|▏         | 74/4824 [05:35<2:41:26,  2.04s/it]"
          ]
        },
        {
          "output_type": "stream",
          "name": "stdout",
          "text": [
            "downloading dependencies\n",
            "copy \\\\live.sysinternals.com\\tools\\whois.exe c:\\Users\\ADI\\Desktop\\Major Project\n"
          ]
        },
        {
          "output_type": "stream",
          "name": "stderr",
          "text": [
            "  2%|▏         | 75/4824 [05:36<2:26:38,  1.85s/it]"
          ]
        },
        {
          "output_type": "stream",
          "name": "stdout",
          "text": [
            "downloading dependencies\n",
            "copy \\\\live.sysinternals.com\\tools\\whois.exe c:\\Users\\ADI\\Desktop\\Major Project\n"
          ]
        },
        {
          "output_type": "stream",
          "name": "stderr",
          "text": [
            "  2%|▏         | 76/4824 [05:38<2:31:50,  1.92s/it]"
          ]
        },
        {
          "output_type": "stream",
          "name": "stdout",
          "text": [
            "downloading dependencies\n",
            "copy \\\\live.sysinternals.com\\tools\\whois.exe c:\\Users\\ADI\\Desktop\\Major Project\n"
          ]
        },
        {
          "output_type": "stream",
          "name": "stderr",
          "text": [
            "  2%|▏         | 77/4824 [05:39<2:11:46,  1.67s/it]"
          ]
        },
        {
          "output_type": "stream",
          "name": "stdout",
          "text": [
            "downloading dependencies\n",
            "copy \\\\live.sysinternals.com\\tools\\whois.exe c:\\Users\\ADI\\Desktop\\Major Project\n"
          ]
        },
        {
          "output_type": "stream",
          "name": "stderr",
          "text": [
            "  2%|▏         | 78/4824 [05:41<2:22:03,  1.80s/it]"
          ]
        },
        {
          "output_type": "stream",
          "name": "stdout",
          "text": [
            "downloading dependencies\n",
            "copy \\\\live.sysinternals.com\\tools\\whois.exe c:\\Users\\ADI\\Desktop\\Major Project\n"
          ]
        },
        {
          "output_type": "stream",
          "name": "stderr",
          "text": [
            "  2%|▏         | 79/4824 [05:42<2:05:33,  1.59s/it]"
          ]
        },
        {
          "output_type": "stream",
          "name": "stdout",
          "text": [
            "downloading dependencies\n",
            "copy \\\\live.sysinternals.com\\tools\\whois.exe c:\\Users\\ADI\\Desktop\\Major Project\n"
          ]
        },
        {
          "output_type": "stream",
          "name": "stderr",
          "text": [
            "  2%|▏         | 80/4824 [05:48<3:31:45,  2.68s/it]"
          ]
        },
        {
          "output_type": "stream",
          "name": "stdout",
          "text": [
            "downloading dependencies\n",
            "copy \\\\live.sysinternals.com\\tools\\whois.exe c:\\Users\\ADI\\Desktop\\Major Project\n"
          ]
        },
        {
          "output_type": "stream",
          "name": "stderr",
          "text": [
            "  2%|▏         | 81/4824 [05:53<4:29:23,  3.41s/it]"
          ]
        },
        {
          "output_type": "stream",
          "name": "stdout",
          "text": [
            "downloading dependencies\n",
            "copy \\\\live.sysinternals.com\\tools\\whois.exe c:\\Users\\ADI\\Desktop\\Major Project\n"
          ]
        },
        {
          "output_type": "stream",
          "name": "stderr",
          "text": [
            "  2%|▏         | 82/4824 [06:20<13:59:45, 10.63s/it]"
          ]
        },
        {
          "output_type": "stream",
          "name": "stdout",
          "text": [
            "downloading dependencies\n",
            "copy \\\\live.sysinternals.com\\tools\\whois.exe c:\\Users\\ADI\\Desktop\\Major Project\n"
          ]
        },
        {
          "output_type": "stream",
          "name": "stderr",
          "text": [
            "  2%|▏         | 83/4824 [06:21<10:04:31,  7.65s/it]"
          ]
        },
        {
          "output_type": "stream",
          "name": "stdout",
          "text": [
            "downloading dependencies\n",
            "copy \\\\live.sysinternals.com\\tools\\whois.exe c:\\Users\\ADI\\Desktop\\Major Project\n"
          ]
        },
        {
          "output_type": "stream",
          "name": "stderr",
          "text": [
            "  2%|▏         | 84/4824 [06:22<7:17:49,  5.54s/it] "
          ]
        },
        {
          "output_type": "stream",
          "name": "stdout",
          "text": [
            "downloading dependencies\n",
            "copy \\\\live.sysinternals.com\\tools\\whois.exe c:\\Users\\ADI\\Desktop\\Major Project\n"
          ]
        },
        {
          "output_type": "stream",
          "name": "stderr",
          "text": [
            "  2%|▏         | 85/4824 [06:31<8:58:32,  6.82s/it]"
          ]
        },
        {
          "output_type": "stream",
          "name": "stdout",
          "text": [
            "downloading dependencies\n",
            "copy \\\\live.sysinternals.com\\tools\\whois.exe c:\\Users\\ADI\\Desktop\\Major Project\n"
          ]
        },
        {
          "output_type": "stream",
          "name": "stderr",
          "text": [
            "  2%|▏         | 86/4824 [06:38<8:59:35,  6.83s/it]"
          ]
        },
        {
          "output_type": "stream",
          "name": "stdout",
          "text": [
            "downloading dependencies\n",
            "copy \\\\live.sysinternals.com\\tools\\whois.exe c:\\Users\\ADI\\Desktop\\Major Project\n"
          ]
        },
        {
          "output_type": "stream",
          "name": "stderr",
          "text": [
            "  2%|▏         | 87/4824 [06:40<6:47:42,  5.16s/it]"
          ]
        },
        {
          "output_type": "stream",
          "name": "stdout",
          "text": [
            "downloading dependencies\n",
            "copy \\\\live.sysinternals.com\\tools\\whois.exe c:\\Users\\ADI\\Desktop\\Major Project\n"
          ]
        },
        {
          "output_type": "stream",
          "name": "stderr",
          "text": [
            "  2%|▏         | 88/4824 [06:41<5:09:13,  3.92s/it]"
          ]
        },
        {
          "output_type": "stream",
          "name": "stdout",
          "text": [
            "downloading dependencies\n",
            "copy \\\\live.sysinternals.com\\tools\\whois.exe c:\\Users\\ADI\\Desktop\\Major Project\n"
          ]
        },
        {
          "output_type": "stream",
          "name": "stderr",
          "text": [
            "  2%|▏         | 89/4824 [06:41<3:52:14,  2.94s/it]"
          ]
        },
        {
          "output_type": "stream",
          "name": "stdout",
          "text": [
            "downloading dependencies\n",
            "copy \\\\live.sysinternals.com\\tools\\whois.exe c:\\Users\\ADI\\Desktop\\Major Project\n"
          ]
        },
        {
          "output_type": "stream",
          "name": "stderr",
          "text": [
            "  2%|▏         | 90/4824 [06:42<2:58:17,  2.26s/it]"
          ]
        },
        {
          "output_type": "stream",
          "name": "stdout",
          "text": [
            "downloading dependencies\n",
            "copy \\\\live.sysinternals.com\\tools\\whois.exe c:\\Users\\ADI\\Desktop\\Major Project\n"
          ]
        },
        {
          "output_type": "stream",
          "name": "stderr",
          "text": [
            "  2%|▏         | 91/4824 [06:45<3:16:37,  2.49s/it]"
          ]
        },
        {
          "output_type": "stream",
          "name": "stdout",
          "text": [
            "downloading dependencies\n",
            "copy \\\\live.sysinternals.com\\tools\\whois.exe c:\\Users\\ADI\\Desktop\\Major Project\n"
          ]
        },
        {
          "output_type": "stream",
          "name": "stderr",
          "text": [
            "  2%|▏         | 96/4824 [06:46<57:48,  1.36it/s]  "
          ]
        },
        {
          "output_type": "stream",
          "name": "stdout",
          "text": [
            "downloading dependencies\n",
            "copy \\\\live.sysinternals.com\\tools\\whois.exe c:\\Users\\ADI\\Desktop\\Major Project\n",
            "downloading dependencies\n",
            "copy \\\\live.sysinternals.com\\tools\\whois.exe c:\\Users\\ADI\\Desktop\\Major Project\n",
            "downloading dependencies\n",
            "copy \\\\live.sysinternals.com\\tools\\whois.exe c:\\Users\\ADI\\Desktop\\Major Project\n",
            "downloading dependencies\n",
            "copy \\\\live.sysinternals.com\\tools\\whois.exe c:\\Users\\ADI\\Desktop\\Major Project\n",
            "downloading dependencies\n",
            "copy \\\\live.sysinternals.com\\tools\\whois.exe c:\\Users\\ADI\\Desktop\\Major Project\n",
            "Unknown TLD: .dk\n",
            "Valid TLDs: .ac_uk .am .amsterdam .ar .at .au .bank .be .biz .br .by .ca .cc .cl .club .cn .co .co_il .co_jp .com .com_au .com_tr .cr .cz .de .download .edu .education .eu .fi .fm .fr .frl .game .global_ .hk .id_ .ie .im .in_ .info .ink .io .ir .is_ .it .jp .kr .kz .link .lt .lv .me .mobi .mu .mx .name .net .ninja .nl .nu .nyc .nz .online .org .pe .pharmacy .pl .press .pro .pt .pub .pw .rest .ru .ru_rf .rw .sale .se .security .sh .site .space .store .tech .tel .theatre .tickets .trade .tv .ua .uk .us .uz .video .website .wiki .work .xyz .za "
          ]
        },
        {
          "output_type": "stream",
          "name": "stderr",
          "text": [
            "  2%|▏         | 99/4824 [06:58<2:35:24,  1.97s/it]"
          ]
        },
        {
          "output_type": "stream",
          "name": "stdout",
          "text": [
            "Unknown TLD: .sg\n",
            "Valid TLDs: .ac_uk .am .amsterdam .ar .at .au .bank .be .biz .br .by .ca .cc .cl .club .cn .co .co_il .co_jp .com .com_au .com_tr .cr .cz .de .download .edu .education .eu .fi .fm .fr .frl .game .global_ .hk .id_ .ie .im .in_ .info .ink .io .ir .is_ .it .jp .kr .kz .link .lt .lv .me .mobi .mu .mx .name .net .ninja .nl .nu .nyc .nz .online .org .pe .pharmacy .pl .press .pro .pt .pub .pw .rest .ru .ru_rf .rw .sale .se .security .sh .site .space .store .tech .tel .theatre .tickets .trade .tv .ua .uk .us .uz .video .website .wiki .work .xyz .za Unknown TLD: .sg\n",
            "Valid TLDs: .ac_uk .am .amsterdam .ar .at .au .bank .be .biz .br .by .ca .cc .cl .club .cn .co .co_il .co_jp .com .com_au .com_tr .cr .cz .de .download .edu .education .eu .fi .fm .fr .frl .game .global_ .hk .id_ .ie .im .in_ .info .ink .io .ir .is_ .it .jp .kr .kz .link .lt .lv .me .mobi .mu .mx .name .net .ninja .nl .nu .nyc .nz .online .org .pe .pharmacy .pl .press .pro .pt .pub .pw .rest .ru .ru_rf .rw .sale .se .security .sh .site .space .store .tech .tel .theatre .tickets .trade .tv .ua .uk .us .uz .video .website .wiki .work .xyz .za downloading dependencies\n",
            "copy \\\\live.sysinternals.com\\tools\\whois.exe c:\\Users\\ADI\\Desktop\\Major Project\n"
          ]
        },
        {
          "output_type": "stream",
          "name": "stderr",
          "text": [
            "  2%|▏         | 101/4824 [07:24<8:00:47,  6.11s/it]"
          ]
        },
        {
          "output_type": "stream",
          "name": "stdout",
          "text": [
            "downloading dependencies\n",
            "copy \\\\live.sysinternals.com\\tools\\whois.exe c:\\Users\\ADI\\Desktop\\Major Project\n",
            "Unknown TLD: .ch\n",
            "Valid TLDs: .ac_uk .am .amsterdam .ar .at .au .bank .be .biz .br .by .ca .cc .cl .club .cn .co .co_il .co_jp .com .com_au .com_tr .cr .cz .de .download .edu .education .eu .fi .fm .fr .frl .game .global_ .hk .id_ .ie .im .in_ .info .ink .io .ir .is_ .it .jp .kr .kz .link .lt .lv .me .mobi .mu .mx .name .net .ninja .nl .nu .nyc .nz .online .org .pe .pharmacy .pl .press .pro .pt .pub .pw .rest .ru .ru_rf .rw .sale .se .security .sh .site .space .store .tech .tel .theatre .tickets .trade .tv .ua .uk .us .uz .video .website .wiki .work .xyz .za "
          ]
        },
        {
          "output_type": "stream",
          "name": "stderr",
          "text": [
            "  2%|▏         | 103/4824 [07:26<5:43:56,  4.37s/it]"
          ]
        },
        {
          "output_type": "stream",
          "name": "stdout",
          "text": [
            "Unknown TLD: .ch\n",
            "Valid TLDs: .ac_uk .am .amsterdam .ar .at .au .bank .be .biz .br .by .ca .cc .cl .club .cn .co .co_il .co_jp .com .com_au .com_tr .cr .cz .de .download .edu .education .eu .fi .fm .fr .frl .game .global_ .hk .id_ .ie .im .in_ .info .ink .io .ir .is_ .it .jp .kr .kz .link .lt .lv .me .mobi .mu .mx .name .net .ninja .nl .nu .nyc .nz .online .org .pe .pharmacy .pl .press .pro .pt .pub .pw .rest .ru .ru_rf .rw .sale .se .security .sh .site .space .store .tech .tel .theatre .tickets .trade .tv .ua .uk .us .uz .video .website .wiki .work .xyz .za "
          ]
        },
        {
          "output_type": "stream",
          "name": "stderr",
          "text": [
            "  2%|▏         | 104/4824 [07:28<5:00:32,  3.82s/it]"
          ]
        },
        {
          "output_type": "stream",
          "name": "stdout",
          "text": [
            "Unknown TLD: .ch\n",
            "Valid TLDs: .ac_uk .am .amsterdam .ar .at .au .bank .be .biz .br .by .ca .cc .cl .club .cn .co .co_il .co_jp .com .com_au .com_tr .cr .cz .de .download .edu .education .eu .fi .fm .fr .frl .game .global_ .hk .id_ .ie .im .in_ .info .ink .io .ir .is_ .it .jp .kr .kz .link .lt .lv .me .mobi .mu .mx .name .net .ninja .nl .nu .nyc .nz .online .org .pe .pharmacy .pl .press .pro .pt .pub .pw .rest .ru .ru_rf .rw .sale .se .security .sh .site .space .store .tech .tel .theatre .tickets .trade .tv .ua .uk .us .uz .video .website .wiki .work .xyz .za "
          ]
        },
        {
          "output_type": "stream",
          "name": "stderr",
          "text": [
            "  2%|▏         | 105/4824 [07:29<4:21:36,  3.33s/it]"
          ]
        },
        {
          "output_type": "stream",
          "name": "stdout",
          "text": [
            "Unknown TLD: .ch\n",
            "Valid TLDs: .ac_uk .am .amsterdam .ar .at .au .bank .be .biz .br .by .ca .cc .cl .club .cn .co .co_il .co_jp .com .com_au .com_tr .cr .cz .de .download .edu .education .eu .fi .fm .fr .frl .game .global_ .hk .id_ .ie .im .in_ .info .ink .io .ir .is_ .it .jp .kr .kz .link .lt .lv .me .mobi .mu .mx .name .net .ninja .nl .nu .nyc .nz .online .org .pe .pharmacy .pl .press .pro .pt .pub .pw .rest .ru .ru_rf .rw .sale .se .security .sh .site .space .store .tech .tel .theatre .tickets .trade .tv .ua .uk .us .uz .video .website .wiki .work .xyz .za "
          ]
        },
        {
          "output_type": "stream",
          "name": "stderr",
          "text": [
            "  2%|▏         | 106/4824 [07:31<3:46:18,  2.88s/it]"
          ]
        },
        {
          "output_type": "stream",
          "name": "stdout",
          "text": [
            "Unknown TLD: .ch\n",
            "Valid TLDs: .ac_uk .am .amsterdam .ar .at .au .bank .be .biz .br .by .ca .cc .cl .club .cn .co .co_il .co_jp .com .com_au .com_tr .cr .cz .de .download .edu .education .eu .fi .fm .fr .frl .game .global_ .hk .id_ .ie .im .in_ .info .ink .io .ir .is_ .it .jp .kr .kz .link .lt .lv .me .mobi .mu .mx .name .net .ninja .nl .nu .nyc .nz .online .org .pe .pharmacy .pl .press .pro .pt .pub .pw .rest .ru .ru_rf .rw .sale .se .security .sh .site .space .store .tech .tel .theatre .tickets .trade .tv .ua .uk .us .uz .video .website .wiki .work .xyz .za "
          ]
        },
        {
          "output_type": "stream",
          "name": "stderr",
          "text": [
            "  2%|▏         | 107/4824 [07:31<3:00:06,  2.29s/it]"
          ]
        },
        {
          "output_type": "stream",
          "name": "stdout",
          "text": [
            "Unknown TLD: .hu\n",
            "Valid TLDs: .ac_uk .am .amsterdam .ar .at .au .bank .be .biz .br .by .ca .cc .cl .club .cn .co .co_il .co_jp .com .com_au .com_tr .cr .cz .de .download .edu .education .eu .fi .fm .fr .frl .game .global_ .hk .id_ .ie .im .in_ .info .ink .io .ir .is_ .it .jp .kr .kz .link .lt .lv .me .mobi .mu .mx .name .net .ninja .nl .nu .nyc .nz .online .org .pe .pharmacy .pl .press .pro .pt .pub .pw .rest .ru .ru_rf .rw .sale .se .security .sh .site .space .store .tech .tel .theatre .tickets .trade .tv .ua .uk .us .uz .video .website .wiki .work .xyz .za "
          ]
        },
        {
          "output_type": "stream",
          "name": "stderr",
          "text": [
            "  2%|▏         | 112/4824 [07:32<55:07,  1.42it/s]  "
          ]
        },
        {
          "output_type": "stream",
          "name": "stdout",
          "text": [
            "Unknown TLD: .hu\n",
            "Valid TLDs: .ac_uk .am .amsterdam .ar .at .au .bank .be .biz .br .by .ca .cc .cl .club .cn .co .co_il .co_jp .com .com_au .com_tr .cr .cz .de .download .edu .education .eu .fi .fm .fr .frl .game .global_ .hk .id_ .ie .im .in_ .info .ink .io .ir .is_ .it .jp .kr .kz .link .lt .lv .me .mobi .mu .mx .name .net .ninja .nl .nu .nyc .nz .online .org .pe .pharmacy .pl .press .pro .pt .pub .pw .rest .ru .ru_rf .rw .sale .se .security .sh .site .space .store .tech .tel .theatre .tickets .trade .tv .ua .uk .us .uz .video .website .wiki .work .xyz .za Unknown TLD: .hu\n",
            "Valid TLDs: .ac_uk .am .amsterdam .ar .at .au .bank .be .biz .br .by .ca .cc .cl .club .cn .co .co_il .co_jp .com .com_au .com_tr .cr .cz .de .download .edu .education .eu .fi .fm .fr .frl .game .global_ .hk .id_ .ie .im .in_ .info .ink .io .ir .is_ .it .jp .kr .kz .link .lt .lv .me .mobi .mu .mx .name .net .ninja .nl .nu .nyc .nz .online .org .pe .pharmacy .pl .press .pro .pt .pub .pw .rest .ru .ru_rf .rw .sale .se .security .sh .site .space .store .tech .tel .theatre .tickets .trade .tv .ua .uk .us .uz .video .website .wiki .work .xyz .za Unknown TLD: .hu\n",
            "Valid TLDs: .ac_uk .am .amsterdam .ar .at .au .bank .be .biz .br .by .ca .cc .cl .club .cn .co .co_il .co_jp .com .com_au .com_tr .cr .cz .de .download .edu .education .eu .fi .fm .fr .frl .game .global_ .hk .id_ .ie .im .in_ .info .ink .io .ir .is_ .it .jp .kr .kz .link .lt .lv .me .mobi .mu .mx .name .net .ninja .nl .nu .nyc .nz .online .org .pe .pharmacy .pl .press .pro .pt .pub .pw .rest .ru .ru_rf .rw .sale .se .security .sh .site .space .store .tech .tel .theatre .tickets .trade .tv .ua .uk .us .uz .video .website .wiki .work .xyz .za Unknown TLD: .hu\n",
            "Valid TLDs: .ac_uk .am .amsterdam .ar .at .au .bank .be .biz .br .by .ca .cc .cl .club .cn .co .co_il .co_jp .com .com_au .com_tr .cr .cz .de .download .edu .education .eu .fi .fm .fr .frl .game .global_ .hk .id_ .ie .im .in_ .info .ink .io .ir .is_ .it .jp .kr .kz .link .lt .lv .me .mobi .mu .mx .name .net .ninja .nl .nu .nyc .nz .online .org .pe .pharmacy .pl .press .pro .pt .pub .pw .rest .ru .ru_rf .rw .sale .se .security .sh .site .space .store .tech .tel .theatre .tickets .trade .tv .ua .uk .us .uz .video .website .wiki .work .xyz .za downloading dependencies\n",
            "copy \\\\live.sysinternals.com\\tools\\whois.exe c:\\Users\\ADI\\Desktop\\Major Project\n",
            "downloading dependencies\n",
            "copy \\\\live.sysinternals.com\\tools\\whois.exe c:\\Users\\ADI\\Desktop\\Major Project\n"
          ]
        },
        {
          "output_type": "stream",
          "name": "stderr",
          "text": [
            "  2%|▏         | 114/4824 [07:33<1:01:10,  1.28it/s]"
          ]
        },
        {
          "output_type": "stream",
          "name": "stdout",
          "text": [
            "downloading dependencies\n",
            "copy \\\\live.sysinternals.com\\tools\\whois.exe c:\\Users\\ADI\\Desktop\\Major Project\n"
          ]
        },
        {
          "output_type": "stream",
          "name": "stderr",
          "text": [
            "  2%|▏         | 115/4824 [07:44<3:15:31,  2.49s/it]"
          ]
        },
        {
          "output_type": "stream",
          "name": "stdout",
          "text": [
            "Unknown TLD: .gr\n",
            "Valid TLDs: .ac_uk .am .amsterdam .ar .at .au .bank .be .biz .br .by .ca .cc .cl .club .cn .co .co_il .co_jp .com .com_au .com_tr .cr .cz .de .download .edu .education .eu .fi .fm .fr .frl .game .global_ .hk .id_ .ie .im .in_ .info .ink .io .ir .is_ .it .jp .kr .kz .link .lt .lv .me .mobi .mu .mx .name .net .ninja .nl .nu .nyc .nz .online .org .pe .pharmacy .pl .press .pro .pt .pub .pw .rest .ru .ru_rf .rw .sale .se .security .sh .site .space .store .tech .tel .theatre .tickets .trade .tv .ua .uk .us .uz .video .website .wiki .work .xyz .za "
          ]
        },
        {
          "output_type": "stream",
          "name": "stderr",
          "text": [
            "  2%|▏         | 116/4824 [07:44<2:41:13,  2.05s/it]"
          ]
        },
        {
          "output_type": "stream",
          "name": "stdout",
          "text": [
            "Unknown TLD: .gr\n",
            "Valid TLDs: .ac_uk .am .amsterdam .ar .at .au .bank .be .biz .br .by .ca .cc .cl .club .cn .co .co_il .co_jp .com .com_au .com_tr .cr .cz .de .download .edu .education .eu .fi .fm .fr .frl .game .global_ .hk .id_ .ie .im .in_ .info .ink .io .ir .is_ .it .jp .kr .kz .link .lt .lv .me .mobi .mu .mx .name .net .ninja .nl .nu .nyc .nz .online .org .pe .pharmacy .pl .press .pro .pt .pub .pw .rest .ru .ru_rf .rw .sale .se .security .sh .site .space .store .tech .tel .theatre .tickets .trade .tv .ua .uk .us .uz .video .website .wiki .work .xyz .za Unknown TLD: .gr\n",
            "Valid TLDs: .ac_uk .am .amsterdam .ar .at .au .bank .be .biz .br .by .ca .cc .cl .club .cn .co .co_il .co_jp .com .com_au .com_tr .cr .cz .de .download .edu .education .eu .fi .fm .fr .frl .game .global_ .hk .id_ .ie .im .in_ .info .ink .io .ir .is_ .it .jp .kr .kz .link .lt .lv .me .mobi .mu .mx .name .net .ninja .nl .nu .nyc .nz .online .org .pe .pharmacy .pl .press .pro .pt .pub .pw .rest .ru .ru_rf .rw .sale .se .security .sh .site .space .store .tech .tel .theatre .tickets .trade .tv .ua .uk .us .uz .video .website .wiki .work .xyz .za Unknown TLD: .gr\n",
            "Valid TLDs: .ac_uk .am .amsterdam .ar .at .au .bank .be .biz .br .by .ca .cc .cl .club .cn .co .co_il .co_jp .com .com_au .com_tr .cr .cz .de .download .edu .education .eu .fi .fm .fr .frl .game .global_ .hk .id_ .ie .im .in_ .info .ink .io .ir .is_ .it .jp .kr .kz .link .lt .lv .me .mobi .mu .mx .name .net .ninja .nl .nu .nyc .nz .online .org .pe .pharmacy .pl .press .pro .pt .pub .pw .rest .ru .ru_rf .rw .sale .se .security .sh .site .space .store .tech .tel .theatre .tickets .trade .tv .ua .uk .us .uz .video .website .wiki .work .xyz .za Unknown TLD: .gr\n",
            "Valid TLDs: .ac_uk .am .amsterdam .ar .at .au .bank .be .biz .br .by .ca .cc .cl .club .cn .co .co_il .co_jp .com .com_au .com_tr .cr .cz .de .download .edu .education .eu .fi .fm .fr .frl .game .global_ .hk .id_ .ie .im .in_ .info .ink .io .ir .is_ .it .jp .kr .kz .link .lt .lv .me .mobi .mu .mx .name .net .ninja .nl .nu .nyc .nz .online .org .pe .pharmacy .pl .press .pro .pt .pub .pw .rest .ru .ru_rf .rw .sale .se .security .sh .site .space .store .tech .tel .theatre .tickets .trade .tv .ua .uk .us .uz .video .website .wiki .work .xyz .za downloading dependencies\n",
            "copy \\\\live.sysinternals.com\\tools\\whois.exe c:\\Users\\ADI\\Desktop\\Major Project\n"
          ]
        },
        {
          "output_type": "stream",
          "name": "stderr",
          "text": [
            "  3%|▎         | 121/4824 [07:45<1:14:02,  1.06it/s]"
          ]
        },
        {
          "output_type": "stream",
          "name": "stdout",
          "text": [
            "downloading dependencies\n",
            "copy \\\\live.sysinternals.com\\tools\\whois.exe c:\\Users\\ADI\\Desktop\\Major Project\n"
          ]
        },
        {
          "output_type": "stream",
          "name": "stderr",
          "text": [
            "  3%|▎         | 122/4824 [07:45<1:07:57,  1.15it/s]"
          ]
        },
        {
          "output_type": "stream",
          "name": "stdout",
          "text": [
            "downloading dependencies\n",
            "copy \\\\live.sysinternals.com\\tools\\whois.exe c:\\Users\\ADI\\Desktop\\Major Project\n"
          ]
        },
        {
          "output_type": "stream",
          "name": "stderr",
          "text": [
            "  3%|▎         | 123/4824 [07:46<1:09:18,  1.13it/s]"
          ]
        },
        {
          "output_type": "stream",
          "name": "stdout",
          "text": [
            "downloading dependencies\n",
            "copy \\\\live.sysinternals.com\\tools\\whois.exe c:\\Users\\ADI\\Desktop\\Major Project\n"
          ]
        },
        {
          "output_type": "stream",
          "name": "stderr",
          "text": [
            "  3%|▎         | 124/4824 [07:47<1:05:08,  1.20it/s]"
          ]
        },
        {
          "output_type": "stream",
          "name": "stdout",
          "text": [
            "downloading dependencies\n",
            "copy \\\\live.sysinternals.com\\tools\\whois.exe c:\\Users\\ADI\\Desktop\\Major Project\n"
          ]
        },
        {
          "output_type": "stream",
          "name": "stderr",
          "text": [
            "  3%|▎         | 125/4824 [07:48<1:06:36,  1.18it/s]"
          ]
        },
        {
          "output_type": "stream",
          "name": "stdout",
          "text": [
            "downloading dependencies\n",
            "copy \\\\live.sysinternals.com\\tools\\whois.exe c:\\Users\\ADI\\Desktop\\Major Project\n",
            "downloading dependencies\n",
            "copy \\\\live.sysinternals.com\\tools\\whois.exe c:\\Users\\ADI\\Desktop\\Major Project\n"
          ]
        },
        {
          "output_type": "stream",
          "name": "stderr",
          "text": [
            "  3%|▎         | 127/4824 [08:10<6:11:49,  4.75s/it]"
          ]
        },
        {
          "output_type": "stream",
          "name": "stdout",
          "text": [
            "downloading dependencies\n",
            "copy \\\\live.sysinternals.com\\tools\\whois.exe c:\\Users\\ADI\\Desktop\\Major Project\n"
          ]
        },
        {
          "output_type": "stream",
          "name": "stderr",
          "text": [
            "  3%|▎         | 128/4824 [08:57<18:07:34, 13.90s/it]"
          ]
        },
        {
          "output_type": "stream",
          "name": "stdout",
          "text": [
            "downloading dependencies\n",
            "copy \\\\live.sysinternals.com\\tools\\whois.exe c:\\Users\\ADI\\Desktop\\Major Project\n"
          ]
        },
        {
          "output_type": "stream",
          "name": "stderr",
          "text": [
            "  3%|▎         | 129/4824 [09:19<20:33:28, 15.76s/it]"
          ]
        },
        {
          "output_type": "stream",
          "name": "stdout",
          "text": [
            "downloading dependencies\n",
            "copy \\\\live.sysinternals.com\\tools\\whois.exe c:\\Users\\ADI\\Desktop\\Major Project\n"
          ]
        },
        {
          "output_type": "stream",
          "name": "stderr",
          "text": [
            "  3%|▎         | 130/4824 [10:06<30:52:43, 23.68s/it]"
          ]
        },
        {
          "output_type": "stream",
          "name": "stdout",
          "text": [
            "downloading dependencies\n",
            "copy \\\\live.sysinternals.com\\tools\\whois.exe c:\\Users\\ADI\\Desktop\\Major Project\n"
          ]
        },
        {
          "output_type": "stream",
          "name": "stderr",
          "text": [
            "  3%|▎         | 131/4824 [10:07<23:01:47, 17.67s/it]"
          ]
        },
        {
          "output_type": "stream",
          "name": "stdout",
          "text": [
            "downloading dependencies\n",
            "copy \\\\live.sysinternals.com\\tools\\whois.exe c:\\Users\\ADI\\Desktop\\Major Project\n"
          ]
        },
        {
          "output_type": "stream",
          "name": "stderr",
          "text": [
            "  3%|▎         | 132/4824 [10:08<16:53:39, 12.96s/it]"
          ]
        },
        {
          "output_type": "stream",
          "name": "stdout",
          "text": [
            "downloading dependencies\n",
            "copy \\\\live.sysinternals.com\\tools\\whois.exe c:\\Users\\ADI\\Desktop\\Major Project\n"
          ]
        },
        {
          "output_type": "stream",
          "name": "stderr",
          "text": [
            "  3%|▎         | 133/4824 [10:08<12:19:04,  9.45s/it]"
          ]
        },
        {
          "output_type": "stream",
          "name": "stdout",
          "text": [
            "downloading dependencies\n",
            "copy \\\\live.sysinternals.com\\tools\\whois.exe c:\\Users\\ADI\\Desktop\\Major Project\n"
          ]
        },
        {
          "output_type": "stream",
          "name": "stderr",
          "text": [
            "  3%|▎         | 134/4824 [10:09<8:57:59,  6.88s/it] "
          ]
        },
        {
          "output_type": "stream",
          "name": "stdout",
          "text": [
            "downloading dependencies\n",
            "copy \\\\live.sysinternals.com\\tools\\whois.exe c:\\Users\\ADI\\Desktop\\Major Project\n"
          ]
        },
        {
          "output_type": "stream",
          "name": "stderr",
          "text": [
            "  3%|▎         | 137/4824 [10:10<3:50:28,  2.95s/it]"
          ]
        },
        {
          "output_type": "stream",
          "name": "stdout",
          "text": [
            "downloading dependencies\n",
            "copy \\\\live.sysinternals.com\\tools\\whois.exe c:\\Users\\ADI\\Desktop\\Major Project\n",
            "downloading dependencies\n",
            "copy \\\\live.sysinternals.com\\tools\\whois.exe c:\\Users\\ADI\\Desktop\\Major Project\n",
            "downloading dependencies\n",
            "copy \\\\live.sysinternals.com\\tools\\whois.exe c:\\Users\\ADI\\Desktop\\Major Project\n",
            "downloading dependencies\n",
            "copy \\\\live.sysinternals.com\\tools\\whois.exe c:\\Users\\ADI\\Desktop\\Major Project\n"
          ]
        },
        {
          "output_type": "stream",
          "name": "stderr",
          "text": [
            "  3%|▎         | 139/4824 [10:10<2:21:20,  1.81s/it]"
          ]
        },
        {
          "output_type": "stream",
          "name": "stdout",
          "text": [
            "downloading dependencies\n",
            "copy \\\\live.sysinternals.com\\tools\\whois.exe c:\\Users\\ADI\\Desktop\\Major Project\n",
            "downloading dependencies\n",
            "copy \\\\live.sysinternals.com\\tools\\whois.exe c:\\Users\\ADI\\Desktop\\Major Project\n"
          ]
        },
        {
          "output_type": "stream",
          "name": "stderr",
          "text": [
            "  3%|▎         | 141/4824 [10:13<2:02:08,  1.56s/it]"
          ]
        },
        {
          "output_type": "stream",
          "name": "stdout",
          "text": [
            "downloading dependencies\n",
            "copy \\\\live.sysinternals.com\\tools\\whois.exe c:\\Users\\ADI\\Desktop\\Major Project\n"
          ]
        },
        {
          "output_type": "stream",
          "name": "stderr",
          "text": [
            "  3%|▎         | 142/4824 [10:13<1:48:32,  1.39s/it]"
          ]
        },
        {
          "output_type": "stream",
          "name": "stdout",
          "text": [
            "downloading dependencies\n",
            "copy \\\\live.sysinternals.com\\tools\\whois.exe c:\\Users\\ADI\\Desktop\\Major Project\n"
          ]
        },
        {
          "output_type": "stream",
          "name": "stderr",
          "text": [
            "  3%|▎         | 143/4824 [10:25<4:40:35,  3.60s/it]"
          ]
        },
        {
          "output_type": "stream",
          "name": "stdout",
          "text": [
            "downloading dependencies\n",
            "copy \\\\live.sysinternals.com\\tools\\whois.exe c:\\Users\\ADI\\Desktop\\Major Project\n"
          ]
        },
        {
          "output_type": "stream",
          "name": "stderr",
          "text": [
            "  3%|▎         | 146/4824 [10:51<7:00:19,  5.39s/it] "
          ]
        },
        {
          "output_type": "stream",
          "name": "stdout",
          "text": [
            "downloading dependencies\n",
            "copy \\\\live.sysinternals.com\\tools\\whois.exe c:\\Users\\ADI\\Desktop\\Major Project\n",
            "downloading dependencies\n",
            "copy \\\\live.sysinternals.com\\tools\\whois.exe c:\\Users\\ADI\\Desktop\\Major Project\n",
            "downloading dependencies\n",
            "copy \\\\live.sysinternals.com\\tools\\whois.exe c:\\Users\\ADI\\Desktop\\Major Project\n",
            "downloading dependencies\n",
            "copy \\\\live.sysinternals.com\\tools\\whois.exe c:\\Users\\ADI\\Desktop\\Major Project\n"
          ]
        },
        {
          "output_type": "stream",
          "name": "stderr",
          "text": [
            "  3%|▎         | 148/4824 [10:51<4:28:23,  3.44s/it]"
          ]
        },
        {
          "output_type": "stream",
          "name": "stdout",
          "text": [
            "downloading dependencies\n",
            "copy \\\\live.sysinternals.com\\tools\\whois.exe c:\\Users\\ADI\\Desktop\\Major Project\n"
          ]
        },
        {
          "output_type": "stream",
          "name": "stderr",
          "text": [
            "  3%|▎         | 149/4824 [10:52<3:53:13,  2.99s/it]"
          ]
        },
        {
          "output_type": "stream",
          "name": "stdout",
          "text": [
            "downloading dependencies\n",
            "copy \\\\live.sysinternals.com\\tools\\whois.exe c:\\Users\\ADI\\Desktop\\Major Project\n"
          ]
        },
        {
          "output_type": "stream",
          "name": "stderr",
          "text": [
            "  3%|▎         | 150/4824 [10:53<3:12:23,  2.47s/it]"
          ]
        },
        {
          "output_type": "stream",
          "name": "stdout",
          "text": [
            "downloading dependencies\n",
            "copy \\\\live.sysinternals.com\\tools\\whois.exe c:\\Users\\ADI\\Desktop\\Major Project\n"
          ]
        },
        {
          "output_type": "stream",
          "name": "stderr",
          "text": [
            "  3%|▎         | 152/4824 [10:54<2:04:05,  1.59s/it]"
          ]
        },
        {
          "output_type": "stream",
          "name": "stdout",
          "text": [
            "Unknown TLD: .gr\n",
            "Valid TLDs: .ac_uk .am .amsterdam .ar .at .au .bank .be .biz .br .by .ca .cc .cl .club .cn .co .co_il .co_jp .com .com_au .com_tr .cr .cz .de .download .edu .education .eu .fi .fm .fr .frl .game .global_ .hk .id_ .ie .im .in_ .info .ink .io .ir .is_ .it .jp .kr .kz .link .lt .lv .me .mobi .mu .mx .name .net .ninja .nl .nu .nyc .nz .online .org .pe .pharmacy .pl .press .pro .pt .pub .pw .rest .ru .ru_rf .rw .sale .se .security .sh .site .space .store .tech .tel .theatre .tickets .trade .tv .ua .uk .us .uz .video .website .wiki .work .xyz .za Unknown TLD: .gr\n",
            "Valid TLDs: .ac_uk .am .amsterdam .ar .at .au .bank .be .biz .br .by .ca .cc .cl .club .cn .co .co_il .co_jp .com .com_au .com_tr .cr .cz .de .download .edu .education .eu .fi .fm .fr .frl .game .global_ .hk .id_ .ie .im .in_ .info .ink .io .ir .is_ .it .jp .kr .kz .link .lt .lv .me .mobi .mu .mx .name .net .ninja .nl .nu .nyc .nz .online .org .pe .pharmacy .pl .press .pro .pt .pub .pw .rest .ru .ru_rf .rw .sale .se .security .sh .site .space .store .tech .tel .theatre .tickets .trade .tv .ua .uk .us .uz .video .website .wiki .work .xyz .za Unknown TLD: .gr\n",
            "Valid TLDs: .ac_uk .am .amsterdam .ar .at .au .bank .be .biz .br .by .ca .cc .cl .club .cn .co .co_il .co_jp .com .com_au .com_tr .cr .cz .de .download .edu .education .eu .fi .fm .fr .frl .game .global_ .hk .id_ .ie .im .in_ .info .ink .io .ir .is_ .it .jp .kr .kz .link .lt .lv .me .mobi .mu .mx .name .net .ninja .nl .nu .nyc .nz .online .org .pe .pharmacy .pl .press .pro .pt .pub .pw .rest .ru .ru_rf .rw .sale .se .security .sh .site .space .store .tech .tel .theatre .tickets .trade .tv .ua .uk .us .uz .video .website .wiki .work .xyz .za Unknown TLD: .gr\n",
            "Valid TLDs: .ac_uk .am .amsterdam .ar .at .au .bank .be .biz .br .by .ca .cc .cl .club .cn .co .co_il .co_jp .com .com_au .com_tr .cr .cz .de .download .edu .education .eu .fi .fm .fr .frl .game .global_ .hk .id_ .ie .im .in_ .info .ink .io .ir .is_ .it .jp .kr .kz .link .lt .lv .me .mobi .mu .mx .name .net .ninja .nl .nu .nyc .nz .online .org .pe .pharmacy .pl .press .pro .pt .pub .pw .rest .ru .ru_rf .rw .sale .se .security .sh .site .space .store .tech .tel .theatre .tickets .trade .tv .ua .uk .us .uz .video .website .wiki .work .xyz .za Unknown TLD: .gr\n",
            "Valid TLDs: .ac_uk .am .amsterdam .ar .at .au .bank .be .biz .br .by .ca .cc .cl .club .cn .co .co_il .co_jp .com .com_au .com_tr .cr .cz .de .download .edu .education .eu .fi .fm .fr .frl .game .global_ .hk .id_ .ie .im .in_ .info .ink .io .ir .is_ .it .jp .kr .kz .link .lt .lv .me .mobi .mu .mx .name .net .ninja .nl .nu .nyc .nz .online .org .pe .pharmacy .pl .press .pro .pt .pub .pw .rest .ru .ru_rf .rw .sale .se .security .sh .site .space .store .tech .tel .theatre .tickets .trade .tv .ua .uk .us .uz .video .website .wiki .work .xyz .za Unknown TLD: .gr\n",
            "Valid TLDs: .ac_uk .am .amsterdam .ar .at .au .bank .be .biz .br .by .ca .cc .cl .club .cn .co .co_il .co_jp .com .com_au .com_tr .cr .cz .de .download .edu .education .eu .fi .fm .fr .frl .game .global_ .hk .id_ .ie .im .in_ .info .ink .io .ir .is_ .it .jp .kr .kz .link .lt .lv .me .mobi .mu .mx .name .net .ninja .nl .nu .nyc .nz .online .org .pe .pharmacy .pl .press .pro .pt .pub .pw .rest .ru .ru_rf .rw .sale .se .security .sh .site .space .store .tech .tel .theatre .tickets .trade .tv .ua .uk .us .uz .video .website .wiki .work .xyz .za downloading dependencies\n",
            "copy \\\\live.sysinternals.com\\tools\\whois.exe c:\\Users\\ADI\\Desktop\\Major Project\n"
          ]
        },
        {
          "output_type": "stream",
          "name": "stderr",
          "text": [
            "  3%|▎         | 158/4824 [10:57<1:03:57,  1.22it/s]"
          ]
        },
        {
          "output_type": "stream",
          "name": "stdout",
          "text": [
            "downloading dependencies\n",
            "copy \\\\live.sysinternals.com\\tools\\whois.exe c:\\Users\\ADI\\Desktop\\Major Project\n"
          ]
        },
        {
          "output_type": "stream",
          "name": "stderr",
          "text": [
            "  3%|▎         | 159/4824 [10:58<1:09:33,  1.12it/s]"
          ]
        },
        {
          "output_type": "stream",
          "name": "stdout",
          "text": [
            "downloading dependencies\n",
            "copy \\\\live.sysinternals.com\\tools\\whois.exe c:\\Users\\ADI\\Desktop\\Major Project\n"
          ]
        },
        {
          "output_type": "stream",
          "name": "stderr",
          "text": [
            "  3%|▎         | 160/4824 [10:59<1:07:15,  1.16it/s]"
          ]
        },
        {
          "output_type": "stream",
          "name": "stdout",
          "text": [
            "downloading dependencies\n",
            "copy \\\\live.sysinternals.com\\tools\\whois.exe c:\\Users\\ADI\\Desktop\\Major Project\n"
          ]
        },
        {
          "output_type": "stream",
          "name": "stderr",
          "text": [
            "  3%|▎         | 161/4824 [11:00<1:12:44,  1.07it/s]"
          ]
        },
        {
          "output_type": "stream",
          "name": "stdout",
          "text": [
            "downloading dependencies\n",
            "copy \\\\live.sysinternals.com\\tools\\whois.exe c:\\Users\\ADI\\Desktop\\Major Project\n"
          ]
        },
        {
          "output_type": "stream",
          "name": "stderr",
          "text": [
            "  3%|▎         | 162/4824 [11:01<1:12:21,  1.07it/s]"
          ]
        },
        {
          "output_type": "stream",
          "name": "stdout",
          "text": [
            "downloading dependencies\n",
            "copy \\\\live.sysinternals.com\\tools\\whois.exe c:\\Users\\ADI\\Desktop\\Major Project\n"
          ]
        },
        {
          "output_type": "stream",
          "name": "stderr",
          "text": [
            "  3%|▎         | 163/4824 [11:02<1:09:30,  1.12it/s]"
          ]
        },
        {
          "output_type": "stream",
          "name": "stdout",
          "text": [
            "downloading dependencies\n",
            "copy \\\\live.sysinternals.com\\tools\\whois.exe c:\\Users\\ADI\\Desktop\\Major Project\n"
          ]
        },
        {
          "output_type": "stream",
          "name": "stderr",
          "text": [
            "  3%|▎         | 164/4824 [11:04<1:37:09,  1.25s/it]"
          ]
        },
        {
          "output_type": "stream",
          "name": "stdout",
          "text": [
            "downloading dependencies\n",
            "copy \\\\live.sysinternals.com\\tools\\whois.exe c:\\Users\\ADI\\Desktop\\Major Project\n"
          ]
        },
        {
          "output_type": "stream",
          "name": "stderr",
          "text": [
            "  3%|▎         | 165/4824 [11:05<1:23:14,  1.07s/it]"
          ]
        },
        {
          "output_type": "stream",
          "name": "stdout",
          "text": [
            "downloading dependencies\n",
            "copy \\\\live.sysinternals.com\\tools\\whois.exe c:\\Users\\ADI\\Desktop\\Major Project\n"
          ]
        },
        {
          "output_type": "stream",
          "name": "stderr",
          "text": [
            "  3%|▎         | 166/4824 [11:06<1:14:13,  1.05it/s]"
          ]
        },
        {
          "output_type": "stream",
          "name": "stdout",
          "text": [
            "downloading dependencies\n",
            "copy \\\\live.sysinternals.com\\tools\\whois.exe c:\\Users\\ADI\\Desktop\\Major Project\n"
          ]
        },
        {
          "output_type": "stream",
          "name": "stderr",
          "text": [
            "  3%|▎         | 167/4824 [11:06<1:08:57,  1.13it/s]"
          ]
        },
        {
          "output_type": "stream",
          "name": "stdout",
          "text": [
            "downloading dependencies\n",
            "copy \\\\live.sysinternals.com\\tools\\whois.exe c:\\Users\\ADI\\Desktop\\Major Project\n"
          ]
        },
        {
          "output_type": "stream",
          "name": "stderr",
          "text": [
            "  3%|▎         | 168/4824 [11:09<1:59:49,  1.54s/it]"
          ]
        },
        {
          "output_type": "stream",
          "name": "stdout",
          "text": [
            "downloading dependencies\n",
            "copy \\\\live.sysinternals.com\\tools\\whois.exe c:\\Users\\ADI\\Desktop\\Major Project\n"
          ]
        },
        {
          "output_type": "stream",
          "name": "stderr",
          "text": [
            "  4%|▎         | 169/4824 [11:12<2:13:13,  1.72s/it]"
          ]
        },
        {
          "output_type": "stream",
          "name": "stdout",
          "text": [
            "downloading dependencies\n",
            "copy \\\\live.sysinternals.com\\tools\\whois.exe c:\\Users\\ADI\\Desktop\\Major Project\n"
          ]
        },
        {
          "output_type": "stream",
          "name": "stderr",
          "text": [
            "  4%|▎         | 170/4824 [11:14<2:23:07,  1.85s/it]"
          ]
        },
        {
          "output_type": "stream",
          "name": "stdout",
          "text": [
            "downloading dependencies\n",
            "copy \\\\live.sysinternals.com\\tools\\whois.exe c:\\Users\\ADI\\Desktop\\Major Project\n"
          ]
        },
        {
          "output_type": "stream",
          "name": "stderr",
          "text": [
            "  4%|▎         | 173/4824 [11:14<1:00:19,  1.28it/s]"
          ]
        },
        {
          "output_type": "stream",
          "name": "stdout",
          "text": [
            "downloading dependencies\n",
            "copy \\\\live.sysinternals.com\\tools\\whois.exe c:\\Users\\ADI\\Desktop\\Major Project\n",
            "downloading dependencies\n",
            "copy \\\\live.sysinternals.com\\tools\\whois.exe c:\\Users\\ADI\\Desktop\\Major Project\n",
            "downloading dependencies\n",
            "copy \\\\live.sysinternals.com\\tools\\whois.exe c:\\Users\\ADI\\Desktop\\Major Project\n",
            "downloading dependencies\n",
            "copy \\\\live.sysinternals.com\\tools\\whois.exe c:\\Users\\ADI\\Desktop\\Major Project\n"
          ]
        },
        {
          "output_type": "stream",
          "name": "stderr",
          "text": [
            "  4%|▎         | 175/4824 [11:15<55:14,  1.40it/s]  "
          ]
        },
        {
          "output_type": "stream",
          "name": "stdout",
          "text": [
            "downloading dependencies\n",
            "copy \\\\live.sysinternals.com\\tools\\whois.exe c:\\Users\\ADI\\Desktop\\Major Project\n"
          ]
        },
        {
          "output_type": "stream",
          "name": "stderr",
          "text": [
            "  4%|▎         | 176/4824 [11:16<53:32,  1.45it/s]"
          ]
        },
        {
          "output_type": "stream",
          "name": "stdout",
          "text": [
            "downloading dependencies\n",
            "copy \\\\live.sysinternals.com\\tools\\whois.exe c:\\Users\\ADI\\Desktop\\Major Project\n"
          ]
        },
        {
          "output_type": "stream",
          "name": "stderr",
          "text": [
            "  4%|▎         | 177/4824 [11:16<44:40,  1.73it/s]"
          ]
        },
        {
          "output_type": "stream",
          "name": "stdout",
          "text": [
            "downloading dependencies\n",
            "copy \\\\live.sysinternals.com\\tools\\whois.exe c:\\Users\\ADI\\Desktop\\Major Project\n",
            "Unknown TLD: .tr\n",
            "Valid TLDs: .ac_uk .am .amsterdam .ar .at .au .bank .be .biz .br .by .ca .cc .cl .club .cn .co .co_il .co_jp .com .com_au .com_tr .cr .cz .de .download .edu .education .eu .fi .fm .fr .frl .game .global_ .hk .id_ .ie .im .in_ .info .ink .io .ir .is_ .it .jp .kr .kz .link .lt .lv .me .mobi .mu .mx .name .net .ninja .nl .nu .nyc .nz .online .org .pe .pharmacy .pl .press .pro .pt .pub .pw .rest .ru .ru_rf .rw .sale .se .security .sh .site .space .store .tech .tel .theatre .tickets .trade .tv .ua .uk .us .uz .video .website .wiki .work .xyz .za "
          ]
        },
        {
          "output_type": "stream",
          "name": "stderr",
          "text": [
            "  4%|▎         | 179/4824 [11:19<1:09:42,  1.11it/s]"
          ]
        },
        {
          "output_type": "stream",
          "name": "stdout",
          "text": [
            "Unknown TLD: .rs\n",
            "Valid TLDs: .ac_uk .am .amsterdam .ar .at .au .bank .be .biz .br .by .ca .cc .cl .club .cn .co .co_il .co_jp .com .com_au .com_tr .cr .cz .de .download .edu .education .eu .fi .fm .fr .frl .game .global_ .hk .id_ .ie .im .in_ .info .ink .io .ir .is_ .it .jp .kr .kz .link .lt .lv .me .mobi .mu .mx .name .net .ninja .nl .nu .nyc .nz .online .org .pe .pharmacy .pl .press .pro .pt .pub .pw .rest .ru .ru_rf .rw .sale .se .security .sh .site .space .store .tech .tel .theatre .tickets .trade .tv .ua .uk .us .uz .video .website .wiki .work .xyz .za "
          ]
        },
        {
          "output_type": "stream",
          "name": "stderr",
          "text": [
            "  4%|▎         | 180/4824 [11:20<1:17:58,  1.01s/it]"
          ]
        },
        {
          "output_type": "stream",
          "name": "stdout",
          "text": [
            "Unknown TLD: .rs\n",
            "Valid TLDs: .ac_uk .am .amsterdam .ar .at .au .bank .be .biz .br .by .ca .cc .cl .club .cn .co .co_il .co_jp .com .com_au .com_tr .cr .cz .de .download .edu .education .eu .fi .fm .fr .frl .game .global_ .hk .id_ .ie .im .in_ .info .ink .io .ir .is_ .it .jp .kr .kz .link .lt .lv .me .mobi .mu .mx .name .net .ninja .nl .nu .nyc .nz .online .org .pe .pharmacy .pl .press .pro .pt .pub .pw .rest .ru .ru_rf .rw .sale .se .security .sh .site .space .store .tech .tel .theatre .tickets .trade .tv .ua .uk .us .uz .video .website .wiki .work .xyz .za "
          ]
        },
        {
          "output_type": "stream",
          "name": "stderr",
          "text": [
            "  4%|▍         | 181/4824 [11:21<1:06:30,  1.16it/s]"
          ]
        },
        {
          "output_type": "stream",
          "name": "stdout",
          "text": [
            "Unknown TLD: .rs\n",
            "Valid TLDs: .ac_uk .am .amsterdam .ar .at .au .bank .be .biz .br .by .ca .cc .cl .club .cn .co .co_il .co_jp .com .com_au .com_tr .cr .cz .de .download .edu .education .eu .fi .fm .fr .frl .game .global_ .hk .id_ .ie .im .in_ .info .ink .io .ir .is_ .it .jp .kr .kz .link .lt .lv .me .mobi .mu .mx .name .net .ninja .nl .nu .nyc .nz .online .org .pe .pharmacy .pl .press .pro .pt .pub .pw .rest .ru .ru_rf .rw .sale .se .security .sh .site .space .store .tech .tel .theatre .tickets .trade .tv .ua .uk .us .uz .video .website .wiki .work .xyz .za "
          ]
        },
        {
          "output_type": "stream",
          "name": "stderr",
          "text": [
            "  4%|▍         | 182/4824 [11:21<57:30,  1.35it/s]  "
          ]
        },
        {
          "output_type": "stream",
          "name": "stdout",
          "text": [
            "downloading dependencies\n",
            "copy \\\\live.sysinternals.com\\tools\\whois.exe c:\\Users\\ADI\\Desktop\\Major Project\n"
          ]
        },
        {
          "output_type": "stream",
          "name": "stderr",
          "text": [
            "  4%|▍         | 183/4824 [11:47<9:48:48,  7.61s/it]"
          ]
        },
        {
          "output_type": "stream",
          "name": "stdout",
          "text": [
            "downloading dependencies\n",
            "copy \\\\live.sysinternals.com\\tools\\whois.exe c:\\Users\\ADI\\Desktop\\Major Project\n"
          ]
        },
        {
          "output_type": "stream",
          "name": "stderr",
          "text": [
            "  4%|▍         | 184/4824 [11:48<7:16:14,  5.64s/it]"
          ]
        },
        {
          "output_type": "stream",
          "name": "stdout",
          "text": [
            "downloading dependencies\n",
            "copy \\\\live.sysinternals.com\\tools\\whois.exe c:\\Users\\ADI\\Desktop\\Major Project\n",
            "downloading dependencies\n",
            "copy \\\\live.sysinternals.com\\tools\\whois.exe c:\\Users\\ADI\\Desktop\\Major Project\n"
          ]
        },
        {
          "output_type": "stream",
          "name": "stderr",
          "text": [
            "  4%|▍         | 186/4824 [11:50<4:36:38,  3.58s/it]"
          ]
        },
        {
          "output_type": "stream",
          "name": "stdout",
          "text": [
            "downloading dependencies\n",
            "copy \\\\live.sysinternals.com\\tools\\whois.exe c:\\Users\\ADI\\Desktop\\Major Project\n"
          ]
        },
        {
          "output_type": "stream",
          "name": "stderr",
          "text": [
            "  4%|▍         | 187/4824 [11:58<6:01:51,  4.68s/it]"
          ]
        },
        {
          "output_type": "stream",
          "name": "stdout",
          "text": [
            "downloading dependencies\n",
            "copy \\\\live.sysinternals.com\\tools\\whois.exe c:\\Users\\ADI\\Desktop\\Major Project\n"
          ]
        },
        {
          "output_type": "stream",
          "name": "stderr",
          "text": [
            "  4%|▍         | 188/4824 [12:00<5:10:06,  4.01s/it]"
          ]
        },
        {
          "output_type": "stream",
          "name": "stdout",
          "text": [
            "downloading dependencies\n",
            "copy \\\\live.sysinternals.com\\tools\\whois.exe c:\\Users\\ADI\\Desktop\\Major Project\n"
          ]
        },
        {
          "output_type": "stream",
          "name": "stderr",
          "text": [
            "  4%|▍         | 189/4824 [12:01<3:59:32,  3.10s/it]"
          ]
        },
        {
          "output_type": "stream",
          "name": "stdout",
          "text": [
            "downloading dependencies\n",
            "copy \\\\live.sysinternals.com\\tools\\whois.exe c:\\Users\\ADI\\Desktop\\Major Project\n"
          ]
        },
        {
          "output_type": "stream",
          "name": "stderr",
          "text": [
            "  4%|▍         | 190/4824 [12:01<3:04:27,  2.39s/it]"
          ]
        },
        {
          "output_type": "stream",
          "name": "stdout",
          "text": [
            "downloading dependencies\n",
            "copy \\\\live.sysinternals.com\\tools\\whois.exe c:\\Users\\ADI\\Desktop\\Major Project\n"
          ]
        },
        {
          "output_type": "stream",
          "name": "stderr",
          "text": [
            "  4%|▍         | 191/4824 [12:02<2:23:28,  1.86s/it]"
          ]
        },
        {
          "output_type": "stream",
          "name": "stdout",
          "text": [
            "downloading dependencies\n",
            "copy \\\\live.sysinternals.com\\tools\\whois.exe c:\\Users\\ADI\\Desktop\\Major Project\n"
          ]
        },
        {
          "output_type": "stream",
          "name": "stderr",
          "text": [
            "  4%|▍         | 196/4824 [12:02<39:39,  1.95it/s]  "
          ]
        },
        {
          "output_type": "stream",
          "name": "stdout",
          "text": [
            "downloading dependencies\n",
            "copy \\\\live.sysinternals.com\\tools\\whois.exe c:\\Users\\ADI\\Desktop\\Major Project\n",
            "downloading dependencies\n",
            "copy \\\\live.sysinternals.com\\tools\\whois.exe c:\\Users\\ADI\\Desktop\\Major Project\n",
            "downloading dependencies\n",
            "copy \\\\live.sysinternals.com\\tools\\whois.exe c:\\Users\\ADI\\Desktop\\Major Project\n",
            "downloading dependencies\n",
            "copy \\\\live.sysinternals.com\\tools\\whois.exe c:\\Users\\ADI\\Desktop\\Major Project\n",
            "downloading dependencies\n",
            "copy \\\\live.sysinternals.com\\tools\\whois.exe c:\\Users\\ADI\\Desktop\\Major Project\n",
            "downloading dependencies\n",
            "copy \\\\live.sysinternals.com\\tools\\whois.exe c:\\Users\\ADI\\Desktop\\Major Project\n"
          ]
        },
        {
          "output_type": "stream",
          "name": "stderr",
          "text": [
            "  4%|▍         | 198/4824 [12:04<46:33,  1.66it/s]"
          ]
        },
        {
          "output_type": "stream",
          "name": "stdout",
          "text": [
            "downloading dependencies\n",
            "copy \\\\live.sysinternals.com\\tools\\whois.exe c:\\Users\\ADI\\Desktop\\Major Project\n"
          ]
        },
        {
          "output_type": "stream",
          "name": "stderr",
          "text": [
            "  4%|▍         | 199/4824 [12:06<1:04:24,  1.20it/s]"
          ]
        },
        {
          "output_type": "stream",
          "name": "stdout",
          "text": [
            "downloading dependencies\n",
            "copy \\\\live.sysinternals.com\\tools\\whois.exe c:\\Users\\ADI\\Desktop\\Major Project\n"
          ]
        },
        {
          "output_type": "stream",
          "name": "stderr",
          "text": [
            "  4%|▍         | 202/4824 [12:06<36:14,  2.13it/s]"
          ]
        },
        {
          "output_type": "stream",
          "name": "stdout",
          "text": [
            "downloading dependencies\n",
            "copy \\\\live.sysinternals.com\\tools\\whois.exe c:\\Users\\ADI\\Desktop\\Major Project\n",
            "downloading dependencies\n",
            "copy \\\\live.sysinternals.com\\tools\\whois.exe c:\\Users\\ADI\\Desktop\\Major Project\n",
            "downloading dependencies\n",
            "copy \\\\live.sysinternals.com\\tools\\whois.exe c:\\Users\\ADI\\Desktop\\Major Project\n"
          ]
        },
        {
          "output_type": "stream",
          "name": "stderr",
          "text": [
            "  4%|▍         | 203/4824 [12:15<2:51:45,  2.23s/it]"
          ]
        },
        {
          "output_type": "stream",
          "name": "stdout",
          "text": [
            "downloading dependencies\n",
            "copy \\\\live.sysinternals.com\\tools\\whois.exe c:\\Users\\ADI\\Desktop\\Major Project\n"
          ]
        },
        {
          "output_type": "stream",
          "name": "stderr",
          "text": [
            "  4%|▍         | 204/4824 [12:23<4:35:56,  3.58s/it]"
          ]
        },
        {
          "output_type": "stream",
          "name": "stdout",
          "text": [
            "downloading dependencies\n",
            "copy \\\\live.sysinternals.com\\tools\\whois.exe c:\\Users\\ADI\\Desktop\\Major Project\n"
          ]
        },
        {
          "output_type": "stream",
          "name": "stderr",
          "text": [
            "  4%|▍         | 208/4824 [12:49<5:50:36,  4.56s/it] "
          ]
        },
        {
          "output_type": "stream",
          "name": "stdout",
          "text": [
            "downloading dependencies\n",
            "copy \\\\live.sysinternals.com\\tools\\whois.exe c:\\Users\\ADI\\Desktop\\Major Project\n",
            "downloading dependencies\n",
            "copy \\\\live.sysinternals.com\\tools\\whois.exe c:\\Users\\ADI\\Desktop\\Major Project\n",
            "downloading dependencies\n",
            "copy \\\\live.sysinternals.com\\tools\\whois.exe c:\\Users\\ADI\\Desktop\\Major Project\n",
            "Unknown TLD: .no\n",
            "Valid TLDs: .ac_uk .am .amsterdam .ar .at .au .bank .be .biz .br .by .ca .cc .cl .club .cn .co .co_il .co_jp .com .com_au .com_tr .cr .cz .de .download .edu .education .eu .fi .fm .fr .frl .game .global_ .hk .id_ .ie .im .in_ .info .ink .io .ir .is_ .it .jp .kr .kz .link .lt .lv .me .mobi .mu .mx .name .net .ninja .nl .nu .nyc .nz .online .org .pe .pharmacy .pl .press .pro .pt .pub .pw .rest .ru .ru_rf .rw .sale .se .security .sh .site .space .store .tech .tel .theatre .tickets .trade .tv .ua .uk .us .uz .video .website .wiki .work .xyz .za "
          ]
        },
        {
          "output_type": "stream",
          "name": "stderr",
          "text": [
            "  4%|▍         | 209/4824 [12:50<4:43:35,  3.69s/it]"
          ]
        },
        {
          "output_type": "stream",
          "name": "stdout",
          "text": [
            "Unknown TLD: .no\n",
            "Valid TLDs: .ac_uk .am .amsterdam .ar .at .au .bank .be .biz .br .by .ca .cc .cl .club .cn .co .co_il .co_jp .com .com_au .com_tr .cr .cz .de .download .edu .education .eu .fi .fm .fr .frl .game .global_ .hk .id_ .ie .im .in_ .info .ink .io .ir .is_ .it .jp .kr .kz .link .lt .lv .me .mobi .mu .mx .name .net .ninja .nl .nu .nyc .nz .online .org .pe .pharmacy .pl .press .pro .pt .pub .pw .rest .ru .ru_rf .rw .sale .se .security .sh .site .space .store .tech .tel .theatre .tickets .trade .tv .ua .uk .us .uz .video .website .wiki .work .xyz .za Unknown TLD: .no\n",
            "Valid TLDs: .ac_uk .am .amsterdam .ar .at .au .bank .be .biz .br .by .ca .cc .cl .club .cn .co .co_il .co_jp .com .com_au .com_tr .cr .cz .de .download .edu .education .eu .fi .fm .fr .frl .game .global_ .hk .id_ .ie .im .in_ .info .ink .io .ir .is_ .it .jp .kr .kz .link .lt .lv .me .mobi .mu .mx .name .net .ninja .nl .nu .nyc .nz .online .org .pe .pharmacy .pl .press .pro .pt .pub .pw .rest .ru .ru_rf .rw .sale .se .security .sh .site .space .store .tech .tel .theatre .tickets .trade .tv .ua .uk .us .uz .video .website .wiki .work .xyz .za downloading dependencies\n",
            "copy \\\\live.sysinternals.com\\tools\\whois.exe c:\\Users\\ADI\\Desktop\\Major Project\n"
          ]
        },
        {
          "output_type": "stream",
          "name": "stderr",
          "text": [
            "  4%|▍         | 212/4824 [12:53<3:16:30,  2.56s/it]"
          ]
        },
        {
          "output_type": "stream",
          "name": "stdout",
          "text": [
            "downloading dependencies\n",
            "copy \\\\live.sysinternals.com\\tools\\whois.exe c:\\Users\\ADI\\Desktop\\Major Project\n"
          ]
        },
        {
          "output_type": "stream",
          "name": "stderr",
          "text": [
            "  4%|▍         | 213/4824 [12:54<2:44:23,  2.14s/it]"
          ]
        },
        {
          "output_type": "stream",
          "name": "stdout",
          "text": [
            "downloading dependencies\n",
            "copy \\\\live.sysinternals.com\\tools\\whois.exe c:\\Users\\ADI\\Desktop\\Major Project\n"
          ]
        },
        {
          "output_type": "stream",
          "name": "stderr",
          "text": [
            "  4%|▍         | 214/4824 [12:55<2:32:07,  1.98s/it]"
          ]
        },
        {
          "output_type": "stream",
          "name": "stdout",
          "text": [
            "downloading dependencies\n",
            "copy \\\\live.sysinternals.com\\tools\\whois.exe c:\\Users\\ADI\\Desktop\\Major Project\n"
          ]
        },
        {
          "output_type": "stream",
          "name": "stderr",
          "text": [
            "  4%|▍         | 215/4824 [12:56<2:13:58,  1.74s/it]"
          ]
        },
        {
          "output_type": "stream",
          "name": "stdout",
          "text": [
            "downloading dependencies\n",
            "copy \\\\live.sysinternals.com\\tools\\whois.exe c:\\Users\\ADI\\Desktop\\Major Project\n"
          ]
        },
        {
          "output_type": "stream",
          "name": "stderr",
          "text": [
            "  4%|▍         | 216/4824 [12:57<1:59:11,  1.55s/it]"
          ]
        },
        {
          "output_type": "stream",
          "name": "stdout",
          "text": [
            "downloading dependencies\n",
            "copy \\\\live.sysinternals.com\\tools\\whois.exe c:\\Users\\ADI\\Desktop\\Major Project\n"
          ]
        },
        {
          "output_type": "stream",
          "name": "stderr",
          "text": [
            "  4%|▍         | 217/4824 [12:58<1:42:56,  1.34s/it]"
          ]
        },
        {
          "output_type": "stream",
          "name": "stdout",
          "text": [
            "downloading dependencies\n",
            "copy \\\\live.sysinternals.com\\tools\\whois.exe c:\\Users\\ADI\\Desktop\\Major Project\n"
          ]
        },
        {
          "output_type": "stream",
          "name": "stderr",
          "text": [
            "  5%|▍         | 218/4824 [12:58<1:29:47,  1.17s/it]"
          ]
        },
        {
          "output_type": "stream",
          "name": "stdout",
          "text": [
            "downloading dependencies\n",
            "copy \\\\live.sysinternals.com\\tools\\whois.exe c:\\Users\\ADI\\Desktop\\Major Project\n"
          ]
        },
        {
          "output_type": "stream",
          "name": "stderr",
          "text": [
            "  5%|▍         | 221/4824 [12:59<42:14,  1.82it/s]  "
          ]
        },
        {
          "output_type": "stream",
          "name": "stdout",
          "text": [
            "downloading dependencies\n",
            "copy \\\\live.sysinternals.com\\tools\\whois.exe c:\\Users\\ADI\\Desktop\\Major Project\n",
            "downloading dependencies\n",
            "copy \\\\live.sysinternals.com\\tools\\whois.exe c:\\Users\\ADI\\Desktop\\Major Project\n",
            "downloading dependencies\n",
            "copy \\\\live.sysinternals.com\\tools\\whois.exe c:\\Users\\ADI\\Desktop\\Major Project\n",
            "downloading dependencies\n",
            "copy \\\\live.sysinternals.com\\tools\\whois.exe c:\\Users\\ADI\\Desktop\\Major Project\n"
          ]
        },
        {
          "output_type": "stream",
          "name": "stderr",
          "text": [
            "  5%|▍         | 223/4824 [12:59<27:39,  2.77it/s]"
          ]
        },
        {
          "output_type": "stream",
          "name": "stdout",
          "text": [
            "downloading dependencies\n",
            "copy \\\\live.sysinternals.com\\tools\\whois.exe c:\\Users\\ADI\\Desktop\\Major Project\n"
          ]
        },
        {
          "output_type": "stream",
          "name": "stderr",
          "text": [
            "  5%|▍         | 224/4824 [13:01<50:26,  1.52it/s]"
          ]
        },
        {
          "output_type": "stream",
          "name": "stdout",
          "text": [
            "downloading dependencies\n",
            "copy \\\\live.sysinternals.com\\tools\\whois.exe c:\\Users\\ADI\\Desktop\\Major Project\n"
          ]
        },
        {
          "output_type": "stream",
          "name": "stderr",
          "text": [
            "  5%|▍         | 227/4824 [13:01<31:15,  2.45it/s]"
          ]
        },
        {
          "output_type": "stream",
          "name": "stdout",
          "text": [
            "downloading dependencies\n",
            "copy \\\\live.sysinternals.com\\tools\\whois.exe c:\\Users\\ADI\\Desktop\\Major Project\n",
            "downloading dependencies\n",
            "copy \\\\live.sysinternals.com\\tools\\whois.exe c:\\Users\\ADI\\Desktop\\Major Project\n",
            "downloading dependencies\n",
            "copy \\\\live.sysinternals.com\\tools\\whois.exe c:\\Users\\ADI\\Desktop\\Major Project\n"
          ]
        },
        {
          "output_type": "stream",
          "name": "stderr",
          "text": [
            "  5%|▍         | 228/4824 [13:07<2:07:09,  1.66s/it]"
          ]
        },
        {
          "output_type": "stream",
          "name": "stdout",
          "text": [
            "downloading dependencies\n",
            "copy \\\\live.sysinternals.com\\tools\\whois.exe c:\\Users\\ADI\\Desktop\\Major Project\n"
          ]
        },
        {
          "output_type": "stream",
          "name": "stderr",
          "text": [
            "  5%|▍         | 229/4824 [13:12<3:01:44,  2.37s/it]"
          ]
        },
        {
          "output_type": "stream",
          "name": "stdout",
          "text": [
            "downloading dependencies\n",
            "copy \\\\live.sysinternals.com\\tools\\whois.exe c:\\Users\\ADI\\Desktop\\Major Project\n"
          ]
        },
        {
          "output_type": "stream",
          "name": "stderr",
          "text": [
            "  5%|▍         | 230/4824 [13:16<3:34:38,  2.80s/it]"
          ]
        },
        {
          "output_type": "stream",
          "name": "stdout",
          "text": [
            "downloading dependencies\n",
            "copy \\\\live.sysinternals.com\\tools\\whois.exe c:\\Users\\ADI\\Desktop\\Major Project\n"
          ]
        },
        {
          "output_type": "stream",
          "name": "stderr",
          "text": [
            "  5%|▍         | 231/4824 [13:20<3:57:03,  3.10s/it]"
          ]
        },
        {
          "output_type": "stream",
          "name": "stdout",
          "text": [
            "downloading dependencies\n",
            "copy \\\\live.sysinternals.com\\tools\\whois.exe c:\\Users\\ADI\\Desktop\\Major Project\n"
          ]
        },
        {
          "output_type": "stream",
          "name": "stderr",
          "text": [
            "  5%|▍         | 232/4824 [13:51<13:44:01, 10.77s/it]"
          ]
        },
        {
          "output_type": "stream",
          "name": "stdout",
          "text": [
            "downloading dependencies\n",
            "copy \\\\live.sysinternals.com\\tools\\whois.exe c:\\Users\\ADI\\Desktop\\Major Project\n"
          ]
        },
        {
          "output_type": "stream",
          "name": "stderr",
          "text": [
            "  5%|▍         | 233/4824 [14:02<13:53:42, 10.90s/it]"
          ]
        },
        {
          "output_type": "stream",
          "name": "stdout",
          "text": [
            "downloading dependencies\n",
            "copy \\\\live.sysinternals.com\\tools\\whois.exe c:\\Users\\ADI\\Desktop\\Major Project\n"
          ]
        },
        {
          "output_type": "stream",
          "name": "stderr",
          "text": [
            "  5%|▍         | 234/4824 [14:13<14:01:52, 11.00s/it]"
          ]
        },
        {
          "output_type": "stream",
          "name": "stdout",
          "text": [
            "downloading dependencies\n",
            "copy \\\\live.sysinternals.com\\tools\\whois.exe c:\\Users\\ADI\\Desktop\\Major Project\n"
          ]
        },
        {
          "output_type": "stream",
          "name": "stderr",
          "text": [
            "  5%|▍         | 235/4824 [14:24<14:07:10, 11.08s/it]"
          ]
        },
        {
          "output_type": "stream",
          "name": "stdout",
          "text": [
            "downloading dependencies\n",
            "copy \\\\live.sysinternals.com\\tools\\whois.exe c:\\Users\\ADI\\Desktop\\Major Project\n"
          ]
        },
        {
          "output_type": "stream",
          "name": "stderr",
          "text": [
            "  5%|▍         | 238/4824 [14:51<10:56:06,  8.58s/it]"
          ]
        },
        {
          "output_type": "stream",
          "name": "stdout",
          "text": [
            "downloading dependencies\n",
            "copy \\\\live.sysinternals.com\\tools\\whois.exe c:\\Users\\ADI\\Desktop\\Major Project\n",
            "downloading dependencies\n",
            "copy \\\\live.sysinternals.com\\tools\\whois.exe c:\\Users\\ADI\\Desktop\\Major Project\n",
            "downloading dependencies\n",
            "copy \\\\live.sysinternals.com\\tools\\whois.exe c:\\Users\\ADI\\Desktop\\Major Project\n"
          ]
        },
        {
          "output_type": "stream",
          "name": "stderr",
          "text": [
            "  5%|▍         | 239/4824 [14:54<9:06:28,  7.15s/it] "
          ]
        },
        {
          "output_type": "stream",
          "name": "stdout",
          "text": [
            "downloading dependencies\n",
            "copy \\\\live.sysinternals.com\\tools\\whois.exe c:\\Users\\ADI\\Desktop\\Major Project\n"
          ]
        },
        {
          "output_type": "stream",
          "name": "stderr",
          "text": [
            "  5%|▍         | 240/4824 [15:05<10:15:57,  8.06s/it]"
          ]
        },
        {
          "output_type": "stream",
          "name": "stdout",
          "text": [
            "downloading dependencies\n",
            "copy \\\\live.sysinternals.com\\tools\\whois.exe c:\\Users\\ADI\\Desktop\\Major Project\n"
          ]
        },
        {
          "output_type": "stream",
          "name": "stderr",
          "text": [
            "  5%|▍         | 241/4824 [15:14<10:46:01,  8.46s/it]"
          ]
        },
        {
          "output_type": "stream",
          "name": "stdout",
          "text": [
            "downloading dependencies\n",
            "copy \\\\live.sysinternals.com\\tools\\whois.exe c:\\Users\\ADI\\Desktop\\Major Project\n"
          ]
        },
        {
          "output_type": "stream",
          "name": "stderr",
          "text": [
            "  5%|▌         | 242/4824 [15:25<11:32:56,  9.07s/it]"
          ]
        },
        {
          "output_type": "stream",
          "name": "stdout",
          "text": [
            "downloading dependencies\n",
            "copy \\\\live.sysinternals.com\\tools\\whois.exe c:\\Users\\ADI\\Desktop\\Major Project\n"
          ]
        },
        {
          "output_type": "stream",
          "name": "stderr",
          "text": [
            "  5%|▌         | 243/4824 [15:54<18:49:18, 14.79s/it]"
          ]
        },
        {
          "output_type": "stream",
          "name": "stdout",
          "text": [
            "downloading dependencies\n",
            "copy \\\\live.sysinternals.com\\tools\\whois.exe c:\\Users\\ADI\\Desktop\\Major Project\n"
          ]
        },
        {
          "output_type": "stream",
          "name": "stderr",
          "text": [
            "  5%|▌         | 244/4824 [15:57<14:25:16, 11.34s/it]"
          ]
        },
        {
          "output_type": "stream",
          "name": "stdout",
          "text": [
            "downloading dependencies\n",
            "copy \\\\live.sysinternals.com\\tools\\whois.exe c:\\Users\\ADI\\Desktop\\Major Project\n"
          ]
        },
        {
          "output_type": "stream",
          "name": "stderr",
          "text": [
            "  5%|▌         | 247/4824 [15:57<5:38:00,  4.43s/it] "
          ]
        },
        {
          "output_type": "stream",
          "name": "stdout",
          "text": [
            "downloading dependencies\n",
            "copy \\\\live.sysinternals.com\\tools\\whois.exe c:\\Users\\ADI\\Desktop\\Major Project\n",
            "downloading dependencies\n",
            "copy \\\\live.sysinternals.com\\tools\\whois.exe c:\\Users\\ADI\\Desktop\\Major Project\n",
            "downloading dependencies\n",
            "copy \\\\live.sysinternals.com\\tools\\whois.exe c:\\Users\\ADI\\Desktop\\Major Project\n",
            "downloading dependencies\n",
            "copy \\\\live.sysinternals.com\\tools\\whois.exe c:\\Users\\ADI\\Desktop\\Major Project\n"
          ]
        },
        {
          "output_type": "stream",
          "name": "stderr",
          "text": [
            "  5%|▌         | 249/4824 [15:57<3:26:35,  2.71s/it]"
          ]
        },
        {
          "output_type": "stream",
          "name": "stdout",
          "text": [
            "downloading dependencies\n",
            "copy \\\\live.sysinternals.com\\tools\\whois.exe c:\\Users\\ADI\\Desktop\\Major Project\n"
          ]
        },
        {
          "output_type": "stream",
          "name": "stderr",
          "text": [
            "  5%|▌         | 250/4824 [16:02<3:52:23,  3.05s/it]"
          ]
        },
        {
          "output_type": "stream",
          "name": "stdout",
          "text": [
            "downloading dependencies\n",
            "copy \\\\live.sysinternals.com\\tools\\whois.exe c:\\Users\\ADI\\Desktop\\Major Project\n"
          ]
        },
        {
          "output_type": "stream",
          "name": "stderr",
          "text": [
            "  5%|▌         | 251/4824 [16:05<3:57:46,  3.12s/it]"
          ]
        },
        {
          "output_type": "stream",
          "name": "stdout",
          "text": [
            "downloading dependencies\n",
            "copy \\\\live.sysinternals.com\\tools\\whois.exe c:\\Users\\ADI\\Desktop\\Major Project\n"
          ]
        },
        {
          "output_type": "stream",
          "name": "stderr",
          "text": [
            "  5%|▌         | 252/4824 [16:09<4:04:24,  3.21s/it]"
          ]
        },
        {
          "output_type": "stream",
          "name": "stdout",
          "text": [
            "downloading dependencies\n",
            "copy \\\\live.sysinternals.com\\tools\\whois.exe c:\\Users\\ADI\\Desktop\\Major Project\n"
          ]
        },
        {
          "output_type": "stream",
          "name": "stderr",
          "text": [
            "  5%|▌         | 253/4824 [16:12<4:08:30,  3.26s/it]"
          ]
        },
        {
          "output_type": "stream",
          "name": "stdout",
          "text": [
            "downloading dependencies\n",
            "copy \\\\live.sysinternals.com\\tools\\whois.exe c:\\Users\\ADI\\Desktop\\Major Project\n"
          ]
        },
        {
          "output_type": "stream",
          "name": "stderr",
          "text": [
            "  5%|▌         | 255/4824 [16:16<3:07:22,  2.46s/it]"
          ]
        },
        {
          "output_type": "stream",
          "name": "stdout",
          "text": [
            "downloading dependencies\n",
            "copy \\\\live.sysinternals.com\\tools\\whois.exe c:\\Users\\ADI\\Desktop\\Major Project\n",
            "downloading dependencies\n",
            "copy \\\\live.sysinternals.com\\tools\\whois.exe c:\\Users\\ADI\\Desktop\\Major Project\n"
          ]
        },
        {
          "output_type": "stream",
          "name": "stderr",
          "text": [
            "  5%|▌         | 257/4824 [16:16<1:45:23,  1.38s/it]"
          ]
        },
        {
          "output_type": "stream",
          "name": "stdout",
          "text": [
            "downloading dependencies\n",
            "copy \\\\live.sysinternals.com\\tools\\whois.exe c:\\Users\\ADI\\Desktop\\Major Project\n",
            "downloading dependencies\n",
            "copy \\\\live.sysinternals.com\\tools\\whois.exe c:\\Users\\ADI\\Desktop\\Major Project\n",
            "downloading dependencies\n",
            "copy \\\\live.sysinternals.com\\tools\\whois.exe c:\\Users\\ADI\\Desktop\\Major Project\n"
          ]
        },
        {
          "output_type": "stream",
          "name": "stderr",
          "text": [
            "  5%|▌         | 259/4824 [16:22<2:27:46,  1.94s/it]"
          ]
        },
        {
          "output_type": "stream",
          "name": "stdout",
          "text": [
            "downloading dependencies\n",
            "copy \\\\live.sysinternals.com\\tools\\whois.exe c:\\Users\\ADI\\Desktop\\Major Project\n"
          ]
        },
        {
          "output_type": "stream",
          "name": "stderr",
          "text": [
            "  5%|▌         | 260/4824 [16:53<10:40:56,  8.43s/it]"
          ]
        },
        {
          "output_type": "stream",
          "name": "stdout",
          "text": [
            "downloading dependencies\n",
            "copy \\\\live.sysinternals.com\\tools\\whois.exe c:\\Users\\ADI\\Desktop\\Major Project\n"
          ]
        },
        {
          "output_type": "stream",
          "name": "stderr",
          "text": [
            "  5%|▌         | 261/4824 [16:59<9:48:03,  7.73s/it] "
          ]
        },
        {
          "output_type": "stream",
          "name": "stdout",
          "text": [
            "downloading dependencies\n",
            "copy \\\\live.sysinternals.com\\tools\\whois.exe c:\\Users\\ADI\\Desktop\\Major Project\n"
          ]
        },
        {
          "output_type": "stream",
          "name": "stderr",
          "text": [
            "  5%|▌         | 264/4824 [16:59<4:18:43,  3.40s/it]"
          ]
        },
        {
          "output_type": "stream",
          "name": "stdout",
          "text": [
            "downloading dependencies\n",
            "copy \\\\live.sysinternals.com\\tools\\whois.exe c:\\Users\\ADI\\Desktop\\Major Project\n",
            "downloading dependencies\n",
            "copy \\\\live.sysinternals.com\\tools\\whois.exe c:\\Users\\ADI\\Desktop\\Major Project\n",
            "downloading dependencies\n",
            "copy \\\\live.sysinternals.com\\tools\\whois.exe c:\\Users\\ADI\\Desktop\\Major Project\n",
            "downloading dependencies\n",
            "copy \\\\live.sysinternals.com\\tools\\whois.exe c:\\Users\\ADI\\Desktop\\Major Project\n"
          ]
        },
        {
          "output_type": "stream",
          "name": "stderr",
          "text": [
            "  6%|▌         | 266/4824 [16:59<2:43:11,  2.15s/it]"
          ]
        },
        {
          "output_type": "stream",
          "name": "stdout",
          "text": [
            "Unknown TLD: .su\n",
            "Valid TLDs: .ac_uk .am .amsterdam .ar .at .au .bank .be .biz .br .by .ca .cc .cl .club .cn .co .co_il .co_jp .com .com_au .com_tr .cr .cz .de .download .edu .education .eu .fi .fm .fr .frl .game .global_ .hk .id_ .ie .im .in_ .info .ink .io .ir .is_ .it .jp .kr .kz .link .lt .lv .me .mobi .mu .mx .name .net .ninja .nl .nu .nyc .nz .online .org .pe .pharmacy .pl .press .pro .pt .pub .pw .rest .ru .ru_rf .rw .sale .se .security .sh .site .space .store .tech .tel .theatre .tickets .trade .tv .ua .uk .us .uz .video .website .wiki .work .xyz .za downloading dependencies\n",
            "copy \\\\live.sysinternals.com\\tools\\whois.exe c:\\Users\\ADI\\Desktop\\Major Project\n"
          ]
        },
        {
          "output_type": "stream",
          "name": "stderr",
          "text": [
            "  6%|▌         | 268/4824 [17:01<2:05:26,  1.65s/it]"
          ]
        },
        {
          "output_type": "stream",
          "name": "stdout",
          "text": [
            "downloading dependencies\n",
            "copy \\\\live.sysinternals.com\\tools\\whois.exe c:\\Users\\ADI\\Desktop\\Major Project\n"
          ]
        },
        {
          "output_type": "stream",
          "name": "stderr",
          "text": [
            "  6%|▌         | 269/4824 [17:01<1:46:16,  1.40s/it]"
          ]
        },
        {
          "output_type": "stream",
          "name": "stdout",
          "text": [
            "downloading dependencies\n",
            "copy \\\\live.sysinternals.com\\tools\\whois.exe c:\\Users\\ADI\\Desktop\\Major Project\n",
            "downloading dependencies\n",
            "copy \\\\live.sysinternals.com\\tools\\whois.exe c:\\Users\\ADI\\Desktop\\Major Project\n"
          ]
        },
        {
          "output_type": "stream",
          "name": "stderr",
          "text": [
            "  6%|▌         | 273/4824 [17:01<49:01,  1.55it/s]  "
          ]
        },
        {
          "output_type": "stream",
          "name": "stdout",
          "text": [
            "downloading dependencies\n",
            "copy \\\\live.sysinternals.com\\tools\\whois.exe c:\\Users\\ADI\\Desktop\\Major Project\n",
            "downloading dependencies\n",
            "copy \\\\live.sysinternals.com\\tools\\whois.exe c:\\Users\\ADI\\Desktop\\Major Project\n",
            "downloading dependencies\n",
            "copy \\\\live.sysinternals.com\\tools\\whois.exe c:\\Users\\ADI\\Desktop\\Major Project\n",
            "downloading dependencies\n",
            "copy \\\\live.sysinternals.com\\tools\\whois.exe c:\\Users\\ADI\\Desktop\\Major Project\n",
            "downloading dependencies\n",
            "copy \\\\live.sysinternals.com\\tools\\whois.exe c:\\Users\\ADI\\Desktop\\Major Project\n"
          ]
        },
        {
          "output_type": "stream",
          "name": "stderr",
          "text": [
            "  6%|▌         | 277/4824 [17:02<29:44,  2.55it/s]"
          ]
        },
        {
          "output_type": "stream",
          "name": "stdout",
          "text": [
            "downloading dependencies\n",
            "copy \\\\live.sysinternals.com\\tools\\whois.exe c:\\Users\\ADI\\Desktop\\Major Project\n"
          ]
        },
        {
          "output_type": "stream",
          "name": "stderr",
          "text": [
            "  6%|▌         | 278/4824 [17:02<25:49,  2.93it/s]"
          ]
        },
        {
          "output_type": "stream",
          "name": "stdout",
          "text": [
            "downloading dependencies\n",
            "copy \\\\live.sysinternals.com\\tools\\whois.exe c:\\Users\\ADI\\Desktop\\Major Project\n",
            "downloading dependencies\n",
            "copy \\\\live.sysinternals.com\\tools\\whois.exe c:\\Users\\ADI\\Desktop\\Major Project\n"
          ]
        },
        {
          "output_type": "stream",
          "name": "stderr",
          "text": [
            "  6%|▌         | 279/4824 [17:06<1:23:57,  1.11s/it]"
          ]
        },
        {
          "output_type": "stream",
          "name": "stdout",
          "text": [
            "downloading dependencies\n",
            "copy \\\\live.sysinternals.com\\tools\\whois.exe c:\\Users\\ADI\\Desktop\\Major Project\n"
          ]
        },
        {
          "output_type": "stream",
          "name": "stderr",
          "text": [
            "  6%|▌         | 280/4824 [17:07<1:14:10,  1.02it/s]"
          ]
        },
        {
          "output_type": "stream",
          "name": "stdout",
          "text": [
            "downloading dependencies\n",
            "copy \\\\live.sysinternals.com\\tools\\whois.exe c:\\Users\\ADI\\Desktop\\Major Project\n"
          ]
        },
        {
          "output_type": "stream",
          "name": "stderr",
          "text": [
            "  6%|▌         | 281/4824 [17:07<1:07:16,  1.13it/s]"
          ]
        },
        {
          "output_type": "stream",
          "name": "stdout",
          "text": [
            "downloading dependencies\n",
            "copy \\\\live.sysinternals.com\\tools\\whois.exe c:\\Users\\ADI\\Desktop\\Major Project\n"
          ]
        },
        {
          "output_type": "stream",
          "name": "stderr",
          "text": [
            "  6%|▌         | 282/4824 [17:08<1:11:52,  1.05it/s]"
          ]
        },
        {
          "output_type": "stream",
          "name": "stdout",
          "text": [
            "downloading dependencies\n",
            "copy \\\\live.sysinternals.com\\tools\\whois.exe c:\\Users\\ADI\\Desktop\\Major Project\n"
          ]
        },
        {
          "output_type": "stream",
          "name": "stderr",
          "text": [
            "  6%|▌         | 283/4824 [17:10<1:19:55,  1.06s/it]"
          ]
        },
        {
          "output_type": "stream",
          "name": "stdout",
          "text": [
            "downloading dependencies\n",
            "copy \\\\live.sysinternals.com\\tools\\whois.exe c:\\Users\\ADI\\Desktop\\Major Project\n"
          ]
        },
        {
          "output_type": "stream",
          "name": "stderr",
          "text": [
            "  6%|▌         | 284/4824 [17:12<1:49:48,  1.45s/it]"
          ]
        },
        {
          "output_type": "stream",
          "name": "stdout",
          "text": [
            "downloading dependencies\n",
            "copy \\\\live.sysinternals.com\\tools\\whois.exe c:\\Users\\ADI\\Desktop\\Major Project\n"
          ]
        },
        {
          "output_type": "stream",
          "name": "stderr",
          "text": [
            "  6%|▌         | 285/4824 [17:14<2:07:01,  1.68s/it]"
          ]
        },
        {
          "output_type": "stream",
          "name": "stdout",
          "text": [
            "downloading dependencies\n",
            "copy \\\\live.sysinternals.com\\tools\\whois.exe c:\\Users\\ADI\\Desktop\\Major Project\n"
          ]
        },
        {
          "output_type": "stream",
          "name": "stderr",
          "text": [
            "  6%|▌         | 286/4824 [17:15<1:50:21,  1.46s/it]"
          ]
        },
        {
          "output_type": "stream",
          "name": "stdout",
          "text": [
            "downloading dependencies\n",
            "copy \\\\live.sysinternals.com\\tools\\whois.exe c:\\Users\\ADI\\Desktop\\Major Project\n"
          ]
        },
        {
          "output_type": "stream",
          "name": "stderr",
          "text": [
            "  6%|▌         | 287/4824 [17:16<1:38:23,  1.30s/it]"
          ]
        },
        {
          "output_type": "stream",
          "name": "stdout",
          "text": [
            "downloading dependencies\n",
            "copy \\\\live.sysinternals.com\\tools\\whois.exe c:\\Users\\ADI\\Desktop\\Major Project\n"
          ]
        },
        {
          "output_type": "stream",
          "name": "stderr",
          "text": [
            "  6%|▌         | 288/4824 [17:17<1:29:52,  1.19s/it]"
          ]
        },
        {
          "output_type": "stream",
          "name": "stdout",
          "text": [
            "downloading dependencies\n",
            "copy \\\\live.sysinternals.com\\tools\\whois.exe c:\\Users\\ADI\\Desktop\\Major Project\n"
          ]
        },
        {
          "output_type": "stream",
          "name": "stderr",
          "text": [
            "  6%|▌         | 289/4824 [17:25<3:48:15,  3.02s/it]"
          ]
        },
        {
          "output_type": "stream",
          "name": "stdout",
          "text": [
            "downloading dependencies\n",
            "copy \\\\live.sysinternals.com\\tools\\whois.exe c:\\Users\\ADI\\Desktop\\Major Project\n"
          ]
        },
        {
          "output_type": "stream",
          "name": "stderr",
          "text": [
            "  6%|▌         | 290/4824 [17:56<14:18:37, 11.36s/it]"
          ]
        },
        {
          "output_type": "stream",
          "name": "stdout",
          "text": [
            "downloading dependencies\n",
            "copy \\\\live.sysinternals.com\\tools\\whois.exe c:\\Users\\ADI\\Desktop\\Major Project\n"
          ]
        },
        {
          "output_type": "stream",
          "name": "stderr",
          "text": [
            "  6%|▌         | 291/4824 [17:59<11:28:14,  9.11s/it]"
          ]
        },
        {
          "output_type": "stream",
          "name": "stdout",
          "text": [
            "downloading dependencies\n",
            "copy \\\\live.sysinternals.com\\tools\\whois.exe c:\\Users\\ADI\\Desktop\\Major Project\n"
          ]
        },
        {
          "output_type": "stream",
          "name": "stderr",
          "text": [
            "  6%|▌         | 292/4824 [18:04<9:40:13,  7.68s/it] "
          ]
        },
        {
          "output_type": "stream",
          "name": "stdout",
          "text": [
            "downloading dependencies\n",
            "copy \\\\live.sysinternals.com\\tools\\whois.exe c:\\Users\\ADI\\Desktop\\Major Project\n"
          ]
        },
        {
          "output_type": "stream",
          "name": "stderr",
          "text": [
            "  6%|▌         | 293/4824 [18:05<7:05:27,  5.63s/it]"
          ]
        },
        {
          "output_type": "stream",
          "name": "stdout",
          "text": [
            "downloading dependencies\n",
            "copy \\\\live.sysinternals.com\\tools\\whois.exe c:\\Users\\ADI\\Desktop\\Major Project\n"
          ]
        },
        {
          "output_type": "stream",
          "name": "stderr",
          "text": [
            "  6%|▌         | 294/4824 [18:26<13:04:07, 10.39s/it]"
          ]
        },
        {
          "output_type": "stream",
          "name": "stdout",
          "text": [
            "downloading dependencies\n",
            "copy \\\\live.sysinternals.com\\tools\\whois.exe c:\\Users\\ADI\\Desktop\\Major Project\n"
          ]
        },
        {
          "output_type": "stream",
          "name": "stderr",
          "text": [
            "  6%|▌         | 295/4824 [19:13<26:53:55, 21.38s/it]"
          ]
        },
        {
          "output_type": "stream",
          "name": "stdout",
          "text": [
            "downloading dependencies\n",
            "copy \\\\live.sysinternals.com\\tools\\whois.exe c:\\Users\\ADI\\Desktop\\Major Project\n"
          ]
        },
        {
          "output_type": "stream",
          "name": "stderr",
          "text": [
            "  6%|▌         | 296/4824 [19:23<22:34:03, 17.94s/it]"
          ]
        },
        {
          "output_type": "stream",
          "name": "stdout",
          "text": [
            "downloading dependencies\n",
            "copy \\\\live.sysinternals.com\\tools\\whois.exe c:\\Users\\ADI\\Desktop\\Major Project\n"
          ]
        },
        {
          "output_type": "stream",
          "name": "stderr",
          "text": [
            "  6%|▌         | 297/4824 [20:00<29:50:10, 23.73s/it]"
          ]
        },
        {
          "output_type": "stream",
          "name": "stdout",
          "text": [
            "downloading dependencies\n",
            "copy \\\\live.sysinternals.com\\tools\\whois.exe c:\\Users\\ADI\\Desktop\\Major Project\n"
          ]
        },
        {
          "output_type": "stream",
          "name": "stderr",
          "text": [
            "  6%|▌         | 298/4824 [20:12<25:07:56, 19.99s/it]"
          ]
        },
        {
          "output_type": "stream",
          "name": "stdout",
          "text": [
            "downloading dependencies\n",
            "copy \\\\live.sysinternals.com\\tools\\whois.exe c:\\Users\\ADI\\Desktop\\Major Project\n"
          ]
        },
        {
          "output_type": "stream",
          "name": "stderr",
          "text": [
            "  6%|▌         | 299/4824 [20:23<21:50:15, 17.37s/it]"
          ]
        },
        {
          "output_type": "stream",
          "name": "stdout",
          "text": [
            "downloading dependencies\n",
            "copy \\\\live.sysinternals.com\\tools\\whois.exe c:\\Users\\ADI\\Desktop\\Major Project\n"
          ]
        },
        {
          "output_type": "stream",
          "name": "stderr",
          "text": [
            "  6%|▌         | 300/4824 [20:52<26:19:25, 20.95s/it]"
          ]
        },
        {
          "output_type": "stream",
          "name": "stdout",
          "text": [
            "downloading dependencies\n",
            "copy \\\\live.sysinternals.com\\tools\\whois.exe c:\\Users\\ADI\\Desktop\\Major Project\n"
          ]
        },
        {
          "output_type": "stream",
          "name": "stderr",
          "text": [
            "  6%|▌         | 301/4824 [20:54<18:59:49, 15.12s/it]"
          ]
        },
        {
          "output_type": "stream",
          "name": "stdout",
          "text": [
            "downloading dependencies\n",
            "copy \\\\live.sysinternals.com\\tools\\whois.exe c:\\Users\\ADI\\Desktop\\Major Project\n"
          ]
        },
        {
          "output_type": "stream",
          "name": "stderr",
          "text": [
            "  6%|▋         | 302/4824 [20:55<13:52:20, 11.04s/it]"
          ]
        },
        {
          "output_type": "stream",
          "name": "stdout",
          "text": [
            "downloading dependencies\n",
            "copy \\\\live.sysinternals.com\\tools\\whois.exe c:\\Users\\ADI\\Desktop\\Major Project\n"
          ]
        },
        {
          "output_type": "stream",
          "name": "stderr",
          "text": [
            "  6%|▋         | 303/4824 [20:56<9:51:24,  7.85s/it] "
          ]
        },
        {
          "output_type": "stream",
          "name": "stdout",
          "text": [
            "downloading dependencies\n",
            "copy \\\\live.sysinternals.com\\tools\\whois.exe c:\\Users\\ADI\\Desktop\\Major Project\n",
            "downloading dependencies\n",
            "copy \\\\live.sysinternals.com\\tools\\whois.exe c:\\Users\\ADI\\Desktop\\Major Project\n"
          ]
        },
        {
          "output_type": "stream",
          "name": "stderr",
          "text": [
            "  6%|▋         | 308/4824 [20:58<3:04:00,  2.44s/it]"
          ]
        },
        {
          "output_type": "stream",
          "name": "stdout",
          "text": [
            "downloading dependencies\n",
            "copy \\\\live.sysinternals.com\\tools\\whois.exe c:\\Users\\ADI\\Desktop\\Major Project\n",
            "downloading dependencies\n",
            "copy \\\\live.sysinternals.com\\tools\\whois.exe c:\\Users\\ADI\\Desktop\\Major Project\n",
            "downloading dependencies\n",
            "copy \\\\live.sysinternals.com\\tools\\whois.exe c:\\Users\\ADI\\Desktop\\Major Project\n",
            "downloading dependencies\n",
            "copy \\\\live.sysinternals.com\\tools\\whois.exe c:\\Users\\ADI\\Desktop\\Major Project\n"
          ]
        },
        {
          "output_type": "stream",
          "name": "stderr",
          "text": [
            "  6%|▋         | 311/4824 [20:59<1:41:56,  1.36s/it]"
          ]
        },
        {
          "output_type": "stream",
          "name": "stdout",
          "text": [
            "downloading dependencies\n",
            "copy \\\\live.sysinternals.com\\tools\\whois.exe c:\\Users\\ADI\\Desktop\\Major Project\n",
            "downloading dependencies\n",
            "copy \\\\live.sysinternals.com\\tools\\whois.exe c:\\Users\\ADI\\Desktop\\Major Project\n",
            "downloading dependencies\n",
            "copy \\\\live.sysinternals.com\\tools\\whois.exe c:\\Users\\ADI\\Desktop\\Major Project\n"
          ]
        },
        {
          "output_type": "stream",
          "name": "stderr",
          "text": [
            "  6%|▋         | 312/4824 [20:59<1:23:28,  1.11s/it]"
          ]
        },
        {
          "output_type": "stream",
          "name": "stdout",
          "text": [
            "downloading dependencies\n",
            "copy \\\\live.sysinternals.com\\tools\\whois.exe c:\\Users\\ADI\\Desktop\\Major Project\n"
          ]
        },
        {
          "output_type": "stream",
          "name": "stderr",
          "text": [
            "  6%|▋         | 313/4824 [21:02<1:50:40,  1.47s/it]"
          ]
        },
        {
          "output_type": "stream",
          "name": "stdout",
          "text": [
            "downloading dependencies\n",
            "copy \\\\live.sysinternals.com\\tools\\whois.exe c:\\Users\\ADI\\Desktop\\Major Project\n"
          ]
        },
        {
          "output_type": "stream",
          "name": "stderr",
          "text": [
            "  7%|▋         | 314/4824 [21:04<2:09:44,  1.73s/it]"
          ]
        },
        {
          "output_type": "stream",
          "name": "stdout",
          "text": [
            "downloading dependencies\n",
            "copy \\\\live.sysinternals.com\\tools\\whois.exe c:\\Users\\ADI\\Desktop\\Major Project\n"
          ]
        },
        {
          "output_type": "stream",
          "name": "stderr",
          "text": [
            "  7%|▋         | 315/4824 [21:07<2:22:27,  1.90s/it]"
          ]
        },
        {
          "output_type": "stream",
          "name": "stdout",
          "text": [
            "downloading dependencies\n",
            "copy \\\\live.sysinternals.com\\tools\\whois.exe c:\\Users\\ADI\\Desktop\\Major Project\n"
          ]
        },
        {
          "output_type": "stream",
          "name": "stderr",
          "text": [
            "  7%|▋         | 316/4824 [21:09<2:33:53,  2.05s/it]"
          ]
        },
        {
          "output_type": "stream",
          "name": "stdout",
          "text": [
            "downloading dependencies\n",
            "copy \\\\live.sysinternals.com\\tools\\whois.exe c:\\Users\\ADI\\Desktop\\Major Project\n"
          ]
        },
        {
          "output_type": "stream",
          "name": "stderr",
          "text": [
            "  7%|▋         | 317/4824 [21:12<2:44:29,  2.19s/it]"
          ]
        },
        {
          "output_type": "stream",
          "name": "stdout",
          "text": [
            "downloading dependencies\n",
            "copy \\\\live.sysinternals.com\\tools\\whois.exe c:\\Users\\ADI\\Desktop\\Major Project\n"
          ]
        },
        {
          "output_type": "stream",
          "name": "stderr",
          "text": [
            "  7%|▋         | 320/4824 [21:12<1:09:21,  1.08it/s]"
          ]
        },
        {
          "output_type": "stream",
          "name": "stdout",
          "text": [
            "downloading dependencies\n",
            "copy \\\\live.sysinternals.com\\tools\\whois.exe c:\\Users\\ADI\\Desktop\\Major Project\n",
            "downloading dependencies\n",
            "copy \\\\live.sysinternals.com\\tools\\whois.exe c:\\Users\\ADI\\Desktop\\Major Project\n",
            "downloading dependencies\n",
            "copy \\\\live.sysinternals.com\\tools\\whois.exe c:\\Users\\ADI\\Desktop\\Major Project\n",
            "downloading dependencies\n",
            "copy \\\\live.sysinternals.com\\tools\\whois.exe c:\\Users\\ADI\\Desktop\\Major Project\n"
          ]
        },
        {
          "output_type": "stream",
          "name": "stderr",
          "text": [
            "  7%|▋         | 322/4824 [21:13<53:59,  1.39it/s]  "
          ]
        },
        {
          "output_type": "stream",
          "name": "stdout",
          "text": [
            "downloading dependencies\n",
            "copy \\\\live.sysinternals.com\\tools\\whois.exe c:\\Users\\ADI\\Desktop\\Major Project\n"
          ]
        },
        {
          "output_type": "stream",
          "name": "stderr",
          "text": [
            "  7%|▋         | 323/4824 [21:13<50:32,  1.48it/s]"
          ]
        },
        {
          "output_type": "stream",
          "name": "stdout",
          "text": [
            "downloading dependencies\n",
            "copy \\\\live.sysinternals.com\\tools\\whois.exe c:\\Users\\ADI\\Desktop\\Major Project\n"
          ]
        },
        {
          "output_type": "stream",
          "name": "stderr",
          "text": [
            "  7%|▋         | 324/4824 [21:18<2:07:35,  1.70s/it]"
          ]
        },
        {
          "output_type": "stream",
          "name": "stdout",
          "text": [
            "downloading dependencies\n",
            "copy \\\\live.sysinternals.com\\tools\\whois.exe c:\\Users\\ADI\\Desktop\\Major Project\n"
          ]
        },
        {
          "output_type": "stream",
          "name": "stderr",
          "text": [
            "  7%|▋         | 325/4824 [21:21<2:27:27,  1.97s/it]"
          ]
        },
        {
          "output_type": "stream",
          "name": "stdout",
          "text": [
            "downloading dependencies\n",
            "copy \\\\live.sysinternals.com\\tools\\whois.exe c:\\Users\\ADI\\Desktop\\Major Project\n"
          ]
        },
        {
          "output_type": "stream",
          "name": "stderr",
          "text": [
            "  7%|▋         | 326/4824 [21:51<11:51:15,  9.49s/it]"
          ]
        },
        {
          "output_type": "stream",
          "name": "stdout",
          "text": [
            "downloading dependencies\n",
            "copy \\\\live.sysinternals.com\\tools\\whois.exe c:\\Users\\ADI\\Desktop\\Major Project\n"
          ]
        },
        {
          "output_type": "stream",
          "name": "stderr",
          "text": [
            "  7%|▋         | 327/4824 [21:52<8:48:18,  7.05s/it] "
          ]
        },
        {
          "output_type": "stream",
          "name": "stdout",
          "text": [
            "downloading dependencies\n",
            "copy \\\\live.sysinternals.com\\tools\\whois.exe c:\\Users\\ADI\\Desktop\\Major Project\n"
          ]
        },
        {
          "output_type": "stream",
          "name": "stderr",
          "text": [
            "  7%|▋         | 328/4824 [21:53<6:34:56,  5.27s/it]"
          ]
        },
        {
          "output_type": "stream",
          "name": "stdout",
          "text": [
            "downloading dependencies\n",
            "copy \\\\live.sysinternals.com\\tools\\whois.exe c:\\Users\\ADI\\Desktop\\Major Project\n"
          ]
        },
        {
          "output_type": "stream",
          "name": "stderr",
          "text": [
            "  7%|▋         | 329/4824 [21:53<4:48:55,  3.86s/it]"
          ]
        },
        {
          "output_type": "stream",
          "name": "stdout",
          "text": [
            "downloading dependencies\n",
            "copy \\\\live.sysinternals.com\\tools\\whois.exe c:\\Users\\ADI\\Desktop\\Major Project\n"
          ]
        },
        {
          "output_type": "stream",
          "name": "stderr",
          "text": [
            "  7%|▋         | 330/4824 [21:53<3:32:57,  2.84s/it]"
          ]
        },
        {
          "output_type": "stream",
          "name": "stdout",
          "text": [
            "downloading dependencies\n",
            "copy \\\\live.sysinternals.com\\tools\\whois.exe c:\\Users\\ADI\\Desktop\\Major Project\n"
          ]
        },
        {
          "output_type": "stream",
          "name": "stderr",
          "text": [
            "  7%|▋         | 331/4824 [21:54<2:37:56,  2.11s/it]"
          ]
        },
        {
          "output_type": "stream",
          "name": "stdout",
          "text": [
            "downloading dependencies\n",
            "copy \\\\live.sysinternals.com\\tools\\whois.exe c:\\Users\\ADI\\Desktop\\Major Project\n"
          ]
        },
        {
          "output_type": "stream",
          "name": "stderr",
          "text": [
            "  7%|▋         | 332/4824 [21:54<1:58:30,  1.58s/it]"
          ]
        },
        {
          "output_type": "stream",
          "name": "stdout",
          "text": [
            "downloading dependencies\n",
            "copy \\\\live.sysinternals.com\\tools\\whois.exe c:\\Users\\ADI\\Desktop\\Major Project\n"
          ]
        },
        {
          "output_type": "stream",
          "name": "stderr",
          "text": [
            "  7%|▋         | 333/4824 [21:55<1:36:17,  1.29s/it]"
          ]
        },
        {
          "output_type": "stream",
          "name": "stdout",
          "text": [
            "downloading dependencies\n",
            "copy \\\\live.sysinternals.com\\tools\\whois.exe c:\\Users\\ADI\\Desktop\\Major Project\n"
          ]
        },
        {
          "output_type": "stream",
          "name": "stderr",
          "text": [
            "  7%|▋         | 334/4824 [21:55<1:16:17,  1.02s/it]"
          ]
        },
        {
          "output_type": "stream",
          "name": "stdout",
          "text": [
            "downloading dependencies\n",
            "copy \\\\live.sysinternals.com\\tools\\whois.exe c:\\Users\\ADI\\Desktop\\Major Project\n"
          ]
        },
        {
          "output_type": "stream",
          "name": "stderr",
          "text": [
            "  7%|▋         | 335/4824 [21:56<1:04:50,  1.15it/s]"
          ]
        },
        {
          "output_type": "stream",
          "name": "stdout",
          "text": [
            "downloading dependencies\n",
            "copy \\\\live.sysinternals.com\\tools\\whois.exe c:\\Users\\ADI\\Desktop\\Major Project\n"
          ]
        },
        {
          "output_type": "stream",
          "name": "stderr",
          "text": [
            "  7%|▋         | 336/4824 [21:56<54:19,  1.38it/s]  "
          ]
        },
        {
          "output_type": "stream",
          "name": "stdout",
          "text": [
            "downloading dependencies\n",
            "copy \\\\live.sysinternals.com\\tools\\whois.exe c:\\Users\\ADI\\Desktop\\Major Project\n"
          ]
        },
        {
          "output_type": "stream",
          "name": "stderr",
          "text": [
            "  7%|▋         | 337/4824 [21:59<1:45:26,  1.41s/it]"
          ]
        },
        {
          "output_type": "stream",
          "name": "stdout",
          "text": [
            "downloading dependencies\n",
            "copy \\\\live.sysinternals.com\\tools\\whois.exe c:\\Users\\ADI\\Desktop\\Major Project\n"
          ]
        },
        {
          "output_type": "stream",
          "name": "stderr",
          "text": [
            "  7%|▋         | 338/4824 [22:00<1:30:41,  1.21s/it]"
          ]
        },
        {
          "output_type": "stream",
          "name": "stdout",
          "text": [
            "downloading dependencies\n",
            "copy \\\\live.sysinternals.com\\tools\\whois.exe c:\\Users\\ADI\\Desktop\\Major Project\n"
          ]
        },
        {
          "output_type": "stream",
          "name": "stderr",
          "text": [
            "  7%|▋         | 339/4824 [22:00<1:14:16,  1.01it/s]"
          ]
        },
        {
          "output_type": "stream",
          "name": "stdout",
          "text": [
            "downloading dependencies\n",
            "copy \\\\live.sysinternals.com\\tools\\whois.exe c:\\Users\\ADI\\Desktop\\Major Project\n"
          ]
        },
        {
          "output_type": "stream",
          "name": "stderr",
          "text": [
            "  7%|▋         | 340/4824 [22:00<57:47,  1.29it/s]  "
          ]
        },
        {
          "output_type": "stream",
          "name": "stdout",
          "text": [
            "downloading dependencies\n",
            "copy \\\\live.sysinternals.com\\tools\\whois.exe c:\\Users\\ADI\\Desktop\\Major Project\n"
          ]
        },
        {
          "output_type": "stream",
          "name": "stderr",
          "text": [
            "  7%|▋         | 341/4824 [22:01<1:01:22,  1.22it/s]"
          ]
        },
        {
          "output_type": "stream",
          "name": "stdout",
          "text": [
            "downloading dependencies\n",
            "copy \\\\live.sysinternals.com\\tools\\whois.exe c:\\Users\\ADI\\Desktop\\Major Project\n"
          ]
        },
        {
          "output_type": "stream",
          "name": "stderr",
          "text": [
            "  7%|▋         | 342/4824 [22:02<54:15,  1.38it/s]  "
          ]
        },
        {
          "output_type": "stream",
          "name": "stdout",
          "text": [
            "downloading dependencies\n",
            "copy \\\\live.sysinternals.com\\tools\\whois.exe c:\\Users\\ADI\\Desktop\\Major Project\n"
          ]
        },
        {
          "output_type": "stream",
          "name": "stderr",
          "text": [
            "  7%|▋         | 343/4824 [22:02<47:18,  1.58it/s]"
          ]
        },
        {
          "output_type": "stream",
          "name": "stdout",
          "text": [
            "downloading dependencies\n",
            "copy \\\\live.sysinternals.com\\tools\\whois.exe c:\\Users\\ADI\\Desktop\\Major Project\n"
          ]
        },
        {
          "output_type": "stream",
          "name": "stderr",
          "text": [
            "  7%|▋         | 344/4824 [22:03<54:22,  1.37it/s]"
          ]
        },
        {
          "output_type": "stream",
          "name": "stdout",
          "text": [
            "downloading dependencies\n",
            "copy \\\\live.sysinternals.com\\tools\\whois.exe c:\\Users\\ADI\\Desktop\\Major Project\n"
          ]
        },
        {
          "output_type": "stream",
          "name": "stderr",
          "text": [
            "  7%|▋         | 345/4824 [22:04<45:31,  1.64it/s]"
          ]
        },
        {
          "output_type": "stream",
          "name": "stdout",
          "text": [
            "downloading dependencies\n",
            "copy \\\\live.sysinternals.com\\tools\\whois.exe c:\\Users\\ADI\\Desktop\\Major Project\n"
          ]
        },
        {
          "output_type": "stream",
          "name": "stderr",
          "text": [
            "  7%|▋         | 346/4824 [22:04<50:49,  1.47it/s]"
          ]
        },
        {
          "output_type": "stream",
          "name": "stdout",
          "text": [
            "downloading dependencies\n",
            "copy \\\\live.sysinternals.com\\tools\\whois.exe c:\\Users\\ADI\\Desktop\\Major Project\n"
          ]
        },
        {
          "output_type": "stream",
          "name": "stderr",
          "text": [
            "  7%|▋         | 347/4824 [22:05<43:02,  1.73it/s]"
          ]
        },
        {
          "output_type": "stream",
          "name": "stdout",
          "text": [
            "downloading dependencies\n",
            "copy \\\\live.sysinternals.com\\tools\\whois.exe c:\\Users\\ADI\\Desktop\\Major Project\n"
          ]
        },
        {
          "output_type": "stream",
          "name": "stderr",
          "text": [
            "  7%|▋         | 348/4824 [22:06<52:52,  1.41it/s]"
          ]
        },
        {
          "output_type": "stream",
          "name": "stdout",
          "text": [
            "downloading dependencies\n",
            "copy \\\\live.sysinternals.com\\tools\\whois.exe c:\\Users\\ADI\\Desktop\\Major Project\n"
          ]
        },
        {
          "output_type": "stream",
          "name": "stderr",
          "text": [
            "  7%|▋         | 349/4824 [22:06<52:45,  1.41it/s]"
          ]
        },
        {
          "output_type": "stream",
          "name": "stdout",
          "text": [
            "downloading dependencies\n",
            "copy \\\\live.sysinternals.com\\tools\\whois.exe c:\\Users\\ADI\\Desktop\\Major Project\n"
          ]
        },
        {
          "output_type": "stream",
          "name": "stderr",
          "text": [
            "  7%|▋         | 350/4824 [22:07<50:58,  1.46it/s]"
          ]
        },
        {
          "output_type": "stream",
          "name": "stdout",
          "text": [
            "downloading dependencies\n",
            "copy \\\\live.sysinternals.com\\tools\\whois.exe c:\\Users\\ADI\\Desktop\\Major Project\n"
          ]
        },
        {
          "output_type": "stream",
          "name": "stderr",
          "text": [
            "  7%|▋         | 351/4824 [22:08<46:27,  1.60it/s]"
          ]
        },
        {
          "output_type": "stream",
          "name": "stdout",
          "text": [
            "downloading dependencies\n",
            "copy \\\\live.sysinternals.com\\tools\\whois.exe c:\\Users\\ADI\\Desktop\\Major Project\n"
          ]
        },
        {
          "output_type": "stream",
          "name": "stderr",
          "text": [
            "  7%|▋         | 352/4824 [22:08<43:58,  1.69it/s]"
          ]
        },
        {
          "output_type": "stream",
          "name": "stdout",
          "text": [
            "downloading dependencies\n",
            "copy \\\\live.sysinternals.com\\tools\\whois.exe c:\\Users\\ADI\\Desktop\\Major Project\n"
          ]
        },
        {
          "output_type": "stream",
          "name": "stderr",
          "text": [
            "  7%|▋         | 353/4824 [22:09<52:28,  1.42it/s]"
          ]
        },
        {
          "output_type": "stream",
          "name": "stdout",
          "text": [
            "downloading dependencies\n",
            "copy \\\\live.sysinternals.com\\tools\\whois.exe c:\\Users\\ADI\\Desktop\\Major Project\n"
          ]
        },
        {
          "output_type": "stream",
          "name": "stderr",
          "text": [
            "  7%|▋         | 354/4824 [22:10<49:31,  1.50it/s]"
          ]
        },
        {
          "output_type": "stream",
          "name": "stdout",
          "text": [
            "downloading dependencies\n",
            "copy \\\\live.sysinternals.com\\tools\\whois.exe c:\\Users\\ADI\\Desktop\\Major Project\n"
          ]
        },
        {
          "output_type": "stream",
          "name": "stderr",
          "text": [
            "  7%|▋         | 355/4824 [22:10<48:24,  1.54it/s]"
          ]
        },
        {
          "output_type": "stream",
          "name": "stdout",
          "text": [
            "downloading dependencies\n",
            "copy \\\\live.sysinternals.com\\tools\\whois.exe c:\\Users\\ADI\\Desktop\\Major Project\n"
          ]
        },
        {
          "output_type": "stream",
          "name": "stderr",
          "text": [
            "  7%|▋         | 356/4824 [22:12<1:19:29,  1.07s/it]"
          ]
        },
        {
          "output_type": "stream",
          "name": "stdout",
          "text": [
            "downloading dependencies\n",
            "copy \\\\live.sysinternals.com\\tools\\whois.exe c:\\Users\\ADI\\Desktop\\Major Project\n"
          ]
        },
        {
          "output_type": "stream",
          "name": "stderr",
          "text": [
            "  7%|▋         | 357/4824 [22:14<1:33:56,  1.26s/it]"
          ]
        },
        {
          "output_type": "stream",
          "name": "stdout",
          "text": [
            "downloading dependencies\n",
            "copy \\\\live.sysinternals.com\\tools\\whois.exe c:\\Users\\ADI\\Desktop\\Major Project\n"
          ]
        },
        {
          "output_type": "stream",
          "name": "stderr",
          "text": [
            "  7%|▋         | 358/4824 [22:16<1:39:55,  1.34s/it]"
          ]
        },
        {
          "output_type": "stream",
          "name": "stdout",
          "text": [
            "downloading dependencies\n",
            "copy \\\\live.sysinternals.com\\tools\\whois.exe c:\\Users\\ADI\\Desktop\\Major Project\n"
          ]
        },
        {
          "output_type": "stream",
          "name": "stderr",
          "text": [
            "  7%|▋         | 359/4824 [22:16<1:27:10,  1.17s/it]"
          ]
        },
        {
          "output_type": "stream",
          "name": "stdout",
          "text": [
            "downloading dependencies\n",
            "copy \\\\live.sysinternals.com\\tools\\whois.exe c:\\Users\\ADI\\Desktop\\Major Project\n"
          ]
        },
        {
          "output_type": "stream",
          "name": "stderr",
          "text": [
            "  7%|▋         | 360/4824 [22:17<1:18:00,  1.05s/it]"
          ]
        },
        {
          "output_type": "stream",
          "name": "stdout",
          "text": [
            "downloading dependencies\n",
            "copy \\\\live.sysinternals.com\\tools\\whois.exe c:\\Users\\ADI\\Desktop\\Major Project\n"
          ]
        },
        {
          "output_type": "stream",
          "name": "stderr",
          "text": [
            "  7%|▋         | 361/4824 [22:44<10:45:59,  8.68s/it]"
          ]
        },
        {
          "output_type": "stream",
          "name": "stdout",
          "text": [
            "downloading dependencies\n",
            "copy \\\\live.sysinternals.com\\tools\\whois.exe c:\\Users\\ADI\\Desktop\\Major Project\n"
          ]
        },
        {
          "output_type": "stream",
          "name": "stderr",
          "text": [
            "  8%|▊         | 362/4824 [22:46<8:35:48,  6.94s/it] "
          ]
        },
        {
          "output_type": "stream",
          "name": "stdout",
          "text": [
            "downloading dependencies\n",
            "copy \\\\live.sysinternals.com\\tools\\whois.exe c:\\Users\\ADI\\Desktop\\Major Project\n"
          ]
        },
        {
          "output_type": "stream",
          "name": "stderr",
          "text": [
            "  8%|▊         | 363/4824 [22:48<6:42:26,  5.41s/it]"
          ]
        },
        {
          "output_type": "stream",
          "name": "stdout",
          "text": [
            "downloading dependencies\n",
            "copy \\\\live.sysinternals.com\\tools\\whois.exe c:\\Users\\ADI\\Desktop\\Major Project\n"
          ]
        },
        {
          "output_type": "stream",
          "name": "stderr",
          "text": [
            "  8%|▊         | 364/4824 [22:50<5:16:34,  4.26s/it]"
          ]
        },
        {
          "output_type": "stream",
          "name": "stdout",
          "text": [
            "downloading dependencies\n",
            "copy \\\\live.sysinternals.com\\tools\\whois.exe c:\\Users\\ADI\\Desktop\\Major Project\n"
          ]
        },
        {
          "output_type": "stream",
          "name": "stderr",
          "text": [
            "  8%|▊         | 365/4824 [22:52<4:19:38,  3.49s/it]"
          ]
        },
        {
          "output_type": "stream",
          "name": "stdout",
          "text": [
            "downloading dependencies\n",
            "copy \\\\live.sysinternals.com\\tools\\whois.exe c:\\Users\\ADI\\Desktop\\Major Project\n"
          ]
        },
        {
          "output_type": "stream",
          "name": "stderr",
          "text": [
            "  8%|▊         | 366/4824 [22:53<3:39:28,  2.95s/it]"
          ]
        },
        {
          "output_type": "stream",
          "name": "stdout",
          "text": [
            "downloading dependencies\n",
            "copy \\\\live.sysinternals.com\\tools\\whois.exe c:\\Users\\ADI\\Desktop\\Major Project\n"
          ]
        },
        {
          "output_type": "stream",
          "name": "stderr",
          "text": [
            "  8%|▊         | 367/4824 [22:58<4:14:11,  3.42s/it]"
          ]
        },
        {
          "output_type": "stream",
          "name": "stdout",
          "text": [
            "downloading dependencies\n",
            "copy \\\\live.sysinternals.com\\tools\\whois.exe c:\\Users\\ADI\\Desktop\\Major Project\n"
          ]
        },
        {
          "output_type": "stream",
          "name": "stderr",
          "text": [
            "  8%|▊         | 368/4824 [22:59<3:18:09,  2.67s/it]"
          ]
        },
        {
          "output_type": "stream",
          "name": "stdout",
          "text": [
            "downloading dependencies\n",
            "copy \\\\live.sysinternals.com\\tools\\whois.exe c:\\Users\\ADI\\Desktop\\Major Project\n"
          ]
        },
        {
          "output_type": "stream",
          "name": "stderr",
          "text": [
            "  8%|▊         | 369/4824 [23:00<2:38:26,  2.13s/it]"
          ]
        },
        {
          "output_type": "stream",
          "name": "stdout",
          "text": [
            "downloading dependencies\n",
            "copy \\\\live.sysinternals.com\\tools\\whois.exe c:\\Users\\ADI\\Desktop\\Major Project\n"
          ]
        },
        {
          "output_type": "stream",
          "name": "stderr",
          "text": [
            "  8%|▊         | 370/4824 [23:01<2:12:02,  1.78s/it]"
          ]
        },
        {
          "output_type": "stream",
          "name": "stdout",
          "text": [
            "downloading dependencies\n",
            "copy \\\\live.sysinternals.com\\tools\\whois.exe c:\\Users\\ADI\\Desktop\\Major Project\n"
          ]
        },
        {
          "output_type": "stream",
          "name": "stderr",
          "text": [
            "  8%|▊         | 371/4824 [23:01<1:52:43,  1.52s/it]"
          ]
        },
        {
          "output_type": "stream",
          "name": "stdout",
          "text": [
            "downloading dependencies\n",
            "copy \\\\live.sysinternals.com\\tools\\whois.exe c:\\Users\\ADI\\Desktop\\Major Project\n"
          ]
        },
        {
          "output_type": "stream",
          "name": "stderr",
          "text": [
            "  8%|▊         | 372/4824 [23:04<2:11:57,  1.78s/it]"
          ]
        },
        {
          "output_type": "stream",
          "name": "stdout",
          "text": [
            "downloading dependencies\n",
            "copy \\\\live.sysinternals.com\\tools\\whois.exe c:\\Users\\ADI\\Desktop\\Major Project\n"
          ]
        },
        {
          "output_type": "stream",
          "name": "stderr",
          "text": [
            "  8%|▊         | 373/4824 [23:06<2:14:55,  1.82s/it]"
          ]
        },
        {
          "output_type": "stream",
          "name": "stdout",
          "text": [
            "downloading dependencies\n",
            "copy \\\\live.sysinternals.com\\tools\\whois.exe c:\\Users\\ADI\\Desktop\\Major Project\n"
          ]
        },
        {
          "output_type": "stream",
          "name": "stderr",
          "text": [
            "  8%|▊         | 374/4824 [23:07<2:08:35,  1.73s/it]"
          ]
        },
        {
          "output_type": "stream",
          "name": "stdout",
          "text": [
            "downloading dependencies\n",
            "copy \\\\live.sysinternals.com\\tools\\whois.exe c:\\Users\\ADI\\Desktop\\Major Project\n"
          ]
        },
        {
          "output_type": "stream",
          "name": "stderr",
          "text": [
            "  8%|▊         | 375/4824 [23:09<2:07:29,  1.72s/it]"
          ]
        },
        {
          "output_type": "stream",
          "name": "stdout",
          "text": [
            "downloading dependencies\n",
            "copy \\\\live.sysinternals.com\\tools\\whois.exe c:\\Users\\ADI\\Desktop\\Major Project\n"
          ]
        },
        {
          "output_type": "stream",
          "name": "stderr",
          "text": [
            "  8%|▊         | 376/4824 [23:10<2:01:48,  1.64s/it]"
          ]
        },
        {
          "output_type": "stream",
          "name": "stdout",
          "text": [
            "downloading dependencies\n",
            "copy \\\\live.sysinternals.com\\tools\\whois.exe c:\\Users\\ADI\\Desktop\\Major Project\n"
          ]
        },
        {
          "output_type": "stream",
          "name": "stderr",
          "text": [
            "  8%|▊         | 377/4824 [23:12<2:05:37,  1.69s/it]"
          ]
        },
        {
          "output_type": "stream",
          "name": "stdout",
          "text": [
            "downloading dependencies\n",
            "copy \\\\live.sysinternals.com\\tools\\whois.exe c:\\Users\\ADI\\Desktop\\Major Project\n"
          ]
        },
        {
          "output_type": "stream",
          "name": "stderr",
          "text": [
            "  8%|▊         | 378/4824 [23:14<1:59:18,  1.61s/it]"
          ]
        },
        {
          "output_type": "stream",
          "name": "stdout",
          "text": [
            "downloading dependencies\n",
            "copy \\\\live.sysinternals.com\\tools\\whois.exe c:\\Users\\ADI\\Desktop\\Major Project\n"
          ]
        },
        {
          "output_type": "stream",
          "name": "stderr",
          "text": [
            "  8%|▊         | 379/4824 [23:41<11:34:46,  9.38s/it]"
          ]
        },
        {
          "output_type": "stream",
          "name": "stdout",
          "text": [
            "downloading dependencies\n",
            "copy \\\\live.sysinternals.com\\tools\\whois.exe c:\\Users\\ADI\\Desktop\\Major Project\n"
          ]
        },
        {
          "output_type": "stream",
          "name": "stderr",
          "text": [
            "  8%|▊         | 380/4824 [23:44<9:01:50,  7.32s/it] "
          ]
        },
        {
          "output_type": "stream",
          "name": "stdout",
          "text": [
            "downloading dependencies\n",
            "copy \\\\live.sysinternals.com\\tools\\whois.exe c:\\Users\\ADI\\Desktop\\Major Project\n"
          ]
        },
        {
          "output_type": "stream",
          "name": "stderr",
          "text": [
            "  8%|▊         | 381/4824 [23:46<7:01:57,  5.70s/it]"
          ]
        },
        {
          "output_type": "stream",
          "name": "stdout",
          "text": [
            "downloading dependencies\n",
            "copy \\\\live.sysinternals.com\\tools\\whois.exe c:\\Users\\ADI\\Desktop\\Major Project\n"
          ]
        },
        {
          "output_type": "stream",
          "name": "stderr",
          "text": [
            "  8%|▊         | 382/4824 [23:47<5:22:12,  4.35s/it]"
          ]
        },
        {
          "output_type": "stream",
          "name": "stdout",
          "text": [
            "downloading dependencies\n",
            "copy \\\\live.sysinternals.com\\tools\\whois.exe c:\\Users\\ADI\\Desktop\\Major Project\n"
          ]
        },
        {
          "output_type": "stream",
          "name": "stderr",
          "text": [
            "  8%|▊         | 383/4824 [23:48<4:08:16,  3.35s/it]"
          ]
        },
        {
          "output_type": "stream",
          "name": "stdout",
          "text": [
            "downloading dependencies\n",
            "copy \\\\live.sysinternals.com\\tools\\whois.exe c:\\Users\\ADI\\Desktop\\Major Project\n"
          ]
        },
        {
          "output_type": "stream",
          "name": "stderr",
          "text": [
            "  8%|▊         | 384/4824 [23:49<3:15:31,  2.64s/it]"
          ]
        },
        {
          "output_type": "stream",
          "name": "stdout",
          "text": [
            "downloading dependencies\n",
            "copy \\\\live.sysinternals.com\\tools\\whois.exe c:\\Users\\ADI\\Desktop\\Major Project\n"
          ]
        },
        {
          "output_type": "stream",
          "name": "stderr",
          "text": [
            "  8%|▊         | 385/4824 [23:50<2:37:01,  2.12s/it]"
          ]
        },
        {
          "output_type": "stream",
          "name": "stdout",
          "text": [
            "downloading dependencies\n",
            "copy \\\\live.sysinternals.com\\tools\\whois.exe c:\\Users\\ADI\\Desktop\\Major Project\n"
          ]
        },
        {
          "output_type": "stream",
          "name": "stderr",
          "text": [
            "  8%|▊         | 386/4824 [23:51<2:08:08,  1.73s/it]"
          ]
        },
        {
          "output_type": "stream",
          "name": "stdout",
          "text": [
            "downloading dependencies\n",
            "copy \\\\live.sysinternals.com\\tools\\whois.exe c:\\Users\\ADI\\Desktop\\Major Project\n"
          ]
        },
        {
          "output_type": "stream",
          "name": "stderr",
          "text": [
            "  8%|▊         | 387/4824 [23:51<1:41:35,  1.37s/it]"
          ]
        },
        {
          "output_type": "stream",
          "name": "stdout",
          "text": [
            "downloading dependencies\n",
            "copy \\\\live.sysinternals.com\\tools\\whois.exe c:\\Users\\ADI\\Desktop\\Major Project\n"
          ]
        },
        {
          "output_type": "stream",
          "name": "stderr",
          "text": [
            "  8%|▊         | 388/4824 [23:53<1:58:02,  1.60s/it]"
          ]
        },
        {
          "output_type": "stream",
          "name": "stdout",
          "text": [
            "downloading dependencies\n",
            "copy \\\\live.sysinternals.com\\tools\\whois.exe c:\\Users\\ADI\\Desktop\\Major Project\n"
          ]
        },
        {
          "output_type": "stream",
          "name": "stderr",
          "text": [
            "  8%|▊         | 389/4824 [23:54<1:37:03,  1.31s/it]"
          ]
        },
        {
          "output_type": "stream",
          "name": "stdout",
          "text": [
            "downloading dependencies\n",
            "copy \\\\live.sysinternals.com\\tools\\whois.exe c:\\Users\\ADI\\Desktop\\Major Project\n"
          ]
        },
        {
          "output_type": "stream",
          "name": "stderr",
          "text": [
            "  8%|▊         | 390/4824 [23:54<1:19:30,  1.08s/it]"
          ]
        },
        {
          "output_type": "stream",
          "name": "stdout",
          "text": [
            "downloading dependencies\n",
            "copy \\\\live.sysinternals.com\\tools\\whois.exe c:\\Users\\ADI\\Desktop\\Major Project\n"
          ]
        },
        {
          "output_type": "stream",
          "name": "stderr",
          "text": [
            "  8%|▊         | 391/4824 [23:57<1:49:37,  1.48s/it]"
          ]
        },
        {
          "output_type": "stream",
          "name": "stdout",
          "text": [
            "downloading dependencies\n",
            "copy \\\\live.sysinternals.com\\tools\\whois.exe c:\\Users\\ADI\\Desktop\\Major Project\n"
          ]
        },
        {
          "output_type": "stream",
          "name": "stderr",
          "text": [
            "  8%|▊         | 392/4824 [23:58<1:33:45,  1.27s/it]"
          ]
        },
        {
          "output_type": "stream",
          "name": "stdout",
          "text": [
            "downloading dependencies\n",
            "copy \\\\live.sysinternals.com\\tools\\whois.exe c:\\Users\\ADI\\Desktop\\Major Project\n"
          ]
        },
        {
          "output_type": "stream",
          "name": "stderr",
          "text": [
            "  8%|▊         | 393/4824 [23:58<1:13:44,  1.00it/s]"
          ]
        },
        {
          "output_type": "stream",
          "name": "stdout",
          "text": [
            "downloading dependencies\n",
            "copy \\\\live.sysinternals.com\\tools\\whois.exe c:\\Users\\ADI\\Desktop\\Major Project\n"
          ]
        },
        {
          "output_type": "stream",
          "name": "stderr",
          "text": [
            "  8%|▊         | 394/4824 [23:58<59:20,  1.24it/s]  "
          ]
        },
        {
          "output_type": "stream",
          "name": "stdout",
          "text": [
            "downloading dependencies\n",
            "copy \\\\live.sysinternals.com\\tools\\whois.exe c:\\Users\\ADI\\Desktop\\Major Project\n"
          ]
        },
        {
          "output_type": "stream",
          "name": "stderr",
          "text": [
            "  8%|▊         | 395/4824 [24:00<1:26:19,  1.17s/it]"
          ]
        },
        {
          "output_type": "stream",
          "name": "stdout",
          "text": [
            "downloading dependencies\n",
            "copy \\\\live.sysinternals.com\\tools\\whois.exe c:\\Users\\ADI\\Desktop\\Major Project\n"
          ]
        },
        {
          "output_type": "stream",
          "name": "stderr",
          "text": [
            "  8%|▊         | 396/4824 [24:02<1:29:15,  1.21s/it]"
          ]
        },
        {
          "output_type": "stream",
          "name": "stdout",
          "text": [
            "downloading dependencies\n",
            "copy \\\\live.sysinternals.com\\tools\\whois.exe c:\\Users\\ADI\\Desktop\\Major Project\n"
          ]
        },
        {
          "output_type": "stream",
          "name": "stderr",
          "text": [
            "  8%|▊         | 397/4824 [24:03<1:29:59,  1.22s/it]"
          ]
        },
        {
          "output_type": "stream",
          "name": "stdout",
          "text": [
            "downloading dependencies\n",
            "copy \\\\live.sysinternals.com\\tools\\whois.exe c:\\Users\\ADI\\Desktop\\Major Project\n"
          ]
        },
        {
          "output_type": "stream",
          "name": "stderr",
          "text": [
            "  8%|▊         | 398/4824 [24:04<1:31:45,  1.24s/it]"
          ]
        },
        {
          "output_type": "stream",
          "name": "stdout",
          "text": [
            "downloading dependencies\n",
            "copy \\\\live.sysinternals.com\\tools\\whois.exe c:\\Users\\ADI\\Desktop\\Major Project\n"
          ]
        },
        {
          "output_type": "stream",
          "name": "stderr",
          "text": [
            "  8%|▊         | 399/4824 [24:05<1:33:55,  1.27s/it]"
          ]
        },
        {
          "output_type": "stream",
          "name": "stdout",
          "text": [
            "downloading dependencies\n",
            "copy \\\\live.sysinternals.com\\tools\\whois.exe c:\\Users\\ADI\\Desktop\\Major Project\n"
          ]
        },
        {
          "output_type": "stream",
          "name": "stderr",
          "text": [
            "  8%|▊         | 400/4824 [24:08<1:52:38,  1.53s/it]"
          ]
        },
        {
          "output_type": "stream",
          "name": "stdout",
          "text": [
            "downloading dependencies\n",
            "copy \\\\live.sysinternals.com\\tools\\whois.exe c:\\Users\\ADI\\Desktop\\Major Project\n"
          ]
        },
        {
          "output_type": "stream",
          "name": "stderr",
          "text": [
            "  8%|▊         | 401/4824 [24:09<1:57:47,  1.60s/it]"
          ]
        },
        {
          "output_type": "stream",
          "name": "stdout",
          "text": [
            "downloading dependencies\n",
            "copy \\\\live.sysinternals.com\\tools\\whois.exe c:\\Users\\ADI\\Desktop\\Major Project\n"
          ]
        },
        {
          "output_type": "stream",
          "name": "stderr",
          "text": [
            "  8%|▊         | 402/4824 [24:11<1:56:34,  1.58s/it]"
          ]
        },
        {
          "output_type": "stream",
          "name": "stdout",
          "text": [
            "downloading dependencies\n",
            "copy \\\\live.sysinternals.com\\tools\\whois.exe c:\\Users\\ADI\\Desktop\\Major Project\n"
          ]
        },
        {
          "output_type": "stream",
          "name": "stderr",
          "text": [
            "  8%|▊         | 403/4824 [24:39<11:46:25,  9.59s/it]"
          ]
        },
        {
          "output_type": "stream",
          "name": "stdout",
          "text": [
            "downloading dependencies\n",
            "copy \\\\live.sysinternals.com\\tools\\whois.exe c:\\Users\\ADI\\Desktop\\Major Project\n"
          ]
        },
        {
          "output_type": "stream",
          "name": "stderr",
          "text": [
            "  8%|▊         | 404/4824 [24:41<8:57:18,  7.29s/it] "
          ]
        },
        {
          "output_type": "stream",
          "name": "stdout",
          "text": [
            "downloading dependencies\n",
            "copy \\\\live.sysinternals.com\\tools\\whois.exe c:\\Users\\ADI\\Desktop\\Major Project\n"
          ]
        },
        {
          "output_type": "stream",
          "name": "stderr",
          "text": [
            "  8%|▊         | 405/4824 [24:43<6:54:39,  5.63s/it]"
          ]
        },
        {
          "output_type": "stream",
          "name": "stdout",
          "text": [
            "downloading dependencies\n",
            "copy \\\\live.sysinternals.com\\tools\\whois.exe c:\\Users\\ADI\\Desktop\\Major Project\n"
          ]
        },
        {
          "output_type": "stream",
          "name": "stderr",
          "text": [
            "  8%|▊         | 406/4824 [24:45<5:30:30,  4.49s/it]"
          ]
        },
        {
          "output_type": "stream",
          "name": "stdout",
          "text": [
            "downloading dependencies\n",
            "copy \\\\live.sysinternals.com\\tools\\whois.exe c:\\Users\\ADI\\Desktop\\Major Project\n"
          ]
        },
        {
          "output_type": "stream",
          "name": "stderr",
          "text": [
            "  8%|▊         | 407/4824 [24:47<4:32:25,  3.70s/it]"
          ]
        },
        {
          "output_type": "stream",
          "name": "stdout",
          "text": [
            "downloading dependencies\n",
            "copy \\\\live.sysinternals.com\\tools\\whois.exe c:\\Users\\ADI\\Desktop\\Major Project\n"
          ]
        },
        {
          "output_type": "stream",
          "name": "stderr",
          "text": [
            "  8%|▊         | 408/4824 [24:49<4:09:09,  3.39s/it]"
          ]
        },
        {
          "output_type": "stream",
          "name": "stdout",
          "text": [
            "downloading dependencies\n",
            "copy \\\\live.sysinternals.com\\tools\\whois.exe c:\\Users\\ADI\\Desktop\\Major Project\n"
          ]
        },
        {
          "output_type": "stream",
          "name": "stderr",
          "text": [
            "  8%|▊         | 409/4824 [24:51<3:31:47,  2.88s/it]"
          ]
        },
        {
          "output_type": "stream",
          "name": "stdout",
          "text": [
            "downloading dependencies\n",
            "copy \\\\live.sysinternals.com\\tools\\whois.exe c:\\Users\\ADI\\Desktop\\Major Project\n"
          ]
        },
        {
          "output_type": "stream",
          "name": "stderr",
          "text": [
            "  8%|▊         | 410/4824 [24:53<3:15:40,  2.66s/it]"
          ]
        },
        {
          "output_type": "stream",
          "name": "stdout",
          "text": [
            "downloading dependencies\n",
            "copy \\\\live.sysinternals.com\\tools\\whois.exe c:\\Users\\ADI\\Desktop\\Major Project\n"
          ]
        },
        {
          "output_type": "stream",
          "name": "stderr",
          "text": [
            "  9%|▊         | 411/4824 [24:55<3:00:31,  2.45s/it]"
          ]
        },
        {
          "output_type": "stream",
          "name": "stdout",
          "text": [
            "downloading dependencies\n",
            "copy \\\\live.sysinternals.com\\tools\\whois.exe c:\\Users\\ADI\\Desktop\\Major Project\n"
          ]
        },
        {
          "output_type": "stream",
          "name": "stderr",
          "text": [
            "  9%|▊         | 413/4824 [25:00<2:43:40,  2.23s/it]"
          ]
        },
        {
          "output_type": "stream",
          "name": "stdout",
          "text": [
            "downloading dependencies\n",
            "copy \\\\live.sysinternals.com\\tools\\whois.exe c:\\Users\\ADI\\Desktop\\Major Project\n",
            "downloading dependencies\n",
            "copy \\\\live.sysinternals.com\\tools\\whois.exe c:\\Users\\ADI\\Desktop\\Major Project\n"
          ]
        },
        {
          "output_type": "stream",
          "name": "stderr",
          "text": [
            "  9%|▊         | 414/4824 [25:03<3:01:12,  2.47s/it]"
          ]
        },
        {
          "output_type": "stream",
          "name": "stdout",
          "text": [
            "downloading dependencies\n",
            "copy \\\\live.sysinternals.com\\tools\\whois.exe c:\\Users\\ADI\\Desktop\\Major Project\n"
          ]
        },
        {
          "output_type": "stream",
          "name": "stderr",
          "text": [
            "  9%|▊         | 415/4824 [25:05<2:57:59,  2.42s/it]"
          ]
        },
        {
          "output_type": "stream",
          "name": "stdout",
          "text": [
            "downloading dependencies\n",
            "copy \\\\live.sysinternals.com\\tools\\whois.exe c:\\Users\\ADI\\Desktop\\Major Project\n"
          ]
        },
        {
          "output_type": "stream",
          "name": "stderr",
          "text": [
            "  9%|▊         | 416/4824 [25:07<2:35:48,  2.12s/it]"
          ]
        },
        {
          "output_type": "stream",
          "name": "stdout",
          "text": [
            "downloading dependencies\n",
            "copy \\\\live.sysinternals.com\\tools\\whois.exe c:\\Users\\ADI\\Desktop\\Major Project\n"
          ]
        },
        {
          "output_type": "stream",
          "name": "stderr",
          "text": [
            "  9%|▊         | 417/4824 [25:10<2:57:10,  2.41s/it]"
          ]
        },
        {
          "output_type": "stream",
          "name": "stdout",
          "text": [
            "downloading dependencies\n",
            "copy \\\\live.sysinternals.com\\tools\\whois.exe c:\\Users\\ADI\\Desktop\\Major Project\n"
          ]
        },
        {
          "output_type": "stream",
          "name": "stderr",
          "text": [
            "  9%|▊         | 418/4824 [25:37<12:15:52, 10.02s/it]"
          ]
        },
        {
          "output_type": "stream",
          "name": "stdout",
          "text": [
            "downloading dependencies\n",
            "copy \\\\live.sysinternals.com\\tools\\whois.exe c:\\Users\\ADI\\Desktop\\Major Project\n"
          ]
        },
        {
          "output_type": "stream",
          "name": "stderr",
          "text": [
            "  9%|▊         | 419/4824 [25:40<9:24:24,  7.69s/it] "
          ]
        },
        {
          "output_type": "stream",
          "name": "stdout",
          "text": [
            "downloading dependencies\n",
            "copy \\\\live.sysinternals.com\\tools\\whois.exe c:\\Users\\ADI\\Desktop\\Major Project\n"
          ]
        },
        {
          "output_type": "stream",
          "name": "stderr",
          "text": [
            "  9%|▊         | 420/4824 [25:42<7:16:37,  5.95s/it]"
          ]
        },
        {
          "output_type": "stream",
          "name": "stdout",
          "text": [
            "downloading dependencies\n",
            "copy \\\\live.sysinternals.com\\tools\\whois.exe c:\\Users\\ADI\\Desktop\\Major Project\n"
          ]
        },
        {
          "output_type": "stream",
          "name": "stderr",
          "text": [
            "  9%|▊         | 421/4824 [25:44<6:09:42,  5.04s/it]"
          ]
        },
        {
          "output_type": "stream",
          "name": "stdout",
          "text": [
            "downloading dependencies\n",
            "copy \\\\live.sysinternals.com\\tools\\whois.exe c:\\Users\\ADI\\Desktop\\Major Project\n"
          ]
        },
        {
          "output_type": "stream",
          "name": "stderr",
          "text": [
            "  9%|▊         | 422/4824 [25:47<5:10:09,  4.23s/it]"
          ]
        },
        {
          "output_type": "stream",
          "name": "stdout",
          "text": [
            "downloading dependencies\n",
            "copy \\\\live.sysinternals.com\\tools\\whois.exe c:\\Users\\ADI\\Desktop\\Major Project\n"
          ]
        },
        {
          "output_type": "stream",
          "name": "stderr",
          "text": [
            "  9%|▉         | 423/4824 [25:49<4:35:39,  3.76s/it]"
          ]
        },
        {
          "output_type": "stream",
          "name": "stdout",
          "text": [
            "downloading dependencies\n",
            "copy \\\\live.sysinternals.com\\tools\\whois.exe c:\\Users\\ADI\\Desktop\\Major Project\n"
          ]
        },
        {
          "output_type": "stream",
          "name": "stderr",
          "text": [
            "  9%|▉         | 424/4824 [25:52<4:02:25,  3.31s/it]"
          ]
        },
        {
          "output_type": "stream",
          "name": "stdout",
          "text": [
            "downloading dependencies\n",
            "copy \\\\live.sysinternals.com\\tools\\whois.exe c:\\Users\\ADI\\Desktop\\Major Project\n"
          ]
        },
        {
          "output_type": "stream",
          "name": "stderr",
          "text": [
            "  9%|▉         | 425/4824 [25:54<3:39:04,  2.99s/it]"
          ]
        },
        {
          "output_type": "stream",
          "name": "stdout",
          "text": [
            "downloading dependencies\n",
            "copy \\\\live.sysinternals.com\\tools\\whois.exe c:\\Users\\ADI\\Desktop\\Major Project\n"
          ]
        },
        {
          "output_type": "stream",
          "name": "stderr",
          "text": [
            "  9%|▉         | 426/4824 [25:56<3:19:07,  2.72s/it]"
          ]
        },
        {
          "output_type": "stream",
          "name": "stdout",
          "text": [
            "downloading dependencies\n",
            "copy \\\\live.sysinternals.com\\tools\\whois.exe c:\\Users\\ADI\\Desktop\\Major Project\n"
          ]
        },
        {
          "output_type": "stream",
          "name": "stderr",
          "text": [
            "  9%|▉         | 427/4824 [25:57<2:38:00,  2.16s/it]"
          ]
        },
        {
          "output_type": "stream",
          "name": "stdout",
          "text": [
            "downloading dependencies\n",
            "copy \\\\live.sysinternals.com\\tools\\whois.exe c:\\Users\\ADI\\Desktop\\Major Project\n"
          ]
        },
        {
          "output_type": "stream",
          "name": "stderr",
          "text": [
            "  9%|▉         | 428/4824 [25:57<1:59:42,  1.63s/it]"
          ]
        },
        {
          "output_type": "stream",
          "name": "stdout",
          "text": [
            "downloading dependencies\n",
            "copy \\\\live.sysinternals.com\\tools\\whois.exe c:\\Users\\ADI\\Desktop\\Major Project\n"
          ]
        },
        {
          "output_type": "stream",
          "name": "stderr",
          "text": [
            "  9%|▉         | 429/4824 [25:58<1:34:59,  1.30s/it]"
          ]
        },
        {
          "output_type": "stream",
          "name": "stdout",
          "text": [
            "downloading dependencies\n",
            "copy \\\\live.sysinternals.com\\tools\\whois.exe c:\\Users\\ADI\\Desktop\\Major Project\n"
          ]
        },
        {
          "output_type": "stream",
          "name": "stderr",
          "text": [
            "  9%|▉         | 430/4824 [25:59<1:24:19,  1.15s/it]"
          ]
        },
        {
          "output_type": "stream",
          "name": "stdout",
          "text": [
            "downloading dependencies\n",
            "copy \\\\live.sysinternals.com\\tools\\whois.exe c:\\Users\\ADI\\Desktop\\Major Project\n"
          ]
        },
        {
          "output_type": "stream",
          "name": "stderr",
          "text": [
            "  9%|▉         | 431/4824 [26:00<1:26:52,  1.19s/it]"
          ]
        },
        {
          "output_type": "stream",
          "name": "stdout",
          "text": [
            "downloading dependencies\n",
            "copy \\\\live.sysinternals.com\\tools\\whois.exe c:\\Users\\ADI\\Desktop\\Major Project\n"
          ]
        },
        {
          "output_type": "stream",
          "name": "stderr",
          "text": [
            "  9%|▉         | 432/4824 [26:03<2:03:28,  1.69s/it]"
          ]
        },
        {
          "output_type": "stream",
          "name": "stdout",
          "text": [
            "downloading dependencies\n",
            "copy \\\\live.sysinternals.com\\tools\\whois.exe c:\\Users\\ADI\\Desktop\\Major Project\n"
          ]
        },
        {
          "output_type": "stream",
          "name": "stderr",
          "text": [
            "  9%|▉         | 433/4824 [26:05<2:20:59,  1.93s/it]"
          ]
        },
        {
          "output_type": "stream",
          "name": "stdout",
          "text": [
            "downloading dependencies\n",
            "copy \\\\live.sysinternals.com\\tools\\whois.exe c:\\Users\\ADI\\Desktop\\Major Project\n"
          ]
        },
        {
          "output_type": "stream",
          "name": "stderr",
          "text": [
            "  9%|▉         | 434/4824 [26:08<2:32:20,  2.08s/it]"
          ]
        },
        {
          "output_type": "stream",
          "name": "stdout",
          "text": [
            "downloading dependencies\n",
            "copy \\\\live.sysinternals.com\\tools\\whois.exe c:\\Users\\ADI\\Desktop\\Major Project\n"
          ]
        },
        {
          "output_type": "stream",
          "name": "stderr",
          "text": [
            "  9%|▉         | 435/4824 [26:36<12:07:30,  9.95s/it]"
          ]
        },
        {
          "output_type": "stream",
          "name": "stdout",
          "text": [
            "downloading dependencies\n",
            "copy \\\\live.sysinternals.com\\tools\\whois.exe c:\\Users\\ADI\\Desktop\\Major Project\n"
          ]
        },
        {
          "output_type": "stream",
          "name": "stderr",
          "text": [
            "  9%|▉         | 436/4824 [26:39<9:23:56,  7.71s/it] "
          ]
        },
        {
          "output_type": "stream",
          "name": "stdout",
          "text": [
            "downloading dependencies\n",
            "copy \\\\live.sysinternals.com\\tools\\whois.exe c:\\Users\\ADI\\Desktop\\Major Project\n"
          ]
        },
        {
          "output_type": "stream",
          "name": "stderr",
          "text": [
            "  9%|▉         | 437/4824 [26:39<6:39:30,  5.46s/it]"
          ]
        },
        {
          "output_type": "stream",
          "name": "stdout",
          "text": [
            "downloading dependencies\n",
            "copy \\\\live.sysinternals.com\\tools\\whois.exe c:\\Users\\ADI\\Desktop\\Major Project\n"
          ]
        },
        {
          "output_type": "stream",
          "name": "stderr",
          "text": [
            "  9%|▉         | 438/4824 [26:40<5:12:09,  4.27s/it]"
          ]
        },
        {
          "output_type": "stream",
          "name": "stdout",
          "text": [
            "downloading dependencies\n",
            "copy \\\\live.sysinternals.com\\tools\\whois.exe c:\\Users\\ADI\\Desktop\\Major Project\n"
          ]
        },
        {
          "output_type": "stream",
          "name": "stderr",
          "text": [
            "  9%|▉         | 439/4824 [26:41<4:01:08,  3.30s/it]"
          ]
        },
        {
          "output_type": "stream",
          "name": "stdout",
          "text": [
            "downloading dependencies\n",
            "copy \\\\live.sysinternals.com\\tools\\whois.exe c:\\Users\\ADI\\Desktop\\Major Project\n"
          ]
        },
        {
          "output_type": "stream",
          "name": "stderr",
          "text": [
            "  9%|▉         | 440/4824 [26:44<3:48:03,  3.12s/it]"
          ]
        },
        {
          "output_type": "stream",
          "name": "stdout",
          "text": [
            "downloading dependencies\n",
            "copy \\\\live.sysinternals.com\\tools\\whois.exe c:\\Users\\ADI\\Desktop\\Major Project\n"
          ]
        },
        {
          "output_type": "stream",
          "name": "stderr",
          "text": [
            "  9%|▉         | 441/4824 [26:46<3:22:16,  2.77s/it]"
          ]
        },
        {
          "output_type": "stream",
          "name": "stdout",
          "text": [
            "downloading dependencies\n",
            "copy \\\\live.sysinternals.com\\tools\\whois.exe c:\\Users\\ADI\\Desktop\\Major Project\n"
          ]
        },
        {
          "output_type": "stream",
          "name": "stderr",
          "text": [
            "  9%|▉         | 442/4824 [26:47<2:52:23,  2.36s/it]"
          ]
        },
        {
          "output_type": "stream",
          "name": "stdout",
          "text": [
            "downloading dependencies\n",
            "copy \\\\live.sysinternals.com\\tools\\whois.exe c:\\Users\\ADI\\Desktop\\Major Project\n"
          ]
        },
        {
          "output_type": "stream",
          "name": "stderr",
          "text": [
            "  9%|▉         | 443/4824 [26:49<2:32:58,  2.10s/it]"
          ]
        },
        {
          "output_type": "stream",
          "name": "stdout",
          "text": [
            "downloading dependencies\n",
            "copy \\\\live.sysinternals.com\\tools\\whois.exe c:\\Users\\ADI\\Desktop\\Major Project\n"
          ]
        },
        {
          "output_type": "stream",
          "name": "stderr",
          "text": [
            "  9%|▉         | 444/4824 [26:50<2:22:25,  1.95s/it]"
          ]
        },
        {
          "output_type": "stream",
          "name": "stdout",
          "text": [
            "downloading dependencies\n",
            "copy \\\\live.sysinternals.com\\tools\\whois.exe c:\\Users\\ADI\\Desktop\\Major Project\n"
          ]
        },
        {
          "output_type": "stream",
          "name": "stderr",
          "text": [
            "  9%|▉         | 445/4824 [26:52<2:21:52,  1.94s/it]"
          ]
        },
        {
          "output_type": "stream",
          "name": "stdout",
          "text": [
            "downloading dependencies\n",
            "copy \\\\live.sysinternals.com\\tools\\whois.exe c:\\Users\\ADI\\Desktop\\Major Project\n"
          ]
        },
        {
          "output_type": "stream",
          "name": "stderr",
          "text": [
            "  9%|▉         | 446/4824 [26:53<2:03:08,  1.69s/it]"
          ]
        },
        {
          "output_type": "stream",
          "name": "stdout",
          "text": [
            "downloading dependencies\n",
            "copy \\\\live.sysinternals.com\\tools\\whois.exe c:\\Users\\ADI\\Desktop\\Major Project\n"
          ]
        },
        {
          "output_type": "stream",
          "name": "stderr",
          "text": [
            "  9%|▉         | 447/4824 [26:54<1:48:09,  1.48s/it]"
          ]
        },
        {
          "output_type": "stream",
          "name": "stdout",
          "text": [
            "downloading dependencies\n",
            "copy \\\\live.sysinternals.com\\tools\\whois.exe c:\\Users\\ADI\\Desktop\\Major Project\n"
          ]
        },
        {
          "output_type": "stream",
          "name": "stderr",
          "text": [
            "  9%|▉         | 450/4824 [26:55<45:11,  1.61it/s]  "
          ]
        },
        {
          "output_type": "stream",
          "name": "stdout",
          "text": [
            "downloading dependencies\n",
            "copy \\\\live.sysinternals.com\\tools\\whois.exe c:\\Users\\ADI\\Desktop\\Major Project\n",
            "downloading dependencies\n",
            "copy \\\\live.sysinternals.com\\tools\\whois.exe c:\\Users\\ADI\\Desktop\\Major Project\n",
            "downloading dependencies\n",
            "copy \\\\live.sysinternals.com\\tools\\whois.exe c:\\Users\\ADI\\Desktop\\Major Project\n",
            "downloading dependencies\n",
            "copy \\\\live.sysinternals.com\\tools\\whois.exe c:\\Users\\ADI\\Desktop\\Major Project\n"
          ]
        },
        {
          "output_type": "stream",
          "name": "stderr",
          "text": [
            "  9%|▉         | 452/4824 [26:55<28:49,  2.53it/s]"
          ]
        },
        {
          "output_type": "stream",
          "name": "stdout",
          "text": [
            "downloading dependencies\n",
            "copy \\\\live.sysinternals.com\\tools\\whois.exe c:\\Users\\ADI\\Desktop\\Major Project\n",
            "downloading dependencies\n",
            "copy \\\\live.sysinternals.com\\tools\\whois.exe c:\\Users\\ADI\\Desktop\\Major Project\n"
          ]
        },
        {
          "output_type": "stream",
          "name": "stderr",
          "text": [
            "  9%|▉         | 454/4824 [26:59<1:06:29,  1.10it/s]"
          ]
        },
        {
          "output_type": "stream",
          "name": "stdout",
          "text": [
            "downloading dependencies\n",
            "copy \\\\live.sysinternals.com\\tools\\whois.exe c:\\Users\\ADI\\Desktop\\Major Project\n"
          ]
        },
        {
          "output_type": "stream",
          "name": "stderr",
          "text": [
            "  9%|▉         | 457/4824 [26:59<36:52,  1.97it/s]"
          ]
        },
        {
          "output_type": "stream",
          "name": "stdout",
          "text": [
            "downloading dependencies\n",
            "copy \\\\live.sysinternals.com\\tools\\whois.exe c:\\Users\\ADI\\Desktop\\Major Project\n",
            "downloading dependencies\n",
            "copy \\\\live.sysinternals.com\\tools\\whois.exe c:\\Users\\ADI\\Desktop\\Major Project\n",
            "downloading dependencies\n",
            "copy \\\\live.sysinternals.com\\tools\\whois.exe c:\\Users\\ADI\\Desktop\\Major Project\n",
            "downloading dependencies\n",
            "copy \\\\live.sysinternals.com\\tools\\whois.exe c:\\Users\\ADI\\Desktop\\Major Project\n"
          ]
        },
        {
          "output_type": "stream",
          "name": "stderr",
          "text": [
            " 10%|▉         | 459/4824 [26:59<25:38,  2.84it/s]"
          ]
        },
        {
          "output_type": "stream",
          "name": "stdout",
          "text": [
            "downloading dependencies\n",
            "copy \\\\live.sysinternals.com\\tools\\whois.exe c:\\Users\\ADI\\Desktop\\Major Project\n",
            "downloading dependencies\n",
            "copy \\\\live.sysinternals.com\\tools\\whois.exe c:\\Users\\ADI\\Desktop\\Major Project\n"
          ]
        },
        {
          "output_type": "stream",
          "name": "stderr",
          "text": [
            " 10%|▉         | 461/4824 [27:02<50:04,  1.45it/s]"
          ]
        },
        {
          "output_type": "stream",
          "name": "stdout",
          "text": [
            "downloading dependencies\n",
            "copy \\\\live.sysinternals.com\\tools\\whois.exe c:\\Users\\ADI\\Desktop\\Major Project\n"
          ]
        },
        {
          "output_type": "stream",
          "name": "stderr",
          "text": [
            " 10%|▉         | 462/4824 [27:03<1:00:21,  1.20it/s]"
          ]
        },
        {
          "output_type": "stream",
          "name": "stdout",
          "text": [
            "downloading dependencies\n",
            "copy \\\\live.sysinternals.com\\tools\\whois.exe c:\\Users\\ADI\\Desktop\\Major Project\n"
          ]
        },
        {
          "output_type": "stream",
          "name": "stderr",
          "text": [
            " 10%|▉         | 463/4824 [27:04<1:00:12,  1.21it/s]"
          ]
        },
        {
          "output_type": "stream",
          "name": "stdout",
          "text": [
            "downloading dependencies\n",
            "copy \\\\live.sysinternals.com\\tools\\whois.exe c:\\Users\\ADI\\Desktop\\Major Project\n"
          ]
        },
        {
          "output_type": "stream",
          "name": "stderr",
          "text": [
            " 10%|▉         | 464/4824 [27:31<8:24:45,  6.95s/it]"
          ]
        },
        {
          "output_type": "stream",
          "name": "stdout",
          "text": [
            "downloading dependencies\n",
            "copy \\\\live.sysinternals.com\\tools\\whois.exe c:\\Users\\ADI\\Desktop\\Major Project\n"
          ]
        },
        {
          "output_type": "stream",
          "name": "stderr",
          "text": [
            " 10%|▉         | 465/4824 [27:32<6:34:45,  5.43s/it]"
          ]
        },
        {
          "output_type": "stream",
          "name": "stdout",
          "text": [
            "downloading dependencies\n",
            "copy \\\\live.sysinternals.com\\tools\\whois.exe c:\\Users\\ADI\\Desktop\\Major Project\n"
          ]
        },
        {
          "output_type": "stream",
          "name": "stderr",
          "text": [
            " 10%|▉         | 466/4824 [27:33<5:06:14,  4.22s/it]"
          ]
        },
        {
          "output_type": "stream",
          "name": "stdout",
          "text": [
            "downloading dependencies\n",
            "copy \\\\live.sysinternals.com\\tools\\whois.exe c:\\Users\\ADI\\Desktop\\Major Project\n"
          ]
        },
        {
          "output_type": "stream",
          "name": "stderr",
          "text": [
            " 10%|▉         | 467/4824 [27:35<4:32:49,  3.76s/it]"
          ]
        },
        {
          "output_type": "stream",
          "name": "stdout",
          "text": [
            "downloading dependencies\n",
            "copy \\\\live.sysinternals.com\\tools\\whois.exe c:\\Users\\ADI\\Desktop\\Major Project\n"
          ]
        },
        {
          "output_type": "stream",
          "name": "stderr",
          "text": [
            " 10%|▉         | 468/4824 [27:36<3:31:13,  2.91s/it]"
          ]
        },
        {
          "output_type": "stream",
          "name": "stdout",
          "text": [
            "downloading dependencies\n",
            "copy \\\\live.sysinternals.com\\tools\\whois.exe c:\\Users\\ADI\\Desktop\\Major Project\n"
          ]
        },
        {
          "output_type": "stream",
          "name": "stderr",
          "text": [
            " 10%|▉         | 469/4824 [27:36<2:41:47,  2.23s/it]"
          ]
        },
        {
          "output_type": "stream",
          "name": "stdout",
          "text": [
            "downloading dependencies\n",
            "copy \\\\live.sysinternals.com\\tools\\whois.exe c:\\Users\\ADI\\Desktop\\Major Project\n"
          ]
        },
        {
          "output_type": "stream",
          "name": "stderr",
          "text": [
            " 10%|▉         | 470/4824 [27:37<2:05:28,  1.73s/it]"
          ]
        },
        {
          "output_type": "stream",
          "name": "stdout",
          "text": [
            "downloading dependencies\n",
            "copy \\\\live.sysinternals.com\\tools\\whois.exe c:\\Users\\ADI\\Desktop\\Major Project\n"
          ]
        },
        {
          "output_type": "stream",
          "name": "stderr",
          "text": [
            " 10%|▉         | 471/4824 [27:38<1:41:08,  1.39s/it]"
          ]
        },
        {
          "output_type": "stream",
          "name": "stdout",
          "text": [
            "downloading dependencies\n",
            "copy \\\\live.sysinternals.com\\tools\\whois.exe c:\\Users\\ADI\\Desktop\\Major Project\n"
          ]
        },
        {
          "output_type": "stream",
          "name": "stderr",
          "text": [
            " 10%|▉         | 472/4824 [27:38<1:19:48,  1.10s/it]"
          ]
        },
        {
          "output_type": "stream",
          "name": "stdout",
          "text": [
            "downloading dependencies\n",
            "copy \\\\live.sysinternals.com\\tools\\whois.exe c:\\Users\\ADI\\Desktop\\Major Project\n"
          ]
        },
        {
          "output_type": "stream",
          "name": "stderr",
          "text": [
            " 10%|▉         | 473/4824 [28:00<8:41:23,  7.19s/it]"
          ]
        },
        {
          "output_type": "stream",
          "name": "stdout",
          "text": [
            "downloading dependencies\n",
            "copy \\\\live.sysinternals.com\\tools\\whois.exe c:\\Users\\ADI\\Desktop\\Major Project\n"
          ]
        },
        {
          "output_type": "stream",
          "name": "stderr",
          "text": [
            " 10%|▉         | 474/4824 [28:21<13:40:54, 11.32s/it]"
          ]
        },
        {
          "output_type": "stream",
          "name": "stdout",
          "text": [
            "downloading dependencies\n",
            "copy \\\\live.sysinternals.com\\tools\\whois.exe c:\\Users\\ADI\\Desktop\\Major Project\n"
          ]
        },
        {
          "output_type": "stream",
          "name": "stderr",
          "text": [
            " 10%|▉         | 475/4824 [28:47<19:01:31, 15.75s/it]"
          ]
        },
        {
          "output_type": "stream",
          "name": "stdout",
          "text": [
            "downloading dependencies\n",
            "copy \\\\live.sysinternals.com\\tools\\whois.exe c:\\Users\\ADI\\Desktop\\Major Project\n",
            "downloading dependencies\n",
            "copy \\\\live.sysinternals.com\\tools\\whois.exe c:\\Users\\ADI\\Desktop\\Major Project\n"
          ]
        },
        {
          "output_type": "stream",
          "name": "stderr",
          "text": [
            " 10%|▉         | 477/4824 [28:48<10:38:23,  8.81s/it]"
          ]
        },
        {
          "output_type": "stream",
          "name": "stdout",
          "text": [
            "downloading dependencies\n",
            "copy \\\\live.sysinternals.com\\tools\\whois.exe c:\\Users\\ADI\\Desktop\\Major Project\n"
          ]
        },
        {
          "output_type": "stream",
          "name": "stderr",
          "text": [
            " 10%|▉         | 478/4824 [28:50<8:31:31,  7.06s/it] "
          ]
        },
        {
          "output_type": "stream",
          "name": "stdout",
          "text": [
            "downloading dependencies\n",
            "copy \\\\live.sysinternals.com\\tools\\whois.exe c:\\Users\\ADI\\Desktop\\Major Project\n"
          ]
        },
        {
          "output_type": "stream",
          "name": "stderr",
          "text": [
            " 10%|▉         | 479/4824 [28:51<6:45:08,  5.59s/it]"
          ]
        },
        {
          "output_type": "stream",
          "name": "stdout",
          "text": [
            "downloading dependencies\n",
            "copy \\\\live.sysinternals.com\\tools\\whois.exe c:\\Users\\ADI\\Desktop\\Major Project\n"
          ]
        },
        {
          "output_type": "stream",
          "name": "stderr",
          "text": [
            " 10%|▉         | 480/4824 [28:52<5:05:19,  4.22s/it]"
          ]
        },
        {
          "output_type": "stream",
          "name": "stdout",
          "text": [
            "downloading dependencies\n",
            "copy \\\\live.sysinternals.com\\tools\\whois.exe c:\\Users\\ADI\\Desktop\\Major Project\n"
          ]
        },
        {
          "output_type": "stream",
          "name": "stderr",
          "text": [
            " 10%|▉         | 481/4824 [28:52<3:48:02,  3.15s/it]"
          ]
        },
        {
          "output_type": "stream",
          "name": "stdout",
          "text": [
            "downloading dependencies\n",
            "copy \\\\live.sysinternals.com\\tools\\whois.exe c:\\Users\\ADI\\Desktop\\Major Project\n"
          ]
        },
        {
          "output_type": "stream",
          "name": "stderr",
          "text": [
            " 10%|▉         | 482/4824 [28:53<2:52:24,  2.38s/it]"
          ]
        },
        {
          "output_type": "stream",
          "name": "stdout",
          "text": [
            "downloading dependencies\n",
            "copy \\\\live.sysinternals.com\\tools\\whois.exe c:\\Users\\ADI\\Desktop\\Major Project\n"
          ]
        },
        {
          "output_type": "stream",
          "name": "stderr",
          "text": [
            " 10%|█         | 483/4824 [28:56<3:13:34,  2.68s/it]"
          ]
        },
        {
          "output_type": "stream",
          "name": "stdout",
          "text": [
            "downloading dependencies\n",
            "copy \\\\live.sysinternals.com\\tools\\whois.exe c:\\Users\\ADI\\Desktop\\Major Project\n"
          ]
        },
        {
          "output_type": "stream",
          "name": "stderr",
          "text": [
            " 10%|█         | 484/4824 [28:58<3:05:36,  2.57s/it]"
          ]
        },
        {
          "output_type": "stream",
          "name": "stdout",
          "text": [
            "downloading dependencies\n",
            "copy \\\\live.sysinternals.com\\tools\\whois.exe c:\\Users\\ADI\\Desktop\\Major Project\n"
          ]
        },
        {
          "output_type": "stream",
          "name": "stderr",
          "text": [
            " 10%|█         | 485/4824 [29:00<2:52:13,  2.38s/it]"
          ]
        },
        {
          "output_type": "stream",
          "name": "stdout",
          "text": [
            "downloading dependencies\n",
            "copy \\\\live.sysinternals.com\\tools\\whois.exe c:\\Users\\ADI\\Desktop\\Major Project\n"
          ]
        },
        {
          "output_type": "stream",
          "name": "stderr",
          "text": [
            " 10%|█         | 486/4824 [29:03<2:50:55,  2.36s/it]"
          ]
        },
        {
          "output_type": "stream",
          "name": "stdout",
          "text": [
            "downloading dependencies\n",
            "copy \\\\live.sysinternals.com\\tools\\whois.exe c:\\Users\\ADI\\Desktop\\Major Project\n"
          ]
        },
        {
          "output_type": "stream",
          "name": "stderr",
          "text": [
            " 10%|█         | 487/4824 [29:03<2:05:45,  1.74s/it]"
          ]
        },
        {
          "output_type": "stream",
          "name": "stdout",
          "text": [
            "downloading dependencies\n",
            "copy \\\\live.sysinternals.com\\tools\\whois.exe c:\\Users\\ADI\\Desktop\\Major Project\n"
          ]
        },
        {
          "output_type": "stream",
          "name": "stderr",
          "text": [
            " 10%|█         | 488/4824 [29:05<2:11:15,  1.82s/it]"
          ]
        },
        {
          "output_type": "stream",
          "name": "stdout",
          "text": [
            "downloading dependencies\n",
            "copy \\\\live.sysinternals.com\\tools\\whois.exe c:\\Users\\ADI\\Desktop\\Major Project\n"
          ]
        },
        {
          "output_type": "stream",
          "name": "stderr",
          "text": [
            " 10%|█         | 489/4824 [29:06<1:58:23,  1.64s/it]"
          ]
        },
        {
          "output_type": "stream",
          "name": "stdout",
          "text": [
            "downloading dependencies\n",
            "copy \\\\live.sysinternals.com\\tools\\whois.exe c:\\Users\\ADI\\Desktop\\Major Project\n"
          ]
        },
        {
          "output_type": "stream",
          "name": "stderr",
          "text": [
            " 10%|█         | 490/4824 [29:07<1:49:32,  1.52s/it]"
          ]
        },
        {
          "output_type": "stream",
          "name": "stdout",
          "text": [
            "downloading dependencies\n",
            "copy \\\\live.sysinternals.com\\tools\\whois.exe c:\\Users\\ADI\\Desktop\\Major Project\n"
          ]
        },
        {
          "output_type": "stream",
          "name": "stderr",
          "text": [
            " 10%|█         | 491/4824 [29:08<1:39:01,  1.37s/it]"
          ]
        },
        {
          "output_type": "stream",
          "name": "stdout",
          "text": [
            "downloading dependencies\n",
            "copy \\\\live.sysinternals.com\\tools\\whois.exe c:\\Users\\ADI\\Desktop\\Major Project\n"
          ]
        },
        {
          "output_type": "stream",
          "name": "stderr",
          "text": [
            " 10%|█         | 492/4824 [29:09<1:15:54,  1.05s/it]"
          ]
        },
        {
          "output_type": "stream",
          "name": "stdout",
          "text": [
            "downloading dependencies\n",
            "copy \\\\live.sysinternals.com\\tools\\whois.exe c:\\Users\\ADI\\Desktop\\Major Project\n"
          ]
        },
        {
          "output_type": "stream",
          "name": "stderr",
          "text": [
            " 10%|█         | 493/4824 [29:09<1:01:44,  1.17it/s]"
          ]
        },
        {
          "output_type": "stream",
          "name": "stdout",
          "text": [
            "downloading dependencies\n",
            "copy \\\\live.sysinternals.com\\tools\\whois.exe c:\\Users\\ADI\\Desktop\\Major Project\n"
          ]
        },
        {
          "output_type": "stream",
          "name": "stderr",
          "text": [
            " 10%|█         | 494/4824 [29:13<2:16:38,  1.89s/it]"
          ]
        },
        {
          "output_type": "stream",
          "name": "stdout",
          "text": [
            "downloading dependencies\n",
            "copy \\\\live.sysinternals.com\\tools\\whois.exe c:\\Users\\ADI\\Desktop\\Major Project\n"
          ]
        },
        {
          "output_type": "stream",
          "name": "stderr",
          "text": [
            " 10%|█         | 495/4824 [29:16<2:26:19,  2.03s/it]"
          ]
        },
        {
          "output_type": "stream",
          "name": "stdout",
          "text": [
            "downloading dependencies\n",
            "copy \\\\live.sysinternals.com\\tools\\whois.exe c:\\Users\\ADI\\Desktop\\Major Project\n"
          ]
        },
        {
          "output_type": "stream",
          "name": "stderr",
          "text": [
            " 10%|█         | 496/4824 [29:18<2:32:05,  2.11s/it]"
          ]
        },
        {
          "output_type": "stream",
          "name": "stdout",
          "text": [
            "downloading dependencies\n",
            "copy \\\\live.sysinternals.com\\tools\\whois.exe c:\\Users\\ADI\\Desktop\\Major Project\n"
          ]
        },
        {
          "output_type": "stream",
          "name": "stderr",
          "text": [
            " 10%|█         | 497/4824 [29:46<11:56:24,  9.93s/it]"
          ]
        },
        {
          "output_type": "stream",
          "name": "stdout",
          "text": [
            "downloading dependencies\n",
            "copy \\\\live.sysinternals.com\\tools\\whois.exe c:\\Users\\ADI\\Desktop\\Major Project\n"
          ]
        },
        {
          "output_type": "stream",
          "name": "stderr",
          "text": [
            " 10%|█         | 498/4824 [29:49<9:12:10,  7.66s/it] "
          ]
        },
        {
          "output_type": "stream",
          "name": "stdout",
          "text": [
            "downloading dependencies\n",
            "copy \\\\live.sysinternals.com\\tools\\whois.exe c:\\Users\\ADI\\Desktop\\Major Project\n"
          ]
        },
        {
          "output_type": "stream",
          "name": "stderr",
          "text": [
            " 10%|█         | 499/4824 [29:51<7:21:47,  6.13s/it]"
          ]
        },
        {
          "output_type": "stream",
          "name": "stdout",
          "text": [
            "downloading dependencies\n",
            "copy \\\\live.sysinternals.com\\tools\\whois.exe c:\\Users\\ADI\\Desktop\\Major Project\n"
          ]
        },
        {
          "output_type": "stream",
          "name": "stderr",
          "text": [
            " 10%|█         | 502/4824 [29:52<2:51:10,  2.38s/it]"
          ]
        },
        {
          "output_type": "stream",
          "name": "stdout",
          "text": [
            "downloading dependencies\n",
            "copy \\\\live.sysinternals.com\\tools\\whois.exe c:\\Users\\ADI\\Desktop\\Major Project\n",
            "downloading dependencies\n",
            "copy \\\\live.sysinternals.com\\tools\\whois.exe c:\\Users\\ADI\\Desktop\\Major Project\n",
            "downloading dependencies\n",
            "copy \\\\live.sysinternals.com\\tools\\whois.exe c:\\Users\\ADI\\Desktop\\Major Project\n"
          ]
        },
        {
          "output_type": "stream",
          "name": "stderr",
          "text": [
            " 10%|█         | 503/4824 [29:55<3:06:06,  2.58s/it]"
          ]
        },
        {
          "output_type": "stream",
          "name": "stdout",
          "text": [
            "downloading dependencies\n",
            "copy \\\\live.sysinternals.com\\tools\\whois.exe c:\\Users\\ADI\\Desktop\\Major Project\n"
          ]
        },
        {
          "output_type": "stream",
          "name": "stderr",
          "text": [
            " 10%|█         | 504/4824 [29:57<3:03:30,  2.55s/it]"
          ]
        },
        {
          "output_type": "stream",
          "name": "stdout",
          "text": [
            "downloading dependencies\n",
            "copy \\\\live.sysinternals.com\\tools\\whois.exe c:\\Users\\ADI\\Desktop\\Major Project\n"
          ]
        },
        {
          "output_type": "stream",
          "name": "stderr",
          "text": [
            " 10%|█         | 505/4824 [29:59<2:58:47,  2.48s/it]"
          ]
        },
        {
          "output_type": "stream",
          "name": "stdout",
          "text": [
            "downloading dependencies\n",
            "copy \\\\live.sysinternals.com\\tools\\whois.exe c:\\Users\\ADI\\Desktop\\Major Project\n"
          ]
        },
        {
          "output_type": "stream",
          "name": "stderr",
          "text": [
            " 10%|█         | 506/4824 [30:02<2:57:07,  2.46s/it]"
          ]
        },
        {
          "output_type": "stream",
          "name": "stdout",
          "text": [
            "downloading dependencies\n",
            "copy \\\\live.sysinternals.com\\tools\\whois.exe c:\\Users\\ADI\\Desktop\\Major Project\n"
          ]
        },
        {
          "output_type": "stream",
          "name": "stderr",
          "text": [
            " 11%|█         | 507/4824 [30:05<3:02:14,  2.53s/it]"
          ]
        },
        {
          "output_type": "stream",
          "name": "stdout",
          "text": [
            "downloading dependencies\n",
            "copy \\\\live.sysinternals.com\\tools\\whois.exe c:\\Users\\ADI\\Desktop\\Major Project\n"
          ]
        },
        {
          "output_type": "stream",
          "name": "stderr",
          "text": [
            " 11%|█         | 508/4824 [30:05<2:26:29,  2.04s/it]"
          ]
        },
        {
          "output_type": "stream",
          "name": "stdout",
          "text": [
            "downloading dependencies\n",
            "copy \\\\live.sysinternals.com\\tools\\whois.exe c:\\Users\\ADI\\Desktop\\Major Project\n"
          ]
        },
        {
          "output_type": "stream",
          "name": "stderr",
          "text": [
            " 11%|█         | 509/4824 [30:11<3:34:42,  2.99s/it]"
          ]
        },
        {
          "output_type": "stream",
          "name": "stdout",
          "text": [
            "downloading dependencies\n",
            "copy \\\\live.sysinternals.com\\tools\\whois.exe c:\\Users\\ADI\\Desktop\\Major Project\n"
          ]
        },
        {
          "output_type": "stream",
          "name": "stderr",
          "text": [
            " 11%|█         | 510/4824 [30:25<7:40:12,  6.40s/it]"
          ]
        },
        {
          "output_type": "stream",
          "name": "stdout",
          "text": [
            "downloading dependencies\n",
            "copy \\\\live.sysinternals.com\\tools\\whois.exe c:\\Users\\ADI\\Desktop\\Major Project\n"
          ]
        },
        {
          "output_type": "stream",
          "name": "stderr",
          "text": [
            " 11%|█         | 511/4824 [31:05<19:33:36, 16.33s/it]"
          ]
        },
        {
          "output_type": "stream",
          "name": "stdout",
          "text": [
            "downloading dependencies\n",
            "copy \\\\live.sysinternals.com\\tools\\whois.exe c:\\Users\\ADI\\Desktop\\Major Project\n"
          ]
        },
        {
          "output_type": "stream",
          "name": "stderr",
          "text": [
            " 11%|█         | 512/4824 [31:12<16:09:37, 13.49s/it]"
          ]
        },
        {
          "output_type": "stream",
          "name": "stdout",
          "text": [
            "downloading dependencies\n",
            "copy \\\\live.sysinternals.com\\tools\\whois.exe c:\\Users\\ADI\\Desktop\\Major Project\n"
          ]
        },
        {
          "output_type": "stream",
          "name": "stderr",
          "text": [
            " 11%|█         | 513/4824 [31:24<15:38:55, 13.07s/it]"
          ]
        },
        {
          "output_type": "stream",
          "name": "stdout",
          "text": [
            "downloading dependencies\n",
            "copy \\\\live.sysinternals.com\\tools\\whois.exe c:\\Users\\ADI\\Desktop\\Major Project\n"
          ]
        }
      ],
      "metadata": {
        "colab": {
          "base_uri": "https://localhost:8080/"
        },
        "id": "ARLUyOMWSH2b",
        "outputId": "82108904-6056-488a-879a-cb0d4aa97f32"
      }
    },
    {
      "cell_type": "code",
      "execution_count": null,
      "source": [],
      "outputs": [],
      "metadata": {
        "id": "F1vV82V7SMA0"
      }
    },
    {
      "cell_type": "code",
      "execution_count": null,
      "source": [],
      "outputs": [],
      "metadata": {
        "id": "WAfiBNNJZtLX"
      }
    }
  ]
}