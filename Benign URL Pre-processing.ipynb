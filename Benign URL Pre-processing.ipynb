{
 "cells": [
  {
   "cell_type": "code",
   "execution_count": 1,
   "id": "362a78aa",
   "metadata": {},
   "outputs": [],
   "source": [
    "from tqdm import tqdm\n",
    "from interruptingcow import timeout\n",
    "import os\n",
    "import whois\n",
    "from datetime import datetime, timezone\n",
    "import math\n",
    "import pandas as pd\n",
    "import numpy as np\n",
    "from pyquery import PyQuery\n",
    "from requests import get"
   ]
  },
  {
   "cell_type": "code",
   "execution_count": 2,
   "id": "a8a800fe",
   "metadata": {},
   "outputs": [],
   "source": [
    "class UrlFeaturizer(object):\n",
    "    def __init__(self, url):\n",
    "        self.url = url \n",
    "        self.domain = url.split('//')[-1].split('/')[0]\n",
    "        self.today = datetime.now().replace(tzinfo=None)\n",
    "\n",
    "        try:\n",
    "            self.whois = whois.query(self.domain).__dict__\n",
    "        except:\n",
    "            self.whois = None\n",
    "\n",
    "        try:\n",
    "            self.response = get(self.url)\n",
    "            self.pq = PyQuery(self.response.text)\n",
    "        except:\n",
    "            self.response = None\n",
    "            self.pq = None\n",
    "\n",
    "    ## URL string Features\n",
    "\n",
    "    def entropy(self):\n",
    "        string = self.url.strip()\n",
    "        prob = [float(string.count(c)) / len(string) for c in dict.fromkeys(list(string))]\n",
    "        entropy = sum([(p * math.log(p) / math.log(2.0)) for p in prob])\n",
    "        return entropy\n",
    "\n",
    "    def ip(self):\n",
    "        string = self.url\n",
    "        flag = False\n",
    "        if (\".\" in string):\n",
    "            elements_array = string.strip().split(\".\")\n",
    "            if(len(elements_array) == 4):\n",
    "                for i in elements_array:\n",
    "                    if (i.isnumeric() and int(i)>=0 and int(i)<=255):\n",
    "                        flag=True\n",
    "                    else:\n",
    "                        flag=False\n",
    "                        break\n",
    "        if flag:\n",
    "            return 1 \n",
    "        else:\n",
    "            return 0\n",
    "\n",
    "    def numDigits(self):\n",
    "        digits = [i for i in self.url if i.isdigit()]\n",
    "        return len(digits)\n",
    "\n",
    "    def urlLength(self):\n",
    "        return len(self.url)\n",
    "\n",
    "    def numParameters(self):\n",
    "        params = self.url.split('&')\n",
    "        return len(params) - 1\n",
    "\n",
    "    def numFragments(self):\n",
    "        fragments = self.url.split('#')\n",
    "        return len(fragments) - 1\n",
    "\n",
    "    def numSubDomains(self):\n",
    "        subdomains = self.url.split('http')[-1].split('//')[-1].split('/')\n",
    "        return len(subdomains)-1\n",
    "\n",
    "    def domainExtension(self):\n",
    "        ext = self.url.split('.')[-1].split('/')[0]\n",
    "        return ext\n",
    "\n",
    "    ## URL domain features\n",
    "    def hasHttp(self):\n",
    "        return 'http:' in self.url\n",
    "\n",
    "    def hasHttps(self):\n",
    "        return 'https:' in self.url\n",
    "\n",
    "    def daysSinceRegistration(self):\n",
    "        if self.whois and self.whois['creation_date']:\n",
    "            diff = self.today - self.whois['creation_date'].replace(tzinfo=None)\n",
    "            diff = str(diff).split(' days')[0]\n",
    "            return diff\n",
    "        else:\n",
    "            return 0\n",
    "\n",
    "    def daysSinceExpiration(self):\n",
    "        if self.whois and self.whois['expiration_date']:\n",
    "            diff = self.whois['expiration_date'].replace(tzinfo=None) - self.today\n",
    "            diff = str(diff).split(' days')[0]\n",
    "            return diff\n",
    "        else:\n",
    "            return 0\n",
    "    \n",
    "     ## URL Page Features\n",
    "    def bodyLength(self):\n",
    "        if self.pq is not None:\n",
    "            return len(self.pq('html').text()) if self.urlIsLive else 0\n",
    "        else:\n",
    "            return 0\n",
    "\n",
    "    def numTitles(self):\n",
    "        if self.pq is not None:\n",
    "            titles = ['h{}'.format(i) for i in range(7)]\n",
    "            titles = [self.pq(i).items() for i in titles]\n",
    "            return len([item for s in titles for item in s])\n",
    "        else:\n",
    "            return 0\n",
    "\n",
    "    def numImages(self):\n",
    "        if self.pq is not None:\n",
    "            return len([i for i in self.pq('img').items()])\n",
    "        else:\n",
    "            return 0\n",
    "\n",
    "    def numLinks(self):\n",
    "        if self.pq is not None:\n",
    "            return len([i for i in self.pq('a').items()])\n",
    "        else:\n",
    "            return 0\n",
    "\n",
    "    def scriptLength(self):\n",
    "        if self.pq is not None:\n",
    "            return len(self.pq('script').text())\n",
    "        else:\n",
    "            return 0\n",
    "\n",
    "    def specialCharacters(self):\n",
    "        if self.pq is not None:\n",
    "            bodyText = self.pq('html').text()\n",
    "            schars = [i for i in bodyText if not i.isdigit() and not i.isalpha()]\n",
    "            return len(schars)\n",
    "        else:\n",
    "            return 0\n",
    "\n",
    "    def scriptToSpecialCharsRatio(self):\n",
    "        v = self.specialCharacters()\n",
    "        if self.pq is not None and v!=0:\n",
    "            sscr = self.scriptLength()/v\n",
    "        else:\n",
    "            sscr = 0\n",
    "        return sscr\n",
    "\n",
    "    def scriptTobodyRatio(self):\n",
    "        v = self.bodyLength()\n",
    "        if self.pq is not None and v!=0:\n",
    "            sbr = self.scriptLength()/v\n",
    "        else:\n",
    "            sbr = 0\n",
    "        return sbr\n",
    "\n",
    "    def bodyToSpecialCharRatio(self):\n",
    "        v = self.bodyLength()\n",
    "        if self.pq is not None and v!=0:\n",
    "            bscr = self.specialCharacters()/v\n",
    "        else:\n",
    "            bscr = 0\n",
    "        return bscr\n",
    "\n",
    "    def urlIsLive(self):\n",
    "        return self.response == 200\n",
    "\n",
    "    def run(self):\n",
    "        data = {}\n",
    "        data['entropy'] = self.entropy()\n",
    "        data['numDigits'] = self.numDigits()\n",
    "        data['urlLength'] = self.urlLength()\n",
    "        data['numParams'] = self.numParameters()\n",
    "        data['hasHttp'] = self.hasHttp()\n",
    "        data['hasHttps'] = self.hasHttps()\n",
    "        data['urlIsLive'] = self.urlIsLive()\n",
    "        data['bodyLength'] = self.bodyLength()\n",
    "        data['numTitles'] = self.numTitles()\n",
    "        data['numImages'] = self.numImages()\n",
    "        data['numLinks'] = self.numLinks()\n",
    "        data['scriptLength'] = self.scriptLength()\n",
    "        data['specialChars'] = self.specialCharacters()\n",
    "        data['ext'] = self.domainExtension()\n",
    "        data['dsr'] = self.daysSinceRegistration()\n",
    "        data['dse'] = self.daysSinceExpiration()\n",
    "        data['sscr'] = self.scriptToSpecialCharsRatio()\n",
    "        data['sbr'] = self.scriptTobodyRatio()\n",
    "        data['bscr'] = self.bodyToSpecialCharRatio()\n",
    "        data['num_%20'] = self.url.count(\"%20\")\n",
    "        data['num_@'] = self.url.count(\"@\")\n",
    "        data['has_ip'] = self.ip()\n",
    "    \n",
    "        return data"
   ]
  },
  {
   "cell_type": "code",
   "execution_count": 3,
   "id": "2c02951b",
   "metadata": {},
   "outputs": [],
   "source": [
    "l = ['Benign_list_big_final.csv']"
   ]
  },
  {
   "cell_type": "code",
   "execution_count": null,
   "id": "53ffb11b",
   "metadata": {
    "scrolled": false
   },
   "outputs": [
    {
     "name": "stderr",
     "output_type": "stream",
     "text": [
      "\r",
      "  0%|          | 0/35378 [00:00<?, ?it/s]"
     ]
    },
    {
     "name": "stdout",
     "output_type": "stream",
     "text": [
      "Benign_list_big_final.csv\n",
      "Unknown TLD: .to\n",
      "Valid TLDs: .ac_uk .am .amsterdam .ar .at .au .bank .be .biz .br .by .ca .cc .cl .club .cn .co .co_il .co_jp .com .com_au .com_tr .cr .cz .de .download .edu .education .eu .fi .fm .fr .frl .game .global_ .hk .id_ .ie .im .in_ .info .ink .io .ir .is_ .it .jp .kr .kz .link .lt .lv .me .mobi .mu .mx .name .net .ninja .nl .nu .nyc .nz .online .org .pe .pharmacy .pl .press .pro .pt .pub .pw .rest .ru .ru_rf .rw .sale .se .security .sh .site .space .store .tech .tel .theatre .tickets .trade .tv .ua .uk .us .uz .video .website .wiki .work .xyz .za "
     ]
    },
    {
     "name": "stderr",
     "output_type": "stream",
     "text": [
      "  0%|          | 4/35378 [00:00<58:46, 10.03it/s]  "
     ]
    },
    {
     "name": "stdout",
     "output_type": "stream",
     "text": [
      "Unknown TLD: .to\n",
      "Valid TLDs: .ac_uk .am .amsterdam .ar .at .au .bank .be .biz .br .by .ca .cc .cl .club .cn .co .co_il .co_jp .com .com_au .com_tr .cr .cz .de .download .edu .education .eu .fi .fm .fr .frl .game .global_ .hk .id_ .ie .im .in_ .info .ink .io .ir .is_ .it .jp .kr .kz .link .lt .lv .me .mobi .mu .mx .name .net .ninja .nl .nu .nyc .nz .online .org .pe .pharmacy .pl .press .pro .pt .pub .pw .rest .ru .ru_rf .rw .sale .se .security .sh .site .space .store .tech .tel .theatre .tickets .trade .tv .ua .uk .us .uz .video .website .wiki .work .xyz .za Unknown TLD: .to\n",
      "Valid TLDs: .ac_uk .am .amsterdam .ar .at .au .bank .be .biz .br .by .ca .cc .cl .club .cn .co .co_il .co_jp .com .com_au .com_tr .cr .cz .de .download .edu .education .eu .fi .fm .fr .frl .game .global_ .hk .id_ .ie .im .in_ .info .ink .io .ir .is_ .it .jp .kr .kz .link .lt .lv .me .mobi .mu .mx .name .net .ninja .nl .nu .nyc .nz .online .org .pe .pharmacy .pl .press .pro .pt .pub .pw .rest .ru .ru_rf .rw .sale .se .security .sh .site .space .store .tech .tel .theatre .tickets .trade .tv .ua .uk .us .uz .video .website .wiki .work .xyz .za Unknown TLD: .to\n",
      "Valid TLDs: .ac_uk .am .amsterdam .ar .at .au .bank .be .biz .br .by .ca .cc .cl .club .cn .co .co_il .co_jp .com .com_au .com_tr .cr .cz .de .download .edu .education .eu .fi .fm .fr .frl .game .global_ .hk .id_ .ie .im .in_ .info .ink .io .ir .is_ .it .jp .kr .kz .link .lt .lv .me .mobi .mu .mx .name .net .ninja .nl .nu .nyc .nz .online .org .pe .pharmacy .pl .press .pro .pt .pub .pw .rest .ru .ru_rf .rw .sale .se .security .sh .site .space .store .tech .tel .theatre .tickets .trade .tv .ua .uk .us .uz .video .website .wiki .work .xyz .za Unknown TLD: .to\n",
      "Valid TLDs: .ac_uk .am .amsterdam .ar .at .au .bank .be .biz .br .by .ca .cc .cl .club .cn .co .co_il .co_jp .com .com_au .com_tr .cr .cz .de .download .edu .education .eu .fi .fm .fr .frl .game .global_ .hk .id_ .ie .im .in_ .info .ink .io .ir .is_ .it .jp .kr .kz .link .lt .lv .me .mobi .mu .mx .name .net .ninja .nl .nu .nyc .nz .online .org .pe .pharmacy .pl .press .pro .pt .pub .pw .rest .ru .ru_rf .rw .sale .se .security .sh .site .space .store .tech .tel .theatre .tickets .trade .tv .ua .uk .us .uz .video .website .wiki .work .xyz .za Unknown TLD: .to\n",
      "Valid TLDs: .ac_uk .am .amsterdam .ar .at .au .bank .be .biz .br .by .ca .cc .cl .club .cn .co .co_il .co_jp .com .com_au .com_tr .cr .cz .de .download .edu .education .eu .fi .fm .fr .frl .game .global_ .hk .id_ .ie .im .in_ .info .ink .io .ir .is_ .it .jp .kr .kz .link .lt .lv .me .mobi .mu .mx .name .net .ninja .nl .nu .nyc .nz .online .org .pe .pharmacy .pl .press .pro .pt .pub .pw .rest .ru .ru_rf .rw .sale .se .security .sh .site .space .store .tech .tel .theatre .tickets .trade .tv .ua .uk .us .uz .video .website .wiki .work .xyz .za Unknown TLD: .to\n",
      "Valid TLDs: .ac_uk .am .amsterdam .ar .at .au "
     ]
    },
    {
     "name": "stderr",
     "output_type": "stream",
     "text": [
      "\r",
      "  0%|          | 7/35378 [00:00<41:30, 14.20it/s]"
     ]
    },
    {
     "name": "stdout",
     "output_type": "stream",
     "text": [
      ".bank .be .biz .br .by .ca .cc .cl .club .cn .co .co_il .co_jp .com .com_au .com_tr .cr .cz .de .download .edu .education .eu .fi .fm .fr .frl .game .global_ .hk .id_ .ie .im .in_ .info .ink .io .ir .is_ .it .jp .kr .kz .link .lt .lv .me .mobi .mu .mx .name .net .ninja .nl .nu .nyc .nz .online .org .pe .pharmacy .pl .press .pro .pt .pub .pw .rest .ru .ru_rf .rw .sale .se .security .sh .site .space .store .tech .tel .theatre .tickets .trade .tv .ua .uk .us .uz .video .website .wiki .work .xyz .za downloading dependencies\n",
      "copy \\\\live.sysinternals.com\\tools\\whois.exe C:\\Users\\ADI\\Desktop\\Major Project\n"
     ]
    },
    {
     "name": "stderr",
     "output_type": "stream",
     "text": [
      "  0%|          | 8/35378 [00:32<63:40:08,  6.48s/it]"
     ]
    },
    {
     "name": "stdout",
     "output_type": "stream",
     "text": [
      "downloading dependencies\n",
      "copy \\\\live.sysinternals.com\\tools\\whois.exe C:\\Users\\ADI\\Desktop\\Major Project\n"
     ]
    },
    {
     "name": "stderr",
     "output_type": "stream",
     "text": [
      "\r",
      "  0%|          | 9/35378 [00:33<51:49:45,  5.28s/it]"
     ]
    },
    {
     "name": "stdout",
     "output_type": "stream",
     "text": [
      "downloading dependencies\n",
      "copy \\\\live.sysinternals.com\\tools\\whois.exe C:\\Users\\ADI\\Desktop\\Major Project\n",
      "downloading dependencies\n",
      "copy \\\\live.sysinternals.com\\tools\\whois.exe C:\\Users\\ADI\\Desktop\\Major Project\n"
     ]
    },
    {
     "name": "stderr",
     "output_type": "stream",
     "text": [
      "\r",
      "  0%|          | 11/35378 [00:37<38:42:29,  3.94s/it]"
     ]
    },
    {
     "name": "stdout",
     "output_type": "stream",
     "text": [
      "downloading dependencies\n",
      "copy \\\\live.sysinternals.com\\tools\\whois.exe C:\\Users\\ADI\\Desktop\\Major Project\n"
     ]
    },
    {
     "name": "stderr",
     "output_type": "stream",
     "text": [
      "\r",
      "  0%|          | 12/35378 [00:38<32:28:03,  3.30s/it]"
     ]
    },
    {
     "name": "stdout",
     "output_type": "stream",
     "text": [
      "downloading dependencies\n",
      "copy \\\\live.sysinternals.com\\tools\\whois.exe C:\\Users\\ADI\\Desktop\\Major Project\n"
     ]
    },
    {
     "name": "stderr",
     "output_type": "stream",
     "text": [
      "\r",
      "  0%|          | 13/35378 [00:38<25:38:21,  2.61s/it]"
     ]
    },
    {
     "name": "stdout",
     "output_type": "stream",
     "text": [
      "downloading dependencies\n",
      "copy \\\\live.sysinternals.com\\tools\\whois.exe C:\\Users\\ADI\\Desktop\\Major Project\n"
     ]
    },
    {
     "name": "stderr",
     "output_type": "stream",
     "text": [
      "\r",
      "  0%|          | 14/35378 [00:39<22:46:08,  2.32s/it]"
     ]
    },
    {
     "name": "stdout",
     "output_type": "stream",
     "text": [
      "downloading dependencies\n",
      "copy \\\\live.sysinternals.com\\tools\\whois.exe C:\\Users\\ADI\\Desktop\\Major Project\n"
     ]
    },
    {
     "name": "stderr",
     "output_type": "stream",
     "text": [
      "\r",
      "  0%|          | 15/35378 [00:40<19:29:14,  1.98s/it]"
     ]
    },
    {
     "name": "stdout",
     "output_type": "stream",
     "text": [
      "downloading dependencies\n",
      "copy \\\\live.sysinternals.com\\tools\\whois.exe C:\\Users\\ADI\\Desktop\\Major Project\n"
     ]
    },
    {
     "name": "stderr",
     "output_type": "stream",
     "text": [
      "\r",
      "  0%|          | 16/35378 [00:41<16:14:13,  1.65s/it]"
     ]
    },
    {
     "name": "stdout",
     "output_type": "stream",
     "text": [
      "downloading dependencies\n",
      "copy \\\\live.sysinternals.com\\tools\\whois.exe C:\\Users\\ADI\\Desktop\\Major Project\n"
     ]
    },
    {
     "name": "stderr",
     "output_type": "stream",
     "text": [
      "\r",
      "  0%|          | 17/35378 [00:42<13:51:56,  1.41s/it]"
     ]
    },
    {
     "name": "stdout",
     "output_type": "stream",
     "text": [
      "downloading dependencies\n",
      "copy \\\\live.sysinternals.com\\tools\\whois.exe C:\\Users\\ADI\\Desktop\\Major Project\n"
     ]
    },
    {
     "name": "stderr",
     "output_type": "stream",
     "text": [
      "\r",
      "  0%|          | 18/35378 [00:43<12:14:45,  1.25s/it]"
     ]
    },
    {
     "name": "stdout",
     "output_type": "stream",
     "text": [
      "downloading dependencies\n",
      "copy \\\\live.sysinternals.com\\tools\\whois.exe C:\\Users\\ADI\\Desktop\\Major Project\n"
     ]
    },
    {
     "name": "stderr",
     "output_type": "stream",
     "text": [
      "\r",
      "  0%|          | 19/35378 [00:44<10:58:31,  1.12s/it]"
     ]
    },
    {
     "name": "stdout",
     "output_type": "stream",
     "text": [
      "downloading dependencies\n",
      "copy \\\\live.sysinternals.com\\tools\\whois.exe C:\\Users\\ADI\\Desktop\\Major Project\n"
     ]
    },
    {
     "name": "stderr",
     "output_type": "stream",
     "text": [
      "\r",
      "  0%|          | 20/35378 [00:45<10:09:32,  1.03s/it]"
     ]
    },
    {
     "name": "stdout",
     "output_type": "stream",
     "text": [
      "downloading dependencies\n",
      "copy \\\\live.sysinternals.com\\tools\\whois.exe C:\\Users\\ADI\\Desktop\\Major Project\n"
     ]
    },
    {
     "name": "stderr",
     "output_type": "stream",
     "text": [
      "\r",
      "  0%|          | 21/35378 [00:45<9:36:34,  1.02it/s] "
     ]
    },
    {
     "name": "stdout",
     "output_type": "stream",
     "text": [
      "downloading dependencies\n",
      "copy \\\\live.sysinternals.com\\tools\\whois.exe C:\\Users\\ADI\\Desktop\\Major Project\n"
     ]
    },
    {
     "name": "stderr",
     "output_type": "stream",
     "text": [
      "\r",
      "  0%|          | 22/35378 [00:46<9:06:34,  1.08it/s]"
     ]
    },
    {
     "name": "stdout",
     "output_type": "stream",
     "text": [
      "downloading dependencies\n",
      "copy \\\\live.sysinternals.com\\tools\\whois.exe C:\\Users\\ADI\\Desktop\\Major Project\n"
     ]
    },
    {
     "name": "stderr",
     "output_type": "stream",
     "text": [
      "\r",
      "  0%|          | 23/35378 [00:47<8:44:09,  1.12it/s]"
     ]
    },
    {
     "name": "stdout",
     "output_type": "stream",
     "text": [
      "downloading dependencies\n",
      "copy \\\\live.sysinternals.com\\tools\\whois.exe C:\\Users\\ADI\\Desktop\\Major Project\n"
     ]
    },
    {
     "name": "stderr",
     "output_type": "stream",
     "text": [
      "\r",
      "  0%|          | 24/35378 [00:49<12:59:22,  1.32s/it]"
     ]
    },
    {
     "name": "stdout",
     "output_type": "stream",
     "text": [
      "downloading dependencies\n",
      "copy \\\\live.sysinternals.com\\tools\\whois.exe C:\\Users\\ADI\\Desktop\\Major Project\n"
     ]
    },
    {
     "name": "stderr",
     "output_type": "stream",
     "text": [
      "\r",
      "  0%|          | 25/35378 [00:53<20:22:17,  2.07s/it]"
     ]
    },
    {
     "name": "stdout",
     "output_type": "stream",
     "text": [
      "downloading dependencies\n",
      "copy \\\\live.sysinternals.com\\tools\\whois.exe C:\\Users\\ADI\\Desktop\\Major Project\n"
     ]
    },
    {
     "name": "stderr",
     "output_type": "stream",
     "text": [
      "\r",
      "  0%|          | 26/35378 [00:58<29:14:16,  2.98s/it]"
     ]
    },
    {
     "name": "stdout",
     "output_type": "stream",
     "text": [
      "downloading dependencies\n",
      "copy \\\\live.sysinternals.com\\tools\\whois.exe C:\\Users\\ADI\\Desktop\\Major Project\n"
     ]
    },
    {
     "name": "stderr",
     "output_type": "stream",
     "text": [
      "\r",
      "  0%|          | 27/35378 [01:28<109:01:04, 11.10s/it]"
     ]
    },
    {
     "name": "stdout",
     "output_type": "stream",
     "text": [
      "downloading dependencies\n",
      "copy \\\\live.sysinternals.com\\tools\\whois.exe C:\\Users\\ADI\\Desktop\\Major Project\n"
     ]
    },
    {
     "name": "stderr",
     "output_type": "stream",
     "text": [
      "\r",
      "  0%|          | 28/35378 [01:32<88:01:15,  8.96s/it] "
     ]
    },
    {
     "name": "stdout",
     "output_type": "stream",
     "text": [
      "downloading dependencies\n",
      "copy \\\\live.sysinternals.com\\tools\\whois.exe C:\\Users\\ADI\\Desktop\\Major Project\n"
     ]
    },
    {
     "name": "stderr",
     "output_type": "stream",
     "text": [
      "\r",
      "  0%|          | 29/35378 [01:36<72:18:13,  7.36s/it]"
     ]
    },
    {
     "name": "stdout",
     "output_type": "stream",
     "text": [
      "downloading dependencies\n",
      "copy \\\\live.sysinternals.com\\tools\\whois.exe C:\\Users\\ADI\\Desktop\\Major Project\n"
     ]
    },
    {
     "name": "stderr",
     "output_type": "stream",
     "text": [
      "\r",
      "  0%|          | 30/35378 [01:42<68:39:01,  6.99s/it]"
     ]
    },
    {
     "name": "stdout",
     "output_type": "stream",
     "text": [
      "downloading dependencies\n",
      "copy \\\\live.sysinternals.com\\tools\\whois.exe C:\\Users\\ADI\\Desktop\\Major Project\n"
     ]
    },
    {
     "name": "stderr",
     "output_type": "stream",
     "text": [
      "\r",
      "  0%|          | 31/35378 [01:48<64:59:34,  6.62s/it]"
     ]
    },
    {
     "name": "stdout",
     "output_type": "stream",
     "text": [
      "downloading dependencies\n",
      "copy \\\\live.sysinternals.com\\tools\\whois.exe C:\\Users\\ADI\\Desktop\\Major Project\n"
     ]
    },
    {
     "name": "stderr",
     "output_type": "stream",
     "text": [
      "\r",
      "  0%|          | 32/35378 [01:50<51:45:39,  5.27s/it]"
     ]
    },
    {
     "name": "stdout",
     "output_type": "stream",
     "text": [
      "downloading dependencies\n",
      "copy \\\\live.sysinternals.com\\tools\\whois.exe C:\\Users\\ADI\\Desktop\\Major Project\n"
     ]
    },
    {
     "name": "stderr",
     "output_type": "stream",
     "text": [
      "\r",
      "  0%|          | 33/35378 [01:52<42:23:40,  4.32s/it]"
     ]
    },
    {
     "name": "stdout",
     "output_type": "stream",
     "text": [
      "downloading dependencies\n",
      "copy \\\\live.sysinternals.com\\tools\\whois.exe C:\\Users\\ADI\\Desktop\\Major Project\n"
     ]
    },
    {
     "name": "stderr",
     "output_type": "stream",
     "text": [
      "\r",
      "  0%|          | 34/35378 [01:54<36:04:25,  3.67s/it]"
     ]
    },
    {
     "name": "stdout",
     "output_type": "stream",
     "text": [
      "downloading dependencies\n",
      "copy \\\\live.sysinternals.com\\tools\\whois.exe C:\\Users\\ADI\\Desktop\\Major Project\n"
     ]
    },
    {
     "name": "stderr",
     "output_type": "stream",
     "text": [
      "\r",
      "  0%|          | 35/35378 [01:56<31:20:41,  3.19s/it]"
     ]
    },
    {
     "name": "stdout",
     "output_type": "stream",
     "text": [
      "downloading dependencies\n",
      "copy \\\\live.sysinternals.com\\tools\\whois.exe C:\\Users\\ADI\\Desktop\\Major Project\n"
     ]
    },
    {
     "name": "stderr",
     "output_type": "stream",
     "text": [
      "\r",
      "  0%|          | 36/35378 [02:23<101:43:33, 10.36s/it]"
     ]
    },
    {
     "name": "stdout",
     "output_type": "stream",
     "text": [
      "downloading dependencies\n",
      "copy \\\\live.sysinternals.com\\tools\\whois.exe C:\\Users\\ADI\\Desktop\\Major Project\n"
     ]
    },
    {
     "name": "stderr",
     "output_type": "stream",
     "text": [
      "\r",
      "  0%|          | 37/35378 [02:25<74:42:23,  7.61s/it] "
     ]
    },
    {
     "name": "stdout",
     "output_type": "stream",
     "text": [
      "downloading dependencies\n",
      "copy \\\\live.sysinternals.com\\tools\\whois.exe C:\\Users\\ADI\\Desktop\\Major Project\n"
     ]
    },
    {
     "name": "stderr",
     "output_type": "stream",
     "text": [
      "\r",
      "  0%|          | 38/35378 [02:26<56:23:59,  5.75s/it]"
     ]
    },
    {
     "name": "stdout",
     "output_type": "stream",
     "text": [
      "downloading dependencies\n",
      "copy \\\\live.sysinternals.com\\tools\\whois.exe C:\\Users\\ADI\\Desktop\\Major Project\n"
     ]
    },
    {
     "name": "stderr",
     "output_type": "stream",
     "text": [
      "\r",
      "  0%|          | 39/35378 [02:27<41:15:11,  4.20s/it]"
     ]
    },
    {
     "name": "stdout",
     "output_type": "stream",
     "text": [
      "downloading dependencies\n",
      "copy \\\\live.sysinternals.com\\tools\\whois.exe C:\\Users\\ADI\\Desktop\\Major Project\n"
     ]
    },
    {
     "name": "stderr",
     "output_type": "stream",
     "text": [
      "\r",
      "  0%|          | 40/35378 [02:27<30:37:09,  3.12s/it]"
     ]
    },
    {
     "name": "stdout",
     "output_type": "stream",
     "text": [
      "downloading dependencies\n",
      "copy \\\\live.sysinternals.com\\tools\\whois.exe C:\\Users\\ADI\\Desktop\\Major Project\n"
     ]
    },
    {
     "name": "stderr",
     "output_type": "stream",
     "text": [
      "\r",
      "  0%|          | 41/35378 [02:28<23:08:22,  2.36s/it]"
     ]
    },
    {
     "name": "stdout",
     "output_type": "stream",
     "text": [
      "downloading dependencies\n",
      "copy \\\\live.sysinternals.com\\tools\\whois.exe C:\\Users\\ADI\\Desktop\\Major Project\n"
     ]
    },
    {
     "name": "stderr",
     "output_type": "stream",
     "text": [
      "\r",
      "  0%|          | 42/35378 [02:29<19:39:30,  2.00s/it]"
     ]
    },
    {
     "name": "stdout",
     "output_type": "stream",
     "text": [
      "downloading dependencies\n",
      "copy \\\\live.sysinternals.com\\tools\\whois.exe C:\\Users\\ADI\\Desktop\\Major Project\n"
     ]
    },
    {
     "name": "stderr",
     "output_type": "stream",
     "text": [
      "\r",
      "  0%|          | 43/35378 [02:30<15:34:18,  1.59s/it]"
     ]
    },
    {
     "name": "stdout",
     "output_type": "stream",
     "text": [
      "downloading dependencies\n",
      "copy \\\\live.sysinternals.com\\tools\\whois.exe C:\\Users\\ADI\\Desktop\\Major Project\n"
     ]
    },
    {
     "name": "stderr",
     "output_type": "stream",
     "text": [
      "\r",
      "  0%|          | 44/35378 [02:31<14:21:14,  1.46s/it]"
     ]
    },
    {
     "name": "stdout",
     "output_type": "stream",
     "text": [
      "downloading dependencies\n",
      "copy \\\\live.sysinternals.com\\tools\\whois.exe C:\\Users\\ADI\\Desktop\\Major Project\n"
     ]
    },
    {
     "name": "stderr",
     "output_type": "stream",
     "text": [
      "\r",
      "  0%|          | 45/35378 [02:31<11:48:29,  1.20s/it]"
     ]
    },
    {
     "name": "stdout",
     "output_type": "stream",
     "text": [
      "downloading dependencies\n",
      "copy \\\\live.sysinternals.com\\tools\\whois.exe C:\\Users\\ADI\\Desktop\\Major Project\n"
     ]
    },
    {
     "name": "stderr",
     "output_type": "stream",
     "text": [
      "\r",
      "  0%|          | 46/35378 [02:34<16:44:38,  1.71s/it]"
     ]
    },
    {
     "name": "stdout",
     "output_type": "stream",
     "text": [
      "downloading dependencies\n",
      "copy \\\\live.sysinternals.com\\tools\\whois.exe C:\\Users\\ADI\\Desktop\\Major Project\n"
     ]
    },
    {
     "name": "stderr",
     "output_type": "stream",
     "text": [
      "\r",
      "  0%|          | 47/35378 [02:36<16:17:43,  1.66s/it]"
     ]
    },
    {
     "name": "stdout",
     "output_type": "stream",
     "text": [
      "downloading dependencies\n",
      "copy \\\\live.sysinternals.com\\tools\\whois.exe C:\\Users\\ADI\\Desktop\\Major Project\n"
     ]
    },
    {
     "name": "stderr",
     "output_type": "stream",
     "text": [
      "\r",
      "  0%|          | 48/35378 [02:37<15:39:39,  1.60s/it]"
     ]
    },
    {
     "name": "stdout",
     "output_type": "stream",
     "text": [
      "downloading dependencies\n",
      "copy \\\\live.sysinternals.com\\tools\\whois.exe C:\\Users\\ADI\\Desktop\\Major Project\n"
     ]
    },
    {
     "name": "stderr",
     "output_type": "stream",
     "text": [
      "\r",
      "  0%|          | 49/35378 [02:38<14:20:25,  1.46s/it]"
     ]
    },
    {
     "name": "stdout",
     "output_type": "stream",
     "text": [
      "downloading dependencies\n",
      "copy \\\\live.sysinternals.com\\tools\\whois.exe C:\\Users\\ADI\\Desktop\\Major Project\n"
     ]
    },
    {
     "name": "stderr",
     "output_type": "stream",
     "text": [
      "\r",
      "  0%|          | 50/35378 [02:40<14:12:42,  1.45s/it]"
     ]
    },
    {
     "name": "stdout",
     "output_type": "stream",
     "text": [
      "downloading dependencies\n",
      "copy \\\\live.sysinternals.com\\tools\\whois.exe C:\\Users\\ADI\\Desktop\\Major Project\n"
     ]
    },
    {
     "name": "stderr",
     "output_type": "stream",
     "text": [
      "\r",
      "  0%|          | 51/35378 [02:41<14:09:37,  1.44s/it]"
     ]
    },
    {
     "name": "stdout",
     "output_type": "stream",
     "text": [
      "downloading dependencies\n",
      "copy \\\\live.sysinternals.com\\tools\\whois.exe C:\\Users\\ADI\\Desktop\\Major Project\n"
     ]
    },
    {
     "name": "stderr",
     "output_type": "stream",
     "text": [
      "\r",
      "  0%|          | 52/35378 [02:42<13:13:01,  1.35s/it]"
     ]
    },
    {
     "name": "stdout",
     "output_type": "stream",
     "text": [
      "downloading dependencies\n",
      "copy \\\\live.sysinternals.com\\tools\\whois.exe C:\\Users\\ADI\\Desktop\\Major Project\n"
     ]
    },
    {
     "name": "stderr",
     "output_type": "stream",
     "text": [
      "\r",
      "  0%|          | 53/35378 [02:44<13:32:43,  1.38s/it]"
     ]
    },
    {
     "name": "stdout",
     "output_type": "stream",
     "text": [
      "downloading dependencies\n",
      "copy \\\\live.sysinternals.com\\tools\\whois.exe C:\\Users\\ADI\\Desktop\\Major Project\n"
     ]
    },
    {
     "name": "stderr",
     "output_type": "stream",
     "text": [
      "\r",
      "  0%|          | 54/35378 [02:46<15:14:52,  1.55s/it]"
     ]
    },
    {
     "name": "stdout",
     "output_type": "stream",
     "text": [
      "downloading dependencies\n",
      "copy \\\\live.sysinternals.com\\tools\\whois.exe C:\\Users\\ADI\\Desktop\\Major Project\n"
     ]
    },
    {
     "name": "stderr",
     "output_type": "stream",
     "text": [
      "\r",
      "  0%|          | 55/35378 [02:49<20:02:07,  2.04s/it]"
     ]
    },
    {
     "name": "stdout",
     "output_type": "stream",
     "text": [
      "downloading dependencies\n",
      "copy \\\\live.sysinternals.com\\tools\\whois.exe C:\\Users\\ADI\\Desktop\\Major Project\n"
     ]
    },
    {
     "name": "stderr",
     "output_type": "stream",
     "text": [
      "\r",
      "  0%|          | 56/35378 [02:50<15:55:15,  1.62s/it]"
     ]
    },
    {
     "name": "stdout",
     "output_type": "stream",
     "text": [
      "downloading dependencies\n",
      "copy \\\\live.sysinternals.com\\tools\\whois.exe C:\\Users\\ADI\\Desktop\\Major Project\n"
     ]
    },
    {
     "name": "stderr",
     "output_type": "stream",
     "text": [
      "\r",
      "  0%|          | 57/35378 [02:50<12:26:22,  1.27s/it]"
     ]
    },
    {
     "name": "stdout",
     "output_type": "stream",
     "text": [
      "downloading dependencies\n",
      "copy \\\\live.sysinternals.com\\tools\\whois.exe C:\\Users\\ADI\\Desktop\\Major Project\n"
     ]
    },
    {
     "name": "stderr",
     "output_type": "stream",
     "text": [
      "\r",
      "  0%|          | 58/35378 [02:52<14:00:42,  1.43s/it]"
     ]
    },
    {
     "name": "stdout",
     "output_type": "stream",
     "text": [
      "downloading dependencies\n",
      "copy \\\\live.sysinternals.com\\tools\\whois.exe C:\\Users\\ADI\\Desktop\\Major Project\n"
     ]
    },
    {
     "name": "stderr",
     "output_type": "stream",
     "text": [
      "\r",
      "  0%|          | 59/35378 [02:52<11:42:47,  1.19s/it]"
     ]
    },
    {
     "name": "stdout",
     "output_type": "stream",
     "text": [
      "downloading dependencies\n",
      "copy \\\\live.sysinternals.com\\tools\\whois.exe C:\\Users\\ADI\\Desktop\\Major Project\n"
     ]
    },
    {
     "name": "stderr",
     "output_type": "stream",
     "text": [
      "\r",
      "  0%|          | 60/35378 [03:19<87:17:30,  8.90s/it]"
     ]
    },
    {
     "name": "stdout",
     "output_type": "stream",
     "text": [
      "downloading dependencies\n",
      "copy \\\\live.sysinternals.com\\tools\\whois.exe C:\\Users\\ADI\\Desktop\\Major Project\n"
     ]
    },
    {
     "name": "stderr",
     "output_type": "stream",
     "text": [
      "\r",
      "  0%|          | 61/35378 [03:20<63:05:23,  6.43s/it]"
     ]
    },
    {
     "name": "stdout",
     "output_type": "stream",
     "text": [
      "downloading dependencies\n",
      "copy \\\\live.sysinternals.com\\tools\\whois.exe C:\\Users\\ADI\\Desktop\\Major Project\n"
     ]
    },
    {
     "name": "stderr",
     "output_type": "stream",
     "text": [
      "\r",
      "  0%|          | 62/35378 [03:21<46:31:45,  4.74s/it]"
     ]
    },
    {
     "name": "stdout",
     "output_type": "stream",
     "text": [
      "downloading dependencies\n",
      "copy \\\\live.sysinternals.com\\tools\\whois.exe C:\\Users\\ADI\\Desktop\\Major Project\n"
     ]
    },
    {
     "name": "stderr",
     "output_type": "stream",
     "text": [
      "\r",
      "  0%|          | 63/35378 [03:21<34:25:10,  3.51s/it]"
     ]
    },
    {
     "name": "stdout",
     "output_type": "stream",
     "text": [
      "downloading dependencies\n",
      "copy \\\\live.sysinternals.com\\tools\\whois.exe C:\\Users\\ADI\\Desktop\\Major Project\n"
     ]
    },
    {
     "name": "stderr",
     "output_type": "stream",
     "text": [
      "\r",
      "  0%|          | 64/35378 [03:22<26:00:17,  2.65s/it]"
     ]
    },
    {
     "name": "stdout",
     "output_type": "stream",
     "text": [
      "downloading dependencies\n",
      "copy \\\\live.sysinternals.com\\tools\\whois.exe C:\\Users\\ADI\\Desktop\\Major Project\n"
     ]
    },
    {
     "name": "stderr",
     "output_type": "stream",
     "text": [
      "\r",
      "  0%|          | 65/35378 [03:23<20:11:27,  2.06s/it]"
     ]
    },
    {
     "name": "stdout",
     "output_type": "stream",
     "text": [
      "downloading dependencies\n",
      "copy \\\\live.sysinternals.com\\tools\\whois.exe C:\\Users\\ADI\\Desktop\\Major Project\n"
     ]
    },
    {
     "name": "stderr",
     "output_type": "stream",
     "text": [
      "\r",
      "  0%|          | 66/35378 [03:23<16:04:51,  1.64s/it]"
     ]
    },
    {
     "name": "stdout",
     "output_type": "stream",
     "text": [
      "downloading dependencies\n",
      "copy \\\\live.sysinternals.com\\tools\\whois.exe C:\\Users\\ADI\\Desktop\\Major Project\n"
     ]
    },
    {
     "name": "stderr",
     "output_type": "stream",
     "text": [
      "\r",
      "  0%|          | 67/35378 [03:24<13:34:10,  1.38s/it]"
     ]
    },
    {
     "name": "stdout",
     "output_type": "stream",
     "text": [
      "downloading dependencies\n",
      "copy \\\\live.sysinternals.com\\tools\\whois.exe C:\\Users\\ADI\\Desktop\\Major Project\n"
     ]
    },
    {
     "name": "stderr",
     "output_type": "stream",
     "text": [
      "\r",
      "  0%|          | 68/35378 [03:25<10:40:18,  1.09s/it]"
     ]
    },
    {
     "name": "stdout",
     "output_type": "stream",
     "text": [
      "downloading dependencies\n",
      "copy \\\\live.sysinternals.com\\tools\\whois.exe C:\\Users\\ADI\\Desktop\\Major Project\n"
     ]
    },
    {
     "name": "stderr",
     "output_type": "stream",
     "text": [
      "\r",
      "  0%|          | 69/35378 [03:25<8:41:05,  1.13it/s] "
     ]
    },
    {
     "name": "stdout",
     "output_type": "stream",
     "text": [
      "downloading dependencies\n",
      "copy \\\\live.sysinternals.com\\tools\\whois.exe C:\\Users\\ADI\\Desktop\\Major Project\n"
     ]
    },
    {
     "name": "stderr",
     "output_type": "stream",
     "text": [
      "\r",
      "  0%|          | 70/35378 [03:25<7:15:10,  1.35it/s]"
     ]
    },
    {
     "name": "stdout",
     "output_type": "stream",
     "text": [
      "downloading dependencies\n",
      "copy \\\\live.sysinternals.com\\tools\\whois.exe C:\\Users\\ADI\\Desktop\\Major Project\n"
     ]
    },
    {
     "name": "stderr",
     "output_type": "stream",
     "text": [
      "\r",
      "  0%|          | 71/35378 [03:27<10:24:11,  1.06s/it]"
     ]
    },
    {
     "name": "stdout",
     "output_type": "stream",
     "text": [
      "downloading dependencies\n",
      "copy \\\\live.sysinternals.com\\tools\\whois.exe C:\\Users\\ADI\\Desktop\\Major Project\n"
     ]
    },
    {
     "name": "stderr",
     "output_type": "stream",
     "text": [
      "\r",
      "  0%|          | 72/35378 [03:28<10:38:31,  1.09s/it]"
     ]
    },
    {
     "name": "stdout",
     "output_type": "stream",
     "text": [
      "downloading dependencies\n",
      "copy \\\\live.sysinternals.com\\tools\\whois.exe C:\\Users\\ADI\\Desktop\\Major Project\n"
     ]
    },
    {
     "name": "stderr",
     "output_type": "stream",
     "text": [
      "\r",
      "  0%|          | 73/35378 [03:29<9:41:07,  1.01it/s] "
     ]
    },
    {
     "name": "stdout",
     "output_type": "stream",
     "text": [
      "downloading dependencies\n",
      "copy \\\\live.sysinternals.com\\tools\\whois.exe C:\\Users\\ADI\\Desktop\\Major Project\n"
     ]
    },
    {
     "name": "stderr",
     "output_type": "stream",
     "text": [
      "\r",
      "  0%|          | 74/35378 [03:30<9:02:43,  1.08it/s]"
     ]
    },
    {
     "name": "stdout",
     "output_type": "stream",
     "text": [
      "downloading dependencies\n",
      "copy \\\\live.sysinternals.com\\tools\\whois.exe C:\\Users\\ADI\\Desktop\\Major Project\n"
     ]
    },
    {
     "name": "stderr",
     "output_type": "stream",
     "text": [
      "\r",
      "  0%|          | 75/35378 [03:32<11:47:13,  1.20s/it]"
     ]
    },
    {
     "name": "stdout",
     "output_type": "stream",
     "text": [
      "downloading dependencies\n",
      "copy \\\\live.sysinternals.com\\tools\\whois.exe C:\\Users\\ADI\\Desktop\\Major Project\n"
     ]
    },
    {
     "name": "stderr",
     "output_type": "stream",
     "text": [
      "\r",
      "  0%|          | 76/35378 [03:53<71:41:03,  7.31s/it]"
     ]
    },
    {
     "name": "stdout",
     "output_type": "stream",
     "text": [
      "downloading dependencies\n",
      "copy \\\\live.sysinternals.com\\tools\\whois.exe C:\\Users\\ADI\\Desktop\\Major Project\n"
     ]
    },
    {
     "name": "stderr",
     "output_type": "stream",
     "text": [
      "\r",
      "  0%|          | 77/35378 [04:22<133:51:41, 13.65s/it]"
     ]
    },
    {
     "name": "stdout",
     "output_type": "stream",
     "text": [
      "downloading dependencies\n",
      "copy \\\\live.sysinternals.com\\tools\\whois.exe C:\\Users\\ADI\\Desktop\\Major Project\n"
     ]
    },
    {
     "name": "stderr",
     "output_type": "stream",
     "text": [
      "\r",
      "  0%|          | 78/35378 [04:23<98:19:06, 10.03s/it] "
     ]
    },
    {
     "name": "stdout",
     "output_type": "stream",
     "text": [
      "downloading dependencies\n",
      "copy \\\\live.sysinternals.com\\tools\\whois.exe C:\\Users\\ADI\\Desktop\\Major Project\n"
     ]
    },
    {
     "name": "stderr",
     "output_type": "stream",
     "text": [
      "\r",
      "  0%|          | 79/35378 [04:25<73:28:01,  7.49s/it]"
     ]
    },
    {
     "name": "stdout",
     "output_type": "stream",
     "text": [
      "downloading dependencies\n",
      "copy \\\\live.sysinternals.com\\tools\\whois.exe C:\\Users\\ADI\\Desktop\\Major Project\n"
     ]
    },
    {
     "name": "stderr",
     "output_type": "stream",
     "text": [
      "\r",
      "  0%|          | 80/35378 [04:27<59:01:08,  6.02s/it]"
     ]
    },
    {
     "name": "stdout",
     "output_type": "stream",
     "text": [
      "downloading dependencies\n",
      "copy \\\\live.sysinternals.com\\tools\\whois.exe C:\\Users\\ADI\\Desktop\\Major Project\n"
     ]
    },
    {
     "name": "stderr",
     "output_type": "stream",
     "text": [
      "\r",
      "  0%|          | 81/35378 [04:29<46:04:32,  4.70s/it]"
     ]
    },
    {
     "name": "stdout",
     "output_type": "stream",
     "text": [
      "downloading dependencies\n",
      "copy \\\\live.sysinternals.com\\tools\\whois.exe C:\\Users\\ADI\\Desktop\\Major Project\n"
     ]
    },
    {
     "name": "stderr",
     "output_type": "stream",
     "text": [
      "\r",
      "  0%|          | 82/35378 [04:41<67:13:50,  6.86s/it]"
     ]
    },
    {
     "name": "stdout",
     "output_type": "stream",
     "text": [
      "downloading dependencies\n",
      "copy \\\\live.sysinternals.com\\tools\\whois.exe C:\\Users\\ADI\\Desktop\\Major Project\n"
     ]
    },
    {
     "name": "stderr",
     "output_type": "stream",
     "text": [
      "\r",
      "  0%|          | 83/35378 [04:51<76:56:36,  7.85s/it]"
     ]
    },
    {
     "name": "stdout",
     "output_type": "stream",
     "text": [
      "downloading dependencies\n",
      "copy \\\\live.sysinternals.com\\tools\\whois.exe C:\\Users\\ADI\\Desktop\\Major Project\n"
     ]
    },
    {
     "name": "stderr",
     "output_type": "stream",
     "text": [
      "\r",
      "  0%|          | 84/35378 [05:40<197:44:47, 20.17s/it]"
     ]
    },
    {
     "name": "stdout",
     "output_type": "stream",
     "text": [
      "downloading dependencies\n",
      "copy \\\\live.sysinternals.com\\tools\\whois.exe C:\\Users\\ADI\\Desktop\\Major Project\n"
     ]
    },
    {
     "name": "stderr",
     "output_type": "stream",
     "text": [
      "\r",
      "  0%|          | 85/35378 [05:50<168:16:35, 17.16s/it]"
     ]
    },
    {
     "name": "stdout",
     "output_type": "stream",
     "text": [
      "downloading dependencies\n",
      "copy \\\\live.sysinternals.com\\tools\\whois.exe C:\\Users\\ADI\\Desktop\\Major Project\n"
     ]
    },
    {
     "name": "stderr",
     "output_type": "stream",
     "text": [
      "\r",
      "  0%|          | 86/35378 [06:28<228:41:30, 23.33s/it]"
     ]
    },
    {
     "name": "stdout",
     "output_type": "stream",
     "text": [
      "downloading dependencies\n",
      "copy \\\\live.sysinternals.com\\tools\\whois.exe C:\\Users\\ADI\\Desktop\\Major Project\n"
     ]
    },
    {
     "name": "stderr",
     "output_type": "stream",
     "text": [
      "\r",
      "  0%|          | 87/35378 [06:29<163:10:47, 16.65s/it]"
     ]
    },
    {
     "name": "stdout",
     "output_type": "stream",
     "text": [
      "downloading dependencies\n",
      "copy \\\\live.sysinternals.com\\tools\\whois.exe C:\\Users\\ADI\\Desktop\\Major Project\n"
     ]
    },
    {
     "name": "stderr",
     "output_type": "stream",
     "text": [
      "\r",
      "  0%|          | 88/35378 [06:30<115:51:59, 11.82s/it]"
     ]
    },
    {
     "name": "stdout",
     "output_type": "stream",
     "text": [
      "downloading dependencies\n",
      "copy \\\\live.sysinternals.com\\tools\\whois.exe C:\\Users\\ADI\\Desktop\\Major Project\n"
     ]
    },
    {
     "name": "stderr",
     "output_type": "stream",
     "text": [
      "\r",
      "  0%|          | 89/35378 [06:30<82:46:09,  8.44s/it] "
     ]
    },
    {
     "name": "stdout",
     "output_type": "stream",
     "text": [
      "downloading dependencies\n",
      "copy \\\\live.sysinternals.com\\tools\\whois.exe C:\\Users\\ADI\\Desktop\\Major Project\n"
     ]
    },
    {
     "name": "stderr",
     "output_type": "stream",
     "text": [
      "\r",
      "  0%|          | 90/35378 [06:32<64:23:28,  6.57s/it]"
     ]
    },
    {
     "name": "stdout",
     "output_type": "stream",
     "text": [
      "downloading dependencies\n",
      "copy \\\\live.sysinternals.com\\tools\\whois.exe C:\\Users\\ADI\\Desktop\\Major Project\n"
     ]
    },
    {
     "name": "stderr",
     "output_type": "stream",
     "text": [
      "\r",
      "  0%|          | 91/35378 [06:37<58:35:32,  5.98s/it]"
     ]
    },
    {
     "name": "stdout",
     "output_type": "stream",
     "text": [
      "downloading dependencies\n",
      "copy \\\\live.sysinternals.com\\tools\\whois.exe C:\\Users\\ADI\\Desktop\\Major Project\n"
     ]
    },
    {
     "name": "stderr",
     "output_type": "stream",
     "text": [
      "\r",
      "  0%|          | 92/35378 [06:40<50:02:15,  5.11s/it]"
     ]
    },
    {
     "name": "stdout",
     "output_type": "stream",
     "text": [
      "downloading dependencies\n",
      "copy \\\\live.sysinternals.com\\tools\\whois.exe C:\\Users\\ADI\\Desktop\\Major Project\n"
     ]
    },
    {
     "name": "stderr",
     "output_type": "stream",
     "text": [
      "\r",
      "  0%|          | 93/35378 [06:43<44:10:02,  4.51s/it]"
     ]
    },
    {
     "name": "stdout",
     "output_type": "stream",
     "text": [
      "downloading dependencies\n",
      "copy \\\\live.sysinternals.com\\tools\\whois.exe C:\\Users\\ADI\\Desktop\\Major Project\n"
     ]
    },
    {
     "name": "stderr",
     "output_type": "stream",
     "text": [
      "\r",
      "  0%|          | 94/35378 [06:45<36:22:04,  3.71s/it]"
     ]
    },
    {
     "name": "stdout",
     "output_type": "stream",
     "text": [
      "downloading dependencies\n",
      "copy \\\\live.sysinternals.com\\tools\\whois.exe C:\\Users\\ADI\\Desktop\\Major Project\n"
     ]
    },
    {
     "name": "stderr",
     "output_type": "stream",
     "text": [
      "\r",
      "  0%|          | 95/35378 [06:46<28:58:13,  2.96s/it]"
     ]
    },
    {
     "name": "stdout",
     "output_type": "stream",
     "text": [
      "downloading dependencies\n",
      "copy \\\\live.sysinternals.com\\tools\\whois.exe C:\\Users\\ADI\\Desktop\\Major Project\n"
     ]
    },
    {
     "name": "stderr",
     "output_type": "stream",
     "text": [
      "\r",
      "  0%|          | 96/35378 [06:47<22:41:31,  2.32s/it]"
     ]
    },
    {
     "name": "stdout",
     "output_type": "stream",
     "text": [
      "downloading dependencies\n",
      "copy \\\\live.sysinternals.com\\tools\\whois.exe C:\\Users\\ADI\\Desktop\\Major Project\n"
     ]
    },
    {
     "name": "stderr",
     "output_type": "stream",
     "text": [
      "\r",
      "  0%|          | 97/35378 [07:15<98:39:15, 10.07s/it]"
     ]
    },
    {
     "name": "stdout",
     "output_type": "stream",
     "text": [
      "downloading dependencies\n",
      "copy \\\\live.sysinternals.com\\tools\\whois.exe C:\\Users\\ADI\\Desktop\\Major Project\n"
     ]
    },
    {
     "name": "stderr",
     "output_type": "stream",
     "text": [
      "\r",
      "  0%|          | 98/35378 [07:16<72:59:43,  7.45s/it]"
     ]
    },
    {
     "name": "stdout",
     "output_type": "stream",
     "text": [
      "downloading dependencies\n",
      "copy \\\\live.sysinternals.com\\tools\\whois.exe C:\\Users\\ADI\\Desktop\\Major Project\n"
     ]
    },
    {
     "name": "stderr",
     "output_type": "stream",
     "text": [
      "\r",
      "  0%|          | 99/35378 [07:17<53:26:21,  5.45s/it]"
     ]
    },
    {
     "name": "stdout",
     "output_type": "stream",
     "text": [
      "downloading dependencies\n",
      "copy \\\\live.sysinternals.com\\tools\\whois.exe C:\\Users\\ADI\\Desktop\\Major Project\n"
     ]
    },
    {
     "name": "stderr",
     "output_type": "stream",
     "text": [
      "\r",
      "  0%|          | 100/35378 [07:19<42:21:51,  4.32s/it]"
     ]
    },
    {
     "name": "stdout",
     "output_type": "stream",
     "text": [
      "downloading dependencies\n",
      "copy \\\\live.sysinternals.com\\tools\\whois.exe C:\\Users\\ADI\\Desktop\\Major Project\n"
     ]
    },
    {
     "name": "stderr",
     "output_type": "stream",
     "text": [
      "\r",
      "  0%|          | 101/35378 [07:20<31:47:41,  3.24s/it]"
     ]
    },
    {
     "name": "stdout",
     "output_type": "stream",
     "text": [
      "downloading dependencies\n",
      "copy \\\\live.sysinternals.com\\tools\\whois.exe C:\\Users\\ADI\\Desktop\\Major Project\n"
     ]
    },
    {
     "name": "stderr",
     "output_type": "stream",
     "text": [
      "\r",
      "  0%|          | 102/35378 [07:21<26:09:35,  2.67s/it]"
     ]
    },
    {
     "name": "stdout",
     "output_type": "stream",
     "text": [
      "downloading dependencies\n",
      "copy \\\\live.sysinternals.com\\tools\\whois.exe C:\\Users\\ADI\\Desktop\\Major Project\n"
     ]
    },
    {
     "name": "stderr",
     "output_type": "stream",
     "text": [
      "\r",
      "  0%|          | 103/35378 [07:22<20:29:40,  2.09s/it]"
     ]
    },
    {
     "name": "stdout",
     "output_type": "stream",
     "text": [
      "downloading dependencies\n",
      "copy \\\\live.sysinternals.com\\tools\\whois.exe C:\\Users\\ADI\\Desktop\\Major Project\n"
     ]
    },
    {
     "name": "stderr",
     "output_type": "stream",
     "text": [
      "\r",
      "  0%|          | 104/35378 [07:22<15:58:50,  1.63s/it]"
     ]
    },
    {
     "name": "stdout",
     "output_type": "stream",
     "text": [
      "downloading dependencies\n",
      "copy \\\\live.sysinternals.com\\tools\\whois.exe C:\\Users\\ADI\\Desktop\\Major Project\n"
     ]
    },
    {
     "name": "stderr",
     "output_type": "stream",
     "text": [
      "\r",
      "  0%|          | 105/35378 [07:23<12:39:16,  1.29s/it]"
     ]
    },
    {
     "name": "stdout",
     "output_type": "stream",
     "text": [
      "downloading dependencies\n",
      "copy \\\\live.sysinternals.com\\tools\\whois.exe C:\\Users\\ADI\\Desktop\\Major Project\n"
     ]
    },
    {
     "name": "stderr",
     "output_type": "stream",
     "text": [
      "\r",
      "  0%|          | 106/35378 [07:24<12:27:59,  1.27s/it]"
     ]
    },
    {
     "name": "stdout",
     "output_type": "stream",
     "text": [
      "downloading dependencies\n",
      "copy \\\\live.sysinternals.com\\tools\\whois.exe C:\\Users\\ADI\\Desktop\\Major Project\n"
     ]
    },
    {
     "name": "stderr",
     "output_type": "stream",
     "text": [
      "\r",
      "  0%|          | 107/35378 [07:25<10:42:15,  1.09s/it]"
     ]
    },
    {
     "name": "stdout",
     "output_type": "stream",
     "text": [
      "downloading dependencies\n",
      "copy \\\\live.sysinternals.com\\tools\\whois.exe C:\\Users\\ADI\\Desktop\\Major Project\n"
     ]
    },
    {
     "name": "stderr",
     "output_type": "stream",
     "text": [
      "\r",
      "  0%|          | 108/35378 [07:25<9:03:43,  1.08it/s] "
     ]
    },
    {
     "name": "stdout",
     "output_type": "stream",
     "text": [
      "downloading dependencies\n",
      "copy \\\\live.sysinternals.com\\tools\\whois.exe C:\\Users\\ADI\\Desktop\\Major Project\n"
     ]
    },
    {
     "name": "stderr",
     "output_type": "stream",
     "text": [
      "\r",
      "  0%|          | 109/35378 [07:26<7:51:45,  1.25it/s]"
     ]
    },
    {
     "name": "stdout",
     "output_type": "stream",
     "text": [
      "downloading dependencies\n",
      "copy \\\\live.sysinternals.com\\tools\\whois.exe C:\\Users\\ADI\\Desktop\\Major Project\n"
     ]
    },
    {
     "name": "stderr",
     "output_type": "stream",
     "text": [
      "\r",
      "  0%|          | 110/35378 [07:33<25:26:40,  2.60s/it]"
     ]
    },
    {
     "name": "stdout",
     "output_type": "stream",
     "text": [
      "downloading dependencies\n",
      "copy \\\\live.sysinternals.com\\tools\\whois.exe C:\\Users\\ADI\\Desktop\\Major Project\n"
     ]
    },
    {
     "name": "stderr",
     "output_type": "stream",
     "text": [
      "\r",
      "  0%|          | 111/35378 [07:35<25:30:35,  2.60s/it]"
     ]
    },
    {
     "name": "stdout",
     "output_type": "stream",
     "text": [
      "downloading dependencies\n",
      "copy \\\\live.sysinternals.com\\tools\\whois.exe C:\\Users\\ADI\\Desktop\\Major Project\n"
     ]
    },
    {
     "name": "stderr",
     "output_type": "stream",
     "text": [
      "\r",
      "  0%|          | 112/35378 [07:38<25:39:17,  2.62s/it]"
     ]
    },
    {
     "name": "stdout",
     "output_type": "stream",
     "text": [
      "downloading dependencies\n",
      "copy \\\\live.sysinternals.com\\tools\\whois.exe C:\\Users\\ADI\\Desktop\\Major Project\n"
     ]
    },
    {
     "name": "stderr",
     "output_type": "stream",
     "text": [
      "\r",
      "  0%|          | 113/35378 [07:40<25:43:21,  2.63s/it]"
     ]
    },
    {
     "name": "stdout",
     "output_type": "stream",
     "text": [
      "downloading dependencies\n",
      "copy \\\\live.sysinternals.com\\tools\\whois.exe C:\\Users\\ADI\\Desktop\\Major Project\n"
     ]
    },
    {
     "name": "stderr",
     "output_type": "stream",
     "text": [
      "\r",
      "  0%|          | 114/35378 [07:43<25:48:01,  2.63s/it]"
     ]
    },
    {
     "name": "stdout",
     "output_type": "stream",
     "text": [
      "downloading dependencies\n",
      "copy \\\\live.sysinternals.com\\tools\\whois.exe C:\\Users\\ADI\\Desktop\\Major Project\n"
     ]
    },
    {
     "name": "stderr",
     "output_type": "stream",
     "text": [
      "\r",
      "  0%|          | 115/35378 [07:46<25:52:49,  2.64s/it]"
     ]
    },
    {
     "name": "stdout",
     "output_type": "stream",
     "text": [
      "downloading dependencies\n",
      "copy \\\\live.sysinternals.com\\tools\\whois.exe C:\\Users\\ADI\\Desktop\\Major Project\n"
     ]
    },
    {
     "name": "stderr",
     "output_type": "stream",
     "text": [
      "\r",
      "  0%|          | 116/35378 [08:14<102:10:55, 10.43s/it]"
     ]
    },
    {
     "name": "stdout",
     "output_type": "stream",
     "text": [
      "downloading dependencies\n",
      "copy \\\\live.sysinternals.com\\tools\\whois.exe C:\\Users\\ADI\\Desktop\\Major Project\n"
     ]
    },
    {
     "name": "stderr",
     "output_type": "stream",
     "text": [
      "\r",
      "  0%|          | 117/35378 [08:17<79:18:03,  8.10s/it] "
     ]
    },
    {
     "name": "stdout",
     "output_type": "stream",
     "text": [
      "downloading dependencies\n",
      "copy \\\\live.sysinternals.com\\tools\\whois.exe C:\\Users\\ADI\\Desktop\\Major Project\n"
     ]
    },
    {
     "name": "stderr",
     "output_type": "stream",
     "text": [
      "\r",
      "  0%|          | 118/35378 [08:20<63:27:02,  6.48s/it]"
     ]
    },
    {
     "name": "stdout",
     "output_type": "stream",
     "text": [
      "downloading dependencies\n",
      "copy \\\\live.sysinternals.com\\tools\\whois.exe C:\\Users\\ADI\\Desktop\\Major Project\n"
     ]
    },
    {
     "name": "stderr",
     "output_type": "stream",
     "text": [
      "\r",
      "  0%|          | 119/35378 [08:23<53:26:53,  5.46s/it]"
     ]
    },
    {
     "name": "stdout",
     "output_type": "stream",
     "text": [
      "downloading dependencies\n",
      "copy \\\\live.sysinternals.com\\tools\\whois.exe C:\\Users\\ADI\\Desktop\\Major Project\n"
     ]
    },
    {
     "name": "stderr",
     "output_type": "stream",
     "text": [
      "\r",
      "  0%|          | 120/35378 [08:26<46:28:09,  4.74s/it]"
     ]
    },
    {
     "name": "stdout",
     "output_type": "stream",
     "text": [
      "downloading dependencies\n",
      "copy \\\\live.sysinternals.com\\tools\\whois.exe C:\\Users\\ADI\\Desktop\\Major Project\n"
     ]
    },
    {
     "name": "stderr",
     "output_type": "stream",
     "text": [
      "\r",
      "  0%|          | 121/35378 [08:26<34:24:15,  3.51s/it]"
     ]
    },
    {
     "name": "stdout",
     "output_type": "stream",
     "text": [
      "downloading dependencies\n",
      "copy \\\\live.sysinternals.com\\tools\\whois.exe C:\\Users\\ADI\\Desktop\\Major Project\n"
     ]
    },
    {
     "name": "stderr",
     "output_type": "stream",
     "text": [
      "\r",
      "  0%|          | 122/35378 [08:27<24:54:51,  2.54s/it]"
     ]
    },
    {
     "name": "stdout",
     "output_type": "stream",
     "text": [
      "downloading dependencies\n",
      "copy \\\\live.sysinternals.com\\tools\\whois.exe C:\\Users\\ADI\\Desktop\\Major Project\n"
     ]
    },
    {
     "name": "stderr",
     "output_type": "stream",
     "text": [
      "\r",
      "  0%|          | 123/35378 [08:27<18:17:42,  1.87s/it]"
     ]
    },
    {
     "name": "stdout",
     "output_type": "stream",
     "text": [
      "downloading dependencies\n",
      "copy \\\\live.sysinternals.com\\tools\\whois.exe C:\\Users\\ADI\\Desktop\\Major Project\n"
     ]
    },
    {
     "name": "stderr",
     "output_type": "stream",
     "text": [
      "\r",
      "  0%|          | 124/35378 [08:31<23:51:10,  2.44s/it]"
     ]
    },
    {
     "name": "stdout",
     "output_type": "stream",
     "text": [
      "downloading dependencies\n",
      "copy \\\\live.sysinternals.com\\tools\\whois.exe C:\\Users\\ADI\\Desktop\\Major Project\n"
     ]
    },
    {
     "name": "stderr",
     "output_type": "stream",
     "text": [
      "\r",
      "  0%|          | 125/35378 [08:34<26:04:45,  2.66s/it]"
     ]
    },
    {
     "name": "stdout",
     "output_type": "stream",
     "text": [
      "Unknown TLD: .vn\n",
      "Valid TLDs: .ac_uk .am .amsterdam .ar .at .au .bank .be .biz .br .by .ca .cc .cl .club .cn .co .co_il .co_jp .com .com_au .com_tr .cr .cz .de .download .edu .education .eu .fi .fm .fr .frl .game .global_ .hk .id_ .ie .im .in_ .info .ink .io .ir .is_ .it .jp .kr .kz .link .lt .lv .me .mobi .mu .mx .name .net .ninja .nl .nu .nyc .nz .online .org .pe .pharmacy .pl .press .pro .pt .pub .pw .rest .ru .ru_rf .rw .sale .se .security .sh .site .space .store .tech .tel .theatre .tickets .trade .tv .ua .uk .us .uz .video .website .wiki .work .xyz .za "
     ]
    },
    {
     "name": "stderr",
     "output_type": "stream",
     "text": [
      "\r",
      "  0%|          | 126/35378 [08:43<43:56:05,  4.49s/it]"
     ]
    },
    {
     "name": "stdout",
     "output_type": "stream",
     "text": [
      "Unknown TLD: .vn\n",
      "Valid TLDs: .ac_uk .am .amsterdam .ar .at .au .bank .be .biz .br .by .ca .cc .cl .club .cn .co .co_il .co_jp .com .com_au .com_tr .cr .cz .de .download .edu .education .eu .fi .fm .fr .frl .game .global_ .hk .id_ .ie .im .in_ .info .ink .io .ir .is_ .it .jp .kr .kz .link .lt .lv .me .mobi .mu .mx .name .net .ninja .nl .nu .nyc .nz .online .org .pe .pharmacy .pl .press .pro .pt .pub .pw .rest .ru .ru_rf .rw .sale .se .security .sh .site .space .store .tech .tel .theatre .tickets .trade .tv .ua .uk .us .uz .video .website .wiki .work .xyz .za "
     ]
    },
    {
     "name": "stderr",
     "output_type": "stream",
     "text": [
      "\r",
      "  0%|          | 127/35378 [08:44<32:58:14,  3.37s/it]"
     ]
    },
    {
     "name": "stdout",
     "output_type": "stream",
     "text": [
      "Unknown TLD: .vn\n",
      "Valid TLDs: .ac_uk .am .amsterdam .ar .at .au .bank .be .biz .br .by .ca .cc .cl .club .cn .co .co_il .co_jp .com .com_au .com_tr .cr .cz .de .download .edu .education .eu .fi .fm .fr .frl .game .global_ .hk .id_ .ie .im .in_ .info .ink .io .ir .is_ .it .jp .kr .kz .link .lt .lv .me .mobi .mu .mx .name .net .ninja .nl .nu .nyc .nz .online .org .pe .pharmacy .pl .press .pro .pt .pub .pw .rest .ru .ru_rf .rw .sale .se .security .sh .site .space .store .tech .tel .theatre .tickets .trade .tv .ua .uk .us .uz .video .website .wiki .work .xyz .za "
     ]
    },
    {
     "name": "stderr",
     "output_type": "stream",
     "text": [
      "\r",
      "  0%|          | 128/35378 [08:47<34:43:07,  3.55s/it]"
     ]
    },
    {
     "name": "stdout",
     "output_type": "stream",
     "text": [
      "Unknown TLD: .vn\n",
      "Valid TLDs: .ac_uk .am .amsterdam .ar .at .au .bank .be .biz .br .by .ca .cc .cl .club .cn .co .co_il .co_jp .com .com_au .com_tr .cr .cz .de .download .edu .education .eu .fi .fm .fr .frl .game .global_ .hk .id_ .ie .im .in_ .info .ink .io .ir .is_ .it .jp .kr .kz .link .lt .lv .me .mobi .mu .mx .name .net .ninja .nl .nu .nyc .nz .online .org .pe .pharmacy .pl .press .pro .pt .pub .pw .rest .ru .ru_rf .rw .sale .se .security .sh .site .space .store .tech .tel .theatre .tickets .trade .tv .ua .uk .us .uz .video .website .wiki .work .xyz .za "
     ]
    },
    {
     "name": "stderr",
     "output_type": "stream",
     "text": [
      "\r",
      "  0%|          | 129/35378 [08:48<26:55:14,  2.75s/it]"
     ]
    },
    {
     "name": "stdout",
     "output_type": "stream",
     "text": [
      "downloading dependencies\n",
      "copy \\\\live.sysinternals.com\\tools\\whois.exe C:\\Users\\ADI\\Desktop\\Major Project\n"
     ]
    },
    {
     "name": "stderr",
     "output_type": "stream",
     "text": [
      "\r",
      "  0%|          | 130/35378 [09:15<97:44:55,  9.98s/it]"
     ]
    },
    {
     "name": "stdout",
     "output_type": "stream",
     "text": [
      "downloading dependencies\n",
      "copy \\\\live.sysinternals.com\\tools\\whois.exe C:\\Users\\ADI\\Desktop\\Major Project\n"
     ]
    },
    {
     "name": "stderr",
     "output_type": "stream",
     "text": [
      "\r",
      "  0%|          | 131/35378 [09:16<69:59:35,  7.15s/it]"
     ]
    },
    {
     "name": "stdout",
     "output_type": "stream",
     "text": [
      "downloading dependencies\n",
      "copy \\\\live.sysinternals.com\\tools\\whois.exe C:\\Users\\ADI\\Desktop\\Major Project\n"
     ]
    },
    {
     "name": "stderr",
     "output_type": "stream",
     "text": [
      "\r",
      "  0%|          | 132/35378 [09:16<50:38:41,  5.17s/it]"
     ]
    },
    {
     "name": "stdout",
     "output_type": "stream",
     "text": [
      "downloading dependencies\n",
      "copy \\\\live.sysinternals.com\\tools\\whois.exe C:\\Users\\ADI\\Desktop\\Major Project\n"
     ]
    },
    {
     "name": "stderr",
     "output_type": "stream",
     "text": [
      "\r",
      "  0%|          | 133/35378 [09:17<37:08:18,  3.79s/it]"
     ]
    },
    {
     "name": "stdout",
     "output_type": "stream",
     "text": [
      "downloading dependencies\n",
      "copy \\\\live.sysinternals.com\\tools\\whois.exe C:\\Users\\ADI\\Desktop\\Major Project\n"
     ]
    },
    {
     "name": "stderr",
     "output_type": "stream",
     "text": [
      "\r",
      "  0%|          | 134/35378 [09:17<27:41:01,  2.83s/it]"
     ]
    },
    {
     "name": "stdout",
     "output_type": "stream",
     "text": [
      "downloading dependencies\n",
      "copy \\\\live.sysinternals.com\\tools\\whois.exe C:\\Users\\ADI\\Desktop\\Major Project\n"
     ]
    },
    {
     "name": "stderr",
     "output_type": "stream",
     "text": [
      "\r",
      "  0%|          | 135/35378 [09:18<21:04:35,  2.15s/it]"
     ]
    },
    {
     "name": "stdout",
     "output_type": "stream",
     "text": [
      "downloading dependencies\n",
      "copy \\\\live.sysinternals.com\\tools\\whois.exe C:\\Users\\ADI\\Desktop\\Major Project\n"
     ]
    },
    {
     "name": "stderr",
     "output_type": "stream",
     "text": [
      "\r",
      "  0%|          | 136/35378 [09:19<16:15:33,  1.66s/it]"
     ]
    },
    {
     "name": "stdout",
     "output_type": "stream",
     "text": [
      "downloading dependencies\n",
      "copy \\\\live.sysinternals.com\\tools\\whois.exe C:\\Users\\ADI\\Desktop\\Major Project\n"
     ]
    },
    {
     "name": "stderr",
     "output_type": "stream",
     "text": [
      "\r",
      "  0%|          | 137/35378 [09:19<13:03:15,  1.33s/it]"
     ]
    },
    {
     "name": "stdout",
     "output_type": "stream",
     "text": [
      "downloading dependencies\n",
      "copy \\\\live.sysinternals.com\\tools\\whois.exe C:\\Users\\ADI\\Desktop\\Major Project\n"
     ]
    },
    {
     "name": "stderr",
     "output_type": "stream",
     "text": [
      "\r",
      "  0%|          | 138/35378 [09:20<11:18:59,  1.16s/it]"
     ]
    },
    {
     "name": "stdout",
     "output_type": "stream",
     "text": [
      "downloading dependencies\n",
      "copy \\\\live.sysinternals.com\\tools\\whois.exe C:\\Users\\ADI\\Desktop\\Major Project\n"
     ]
    },
    {
     "name": "stderr",
     "output_type": "stream",
     "text": [
      "\r",
      "  0%|          | 139/35378 [09:21<9:48:00,  1.00s/it] "
     ]
    },
    {
     "name": "stdout",
     "output_type": "stream",
     "text": [
      "downloading dependencies\n",
      "copy \\\\live.sysinternals.com\\tools\\whois.exe C:\\Users\\ADI\\Desktop\\Major Project\n"
     ]
    },
    {
     "name": "stderr",
     "output_type": "stream",
     "text": [
      "\r",
      "  0%|          | 140/35378 [09:23<14:54:07,  1.52s/it]"
     ]
    },
    {
     "name": "stdout",
     "output_type": "stream",
     "text": [
      "downloading dependencies\n",
      "copy \\\\live.sysinternals.com\\tools\\whois.exe C:\\Users\\ADI\\Desktop\\Major Project\n"
     ]
    },
    {
     "name": "stderr",
     "output_type": "stream",
     "text": [
      "\r",
      "  0%|          | 141/35378 [09:26<17:58:30,  1.84s/it]"
     ]
    },
    {
     "name": "stdout",
     "output_type": "stream",
     "text": [
      "downloading dependencies\n",
      "copy \\\\live.sysinternals.com\\tools\\whois.exe C:\\Users\\ADI\\Desktop\\Major Project\n"
     ]
    },
    {
     "name": "stderr",
     "output_type": "stream",
     "text": [
      "\r",
      "  0%|          | 142/35378 [09:28<18:40:44,  1.91s/it]"
     ]
    },
    {
     "name": "stdout",
     "output_type": "stream",
     "text": [
      "downloading dependencies\n",
      "copy \\\\live.sysinternals.com\\tools\\whois.exe C:\\Users\\ADI\\Desktop\\Major Project\n"
     ]
    },
    {
     "name": "stderr",
     "output_type": "stream",
     "text": [
      "\r",
      "  0%|          | 143/35378 [09:30<19:02:35,  1.95s/it]"
     ]
    },
    {
     "name": "stdout",
     "output_type": "stream",
     "text": [
      "downloading dependencies\n",
      "copy \\\\live.sysinternals.com\\tools\\whois.exe C:\\Users\\ADI\\Desktop\\Major Project\n"
     ]
    },
    {
     "name": "stderr",
     "output_type": "stream",
     "text": [
      "\r",
      "  0%|          | 144/35378 [09:33<21:28:59,  2.20s/it]"
     ]
    },
    {
     "name": "stdout",
     "output_type": "stream",
     "text": [
      "downloading dependencies\n",
      "copy \\\\live.sysinternals.com\\tools\\whois.exe C:\\Users\\ADI\\Desktop\\Major Project\n"
     ]
    },
    {
     "name": "stderr",
     "output_type": "stream",
     "text": [
      "\r",
      "  0%|          | 145/35378 [09:35<22:29:10,  2.30s/it]"
     ]
    },
    {
     "name": "stdout",
     "output_type": "stream",
     "text": [
      "downloading dependencies\n",
      "copy \\\\live.sysinternals.com\\tools\\whois.exe C:\\Users\\ADI\\Desktop\\Major Project\n"
     ]
    },
    {
     "name": "stderr",
     "output_type": "stream",
     "text": [
      "\r",
      "  0%|          | 146/35378 [09:38<23:32:36,  2.41s/it]"
     ]
    },
    {
     "name": "stdout",
     "output_type": "stream",
     "text": [
      "downloading dependencies\n",
      "copy \\\\live.sysinternals.com\\tools\\whois.exe C:\\Users\\ADI\\Desktop\\Major Project\n"
     ]
    },
    {
     "name": "stderr",
     "output_type": "stream",
     "text": [
      "\r",
      "  0%|          | 147/35378 [09:40<21:58:47,  2.25s/it]"
     ]
    },
    {
     "name": "stdout",
     "output_type": "stream",
     "text": [
      "downloading dependencies\n",
      "copy \\\\live.sysinternals.com\\tools\\whois.exe C:\\Users\\ADI\\Desktop\\Major Project\n"
     ]
    },
    {
     "name": "stderr",
     "output_type": "stream",
     "text": [
      "\r",
      "  0%|          | 148/35378 [09:42<21:18:05,  2.18s/it]"
     ]
    },
    {
     "name": "stdout",
     "output_type": "stream",
     "text": [
      "downloading dependencies\n",
      "copy \\\\live.sysinternals.com\\tools\\whois.exe C:\\Users\\ADI\\Desktop\\Major Project\n"
     ]
    },
    {
     "name": "stderr",
     "output_type": "stream",
     "text": [
      "\r",
      "  0%|          | 149/35378 [09:44<20:16:26,  2.07s/it]"
     ]
    },
    {
     "name": "stdout",
     "output_type": "stream",
     "text": [
      "downloading dependencies\n",
      "copy \\\\live.sysinternals.com\\tools\\whois.exe C:\\Users\\ADI\\Desktop\\Major Project\n"
     ]
    },
    {
     "name": "stderr",
     "output_type": "stream",
     "text": [
      "\r",
      "  0%|          | 150/35378 [09:46<19:51:39,  2.03s/it]"
     ]
    },
    {
     "name": "stdout",
     "output_type": "stream",
     "text": [
      "downloading dependencies\n",
      "copy \\\\live.sysinternals.com\\tools\\whois.exe C:\\Users\\ADI\\Desktop\\Major Project\n"
     ]
    },
    {
     "name": "stderr",
     "output_type": "stream",
     "text": [
      "\r",
      "  0%|          | 151/35378 [10:14<98:36:54, 10.08s/it]"
     ]
    },
    {
     "name": "stdout",
     "output_type": "stream",
     "text": [
      "downloading dependencies\n",
      "copy \\\\live.sysinternals.com\\tools\\whois.exe C:\\Users\\ADI\\Desktop\\Major Project\n"
     ]
    },
    {
     "name": "stderr",
     "output_type": "stream",
     "text": [
      "\r",
      "  0%|          | 152/35378 [10:16<74:37:43,  7.63s/it]"
     ]
    },
    {
     "name": "stdout",
     "output_type": "stream",
     "text": [
      "downloading dependencies\n",
      "copy \\\\live.sysinternals.com\\tools\\whois.exe C:\\Users\\ADI\\Desktop\\Major Project\n"
     ]
    },
    {
     "name": "stderr",
     "output_type": "stream",
     "text": [
      "\r",
      "  0%|          | 153/35378 [10:18<58:07:40,  5.94s/it]"
     ]
    },
    {
     "name": "stdout",
     "output_type": "stream",
     "text": [
      "downloading dependencies\n",
      "copy \\\\live.sysinternals.com\\tools\\whois.exe C:\\Users\\ADI\\Desktop\\Major Project\n"
     ]
    },
    {
     "name": "stderr",
     "output_type": "stream",
     "text": [
      "\r",
      "  0%|          | 154/35378 [10:20<45:39:22,  4.67s/it]"
     ]
    },
    {
     "name": "stdout",
     "output_type": "stream",
     "text": [
      "downloading dependencies\n",
      "copy \\\\live.sysinternals.com\\tools\\whois.exe C:\\Users\\ADI\\Desktop\\Major Project\n"
     ]
    },
    {
     "name": "stderr",
     "output_type": "stream",
     "text": [
      "\r",
      "  0%|          | 155/35378 [10:22<37:17:02,  3.81s/it]"
     ]
    },
    {
     "name": "stdout",
     "output_type": "stream",
     "text": [
      "downloading dependencies\n",
      "copy \\\\live.sysinternals.com\\tools\\whois.exe C:\\Users\\ADI\\Desktop\\Major Project\n"
     ]
    },
    {
     "name": "stderr",
     "output_type": "stream",
     "text": [
      "\r",
      "  0%|          | 156/35378 [10:23<30:44:28,  3.14s/it]"
     ]
    },
    {
     "name": "stdout",
     "output_type": "stream",
     "text": [
      "downloading dependencies\n",
      "copy \\\\live.sysinternals.com\\tools\\whois.exe C:\\Users\\ADI\\Desktop\\Major Project\n"
     ]
    },
    {
     "name": "stderr",
     "output_type": "stream",
     "text": [
      "\r",
      "  0%|          | 157/35378 [10:25<26:08:09,  2.67s/it]"
     ]
    },
    {
     "name": "stdout",
     "output_type": "stream",
     "text": [
      "downloading dependencies\n",
      "copy \\\\live.sysinternals.com\\tools\\whois.exe C:\\Users\\ADI\\Desktop\\Major Project\n"
     ]
    },
    {
     "name": "stderr",
     "output_type": "stream",
     "text": [
      "\r",
      "  0%|          | 158/35378 [10:27<22:50:20,  2.33s/it]"
     ]
    },
    {
     "name": "stdout",
     "output_type": "stream",
     "text": [
      "downloading dependencies\n",
      "copy \\\\live.sysinternals.com\\tools\\whois.exe C:\\Users\\ADI\\Desktop\\Major Project\n"
     ]
    },
    {
     "name": "stderr",
     "output_type": "stream",
     "text": [
      "\r",
      "  0%|          | 159/35378 [10:28<20:36:15,  2.11s/it]"
     ]
    },
    {
     "name": "stdout",
     "output_type": "stream",
     "text": [
      "downloading dependencies\n",
      "copy \\\\live.sysinternals.com\\tools\\whois.exe C:\\Users\\ADI\\Desktop\\Major Project\n"
     ]
    },
    {
     "name": "stderr",
     "output_type": "stream",
     "text": [
      "\r",
      "  0%|          | 160/35378 [10:29<16:26:21,  1.68s/it]"
     ]
    },
    {
     "name": "stdout",
     "output_type": "stream",
     "text": [
      "downloading dependencies\n",
      "copy \\\\live.sysinternals.com\\tools\\whois.exe C:\\Users\\ADI\\Desktop\\Major Project\n"
     ]
    },
    {
     "name": "stderr",
     "output_type": "stream",
     "text": [
      "\r",
      "  0%|          | 161/35378 [10:30<13:59:47,  1.43s/it]"
     ]
    },
    {
     "name": "stdout",
     "output_type": "stream",
     "text": [
      "downloading dependencies\n",
      "copy \\\\live.sysinternals.com\\tools\\whois.exe C:\\Users\\ADI\\Desktop\\Major Project\n"
     ]
    },
    {
     "name": "stderr",
     "output_type": "stream",
     "text": [
      "\r",
      "  0%|          | 162/35378 [10:30<11:13:23,  1.15s/it]"
     ]
    },
    {
     "name": "stdout",
     "output_type": "stream",
     "text": [
      "downloading dependencies\n",
      "copy \\\\live.sysinternals.com\\tools\\whois.exe C:\\Users\\ADI\\Desktop\\Major Project\n"
     ]
    },
    {
     "name": "stderr",
     "output_type": "stream",
     "text": [
      "\r",
      "  0%|          | 163/35378 [10:31<9:15:37,  1.06it/s] "
     ]
    },
    {
     "name": "stdout",
     "output_type": "stream",
     "text": [
      "downloading dependencies\n",
      "copy \\\\live.sysinternals.com\\tools\\whois.exe C:\\Users\\ADI\\Desktop\\Major Project\n"
     ]
    },
    {
     "name": "stderr",
     "output_type": "stream",
     "text": [
      "\r",
      "  0%|          | 164/35378 [10:31<7:44:13,  1.26it/s]"
     ]
    },
    {
     "name": "stdout",
     "output_type": "stream",
     "text": [
      "downloading dependencies\n",
      "copy \\\\live.sysinternals.com\\tools\\whois.exe C:\\Users\\ADI\\Desktop\\Major Project\n"
     ]
    },
    {
     "name": "stderr",
     "output_type": "stream",
     "text": [
      "\r",
      "  0%|          | 165/35378 [10:31<6:32:09,  1.50it/s]"
     ]
    },
    {
     "name": "stdout",
     "output_type": "stream",
     "text": [
      "downloading dependencies\n",
      "copy \\\\live.sysinternals.com\\tools\\whois.exe C:\\Users\\ADI\\Desktop\\Major Project\n"
     ]
    },
    {
     "name": "stderr",
     "output_type": "stream",
     "text": [
      "\r",
      "  0%|          | 166/35378 [10:32<5:56:56,  1.64it/s]"
     ]
    },
    {
     "name": "stdout",
     "output_type": "stream",
     "text": [
      "downloading dependencies\n",
      "copy \\\\live.sysinternals.com\\tools\\whois.exe C:\\Users\\ADI\\Desktop\\Major Project\n"
     ]
    },
    {
     "name": "stderr",
     "output_type": "stream",
     "text": [
      "\r",
      "  0%|          | 167/35378 [10:32<5:15:46,  1.86it/s]"
     ]
    },
    {
     "name": "stdout",
     "output_type": "stream",
     "text": [
      "downloading dependencies\n",
      "copy \\\\live.sysinternals.com\\tools\\whois.exe C:\\Users\\ADI\\Desktop\\Major Project\n"
     ]
    },
    {
     "name": "stderr",
     "output_type": "stream",
     "text": [
      "\r",
      "  0%|          | 168/35378 [10:33<5:08:50,  1.90it/s]"
     ]
    },
    {
     "name": "stdout",
     "output_type": "stream",
     "text": [
      "downloading dependencies\n",
      "copy \\\\live.sysinternals.com\\tools\\whois.exe C:\\Users\\ADI\\Desktop\\Major Project\n"
     ]
    },
    {
     "name": "stderr",
     "output_type": "stream",
     "text": [
      "\r",
      "  0%|          | 169/35378 [10:34<6:14:09,  1.57it/s]"
     ]
    },
    {
     "name": "stdout",
     "output_type": "stream",
     "text": [
      "downloading dependencies\n",
      "copy \\\\live.sysinternals.com\\tools\\whois.exe C:\\Users\\ADI\\Desktop\\Major Project\n"
     ]
    },
    {
     "name": "stderr",
     "output_type": "stream",
     "text": [
      "\r",
      "  0%|          | 170/35378 [10:34<5:33:13,  1.76it/s]"
     ]
    },
    {
     "name": "stdout",
     "output_type": "stream",
     "text": [
      "downloading dependencies\n",
      "copy \\\\live.sysinternals.com\\tools\\whois.exe C:\\Users\\ADI\\Desktop\\Major Project\n"
     ]
    },
    {
     "name": "stderr",
     "output_type": "stream",
     "text": [
      "\r",
      "  0%|          | 171/35378 [10:35<5:28:05,  1.79it/s]"
     ]
    },
    {
     "name": "stdout",
     "output_type": "stream",
     "text": [
      "downloading dependencies\n",
      "copy \\\\live.sysinternals.com\\tools\\whois.exe C:\\Users\\ADI\\Desktop\\Major Project\n"
     ]
    },
    {
     "name": "stderr",
     "output_type": "stream",
     "text": [
      "\r",
      "  0%|          | 172/35378 [10:35<4:56:01,  1.98it/s]"
     ]
    },
    {
     "name": "stdout",
     "output_type": "stream",
     "text": [
      "downloading dependencies\n",
      "copy \\\\live.sysinternals.com\\tools\\whois.exe C:\\Users\\ADI\\Desktop\\Major Project\n"
     ]
    },
    {
     "name": "stderr",
     "output_type": "stream",
     "text": [
      "\r",
      "  0%|          | 173/35378 [10:37<10:06:37,  1.03s/it]"
     ]
    },
    {
     "name": "stdout",
     "output_type": "stream",
     "text": [
      "downloading dependencies\n",
      "copy \\\\live.sysinternals.com\\tools\\whois.exe C:\\Users\\ADI\\Desktop\\Major Project\n"
     ]
    },
    {
     "name": "stderr",
     "output_type": "stream",
     "text": [
      "\r",
      "  0%|          | 174/35378 [10:39<12:13:58,  1.25s/it]"
     ]
    },
    {
     "name": "stdout",
     "output_type": "stream",
     "text": [
      "downloading dependencies\n",
      "copy \\\\live.sysinternals.com\\tools\\whois.exe C:\\Users\\ADI\\Desktop\\Major Project\n"
     ]
    },
    {
     "name": "stderr",
     "output_type": "stream",
     "text": [
      "\r",
      "  0%|          | 175/35378 [10:42<18:00:24,  1.84s/it]"
     ]
    },
    {
     "name": "stdout",
     "output_type": "stream",
     "text": [
      "downloading dependencies\n",
      "copy \\\\live.sysinternals.com\\tools\\whois.exe C:\\Users\\ADI\\Desktop\\Major Project\n"
     ]
    },
    {
     "name": "stderr",
     "output_type": "stream",
     "text": [
      "\r",
      "  0%|          | 176/35378 [11:09<91:06:18,  9.32s/it]"
     ]
    },
    {
     "name": "stdout",
     "output_type": "stream",
     "text": [
      "downloading dependencies\n",
      "copy \\\\live.sysinternals.com\\tools\\whois.exe C:\\Users\\ADI\\Desktop\\Major Project\n"
     ]
    },
    {
     "name": "stderr",
     "output_type": "stream",
     "text": [
      "\r",
      "  1%|          | 177/35378 [11:10<67:18:47,  6.88s/it]"
     ]
    },
    {
     "name": "stdout",
     "output_type": "stream",
     "text": [
      "downloading dependencies\n",
      "copy \\\\live.sysinternals.com\\tools\\whois.exe C:\\Users\\ADI\\Desktop\\Major Project\n"
     ]
    },
    {
     "name": "stderr",
     "output_type": "stream",
     "text": [
      "\r",
      "  1%|          | 178/35378 [11:11<49:08:44,  5.03s/it]"
     ]
    },
    {
     "name": "stdout",
     "output_type": "stream",
     "text": [
      "downloading dependencies\n",
      "copy \\\\live.sysinternals.com\\tools\\whois.exe C:\\Users\\ADI\\Desktop\\Major Project\n"
     ]
    },
    {
     "name": "stderr",
     "output_type": "stream",
     "text": [
      "\r",
      "  1%|          | 179/35378 [11:12<36:29:02,  3.73s/it]"
     ]
    },
    {
     "name": "stdout",
     "output_type": "stream",
     "text": [
      "downloading dependencies\n",
      "copy \\\\live.sysinternals.com\\tools\\whois.exe C:\\Users\\ADI\\Desktop\\Major Project\n"
     ]
    },
    {
     "name": "stderr",
     "output_type": "stream",
     "text": [
      "\r",
      "  1%|          | 180/35378 [11:12<27:35:44,  2.82s/it]"
     ]
    },
    {
     "name": "stdout",
     "output_type": "stream",
     "text": [
      "downloading dependencies\n",
      "copy \\\\live.sysinternals.com\\tools\\whois.exe C:\\Users\\ADI\\Desktop\\Major Project\n"
     ]
    },
    {
     "name": "stderr",
     "output_type": "stream",
     "text": [
      "\r",
      "  1%|          | 181/35378 [11:13<21:26:15,  2.19s/it]"
     ]
    },
    {
     "name": "stdout",
     "output_type": "stream",
     "text": [
      "downloading dependencies\n",
      "copy \\\\live.sysinternals.com\\tools\\whois.exe C:\\Users\\ADI\\Desktop\\Major Project\n"
     ]
    },
    {
     "name": "stderr",
     "output_type": "stream",
     "text": [
      "\r",
      "  1%|          | 182/35378 [11:16<23:32:30,  2.41s/it]"
     ]
    },
    {
     "name": "stdout",
     "output_type": "stream",
     "text": [
      "downloading dependencies\n",
      "copy \\\\live.sysinternals.com\\tools\\whois.exe C:\\Users\\ADI\\Desktop\\Major Project\n"
     ]
    },
    {
     "name": "stderr",
     "output_type": "stream",
     "text": [
      "\r",
      "  1%|          | 183/35378 [11:18<23:44:00,  2.43s/it]"
     ]
    },
    {
     "name": "stdout",
     "output_type": "stream",
     "text": [
      "downloading dependencies\n",
      "copy \\\\live.sysinternals.com\\tools\\whois.exe C:\\Users\\ADI\\Desktop\\Major Project\n"
     ]
    },
    {
     "name": "stderr",
     "output_type": "stream",
     "text": [
      "\r",
      "  1%|          | 184/35378 [11:20<20:28:28,  2.09s/it]"
     ]
    },
    {
     "name": "stdout",
     "output_type": "stream",
     "text": [
      "downloading dependencies\n",
      "copy \\\\live.sysinternals.com\\tools\\whois.exe C:\\Users\\ADI\\Desktop\\Major Project\n"
     ]
    },
    {
     "name": "stderr",
     "output_type": "stream",
     "text": [
      "\r",
      "  1%|          | 185/35378 [11:22<20:48:05,  2.13s/it]"
     ]
    },
    {
     "name": "stdout",
     "output_type": "stream",
     "text": [
      "downloading dependencies\n",
      "copy \\\\live.sysinternals.com\\tools\\whois.exe C:\\Users\\ADI\\Desktop\\Major Project\n"
     ]
    },
    {
     "name": "stderr",
     "output_type": "stream",
     "text": [
      "\r",
      "  1%|          | 186/35378 [11:24<19:44:10,  2.02s/it]"
     ]
    },
    {
     "name": "stdout",
     "output_type": "stream",
     "text": [
      "downloading dependencies\n",
      "copy \\\\live.sysinternals.com\\tools\\whois.exe C:\\Users\\ADI\\Desktop\\Major Project\n"
     ]
    },
    {
     "name": "stderr",
     "output_type": "stream",
     "text": [
      "\r",
      "  1%|          | 187/35378 [11:24<16:04:00,  1.64s/it]"
     ]
    },
    {
     "name": "stdout",
     "output_type": "stream",
     "text": [
      "downloading dependencies\n",
      "copy \\\\live.sysinternals.com\\tools\\whois.exe C:\\Users\\ADI\\Desktop\\Major Project\n"
     ]
    },
    {
     "name": "stderr",
     "output_type": "stream",
     "text": [
      "\r",
      "  1%|          | 188/35378 [11:27<17:43:05,  1.81s/it]"
     ]
    },
    {
     "name": "stdout",
     "output_type": "stream",
     "text": [
      "downloading dependencies\n",
      "copy \\\\live.sysinternals.com\\tools\\whois.exe C:\\Users\\ADI\\Desktop\\Major Project\n"
     ]
    },
    {
     "name": "stderr",
     "output_type": "stream",
     "text": [
      "\r",
      "  1%|          | 189/35378 [11:29<18:21:41,  1.88s/it]"
     ]
    },
    {
     "name": "stdout",
     "output_type": "stream",
     "text": [
      "downloading dependencies\n",
      "copy \\\\live.sysinternals.com\\tools\\whois.exe C:\\Users\\ADI\\Desktop\\Major Project\n"
     ]
    },
    {
     "name": "stderr",
     "output_type": "stream",
     "text": [
      "\r",
      "  1%|          | 190/35378 [11:31<19:21:31,  1.98s/it]"
     ]
    },
    {
     "name": "stdout",
     "output_type": "stream",
     "text": [
      "downloading dependencies\n",
      "copy \\\\live.sysinternals.com\\tools\\whois.exe C:\\Users\\ADI\\Desktop\\Major Project\n"
     ]
    },
    {
     "name": "stderr",
     "output_type": "stream",
     "text": [
      "\r",
      "  1%|          | 191/35378 [11:33<20:07:41,  2.06s/it]"
     ]
    },
    {
     "name": "stdout",
     "output_type": "stream",
     "text": [
      "downloading dependencies\n",
      "copy \\\\live.sysinternals.com\\tools\\whois.exe C:\\Users\\ADI\\Desktop\\Major Project\n"
     ]
    },
    {
     "name": "stderr",
     "output_type": "stream",
     "text": [
      "\r",
      "  1%|          | 192/35378 [11:35<20:13:03,  2.07s/it]"
     ]
    },
    {
     "name": "stdout",
     "output_type": "stream",
     "text": [
      "downloading dependencies\n",
      "copy \\\\live.sysinternals.com\\tools\\whois.exe C:\\Users\\ADI\\Desktop\\Major Project\n"
     ]
    },
    {
     "name": "stderr",
     "output_type": "stream",
     "text": [
      "\r",
      "  1%|          | 193/35378 [11:37<18:55:39,  1.94s/it]"
     ]
    },
    {
     "name": "stdout",
     "output_type": "stream",
     "text": [
      "downloading dependencies\n",
      "copy \\\\live.sysinternals.com\\tools\\whois.exe C:\\Users\\ADI\\Desktop\\Major Project\n"
     ]
    },
    {
     "name": "stderr",
     "output_type": "stream",
     "text": [
      "\r",
      "  1%|          | 194/35378 [11:39<19:51:15,  2.03s/it]"
     ]
    },
    {
     "name": "stdout",
     "output_type": "stream",
     "text": [
      "downloading dependencies\n",
      "copy \\\\live.sysinternals.com\\tools\\whois.exe C:\\Users\\ADI\\Desktop\\Major Project\n"
     ]
    },
    {
     "name": "stderr",
     "output_type": "stream",
     "text": [
      "\r",
      "  1%|          | 195/35378 [12:07<96:16:59,  9.85s/it]"
     ]
    },
    {
     "name": "stdout",
     "output_type": "stream",
     "text": [
      "downloading dependencies\n",
      "copy \\\\live.sysinternals.com\\tools\\whois.exe C:\\Users\\ADI\\Desktop\\Major Project\n"
     ]
    },
    {
     "name": "stderr",
     "output_type": "stream",
     "text": [
      "\r",
      "  1%|          | 196/35378 [12:09<73:44:59,  7.55s/it]"
     ]
    },
    {
     "name": "stdout",
     "output_type": "stream",
     "text": [
      "downloading dependencies\n",
      "copy \\\\live.sysinternals.com\\tools\\whois.exe C:\\Users\\ADI\\Desktop\\Major Project\n"
     ]
    },
    {
     "name": "stderr",
     "output_type": "stream",
     "text": [
      "\r",
      "  1%|          | 197/35378 [12:11<57:29:49,  5.88s/it]"
     ]
    },
    {
     "name": "stdout",
     "output_type": "stream",
     "text": [
      "downloading dependencies\n",
      "copy \\\\live.sysinternals.com\\tools\\whois.exe C:\\Users\\ADI\\Desktop\\Major Project\n"
     ]
    },
    {
     "name": "stderr",
     "output_type": "stream",
     "text": [
      "\r",
      "  1%|          | 198/35378 [12:13<44:41:26,  4.57s/it]"
     ]
    },
    {
     "name": "stdout",
     "output_type": "stream",
     "text": [
      "downloading dependencies\n",
      "copy \\\\live.sysinternals.com\\tools\\whois.exe C:\\Users\\ADI\\Desktop\\Major Project\n"
     ]
    },
    {
     "name": "stderr",
     "output_type": "stream",
     "text": [
      "\r",
      "  1%|          | 199/35378 [12:14<35:49:47,  3.67s/it]"
     ]
    },
    {
     "name": "stdout",
     "output_type": "stream",
     "text": [
      "downloading dependencies\n",
      "copy \\\\live.sysinternals.com\\tools\\whois.exe C:\\Users\\ADI\\Desktop\\Major Project\n"
     ]
    },
    {
     "name": "stderr",
     "output_type": "stream",
     "text": [
      "\r",
      "  1%|          | 200/35378 [12:17<31:03:19,  3.18s/it]"
     ]
    },
    {
     "name": "stdout",
     "output_type": "stream",
     "text": [
      "downloading dependencies\n",
      "copy \\\\live.sysinternals.com\\tools\\whois.exe C:\\Users\\ADI\\Desktop\\Major Project\n"
     ]
    },
    {
     "name": "stderr",
     "output_type": "stream",
     "text": [
      "  1%|          | 202/35378 [12:18<18:55:44,  1.94s/it]"
     ]
    },
    {
     "name": "stdout",
     "output_type": "stream",
     "text": [
      "downloading dependencies\n",
      "copy \\\\live.sysinternals.com\\tools\\whois.exe C:\\Users\\ADI\\Desktop\\Major Project\n",
      "downloading dependencies\n",
      "copy \\\\live.sysinternals.com\\tools\\whois.exe C:\\Users\\ADI\\Desktop\\Major Project\n",
      "downloading dependencies\n",
      "copy \\\\live.sysinternals.com\\tools\\whois.exe C:\\Users\\ADI\\Desktop\\Major Project\n",
      "downloading dependencies\n",
      "copy \\\\live.sysinternals.com\\tools\\whois.exe C:\\Users\\ADI\\Desktop\\Major Project\n",
      "downloading dependencies\n",
      "copy \\\\live.sysinternals.com\\tools\\whois.exe C:\\Users\\ADI\\Desktop\\Major Project\n",
      "downloading dependencies\n",
      "copy \\\\live.sysinternals.com\\tools\\whois.exe C:\\Users\\ADI\\Desktop\\Major Project\n",
      "downloading dependencies\n",
      "copy \\\\live.sysinternals.com\\tools\\whois.exe C:\\Users\\ADI\\Desktop\\Major Project\n"
     ]
    },
    {
     "name": "stderr",
     "output_type": "stream",
     "text": [
      "  1%|          | 218/35378 [12:18<2:08:34,  4.56it/s] "
     ]
    },
    {
     "name": "stdout",
     "output_type": "stream",
     "text": [
      "downloading dependencies\n",
      "copy \\\\live.sysinternals.com\\tools\\whois.exe C:\\Users\\ADI\\Desktop\\Major Project\n",
      "downloading dependencies\n",
      "copy \\\\live.sysinternals.com\\tools\\whois.exe C:\\Users\\ADI\\Desktop\\Major Project\n",
      "downloading dependencies\n",
      "copy \\\\live.sysinternals.com\\tools\\whois.exe C:\\Users\\ADI\\Desktop\\Major Project\n",
      "downloading dependencies\n",
      "copy \\\\live.sysinternals.com\\tools\\whois.exe C:\\Users\\ADI\\Desktop\\Major Project\n",
      "downloading dependencies\n",
      "copy \\\\live.sysinternals.com\\tools\\whois.exe C:\\Users\\ADI\\Desktop\\Major Project\n",
      "downloading dependencies\n",
      "copy \\\\live.sysinternals.com\\tools\\whois.exe C:\\Users\\ADI\\Desktop\\Major Project\n",
      "downloading dependencies\n",
      "copy \\\\live.sysinternals.com\\tools\\whois.exe C:\\Users\\ADI\\Desktop\\Major Project\n",
      "downloading dependencies\n",
      "copy \\\\live.sysinternals.com\\tools\\whois.exe C:\\Users\\ADI\\Desktop\\Major Project\n",
      "downloading dependencies\n",
      "copy \\\\live.sysinternals.com\\tools\\whois.exe C:\\Users\\ADI\\Desktop\\Major Project\n",
      "downloading dependencies\n",
      "copy \\\\live.sysinternals.com\\tools\\whois.exe C:\\Users\\ADI\\Desktop\\Major Project\n",
      "downloading dependencies\n",
      "copy \\\\live.sysinternals.com\\tools\\whois.exe C:\\Users\\ADI\\Desktop\\Major Project\n",
      "downloading dependencies\n",
      "copy \\\\live.sysinternals.com\\tools\\whois.exe C:\\Users\\ADI\\Desktop\\Major Project\n",
      "downloading dependencies\n",
      "copy \\\\live.sysinternals.com\\tools\\whois.exe C:\\Users\\ADI\\Desktop\\Major Project\n",
      "downloading dependencies\n",
      "copy \\\\live.sysinternals.com\\tools\\whois.exe C:\\Users\\ADI\\Desktop\\Major Project\n",
      "downloading dependencies\n",
      "copy \\\\live.sysinternals.com\\tools\\whois.exe C:\\Users\\ADI\\Desktop\\Major Project\n",
      "downloading dependencies\n",
      "copy \\\\live.sysinternals.com\\tools\\whois.exe C:\\Users\\ADI\\Desktop\\Major Project\n",
      "downloading dependencies\n",
      "copy \\\\live.sysinternals.com\\tools\\whois.exe C:\\Users\\ADI\\Desktop\\Major Project\n"
     ]
    },
    {
     "name": "stderr",
     "output_type": "stream",
     "text": [
      "\r",
      "  1%|          | 225/35378 [12:21<2:45:01,  3.55it/s]"
     ]
    },
    {
     "name": "stdout",
     "output_type": "stream",
     "text": [
      "downloading dependencies\n",
      "copy \\\\live.sysinternals.com\\tools\\whois.exe C:\\Users\\ADI\\Desktop\\Major Project\n"
     ]
    },
    {
     "name": "stderr",
     "output_type": "stream",
     "text": [
      "  1%|          | 226/35378 [12:42<17:56:49,  1.84s/it]"
     ]
    },
    {
     "name": "stdout",
     "output_type": "stream",
     "text": [
      "downloading dependencies\n",
      "copy \\\\live.sysinternals.com\\tools\\whois.exe C:\\Users\\ADI\\Desktop\\Major Project\n"
     ]
    },
    {
     "name": "stderr",
     "output_type": "stream",
     "text": [
      "\r",
      "  1%|          | 227/35378 [13:29<60:33:06,  6.20s/it]"
     ]
    },
    {
     "name": "stdout",
     "output_type": "stream",
     "text": [
      "downloading dependencies\n",
      "copy \\\\live.sysinternals.com\\tools\\whois.exe C:\\Users\\ADI\\Desktop\\Major Project\n"
     ]
    },
    {
     "name": "stderr",
     "output_type": "stream",
     "text": [
      "\r",
      "  1%|          | 228/35378 [13:30<54:20:20,  5.57s/it]"
     ]
    },
    {
     "name": "stdout",
     "output_type": "stream",
     "text": [
      "downloading dependencies\n",
      "copy \\\\live.sysinternals.com\\tools\\whois.exe C:\\Users\\ADI\\Desktop\\Major Project\n",
      "downloading dependencies\n",
      "copy \\\\live.sysinternals.com\\tools\\whois.exe C:\\Users\\ADI\\Desktop\\Major Project\n"
     ]
    },
    {
     "name": "stderr",
     "output_type": "stream",
     "text": [
      "  1%|          | 233/35378 [13:31<27:18:42,  2.80s/it]"
     ]
    },
    {
     "name": "stdout",
     "output_type": "stream",
     "text": [
      "downloading dependencies\n",
      "copy \\\\live.sysinternals.com\\tools\\whois.exe C:\\Users\\ADI\\Desktop\\Major Project\n",
      "downloading dependencies\n",
      "copy \\\\live.sysinternals.com\\tools\\whois.exe C:\\Users\\ADI\\Desktop\\Major Project\n",
      "downloading dependencies\n",
      "copy \\\\live.sysinternals.com\\tools\\whois.exe C:\\Users\\ADI\\Desktop\\Major Project\n",
      "downloading dependencies\n",
      "copy \\\\live.sysinternals.com\\tools\\whois.exe C:\\Users\\ADI\\Desktop\\Major Project\n",
      "downloading dependencies\n",
      "copy \\\\live.sysinternals.com\\tools\\whois.exe C:\\Users\\ADI\\Desktop\\Major Project\n"
     ]
    },
    {
     "name": "stderr",
     "output_type": "stream",
     "text": [
      "  1%|          | 239/35378 [13:31<12:14:14,  1.25s/it]"
     ]
    },
    {
     "name": "stdout",
     "output_type": "stream",
     "text": [
      "downloading dependencies\n",
      "copy \\\\live.sysinternals.com\\tools\\whois.exe C:\\Users\\ADI\\Desktop\\Major Project\n",
      "downloading dependencies\n",
      "copy \\\\live.sysinternals.com\\tools\\whois.exe C:\\Users\\ADI\\Desktop\\Major Project\n",
      "downloading dependencies\n",
      "copy \\\\live.sysinternals.com\\tools\\whois.exe C:\\Users\\ADI\\Desktop\\Major Project\n",
      "downloading dependencies\n",
      "copy \\\\live.sysinternals.com\\tools\\whois.exe C:\\Users\\ADI\\Desktop\\Major Project\n"
     ]
    },
    {
     "name": "stderr",
     "output_type": "stream",
     "text": [
      "\r",
      "  1%|          | 242/35378 [13:31<8:28:33,  1.15it/s] "
     ]
    },
    {
     "name": "stdout",
     "output_type": "stream",
     "text": [
      "downloading dependencies\n",
      "copy \\\\live.sysinternals.com\\tools\\whois.exe C:\\Users\\ADI\\Desktop\\Major Project\n",
      "downloading dependencies\n",
      "copy \\\\live.sysinternals.com\\tools\\whois.exe C:\\Users\\ADI\\Desktop\\Major Project\n",
      "downloading dependencies\n",
      "copy \\\\live.sysinternals.com\\tools\\whois.exe C:\\Users\\ADI\\Desktop\\Major Project\n",
      "downloading dependencies\n",
      "copy \\\\live.sysinternals.com\\tools\\whois.exe C:\\Users\\ADI\\Desktop\\Major Project\n",
      "downloading dependencies\n",
      "copy \\\\live.sysinternals.com\\tools\\whois.exe C:\\Users\\ADI\\Desktop\\Major Project\n"
     ]
    },
    {
     "name": "stderr",
     "output_type": "stream",
     "text": [
      "  1%|          | 246/35378 [13:31<5:04:58,  1.92it/s]"
     ]
    },
    {
     "name": "stdout",
     "output_type": "stream",
     "text": [
      "downloading dependencies\n",
      "copy \\\\live.sysinternals.com\\tools\\whois.exe C:\\Users\\ADI\\Desktop\\Major Project\n",
      "downloading dependencies\n",
      "copy \\\\live.sysinternals.com\\tools\\whois.exe C:\\Users\\ADI\\Desktop\\Major Project\n",
      "downloading dependencies\n",
      "copy \\\\live.sysinternals.com\\tools\\whois.exe C:\\Users\\ADI\\Desktop\\Major Project\n",
      "downloading dependencies\n",
      "copy \\\\live.sysinternals.com\\tools\\whois.exe C:\\Users\\ADI\\Desktop\\Major Project\n",
      "downloading dependencies\n",
      "copy \\\\live.sysinternals.com\\tools\\whois.exe C:\\Users\\ADI\\Desktop\\Major Project\n"
     ]
    },
    {
     "name": "stderr",
     "output_type": "stream",
     "text": [
      "\r",
      "  1%|          | 249/35378 [13:31<3:28:40,  2.81it/s]"
     ]
    },
    {
     "name": "stdout",
     "output_type": "stream",
     "text": [
      "downloading dependencies\n",
      "copy \\\\live.sysinternals.com\\tools\\whois.exe C:\\Users\\ADI\\Desktop\\Major Project\n",
      "downloading dependencies\n",
      "copy \\\\live.sysinternals.com\\tools\\whois.exe C:\\Users\\ADI\\Desktop\\Major Project\n",
      "downloading dependencies\n",
      "copy \\\\live.sysinternals.com\\tools\\whois.exe C:\\Users\\ADI\\Desktop\\Major Project\n"
     ]
    },
    {
     "name": "stderr",
     "output_type": "stream",
     "text": [
      "\r",
      "  1%|          | 252/35378 [13:32<3:00:18,  3.25it/s]"
     ]
    },
    {
     "name": "stdout",
     "output_type": "stream",
     "text": [
      "downloading dependencies\n",
      "copy \\\\live.sysinternals.com\\tools\\whois.exe C:\\Users\\ADI\\Desktop\\Major Project\n",
      "downloading dependencies\n",
      "copy \\\\live.sysinternals.com\\tools\\whois.exe C:\\Users\\ADI\\Desktop\\Major Project\n"
     ]
    },
    {
     "name": "stderr",
     "output_type": "stream",
     "text": [
      "\r",
      "  1%|          | 254/35378 [13:34<4:54:33,  1.99it/s]"
     ]
    },
    {
     "name": "stdout",
     "output_type": "stream",
     "text": [
      "downloading dependencies\n",
      "copy \\\\live.sysinternals.com\\tools\\whois.exe C:\\Users\\ADI\\Desktop\\Major Project\n",
      "downloading dependencies\n",
      "copy \\\\live.sysinternals.com\\tools\\whois.exe C:\\Users\\ADI\\Desktop\\Major Project\n"
     ]
    },
    {
     "name": "stderr",
     "output_type": "stream",
     "text": [
      "\r",
      "  1%|          | 256/35378 [13:36<5:20:41,  1.83it/s]"
     ]
    },
    {
     "name": "stdout",
     "output_type": "stream",
     "text": [
      "downloading dependencies\n",
      "copy \\\\live.sysinternals.com\\tools\\whois.exe C:\\Users\\ADI\\Desktop\\Major Project\n"
     ]
    },
    {
     "name": "stderr",
     "output_type": "stream",
     "text": [
      "\r",
      "  1%|          | 257/35378 [13:36<5:51:18,  1.67it/s]"
     ]
    },
    {
     "name": "stdout",
     "output_type": "stream",
     "text": [
      "downloading dependencies\n",
      "copy \\\\live.sysinternals.com\\tools\\whois.exe C:\\Users\\ADI\\Desktop\\Major Project\n"
     ]
    },
    {
     "name": "stderr",
     "output_type": "stream",
     "text": [
      "\r",
      "  1%|          | 258/35378 [13:37<6:09:34,  1.58it/s]"
     ]
    },
    {
     "name": "stdout",
     "output_type": "stream",
     "text": [
      "downloading dependencies\n",
      "copy \\\\live.sysinternals.com\\tools\\whois.exe C:\\Users\\ADI\\Desktop\\Major Project\n"
     ]
    },
    {
     "name": "stderr",
     "output_type": "stream",
     "text": [
      "\r",
      "  1%|          | 259/35378 [13:38<6:28:35,  1.51it/s]"
     ]
    },
    {
     "name": "stdout",
     "output_type": "stream",
     "text": [
      "downloading dependencies\n",
      "copy \\\\live.sysinternals.com\\tools\\whois.exe C:\\Users\\ADI\\Desktop\\Major Project\n"
     ]
    },
    {
     "name": "stderr",
     "output_type": "stream",
     "text": [
      "\r",
      "  1%|          | 260/35378 [13:40<8:48:33,  1.11it/s]"
     ]
    },
    {
     "name": "stdout",
     "output_type": "stream",
     "text": [
      "downloading dependencies\n",
      "copy \\\\live.sysinternals.com\\tools\\whois.exe C:\\Users\\ADI\\Desktop\\Major Project\n"
     ]
    },
    {
     "name": "stderr",
     "output_type": "stream",
     "text": [
      "\r",
      "  1%|          | 261/35378 [14:07<71:43:12,  7.35s/it]"
     ]
    },
    {
     "name": "stdout",
     "output_type": "stream",
     "text": [
      "downloading dependencies\n",
      "copy \\\\live.sysinternals.com\\tools\\whois.exe C:\\Users\\ADI\\Desktop\\Major Project\n"
     ]
    },
    {
     "name": "stderr",
     "output_type": "stream",
     "text": [
      "\r",
      "  1%|          | 262/35378 [14:08<54:44:15,  5.61s/it]"
     ]
    },
    {
     "name": "stdout",
     "output_type": "stream",
     "text": [
      "downloading dependencies\n",
      "copy \\\\live.sysinternals.com\\tools\\whois.exe C:\\Users\\ADI\\Desktop\\Major Project\n"
     ]
    },
    {
     "name": "stderr",
     "output_type": "stream",
     "text": [
      "\r",
      "  1%|          | 263/35378 [14:09<43:28:53,  4.46s/it]"
     ]
    },
    {
     "name": "stdout",
     "output_type": "stream",
     "text": [
      "downloading dependencies\n",
      "copy \\\\live.sysinternals.com\\tools\\whois.exe C:\\Users\\ADI\\Desktop\\Major Project\n"
     ]
    },
    {
     "name": "stderr",
     "output_type": "stream",
     "text": [
      "\r",
      "  1%|          | 264/35378 [14:10<35:00:33,  3.59s/it]"
     ]
    },
    {
     "name": "stdout",
     "output_type": "stream",
     "text": [
      "downloading dependencies\n",
      "copy \\\\live.sysinternals.com\\tools\\whois.exe C:\\Users\\ADI\\Desktop\\Major Project\n"
     ]
    },
    {
     "name": "stderr",
     "output_type": "stream",
     "text": [
      "\r",
      "  1%|          | 265/35378 [14:12<28:28:43,  2.92s/it]"
     ]
    },
    {
     "name": "stdout",
     "output_type": "stream",
     "text": [
      "downloading dependencies\n",
      "copy \\\\live.sysinternals.com\\tools\\whois.exe C:\\Users\\ADI\\Desktop\\Major Project\n"
     ]
    },
    {
     "name": "stderr",
     "output_type": "stream",
     "text": [
      "\r",
      "  1%|          | 266/35378 [14:13<23:53:25,  2.45s/it]"
     ]
    },
    {
     "name": "stdout",
     "output_type": "stream",
     "text": [
      "downloading dependencies\n",
      "copy \\\\live.sysinternals.com\\tools\\whois.exe C:\\Users\\ADI\\Desktop\\Major Project\n"
     ]
    },
    {
     "name": "stderr",
     "output_type": "stream",
     "text": [
      "\r",
      "  1%|          | 267/35378 [14:14<20:46:26,  2.13s/it]"
     ]
    },
    {
     "name": "stdout",
     "output_type": "stream",
     "text": [
      "downloading dependencies\n",
      "copy \\\\live.sysinternals.com\\tools\\whois.exe C:\\Users\\ADI\\Desktop\\Major Project\n"
     ]
    },
    {
     "name": "stderr",
     "output_type": "stream",
     "text": [
      "\r",
      "  1%|          | 268/35378 [14:15<16:21:26,  1.68s/it]"
     ]
    },
    {
     "name": "stdout",
     "output_type": "stream",
     "text": [
      "downloading dependencies\n",
      "copy \\\\live.sysinternals.com\\tools\\whois.exe C:\\Users\\ADI\\Desktop\\Major Project\n"
     ]
    },
    {
     "name": "stderr",
     "output_type": "stream",
     "text": [
      "\r",
      "  1%|          | 269/35378 [14:15<12:45:59,  1.31s/it]"
     ]
    },
    {
     "name": "stdout",
     "output_type": "stream",
     "text": [
      "downloading dependencies\n",
      "copy \\\\live.sysinternals.com\\tools\\whois.exe C:\\Users\\ADI\\Desktop\\Major Project\n"
     ]
    },
    {
     "name": "stderr",
     "output_type": "stream",
     "text": [
      "\r",
      "  1%|          | 270/35378 [14:16<12:36:42,  1.29s/it]"
     ]
    },
    {
     "name": "stdout",
     "output_type": "stream",
     "text": [
      "downloading dependencies\n",
      "copy \\\\live.sysinternals.com\\tools\\whois.exe C:\\Users\\ADI\\Desktop\\Major Project\n"
     ]
    },
    {
     "name": "stderr",
     "output_type": "stream",
     "text": [
      "\r",
      "  1%|          | 271/35378 [14:17<10:13:38,  1.05s/it]"
     ]
    },
    {
     "name": "stdout",
     "output_type": "stream",
     "text": [
      "downloading dependencies\n",
      "copy \\\\live.sysinternals.com\\tools\\whois.exe C:\\Users\\ADI\\Desktop\\Major Project\n"
     ]
    },
    {
     "name": "stderr",
     "output_type": "stream",
     "text": [
      "\r",
      "  1%|          | 272/35378 [14:18<11:01:00,  1.13s/it]"
     ]
    },
    {
     "name": "stdout",
     "output_type": "stream",
     "text": [
      "downloading dependencies\n",
      "copy \\\\live.sysinternals.com\\tools\\whois.exe C:\\Users\\ADI\\Desktop\\Major Project\n"
     ]
    },
    {
     "name": "stderr",
     "output_type": "stream",
     "text": [
      "\r",
      "  1%|          | 273/35378 [14:19<10:53:41,  1.12s/it]"
     ]
    },
    {
     "name": "stdout",
     "output_type": "stream",
     "text": [
      "downloading dependencies\n",
      "copy \\\\live.sysinternals.com\\tools\\whois.exe C:\\Users\\ADI\\Desktop\\Major Project\n"
     ]
    },
    {
     "name": "stderr",
     "output_type": "stream",
     "text": [
      "\r",
      "  1%|          | 274/35378 [14:20<9:49:59,  1.01s/it] "
     ]
    },
    {
     "name": "stdout",
     "output_type": "stream",
     "text": [
      "downloading dependencies\n",
      "copy \\\\live.sysinternals.com\\tools\\whois.exe C:\\Users\\ADI\\Desktop\\Major Project\n"
     ]
    },
    {
     "name": "stderr",
     "output_type": "stream",
     "text": [
      "\r",
      "  1%|          | 275/35378 [14:21<8:52:08,  1.10it/s]"
     ]
    },
    {
     "name": "stdout",
     "output_type": "stream",
     "text": [
      "downloading dependencies\n",
      "copy \\\\live.sysinternals.com\\tools\\whois.exe C:\\Users\\ADI\\Desktop\\Major Project\n"
     ]
    },
    {
     "name": "stderr",
     "output_type": "stream",
     "text": [
      "\r",
      "  1%|          | 276/35378 [14:21<7:58:15,  1.22it/s]"
     ]
    },
    {
     "name": "stdout",
     "output_type": "stream",
     "text": [
      "downloading dependencies\n",
      "copy \\\\live.sysinternals.com\\tools\\whois.exe C:\\Users\\ADI\\Desktop\\Major Project\n"
     ]
    },
    {
     "name": "stderr",
     "output_type": "stream",
     "text": [
      "\r",
      "  1%|          | 277/35378 [14:22<7:14:07,  1.35it/s]"
     ]
    },
    {
     "name": "stdout",
     "output_type": "stream",
     "text": [
      "downloading dependencies\n",
      "copy \\\\live.sysinternals.com\\tools\\whois.exe C:\\Users\\ADI\\Desktop\\Major Project\n"
     ]
    },
    {
     "name": "stderr",
     "output_type": "stream",
     "text": [
      "\r",
      "  1%|          | 278/35378 [14:22<6:19:39,  1.54it/s]"
     ]
    },
    {
     "name": "stdout",
     "output_type": "stream",
     "text": [
      "downloading dependencies\n",
      "copy \\\\live.sysinternals.com\\tools\\whois.exe C:\\Users\\ADI\\Desktop\\Major Project\n"
     ]
    },
    {
     "name": "stderr",
     "output_type": "stream",
     "text": [
      "\r",
      "  1%|          | 279/35378 [14:23<6:02:04,  1.62it/s]"
     ]
    },
    {
     "name": "stdout",
     "output_type": "stream",
     "text": [
      "downloading dependencies\n",
      "copy \\\\live.sysinternals.com\\tools\\whois.exe C:\\Users\\ADI\\Desktop\\Major Project\n"
     ]
    },
    {
     "name": "stderr",
     "output_type": "stream",
     "text": [
      "\r",
      "  1%|          | 280/35378 [14:23<5:29:07,  1.78it/s]"
     ]
    },
    {
     "name": "stdout",
     "output_type": "stream",
     "text": [
      "downloading dependencies\n",
      "copy \\\\live.sysinternals.com\\tools\\whois.exe C:\\Users\\ADI\\Desktop\\Major Project\n"
     ]
    },
    {
     "name": "stderr",
     "output_type": "stream",
     "text": [
      "\r",
      "  1%|          | 281/35378 [14:24<6:11:49,  1.57it/s]"
     ]
    },
    {
     "name": "stdout",
     "output_type": "stream",
     "text": [
      "downloading dependencies\n",
      "copy \\\\live.sysinternals.com\\tools\\whois.exe C:\\Users\\ADI\\Desktop\\Major Project\n"
     ]
    },
    {
     "name": "stderr",
     "output_type": "stream",
     "text": [
      "\r",
      "  1%|          | 282/35378 [14:25<6:43:32,  1.45it/s]"
     ]
    },
    {
     "name": "stdout",
     "output_type": "stream",
     "text": [
      "downloading dependencies\n",
      "copy \\\\live.sysinternals.com\\tools\\whois.exe C:\\Users\\ADI\\Desktop\\Major Project\n"
     ]
    },
    {
     "name": "stderr",
     "output_type": "stream",
     "text": [
      "\r",
      "  1%|          | 283/35378 [14:26<7:09:57,  1.36it/s]"
     ]
    },
    {
     "name": "stdout",
     "output_type": "stream",
     "text": [
      "downloading dependencies\n",
      "copy \\\\live.sysinternals.com\\tools\\whois.exe C:\\Users\\ADI\\Desktop\\Major Project\n"
     ]
    },
    {
     "name": "stderr",
     "output_type": "stream",
     "text": [
      "\r",
      "  1%|          | 284/35378 [14:26<6:30:32,  1.50it/s]"
     ]
    },
    {
     "name": "stdout",
     "output_type": "stream",
     "text": [
      "downloading dependencies\n",
      "copy \\\\live.sysinternals.com\\tools\\whois.exe C:\\Users\\ADI\\Desktop\\Major Project\n"
     ]
    },
    {
     "name": "stderr",
     "output_type": "stream",
     "text": [
      "\r",
      "  1%|          | 285/35378 [14:28<8:03:11,  1.21it/s]"
     ]
    },
    {
     "name": "stdout",
     "output_type": "stream",
     "text": [
      "downloading dependencies\n",
      "copy \\\\live.sysinternals.com\\tools\\whois.exe C:\\Users\\ADI\\Desktop\\Major Project\n"
     ]
    },
    {
     "name": "stderr",
     "output_type": "stream",
     "text": [
      "\r",
      "  1%|          | 286/35378 [14:30<13:13:59,  1.36s/it]"
     ]
    },
    {
     "name": "stdout",
     "output_type": "stream",
     "text": [
      "downloading dependencies\n",
      "copy \\\\live.sysinternals.com\\tools\\whois.exe C:\\Users\\ADI\\Desktop\\Major Project\n"
     ]
    },
    {
     "name": "stderr",
     "output_type": "stream",
     "text": [
      "\r",
      "  1%|          | 287/35378 [14:31<12:00:05,  1.23s/it]"
     ]
    },
    {
     "name": "stdout",
     "output_type": "stream",
     "text": [
      "downloading dependencies\n",
      "copy \\\\live.sysinternals.com\\tools\\whois.exe C:\\Users\\ADI\\Desktop\\Major Project\n"
     ]
    },
    {
     "name": "stderr",
     "output_type": "stream",
     "text": [
      "\r",
      "  1%|          | 288/35378 [14:32<10:46:15,  1.11s/it]"
     ]
    },
    {
     "name": "stdout",
     "output_type": "stream",
     "text": [
      "downloading dependencies\n",
      "copy \\\\live.sysinternals.com\\tools\\whois.exe C:\\Users\\ADI\\Desktop\\Major Project\n"
     ]
    },
    {
     "name": "stderr",
     "output_type": "stream",
     "text": [
      "\r",
      "  1%|          | 289/35378 [14:33<9:37:47,  1.01it/s] "
     ]
    },
    {
     "name": "stdout",
     "output_type": "stream",
     "text": [
      "downloading dependencies\n",
      "copy \\\\live.sysinternals.com\\tools\\whois.exe C:\\Users\\ADI\\Desktop\\Major Project\n"
     ]
    },
    {
     "name": "stderr",
     "output_type": "stream",
     "text": [
      "\r",
      "  1%|          | 290/35378 [14:34<9:29:53,  1.03it/s]"
     ]
    },
    {
     "name": "stdout",
     "output_type": "stream",
     "text": [
      "downloading dependencies\n",
      "copy \\\\live.sysinternals.com\\tools\\whois.exe C:\\Users\\ADI\\Desktop\\Major Project\n"
     ]
    },
    {
     "name": "stderr",
     "output_type": "stream",
     "text": [
      "\r",
      "  1%|          | 291/35378 [14:34<8:35:52,  1.13it/s]"
     ]
    },
    {
     "name": "stdout",
     "output_type": "stream",
     "text": [
      "downloading dependencies\n",
      "copy \\\\live.sysinternals.com\\tools\\whois.exe C:\\Users\\ADI\\Desktop\\Major Project\n"
     ]
    },
    {
     "name": "stderr",
     "output_type": "stream",
     "text": [
      "\r",
      "  1%|          | 292/35378 [14:35<7:37:44,  1.28it/s]"
     ]
    },
    {
     "name": "stdout",
     "output_type": "stream",
     "text": [
      "downloading dependencies\n",
      "copy \\\\live.sysinternals.com\\tools\\whois.exe C:\\Users\\ADI\\Desktop\\Major Project\n"
     ]
    },
    {
     "name": "stderr",
     "output_type": "stream",
     "text": [
      "\r",
      "  1%|          | 293/35378 [14:37<10:32:14,  1.08s/it]"
     ]
    },
    {
     "name": "stdout",
     "output_type": "stream",
     "text": [
      "downloading dependencies\n",
      "copy \\\\live.sysinternals.com\\tools\\whois.exe C:\\Users\\ADI\\Desktop\\Major Project\n"
     ]
    },
    {
     "name": "stderr",
     "output_type": "stream",
     "text": [
      "\r",
      "  1%|          | 294/35378 [15:04<87:48:35,  9.01s/it]"
     ]
    },
    {
     "name": "stdout",
     "output_type": "stream",
     "text": [
      "downloading dependencies\n",
      "copy \\\\live.sysinternals.com\\tools\\whois.exe C:\\Users\\ADI\\Desktop\\Major Project\n"
     ]
    },
    {
     "name": "stderr",
     "output_type": "stream",
     "text": [
      "\r",
      "  1%|          | 295/35378 [15:05<65:08:05,  6.68s/it]"
     ]
    },
    {
     "name": "stdout",
     "output_type": "stream",
     "text": [
      "downloading dependencies\n",
      "copy \\\\live.sysinternals.com\\tools\\whois.exe C:\\Users\\ADI\\Desktop\\Major Project\n"
     ]
    },
    {
     "name": "stderr",
     "output_type": "stream",
     "text": [
      "\r",
      "  1%|          | 296/35378 [15:07<49:43:21,  5.10s/it]"
     ]
    },
    {
     "name": "stdout",
     "output_type": "stream",
     "text": [
      "downloading dependencies\n",
      "copy \\\\live.sysinternals.com\\tools\\whois.exe C:\\Users\\ADI\\Desktop\\Major Project\n"
     ]
    },
    {
     "name": "stderr",
     "output_type": "stream",
     "text": [
      "\r",
      "  1%|          | 297/35378 [15:08<38:48:45,  3.98s/it]"
     ]
    },
    {
     "name": "stdout",
     "output_type": "stream",
     "text": [
      "downloading dependencies\n",
      "copy \\\\live.sysinternals.com\\tools\\whois.exe C:\\Users\\ADI\\Desktop\\Major Project\n"
     ]
    },
    {
     "name": "stderr",
     "output_type": "stream",
     "text": [
      "\r",
      "  1%|          | 298/35378 [15:09<31:12:36,  3.20s/it]"
     ]
    },
    {
     "name": "stdout",
     "output_type": "stream",
     "text": [
      "downloading dependencies\n",
      "copy \\\\live.sysinternals.com\\tools\\whois.exe C:\\Users\\ADI\\Desktop\\Major Project\n"
     ]
    },
    {
     "name": "stderr",
     "output_type": "stream",
     "text": [
      "\r",
      "  1%|          | 299/35378 [15:11<25:38:22,  2.63s/it]"
     ]
    },
    {
     "name": "stdout",
     "output_type": "stream",
     "text": [
      "downloading dependencies\n",
      "copy \\\\live.sysinternals.com\\tools\\whois.exe C:\\Users\\ADI\\Desktop\\Major Project\n"
     ]
    },
    {
     "name": "stderr",
     "output_type": "stream",
     "text": [
      "\r",
      "  1%|          | 300/35378 [15:12<20:14:08,  2.08s/it]"
     ]
    },
    {
     "name": "stdout",
     "output_type": "stream",
     "text": [
      "downloading dependencies\n",
      "copy \\\\live.sysinternals.com\\tools\\whois.exe C:\\Users\\ADI\\Desktop\\Major Project\n"
     ]
    },
    {
     "name": "stderr",
     "output_type": "stream",
     "text": [
      "\r",
      "  1%|          | 301/35378 [15:12<15:46:13,  1.62s/it]"
     ]
    },
    {
     "name": "stdout",
     "output_type": "stream",
     "text": [
      "downloading dependencies\n",
      "copy \\\\live.sysinternals.com\\tools\\whois.exe C:\\Users\\ADI\\Desktop\\Major Project\n"
     ]
    },
    {
     "name": "stderr",
     "output_type": "stream",
     "text": [
      "\r",
      "  1%|          | 302/35378 [15:14<15:33:01,  1.60s/it]"
     ]
    },
    {
     "name": "stdout",
     "output_type": "stream",
     "text": [
      "downloading dependencies\n",
      "copy \\\\live.sysinternals.com\\tools\\whois.exe C:\\Users\\ADI\\Desktop\\Major Project\n"
     ]
    },
    {
     "name": "stderr",
     "output_type": "stream",
     "text": [
      "\r",
      "  1%|          | 303/35378 [15:23<38:09:30,  3.92s/it]"
     ]
    },
    {
     "name": "stdout",
     "output_type": "stream",
     "text": [
      "downloading dependencies\n",
      "copy \\\\live.sysinternals.com\\tools\\whois.exe C:\\Users\\ADI\\Desktop\\Major Project\n"
     ]
    },
    {
     "name": "stderr",
     "output_type": "stream",
     "text": [
      "\r",
      "  1%|          | 304/35378 [15:23<27:29:04,  2.82s/it]"
     ]
    },
    {
     "name": "stdout",
     "output_type": "stream",
     "text": [
      "downloading dependencies\n",
      "copy \\\\live.sysinternals.com\\tools\\whois.exe C:\\Users\\ADI\\Desktop\\Major Project\n"
     ]
    },
    {
     "name": "stderr",
     "output_type": "stream",
     "text": [
      "\r",
      "  1%|          | 305/35378 [15:33<46:40:30,  4.79s/it]"
     ]
    },
    {
     "name": "stdout",
     "output_type": "stream",
     "text": [
      "downloading dependencies\n",
      "copy \\\\live.sysinternals.com\\tools\\whois.exe C:\\Users\\ADI\\Desktop\\Major Project\n"
     ]
    },
    {
     "name": "stderr",
     "output_type": "stream",
     "text": [
      "\r",
      "  1%|          | 306/35378 [15:33<33:35:26,  3.45s/it]"
     ]
    },
    {
     "name": "stdout",
     "output_type": "stream",
     "text": [
      "downloading dependencies\n",
      "copy \\\\live.sysinternals.com\\tools\\whois.exe C:\\Users\\ADI\\Desktop\\Major Project\n"
     ]
    },
    {
     "name": "stderr",
     "output_type": "stream",
     "text": [
      "\r",
      "  1%|          | 307/35378 [16:09<130:02:18, 13.35s/it]"
     ]
    },
    {
     "name": "stdout",
     "output_type": "stream",
     "text": [
      "downloading dependencies\n",
      "copy \\\\live.sysinternals.com\\tools\\whois.exe C:\\Users\\ADI\\Desktop\\Major Project\n"
     ]
    },
    {
     "name": "stderr",
     "output_type": "stream",
     "text": [
      "\r",
      "  1%|          | 308/35378 [16:11<96:26:09,  9.90s/it] "
     ]
    },
    {
     "name": "stdout",
     "output_type": "stream",
     "text": [
      "downloading dependencies\n",
      "copy \\\\live.sysinternals.com\\tools\\whois.exe C:\\Users\\ADI\\Desktop\\Major Project\n"
     ]
    },
    {
     "name": "stderr",
     "output_type": "stream",
     "text": [
      "\r",
      "  1%|          | 309/35378 [16:11<68:17:15,  7.01s/it]"
     ]
    },
    {
     "name": "stdout",
     "output_type": "stream",
     "text": [
      "downloading dependencies\n",
      "copy \\\\live.sysinternals.com\\tools\\whois.exe C:\\Users\\ADI\\Desktop\\Major Project\n"
     ]
    },
    {
     "name": "stderr",
     "output_type": "stream",
     "text": [
      "\r",
      "  1%|          | 310/35378 [16:14<54:12:06,  5.56s/it]"
     ]
    },
    {
     "name": "stdout",
     "output_type": "stream",
     "text": [
      "downloading dependencies\n",
      "copy \\\\live.sysinternals.com\\tools\\whois.exe C:\\Users\\ADI\\Desktop\\Major Project\n"
     ]
    },
    {
     "name": "stderr",
     "output_type": "stream",
     "text": [
      "\r",
      "  1%|          | 311/35378 [16:14<38:46:11,  3.98s/it]"
     ]
    },
    {
     "name": "stdout",
     "output_type": "stream",
     "text": [
      "downloading dependencies\n",
      "copy \\\\live.sysinternals.com\\tools\\whois.exe C:\\Users\\ADI\\Desktop\\Major Project\n"
     ]
    },
    {
     "name": "stderr",
     "output_type": "stream",
     "text": [
      "\r",
      "  1%|          | 312/35378 [16:14<28:22:30,  2.91s/it]"
     ]
    },
    {
     "name": "stdout",
     "output_type": "stream",
     "text": [
      "downloading dependencies\n",
      "copy \\\\live.sysinternals.com\\tools\\whois.exe C:\\Users\\ADI\\Desktop\\Major Project\n"
     ]
    },
    {
     "name": "stderr",
     "output_type": "stream",
     "text": [
      "\r",
      "  1%|          | 313/35378 [16:15<21:53:38,  2.25s/it]"
     ]
    },
    {
     "name": "stdout",
     "output_type": "stream",
     "text": [
      "downloading dependencies\n",
      "copy \\\\live.sysinternals.com\\tools\\whois.exe C:\\Users\\ADI\\Desktop\\Major Project\n"
     ]
    },
    {
     "name": "stderr",
     "output_type": "stream",
     "text": [
      "\r",
      "  1%|          | 314/35378 [16:16<16:49:30,  1.73s/it]"
     ]
    },
    {
     "name": "stdout",
     "output_type": "stream",
     "text": [
      "downloading dependencies\n",
      "copy \\\\live.sysinternals.com\\tools\\whois.exe C:\\Users\\ADI\\Desktop\\Major Project\n"
     ]
    },
    {
     "name": "stderr",
     "output_type": "stream",
     "text": [
      "\r",
      "  1%|          | 315/35378 [16:16<13:23:50,  1.38s/it]"
     ]
    },
    {
     "name": "stdout",
     "output_type": "stream",
     "text": [
      "downloading dependencies\n",
      "copy \\\\live.sysinternals.com\\tools\\whois.exe C:\\Users\\ADI\\Desktop\\Major Project\n"
     ]
    },
    {
     "name": "stderr",
     "output_type": "stream",
     "text": [
      "\r",
      "  1%|          | 316/35378 [16:17<11:00:37,  1.13s/it]"
     ]
    },
    {
     "name": "stdout",
     "output_type": "stream",
     "text": [
      "downloading dependencies\n",
      "copy \\\\live.sysinternals.com\\tools\\whois.exe C:\\Users\\ADI\\Desktop\\Major Project\n"
     ]
    },
    {
     "name": "stderr",
     "output_type": "stream",
     "text": [
      "\r",
      "  1%|          | 317/35378 [16:17<9:22:05,  1.04it/s] "
     ]
    },
    {
     "name": "stdout",
     "output_type": "stream",
     "text": [
      "downloading dependencies\n",
      "copy \\\\live.sysinternals.com\\tools\\whois.exe C:\\Users\\ADI\\Desktop\\Major Project\n"
     ]
    },
    {
     "name": "stderr",
     "output_type": "stream",
     "text": [
      "\r",
      "  1%|          | 318/35378 [16:19<12:40:05,  1.30s/it]"
     ]
    },
    {
     "name": "stdout",
     "output_type": "stream",
     "text": [
      "downloading dependencies\n",
      "copy \\\\live.sysinternals.com\\tools\\whois.exe C:\\Users\\ADI\\Desktop\\Major Project\n"
     ]
    },
    {
     "name": "stderr",
     "output_type": "stream",
     "text": [
      "\r",
      "  1%|          | 319/35378 [16:22<16:54:30,  1.74s/it]"
     ]
    },
    {
     "name": "stdout",
     "output_type": "stream",
     "text": [
      "downloading dependencies\n",
      "copy \\\\live.sysinternals.com\\tools\\whois.exe C:\\Users\\ADI\\Desktop\\Major Project\n"
     ]
    },
    {
     "name": "stderr",
     "output_type": "stream",
     "text": [
      "\r",
      "  1%|          | 320/35378 [16:24<17:33:07,  1.80s/it]"
     ]
    },
    {
     "name": "stdout",
     "output_type": "stream",
     "text": [
      "downloading dependencies\n",
      "copy \\\\live.sysinternals.com\\tools\\whois.exe C:\\Users\\ADI\\Desktop\\Major Project\n"
     ]
    },
    {
     "name": "stderr",
     "output_type": "stream",
     "text": [
      "\r",
      "  1%|          | 321/35378 [16:26<19:22:03,  1.99s/it]"
     ]
    },
    {
     "name": "stdout",
     "output_type": "stream",
     "text": [
      "downloading dependencies\n",
      "copy \\\\live.sysinternals.com\\tools\\whois.exe C:\\Users\\ADI\\Desktop\\Major Project\n"
     ]
    },
    {
     "name": "stderr",
     "output_type": "stream",
     "text": [
      "\r",
      "  1%|          | 322/35378 [16:28<18:19:06,  1.88s/it]"
     ]
    },
    {
     "name": "stdout",
     "output_type": "stream",
     "text": [
      "downloading dependencies\n",
      "copy \\\\live.sysinternals.com\\tools\\whois.exe C:\\Users\\ADI\\Desktop\\Major Project\n"
     ]
    },
    {
     "name": "stderr",
     "output_type": "stream",
     "text": [
      "\r",
      "  1%|          | 323/35378 [16:30<19:22:59,  1.99s/it]"
     ]
    },
    {
     "name": "stdout",
     "output_type": "stream",
     "text": [
      "downloading dependencies\n",
      "copy \\\\live.sysinternals.com\\tools\\whois.exe C:\\Users\\ADI\\Desktop\\Major Project\n"
     ]
    },
    {
     "name": "stderr",
     "output_type": "stream",
     "text": [
      "\r",
      "  1%|          | 324/35378 [16:59<97:10:12,  9.98s/it]"
     ]
    },
    {
     "name": "stdout",
     "output_type": "stream",
     "text": [
      "downloading dependencies\n",
      "copy \\\\live.sysinternals.com\\tools\\whois.exe C:\\Users\\ADI\\Desktop\\Major Project\n"
     ]
    },
    {
     "name": "stderr",
     "output_type": "stream",
     "text": [
      "\r",
      "  1%|          | 325/35378 [17:01<75:18:39,  7.73s/it]"
     ]
    },
    {
     "name": "stdout",
     "output_type": "stream",
     "text": [
      "downloading dependencies\n",
      "copy \\\\live.sysinternals.com\\tools\\whois.exe C:\\Users\\ADI\\Desktop\\Major Project\n"
     ]
    },
    {
     "name": "stderr",
     "output_type": "stream",
     "text": [
      "\r",
      "  1%|          | 326/35378 [17:04<59:13:18,  6.08s/it]"
     ]
    },
    {
     "name": "stdout",
     "output_type": "stream",
     "text": [
      "downloading dependencies\n",
      "copy \\\\live.sysinternals.com\\tools\\whois.exe C:\\Users\\ADI\\Desktop\\Major Project\n"
     ]
    },
    {
     "name": "stderr",
     "output_type": "stream",
     "text": [
      "\r",
      "  1%|          | 327/35378 [17:06<47:03:55,  4.83s/it]"
     ]
    },
    {
     "name": "stdout",
     "output_type": "stream",
     "text": [
      "downloading dependencies\n",
      "copy \\\\live.sysinternals.com\\tools\\whois.exe C:\\Users\\ADI\\Desktop\\Major Project\n"
     ]
    },
    {
     "name": "stderr",
     "output_type": "stream",
     "text": [
      "\r",
      "  1%|          | 328/35378 [17:07<37:29:18,  3.85s/it]"
     ]
    },
    {
     "name": "stdout",
     "output_type": "stream",
     "text": [
      "downloading dependencies\n",
      "copy \\\\live.sysinternals.com\\tools\\whois.exe C:\\Users\\ADI\\Desktop\\Major Project\n"
     ]
    },
    {
     "name": "stderr",
     "output_type": "stream",
     "text": [
      "\r",
      "  1%|          | 329/35378 [17:08<28:25:38,  2.92s/it]"
     ]
    },
    {
     "name": "stdout",
     "output_type": "stream",
     "text": [
      "downloading dependencies\n",
      "copy \\\\live.sysinternals.com\\tools\\whois.exe C:\\Users\\ADI\\Desktop\\Major Project\n"
     ]
    },
    {
     "name": "stderr",
     "output_type": "stream",
     "text": [
      "\r",
      "  1%|          | 330/35378 [17:08<21:01:37,  2.16s/it]"
     ]
    },
    {
     "name": "stdout",
     "output_type": "stream",
     "text": [
      "downloading dependencies\n",
      "copy \\\\live.sysinternals.com\\tools\\whois.exe C:\\Users\\ADI\\Desktop\\Major Project\n"
     ]
    },
    {
     "name": "stderr",
     "output_type": "stream",
     "text": [
      "\r",
      "  1%|          | 331/35378 [17:09<17:09:33,  1.76s/it]"
     ]
    },
    {
     "name": "stdout",
     "output_type": "stream",
     "text": [
      "downloading dependencies\n",
      "copy \\\\live.sysinternals.com\\tools\\whois.exe C:\\Users\\ADI\\Desktop\\Major Project\n"
     ]
    },
    {
     "name": "stderr",
     "output_type": "stream",
     "text": [
      "\r",
      "  1%|          | 332/35378 [17:11<17:40:43,  1.82s/it]"
     ]
    },
    {
     "name": "stdout",
     "output_type": "stream",
     "text": [
      "downloading dependencies\n",
      "copy \\\\live.sysinternals.com\\tools\\whois.exe C:\\Users\\ADI\\Desktop\\Major Project\n"
     ]
    },
    {
     "name": "stderr",
     "output_type": "stream",
     "text": [
      "\r",
      "  1%|          | 333/35378 [17:14<19:47:25,  2.03s/it]"
     ]
    },
    {
     "name": "stdout",
     "output_type": "stream",
     "text": [
      "downloading dependencies\n",
      "copy \\\\live.sysinternals.com\\tools\\whois.exe C:\\Users\\ADI\\Desktop\\Major Project\n"
     ]
    },
    {
     "name": "stderr",
     "output_type": "stream",
     "text": [
      "\r",
      "  1%|          | 334/35378 [17:14<15:47:58,  1.62s/it]"
     ]
    },
    {
     "name": "stdout",
     "output_type": "stream",
     "text": [
      "downloading dependencies\n",
      "copy \\\\live.sysinternals.com\\tools\\whois.exe C:\\Users\\ADI\\Desktop\\Major Project\n"
     ]
    },
    {
     "name": "stderr",
     "output_type": "stream",
     "text": [
      "\r",
      "  1%|          | 335/35378 [17:15<12:32:55,  1.29s/it]"
     ]
    },
    {
     "name": "stdout",
     "output_type": "stream",
     "text": [
      "downloading dependencies\n",
      "copy \\\\live.sysinternals.com\\tools\\whois.exe C:\\Users\\ADI\\Desktop\\Major Project\n"
     ]
    },
    {
     "name": "stderr",
     "output_type": "stream",
     "text": [
      "\r",
      "  1%|          | 336/35378 [17:16<13:09:29,  1.35s/it]"
     ]
    },
    {
     "name": "stdout",
     "output_type": "stream",
     "text": [
      "downloading dependencies\n",
      "copy \\\\live.sysinternals.com\\tools\\whois.exe C:\\Users\\ADI\\Desktop\\Major Project\n"
     ]
    },
    {
     "name": "stderr",
     "output_type": "stream",
     "text": [
      "\r",
      "  1%|          | 337/35378 [17:18<12:56:47,  1.33s/it]"
     ]
    },
    {
     "name": "stdout",
     "output_type": "stream",
     "text": [
      "downloading dependencies\n",
      "copy \\\\live.sysinternals.com\\tools\\whois.exe C:\\Users\\ADI\\Desktop\\Major Project\n"
     ]
    },
    {
     "name": "stderr",
     "output_type": "stream",
     "text": [
      "\r",
      "  1%|          | 338/35378 [17:19<11:54:04,  1.22s/it]"
     ]
    },
    {
     "name": "stdout",
     "output_type": "stream",
     "text": [
      "downloading dependencies\n",
      "copy \\\\live.sysinternals.com\\tools\\whois.exe C:\\Users\\ADI\\Desktop\\Major Project\n"
     ]
    },
    {
     "name": "stderr",
     "output_type": "stream",
     "text": [
      "\r",
      "  1%|          | 339/35378 [17:19<10:54:49,  1.12s/it]"
     ]
    },
    {
     "name": "stdout",
     "output_type": "stream",
     "text": [
      "downloading dependencies\n",
      "copy \\\\live.sysinternals.com\\tools\\whois.exe C:\\Users\\ADI\\Desktop\\Major Project\n"
     ]
    },
    {
     "name": "stderr",
     "output_type": "stream",
     "text": [
      "\r",
      "  1%|          | 340/35378 [17:20<10:10:49,  1.05s/it]"
     ]
    },
    {
     "name": "stdout",
     "output_type": "stream",
     "text": [
      "downloading dependencies\n",
      "copy \\\\live.sysinternals.com\\tools\\whois.exe C:\\Users\\ADI\\Desktop\\Major Project\n"
     ]
    },
    {
     "name": "stderr",
     "output_type": "stream",
     "text": [
      "\r",
      "  1%|          | 341/35378 [17:21<9:43:05,  1.00it/s] "
     ]
    },
    {
     "name": "stdout",
     "output_type": "stream",
     "text": [
      "downloading dependencies\n",
      "copy \\\\live.sysinternals.com\\tools\\whois.exe C:\\Users\\ADI\\Desktop\\Major Project\n"
     ]
    },
    {
     "name": "stderr",
     "output_type": "stream",
     "text": [
      "\r",
      "  1%|          | 342/35378 [17:22<9:32:25,  1.02it/s]"
     ]
    },
    {
     "name": "stdout",
     "output_type": "stream",
     "text": [
      "downloading dependencies\n",
      "copy \\\\live.sysinternals.com\\tools\\whois.exe C:\\Users\\ADI\\Desktop\\Major Project\n"
     ]
    },
    {
     "name": "stderr",
     "output_type": "stream",
     "text": [
      "\r",
      "  1%|          | 343/35378 [17:23<8:51:50,  1.10it/s]"
     ]
    },
    {
     "name": "stdout",
     "output_type": "stream",
     "text": [
      "downloading dependencies\n",
      "copy \\\\live.sysinternals.com\\tools\\whois.exe C:\\Users\\ADI\\Desktop\\Major Project\n"
     ]
    },
    {
     "name": "stderr",
     "output_type": "stream",
     "text": [
      "\r",
      "  1%|          | 344/35378 [17:25<10:56:22,  1.12s/it]"
     ]
    },
    {
     "name": "stdout",
     "output_type": "stream",
     "text": [
      "downloading dependencies\n",
      "copy \\\\live.sysinternals.com\\tools\\whois.exe C:\\Users\\ADI\\Desktop\\Major Project\n"
     ]
    },
    {
     "name": "stderr",
     "output_type": "stream",
     "text": [
      "\r",
      "  1%|          | 345/35378 [17:26<10:45:06,  1.10s/it]"
     ]
    },
    {
     "name": "stdout",
     "output_type": "stream",
     "text": [
      "downloading dependencies\n",
      "copy \\\\live.sysinternals.com\\tools\\whois.exe C:\\Users\\ADI\\Desktop\\Major Project\n"
     ]
    },
    {
     "name": "stderr",
     "output_type": "stream",
     "text": [
      "\r",
      "  1%|          | 346/35378 [17:27<10:44:14,  1.10s/it]"
     ]
    },
    {
     "name": "stdout",
     "output_type": "stream",
     "text": [
      "downloading dependencies\n",
      "copy \\\\live.sysinternals.com\\tools\\whois.exe C:\\Users\\ADI\\Desktop\\Major Project\n"
     ]
    },
    {
     "name": "stderr",
     "output_type": "stream",
     "text": [
      "\r",
      "  1%|          | 347/35378 [17:54<87:04:14,  8.95s/it]"
     ]
    },
    {
     "name": "stdout",
     "output_type": "stream",
     "text": [
      "downloading dependencies\n",
      "copy \\\\live.sysinternals.com\\tools\\whois.exe C:\\Users\\ADI\\Desktop\\Major Project\n"
     ]
    },
    {
     "name": "stderr",
     "output_type": "stream",
     "text": [
      "\r",
      "  1%|          | 348/35378 [17:55<64:03:44,  6.58s/it]"
     ]
    },
    {
     "name": "stdout",
     "output_type": "stream",
     "text": [
      "downloading dependencies\n",
      "copy \\\\live.sysinternals.com\\tools\\whois.exe C:\\Users\\ADI\\Desktop\\Major Project\n"
     ]
    },
    {
     "name": "stderr",
     "output_type": "stream",
     "text": [
      "\r",
      "  1%|          | 349/35378 [17:56<48:12:57,  4.96s/it]"
     ]
    },
    {
     "name": "stdout",
     "output_type": "stream",
     "text": [
      "downloading dependencies\n",
      "copy \\\\live.sysinternals.com\\tools\\whois.exe C:\\Users\\ADI\\Desktop\\Major Project\n"
     ]
    },
    {
     "name": "stderr",
     "output_type": "stream",
     "text": [
      "\r",
      "  1%|          | 350/35378 [17:58<39:37:39,  4.07s/it]"
     ]
    },
    {
     "name": "stdout",
     "output_type": "stream",
     "text": [
      "downloading dependencies\n",
      "copy \\\\live.sysinternals.com\\tools\\whois.exe C:\\Users\\ADI\\Desktop\\Major Project\n"
     ]
    },
    {
     "name": "stderr",
     "output_type": "stream",
     "text": [
      "\r",
      "  1%|          | 351/35378 [17:59<30:17:56,  3.11s/it]"
     ]
    },
    {
     "name": "stdout",
     "output_type": "stream",
     "text": [
      "downloading dependencies\n",
      "copy \\\\live.sysinternals.com\\tools\\whois.exe C:\\Users\\ADI\\Desktop\\Major Project\n"
     ]
    },
    {
     "name": "stderr",
     "output_type": "stream",
     "text": [
      "\r",
      "  1%|          | 352/35378 [18:00<24:03:30,  2.47s/it]"
     ]
    },
    {
     "name": "stdout",
     "output_type": "stream",
     "text": [
      "downloading dependencies\n",
      "copy \\\\live.sysinternals.com\\tools\\whois.exe C:\\Users\\ADI\\Desktop\\Major Project\n"
     ]
    },
    {
     "name": "stderr",
     "output_type": "stream",
     "text": [
      "\r",
      "  1%|          | 353/35378 [18:01<18:43:50,  1.93s/it]"
     ]
    },
    {
     "name": "stdout",
     "output_type": "stream",
     "text": [
      "downloading dependencies\n",
      "copy \\\\live.sysinternals.com\\tools\\whois.exe C:\\Users\\ADI\\Desktop\\Major Project\n"
     ]
    },
    {
     "name": "stderr",
     "output_type": "stream",
     "text": [
      "\r",
      "  1%|          | 354/35378 [18:02<16:43:26,  1.72s/it]"
     ]
    },
    {
     "name": "stdout",
     "output_type": "stream",
     "text": [
      "downloading dependencies\n",
      "copy \\\\live.sysinternals.com\\tools\\whois.exe C:\\Users\\ADI\\Desktop\\Major Project\n"
     ]
    },
    {
     "name": "stderr",
     "output_type": "stream",
     "text": [
      "\r",
      "  1%|          | 355/35378 [18:02<13:21:32,  1.37s/it]"
     ]
    },
    {
     "name": "stdout",
     "output_type": "stream",
     "text": [
      "downloading dependencies\n",
      "copy \\\\live.sysinternals.com\\tools\\whois.exe C:\\Users\\ADI\\Desktop\\Major Project\n"
     ]
    },
    {
     "name": "stderr",
     "output_type": "stream",
     "text": [
      "\r",
      "  1%|          | 356/35378 [18:03<11:04:18,  1.14s/it]"
     ]
    },
    {
     "name": "stdout",
     "output_type": "stream",
     "text": [
      "downloading dependencies\n",
      "copy \\\\live.sysinternals.com\\tools\\whois.exe C:\\Users\\ADI\\Desktop\\Major Project\n"
     ]
    },
    {
     "name": "stderr",
     "output_type": "stream",
     "text": [
      "\r",
      "  1%|          | 357/35378 [18:04<10:19:21,  1.06s/it]"
     ]
    },
    {
     "name": "stdout",
     "output_type": "stream",
     "text": [
      "downloading dependencies\n",
      "copy \\\\live.sysinternals.com\\tools\\whois.exe C:\\Users\\ADI\\Desktop\\Major Project\n"
     ]
    },
    {
     "name": "stderr",
     "output_type": "stream",
     "text": [
      "\r",
      "  1%|          | 358/35378 [18:05<9:04:47,  1.07it/s] "
     ]
    },
    {
     "name": "stdout",
     "output_type": "stream",
     "text": [
      "downloading dependencies\n",
      "copy \\\\live.sysinternals.com\\tools\\whois.exe C:\\Users\\ADI\\Desktop\\Major Project\n"
     ]
    },
    {
     "name": "stderr",
     "output_type": "stream",
     "text": [
      "\r",
      "  1%|          | 359/35378 [18:05<8:35:03,  1.13it/s]"
     ]
    },
    {
     "name": "stdout",
     "output_type": "stream",
     "text": [
      "downloading dependencies\n",
      "copy \\\\live.sysinternals.com\\tools\\whois.exe C:\\Users\\ADI\\Desktop\\Major Project\n"
     ]
    },
    {
     "name": "stderr",
     "output_type": "stream",
     "text": [
      "\r",
      "  1%|          | 360/35378 [18:07<9:54:22,  1.02s/it]"
     ]
    },
    {
     "name": "stdout",
     "output_type": "stream",
     "text": [
      "downloading dependencies\n",
      "copy \\\\live.sysinternals.com\\tools\\whois.exe C:\\Users\\ADI\\Desktop\\Major Project\n"
     ]
    },
    {
     "name": "stderr",
     "output_type": "stream",
     "text": [
      "\r",
      "  1%|          | 361/35378 [18:09<13:04:20,  1.34s/it]"
     ]
    },
    {
     "name": "stdout",
     "output_type": "stream",
     "text": [
      "downloading dependencies\n",
      "copy \\\\live.sysinternals.com\\tools\\whois.exe C:\\Users\\ADI\\Desktop\\Major Project\n"
     ]
    },
    {
     "name": "stderr",
     "output_type": "stream",
     "text": [
      "\r",
      "  1%|          | 362/35378 [18:11<15:58:21,  1.64s/it]"
     ]
    },
    {
     "name": "stdout",
     "output_type": "stream",
     "text": [
      "downloading dependencies\n",
      "copy \\\\live.sysinternals.com\\tools\\whois.exe C:\\Users\\ADI\\Desktop\\Major Project\n"
     ]
    },
    {
     "name": "stderr",
     "output_type": "stream",
     "text": [
      "\r",
      "  1%|          | 363/35378 [18:12<15:06:55,  1.55s/it]"
     ]
    },
    {
     "name": "stdout",
     "output_type": "stream",
     "text": [
      "downloading dependencies\n",
      "copy \\\\live.sysinternals.com\\tools\\whois.exe C:\\Users\\ADI\\Desktop\\Major Project\n"
     ]
    },
    {
     "name": "stderr",
     "output_type": "stream",
     "text": [
      "\r",
      "  1%|          | 364/35378 [18:14<14:24:08,  1.48s/it]"
     ]
    },
    {
     "name": "stdout",
     "output_type": "stream",
     "text": [
      "downloading dependencies\n",
      "copy \\\\live.sysinternals.com\\tools\\whois.exe C:\\Users\\ADI\\Desktop\\Major Project\n"
     ]
    },
    {
     "name": "stderr",
     "output_type": "stream",
     "text": [
      "\r",
      "  1%|          | 365/35378 [18:16<16:38:22,  1.71s/it]"
     ]
    },
    {
     "name": "stdout",
     "output_type": "stream",
     "text": [
      "downloading dependencies\n",
      "copy \\\\live.sysinternals.com\\tools\\whois.exe C:\\Users\\ADI\\Desktop\\Major Project\n"
     ]
    },
    {
     "name": "stderr",
     "output_type": "stream",
     "text": [
      "\r",
      "  1%|          | 366/35378 [18:18<16:15:38,  1.67s/it]"
     ]
    },
    {
     "name": "stdout",
     "output_type": "stream",
     "text": [
      "downloading dependencies\n",
      "copy \\\\live.sysinternals.com\\tools\\whois.exe C:\\Users\\ADI\\Desktop\\Major Project\n"
     ]
    },
    {
     "name": "stderr",
     "output_type": "stream",
     "text": [
      "\r",
      "  1%|          | 367/35378 [18:19<14:53:47,  1.53s/it]"
     ]
    },
    {
     "name": "stdout",
     "output_type": "stream",
     "text": [
      "downloading dependencies\n",
      "copy \\\\live.sysinternals.com\\tools\\whois.exe C:\\Users\\ADI\\Desktop\\Major Project\n"
     ]
    },
    {
     "name": "stderr",
     "output_type": "stream",
     "text": [
      "\r",
      "  1%|          | 368/35378 [18:20<13:24:44,  1.38s/it]"
     ]
    },
    {
     "name": "stdout",
     "output_type": "stream",
     "text": [
      "downloading dependencies\n",
      "copy \\\\live.sysinternals.com\\tools\\whois.exe C:\\Users\\ADI\\Desktop\\Major Project\n"
     ]
    },
    {
     "name": "stderr",
     "output_type": "stream",
     "text": [
      "\r",
      "  1%|          | 369/35378 [18:21<14:07:38,  1.45s/it]"
     ]
    },
    {
     "name": "stdout",
     "output_type": "stream",
     "text": [
      "downloading dependencies\n",
      "copy \\\\live.sysinternals.com\\tools\\whois.exe C:\\Users\\ADI\\Desktop\\Major Project\n"
     ]
    },
    {
     "name": "stderr",
     "output_type": "stream",
     "text": [
      "\r",
      "  1%|          | 370/35378 [18:24<15:53:42,  1.63s/it]"
     ]
    },
    {
     "name": "stdout",
     "output_type": "stream",
     "text": [
      "downloading dependencies\n",
      "copy \\\\live.sysinternals.com\\tools\\whois.exe C:\\Users\\ADI\\Desktop\\Major Project\n"
     ]
    },
    {
     "name": "stderr",
     "output_type": "stream",
     "text": [
      "\r",
      "  1%|          | 371/35378 [18:52<94:06:07,  9.68s/it]"
     ]
    },
    {
     "name": "stdout",
     "output_type": "stream",
     "text": [
      "downloading dependencies\n",
      "copy \\\\live.sysinternals.com\\tools\\whois.exe C:\\Users\\ADI\\Desktop\\Major Project\n"
     ]
    },
    {
     "name": "stderr",
     "output_type": "stream",
     "text": [
      "\r",
      "  1%|          | 372/35378 [18:53<70:02:27,  7.20s/it]"
     ]
    },
    {
     "name": "stdout",
     "output_type": "stream",
     "text": [
      "downloading dependencies\n",
      "copy \\\\live.sysinternals.com\\tools\\whois.exe C:\\Users\\ADI\\Desktop\\Major Project\n"
     ]
    },
    {
     "name": "stderr",
     "output_type": "stream",
     "text": [
      "\r",
      "  1%|          | 373/35378 [18:55<52:59:26,  5.45s/it]"
     ]
    },
    {
     "name": "stdout",
     "output_type": "stream",
     "text": [
      "downloading dependencies\n",
      "copy \\\\live.sysinternals.com\\tools\\whois.exe C:\\Users\\ADI\\Desktop\\Major Project\n"
     ]
    },
    {
     "name": "stderr",
     "output_type": "stream",
     "text": [
      "\r",
      "  1%|          | 374/35378 [18:57<44:48:05,  4.61s/it]"
     ]
    },
    {
     "name": "stdout",
     "output_type": "stream",
     "text": [
      "downloading dependencies\n",
      "copy \\\\live.sysinternals.com\\tools\\whois.exe C:\\Users\\ADI\\Desktop\\Major Project\n"
     ]
    },
    {
     "name": "stderr",
     "output_type": "stream",
     "text": [
      "\r",
      "  1%|          | 375/35378 [19:00<37:38:06,  3.87s/it]"
     ]
    },
    {
     "name": "stdout",
     "output_type": "stream",
     "text": [
      "downloading dependencies\n",
      "copy \\\\live.sysinternals.com\\tools\\whois.exe C:\\Users\\ADI\\Desktop\\Major Project\n"
     ]
    },
    {
     "name": "stderr",
     "output_type": "stream",
     "text": [
      "\r",
      "  1%|          | 376/35378 [19:02<33:02:52,  3.40s/it]"
     ]
    },
    {
     "name": "stdout",
     "output_type": "stream",
     "text": [
      "downloading dependencies\n",
      "copy \\\\live.sysinternals.com\\tools\\whois.exe C:\\Users\\ADI\\Desktop\\Major Project\n"
     ]
    },
    {
     "name": "stderr",
     "output_type": "stream",
     "text": [
      "\r",
      "  1%|          | 377/35378 [19:04<29:46:05,  3.06s/it]"
     ]
    },
    {
     "name": "stdout",
     "output_type": "stream",
     "text": [
      "downloading dependencies\n",
      "copy \\\\live.sysinternals.com\\tools\\whois.exe C:\\Users\\ADI\\Desktop\\Major Project\n"
     ]
    },
    {
     "name": "stderr",
     "output_type": "stream",
     "text": [
      "\r",
      "  1%|          | 378/35378 [19:06<27:21:25,  2.81s/it]"
     ]
    },
    {
     "name": "stdout",
     "output_type": "stream",
     "text": [
      "downloading dependencies\n",
      "copy \\\\live.sysinternals.com\\tools\\whois.exe C:\\Users\\ADI\\Desktop\\Major Project\n"
     ]
    },
    {
     "name": "stderr",
     "output_type": "stream",
     "text": [
      "\r",
      "  1%|          | 379/35378 [19:09<26:23:52,  2.72s/it]"
     ]
    },
    {
     "name": "stdout",
     "output_type": "stream",
     "text": [
      "downloading dependencies\n",
      "copy \\\\live.sysinternals.com\\tools\\whois.exe C:\\Users\\ADI\\Desktop\\Major Project\n"
     ]
    },
    {
     "name": "stderr",
     "output_type": "stream",
     "text": [
      "\r",
      "  1%|          | 380/35378 [19:11<25:13:22,  2.59s/it]"
     ]
    },
    {
     "name": "stdout",
     "output_type": "stream",
     "text": [
      "downloading dependencies\n",
      "copy \\\\live.sysinternals.com\\tools\\whois.exe C:\\Users\\ADI\\Desktop\\Major Project\n"
     ]
    },
    {
     "name": "stderr",
     "output_type": "stream",
     "text": [
      "\r",
      "  1%|          | 381/35378 [19:12<20:32:45,  2.11s/it]"
     ]
    },
    {
     "name": "stdout",
     "output_type": "stream",
     "text": [
      "downloading dependencies\n",
      "copy \\\\live.sysinternals.com\\tools\\whois.exe C:\\Users\\ADI\\Desktop\\Major Project\n"
     ]
    },
    {
     "name": "stderr",
     "output_type": "stream",
     "text": [
      "\r",
      "  1%|          | 382/35378 [19:13<17:57:52,  1.85s/it]"
     ]
    },
    {
     "name": "stdout",
     "output_type": "stream",
     "text": [
      "downloading dependencies\n",
      "copy \\\\live.sysinternals.com\\tools\\whois.exe C:\\Users\\ADI\\Desktop\\Major Project\n"
     ]
    },
    {
     "name": "stderr",
     "output_type": "stream",
     "text": [
      "\r",
      "  1%|          | 383/35378 [19:16<20:09:02,  2.07s/it]"
     ]
    },
    {
     "name": "stdout",
     "output_type": "stream",
     "text": [
      "downloading dependencies\n",
      "copy \\\\live.sysinternals.com\\tools\\whois.exe C:\\Users\\ADI\\Desktop\\Major Project\n"
     ]
    },
    {
     "name": "stderr",
     "output_type": "stream",
     "text": [
      "\r",
      "  1%|          | 384/35378 [19:17<17:02:58,  1.75s/it]"
     ]
    },
    {
     "name": "stdout",
     "output_type": "stream",
     "text": [
      "downloading dependencies\n",
      "copy \\\\live.sysinternals.com\\tools\\whois.exe C:\\Users\\ADI\\Desktop\\Major Project\n"
     ]
    },
    {
     "name": "stderr",
     "output_type": "stream",
     "text": [
      "\r",
      "  1%|          | 385/35378 [19:18<15:21:51,  1.58s/it]"
     ]
    },
    {
     "name": "stdout",
     "output_type": "stream",
     "text": [
      "downloading dependencies\n",
      "copy \\\\live.sysinternals.com\\tools\\whois.exe C:\\Users\\ADI\\Desktop\\Major Project\n"
     ]
    },
    {
     "name": "stderr",
     "output_type": "stream",
     "text": [
      "\r",
      "  1%|          | 386/35378 [19:20<15:21:59,  1.58s/it]"
     ]
    },
    {
     "name": "stdout",
     "output_type": "stream",
     "text": [
      "downloading dependencies\n",
      "copy \\\\live.sysinternals.com\\tools\\whois.exe C:\\Users\\ADI\\Desktop\\Major Project\n"
     ]
    },
    {
     "name": "stderr",
     "output_type": "stream",
     "text": [
      "\r",
      "  1%|          | 387/35378 [19:47<90:23:38,  9.30s/it]"
     ]
    },
    {
     "name": "stdout",
     "output_type": "stream",
     "text": [
      "downloading dependencies\n",
      "copy \\\\live.sysinternals.com\\tools\\whois.exe C:\\Users\\ADI\\Desktop\\Major Project\n"
     ]
    },
    {
     "name": "stderr",
     "output_type": "stream",
     "text": [
      "\r",
      "  1%|          | 388/35378 [19:48<67:04:32,  6.90s/it]"
     ]
    },
    {
     "name": "stdout",
     "output_type": "stream",
     "text": [
      "downloading dependencies\n",
      "copy \\\\live.sysinternals.com\\tools\\whois.exe C:\\Users\\ADI\\Desktop\\Major Project\n"
     ]
    },
    {
     "name": "stderr",
     "output_type": "stream",
     "text": [
      "\r",
      "  1%|          | 389/35378 [19:50<52:57:30,  5.45s/it]"
     ]
    },
    {
     "name": "stdout",
     "output_type": "stream",
     "text": [
      "downloading dependencies\n",
      "copy \\\\live.sysinternals.com\\tools\\whois.exe C:\\Users\\ADI\\Desktop\\Major Project\n"
     ]
    },
    {
     "name": "stderr",
     "output_type": "stream",
     "text": [
      "\r",
      "  1%|          | 390/35378 [19:53<43:17:35,  4.45s/it]"
     ]
    },
    {
     "name": "stdout",
     "output_type": "stream",
     "text": [
      "downloading dependencies\n",
      "copy \\\\live.sysinternals.com\\tools\\whois.exe C:\\Users\\ADI\\Desktop\\Major Project\n"
     ]
    },
    {
     "name": "stderr",
     "output_type": "stream",
     "text": [
      "\r",
      "  1%|          | 391/35378 [19:54<34:06:37,  3.51s/it]"
     ]
    },
    {
     "name": "stdout",
     "output_type": "stream",
     "text": [
      "downloading dependencies\n",
      "copy \\\\live.sysinternals.com\\tools\\whois.exe C:\\Users\\ADI\\Desktop\\Major Project\n"
     ]
    },
    {
     "name": "stderr",
     "output_type": "stream",
     "text": [
      "\r",
      "  1%|          | 392/35378 [19:56<31:19:56,  3.22s/it]"
     ]
    },
    {
     "name": "stdout",
     "output_type": "stream",
     "text": [
      "downloading dependencies\n",
      "copy \\\\live.sysinternals.com\\tools\\whois.exe C:\\Users\\ADI\\Desktop\\Major Project\n"
     ]
    },
    {
     "name": "stderr",
     "output_type": "stream",
     "text": [
      "\r",
      "  1%|          | 393/35378 [19:59<28:27:56,  2.93s/it]"
     ]
    },
    {
     "name": "stdout",
     "output_type": "stream",
     "text": [
      "downloading dependencies\n",
      "copy \\\\live.sysinternals.com\\tools\\whois.exe C:\\Users\\ADI\\Desktop\\Major Project\n"
     ]
    },
    {
     "name": "stderr",
     "output_type": "stream",
     "text": [
      "\r",
      "  1%|          | 394/35378 [20:01<26:10:23,  2.69s/it]"
     ]
    },
    {
     "name": "stdout",
     "output_type": "stream",
     "text": [
      "downloading dependencies\n",
      "copy \\\\live.sysinternals.com\\tools\\whois.exe C:\\Users\\ADI\\Desktop\\Major Project\n"
     ]
    },
    {
     "name": "stderr",
     "output_type": "stream",
     "text": [
      "\r",
      "  1%|          | 395/35378 [20:02<22:12:53,  2.29s/it]"
     ]
    },
    {
     "name": "stdout",
     "output_type": "stream",
     "text": [
      "downloading dependencies\n",
      "copy \\\\live.sysinternals.com\\tools\\whois.exe C:\\Users\\ADI\\Desktop\\Major Project\n"
     ]
    },
    {
     "name": "stderr",
     "output_type": "stream",
     "text": [
      "\r",
      "  1%|          | 396/35378 [20:04<20:15:16,  2.08s/it]"
     ]
    },
    {
     "name": "stdout",
     "output_type": "stream",
     "text": [
      "downloading dependencies\n",
      "copy \\\\live.sysinternals.com\\tools\\whois.exe C:\\Users\\ADI\\Desktop\\Major Project\n"
     ]
    },
    {
     "name": "stderr",
     "output_type": "stream",
     "text": [
      "\r",
      "  1%|          | 397/35378 [20:05<19:10:10,  1.97s/it]"
     ]
    },
    {
     "name": "stdout",
     "output_type": "stream",
     "text": [
      "downloading dependencies\n",
      "copy \\\\live.sysinternals.com\\tools\\whois.exe C:\\Users\\ADI\\Desktop\\Major Project\n"
     ]
    },
    {
     "name": "stderr",
     "output_type": "stream",
     "text": [
      "\r",
      "  1%|          | 398/35378 [20:06<14:21:51,  1.48s/it]"
     ]
    },
    {
     "name": "stdout",
     "output_type": "stream",
     "text": [
      "downloading dependencies\n",
      "copy \\\\live.sysinternals.com\\tools\\whois.exe C:\\Users\\ADI\\Desktop\\Major Project\n"
     ]
    },
    {
     "name": "stderr",
     "output_type": "stream",
     "text": [
      "\r",
      "  1%|          | 399/35378 [20:06<10:59:34,  1.13s/it]"
     ]
    },
    {
     "name": "stdout",
     "output_type": "stream",
     "text": [
      "downloading dependencies\n",
      "copy \\\\live.sysinternals.com\\tools\\whois.exe C:\\Users\\ADI\\Desktop\\Major Project\n"
     ]
    },
    {
     "name": "stderr",
     "output_type": "stream",
     "text": [
      "\r",
      "  1%|          | 400/35378 [20:06<8:40:27,  1.12it/s] "
     ]
    },
    {
     "name": "stdout",
     "output_type": "stream",
     "text": [
      "downloading dependencies\n",
      "copy \\\\live.sysinternals.com\\tools\\whois.exe C:\\Users\\ADI\\Desktop\\Major Project\n"
     ]
    },
    {
     "name": "stderr",
     "output_type": "stream",
     "text": [
      "\r",
      "  1%|          | 401/35378 [20:07<7:01:19,  1.38it/s]"
     ]
    },
    {
     "name": "stdout",
     "output_type": "stream",
     "text": [
      "downloading dependencies\n",
      "copy \\\\live.sysinternals.com\\tools\\whois.exe C:\\Users\\ADI\\Desktop\\Major Project\n"
     ]
    },
    {
     "name": "stderr",
     "output_type": "stream",
     "text": [
      "\r",
      "  1%|          | 402/35378 [20:07<5:50:47,  1.66it/s]"
     ]
    },
    {
     "name": "stdout",
     "output_type": "stream",
     "text": [
      "downloading dependencies\n",
      "copy \\\\live.sysinternals.com\\tools\\whois.exe C:\\Users\\ADI\\Desktop\\Major Project\n"
     ]
    },
    {
     "name": "stderr",
     "output_type": "stream",
     "text": [
      "\r",
      "  1%|          | 403/35378 [20:07<5:01:46,  1.93it/s]"
     ]
    },
    {
     "name": "stdout",
     "output_type": "stream",
     "text": [
      "downloading dependencies\n",
      "copy \\\\live.sysinternals.com\\tools\\whois.exe C:\\Users\\ADI\\Desktop\\Major Project\n"
     ]
    },
    {
     "name": "stderr",
     "output_type": "stream",
     "text": [
      "\r",
      "  1%|          | 404/35378 [20:08<4:30:45,  2.15it/s]"
     ]
    },
    {
     "name": "stdout",
     "output_type": "stream",
     "text": [
      "downloading dependencies\n",
      "copy \\\\live.sysinternals.com\\tools\\whois.exe C:\\Users\\ADI\\Desktop\\Major Project\n"
     ]
    },
    {
     "name": "stderr",
     "output_type": "stream",
     "text": [
      "\r",
      "  1%|          | 405/35378 [20:08<4:05:30,  2.37it/s]"
     ]
    },
    {
     "name": "stdout",
     "output_type": "stream",
     "text": [
      "downloading dependencies\n",
      "copy \\\\live.sysinternals.com\\tools\\whois.exe C:\\Users\\ADI\\Desktop\\Major Project\n"
     ]
    },
    {
     "name": "stderr",
     "output_type": "stream",
     "text": [
      "\r",
      "  1%|          | 406/35378 [20:08<3:48:50,  2.55it/s]"
     ]
    },
    {
     "name": "stdout",
     "output_type": "stream",
     "text": [
      "Unknown TLD: .vn\n",
      "Valid TLDs: .ac_uk .am .amsterdam .ar .at .au .bank .be .biz .br .by .ca .cc .cl .club .cn .co .co_il .co_jp .com .com_au .com_tr .cr .cz .de .download .edu .education .eu .fi .fm .fr .frl .game .global_ .hk .id_ .ie .im .in_ .info .ink .io .ir .is_ .it .jp .kr .kz .link .lt .lv .me .mobi .mu .mx .name .net .ninja .nl .nu .nyc .nz .online .org .pe .pharmacy .pl .press .pro .pt .pub .pw .rest .ru .ru_rf .rw .sale .se .security .sh .site .space .store .tech .tel .theatre .tickets .trade .tv .ua .uk .us .uz .video .website .wiki .work .xyz .za "
     ]
    },
    {
     "name": "stderr",
     "output_type": "stream",
     "text": [
      "\r",
      "  1%|          | 407/35378 [20:10<7:29:02,  1.30it/s]"
     ]
    },
    {
     "name": "stdout",
     "output_type": "stream",
     "text": [
      "Unknown TLD: .vn\n",
      "Valid TLDs: .ac_uk .am .amsterdam .ar .at .au .bank .be .biz .br .by .ca .cc .cl .club .cn .co .co_il .co_jp .com .com_au .com_tr .cr .cz .de .download .edu .education .eu .fi .fm .fr .frl .game .global_ .hk .id_ .ie .im .in_ .info .ink .io .ir .is_ .it .jp .kr .kz .link .lt .lv .me .mobi .mu .mx .name .net .ninja .nl .nu .nyc .nz .online .org .pe .pharmacy .pl .press .pro .pt .pub .pw .rest .ru .ru_rf .rw .sale .se .security .sh .site .space .store .tech .tel .theatre .tickets .trade .tv .ua .uk .us .uz .video .website .wiki .work .xyz .za "
     ]
    },
    {
     "name": "stderr",
     "output_type": "stream",
     "text": [
      "\r",
      "  1%|          | 408/35378 [20:11<8:28:00,  1.15it/s]"
     ]
    },
    {
     "name": "stdout",
     "output_type": "stream",
     "text": [
      "Unknown TLD: .vn\n",
      "Valid TLDs: .ac_uk .am .amsterdam .ar .at .au .bank .be .biz .br .by .ca .cc .cl .club .cn .co .co_il .co_jp .com .com_au .com_tr .cr .cz .de .download .edu .education .eu .fi .fm .fr .frl .game .global_ .hk .id_ .ie .im .in_ .info .ink .io .ir .is_ .it .jp .kr .kz .link .lt .lv .me .mobi .mu .mx .name .net .ninja .nl .nu .nyc .nz .online .org .pe .pharmacy .pl .press .pro .pt .pub .pw .rest .ru .ru_rf .rw .sale .se .security .sh .site .space .store .tech .tel .theatre .tickets .trade .tv .ua .uk .us .uz .video .website .wiki .work .xyz .za "
     ]
    },
    {
     "name": "stderr",
     "output_type": "stream",
     "text": [
      "\r",
      "  1%|          | 409/35378 [20:13<11:49:10,  1.22s/it]"
     ]
    },
    {
     "name": "stdout",
     "output_type": "stream",
     "text": [
      "downloading dependencies\n",
      "copy \\\\live.sysinternals.com\\tools\\whois.exe C:\\Users\\ADI\\Desktop\\Major Project\n"
     ]
    },
    {
     "name": "stderr",
     "output_type": "stream",
     "text": [
      "\r",
      "  1%|          | 410/35378 [20:15<14:04:12,  1.45s/it]"
     ]
    },
    {
     "name": "stdout",
     "output_type": "stream",
     "text": [
      "downloading dependencies\n",
      "copy \\\\live.sysinternals.com\\tools\\whois.exe C:\\Users\\ADI\\Desktop\\Major Project\n"
     ]
    },
    {
     "name": "stderr",
     "output_type": "stream",
     "text": [
      "\r",
      "  1%|          | 411/35378 [20:17<14:15:30,  1.47s/it]"
     ]
    },
    {
     "name": "stdout",
     "output_type": "stream",
     "text": [
      "downloading dependencies\n",
      "copy \\\\live.sysinternals.com\\tools\\whois.exe C:\\Users\\ADI\\Desktop\\Major Project\n"
     ]
    },
    {
     "name": "stderr",
     "output_type": "stream",
     "text": [
      "\r",
      "  1%|          | 412/35378 [20:45<92:12:49,  9.49s/it]"
     ]
    },
    {
     "name": "stdout",
     "output_type": "stream",
     "text": [
      "downloading dependencies\n",
      "copy \\\\live.sysinternals.com\\tools\\whois.exe C:\\Users\\ADI\\Desktop\\Major Project\n"
     ]
    },
    {
     "name": "stderr",
     "output_type": "stream",
     "text": [
      "\r",
      "  1%|          | 413/35378 [20:47<69:15:04,  7.13s/it]"
     ]
    },
    {
     "name": "stdout",
     "output_type": "stream",
     "text": [
      "downloading dependencies\n",
      "copy \\\\live.sysinternals.com\\tools\\whois.exe C:\\Users\\ADI\\Desktop\\Major Project\n"
     ]
    },
    {
     "name": "stderr",
     "output_type": "stream",
     "text": [
      "\r",
      "  1%|          | 414/35378 [20:48<52:36:43,  5.42s/it]"
     ]
    },
    {
     "name": "stdout",
     "output_type": "stream",
     "text": [
      "downloading dependencies\n",
      "copy \\\\live.sysinternals.com\\tools\\whois.exe C:\\Users\\ADI\\Desktop\\Major Project\n"
     ]
    },
    {
     "name": "stderr",
     "output_type": "stream",
     "text": [
      "\r",
      "  1%|          | 415/35378 [20:50<41:45:15,  4.30s/it]"
     ]
    },
    {
     "name": "stdout",
     "output_type": "stream",
     "text": [
      "downloading dependencies\n",
      "copy \\\\live.sysinternals.com\\tools\\whois.exe C:\\Users\\ADI\\Desktop\\Major Project\n"
     ]
    },
    {
     "name": "stderr",
     "output_type": "stream",
     "text": [
      "\r",
      "  1%|          | 416/35378 [20:51<34:34:52,  3.56s/it]"
     ]
    },
    {
     "name": "stdout",
     "output_type": "stream",
     "text": [
      "downloading dependencies\n",
      "copy \\\\live.sysinternals.com\\tools\\whois.exe C:\\Users\\ADI\\Desktop\\Major Project\n"
     ]
    },
    {
     "name": "stderr",
     "output_type": "stream",
     "text": [
      "\r",
      "  1%|          | 417/35378 [20:53<29:11:29,  3.01s/it]"
     ]
    },
    {
     "name": "stdout",
     "output_type": "stream",
     "text": [
      "Unknown TLD: .to\n",
      "Valid TLDs: .ac_uk .am .amsterdam .ar .at .au .bank .be .biz .br .by .ca .cc .cl .club .cn .co .co_il .co_jp .com .com_au .com_tr .cr .cz .de .download .edu .education .eu .fi .fm .fr .frl .game .global_ .hk .id_ .ie .im .in_ .info .ink .io .ir .is_ .it .jp .kr .kz .link .lt .lv .me .mobi .mu .mx .name .net .ninja .nl .nu .nyc .nz .online .org .pe .pharmacy .pl .press .pro .pt .pub .pw .rest .ru .ru_rf .rw .sale .se .security .sh .site .space .store .tech .tel .theatre .tickets .trade .tv .ua .uk .us .uz .video .website .wiki .work .xyz .za "
     ]
    },
    {
     "name": "stderr",
     "output_type": "stream",
     "text": [
      "\r",
      "  1%|          | 418/35378 [20:54<21:42:38,  2.24s/it]"
     ]
    },
    {
     "name": "stdout",
     "output_type": "stream",
     "text": [
      "Unknown TLD: .to\n",
      "Valid TLDs: .ac_uk .am .amsterdam .ar .at .au .bank .be .biz .br .by .ca .cc .cl .club .cn .co .co_il .co_jp .com .com_au .com_tr .cr .cz .de .download .edu .education .eu .fi .fm .fr .frl .game .global_ .hk .id_ .ie .im .in_ .info .ink .io .ir .is_ .it .jp .kr .kz .link .lt .lv .me .mobi .mu .mx .name .net .ninja .nl .nu .nyc .nz .online .org .pe .pharmacy .pl .press .pro .pt .pub .pw .rest .ru .ru_rf .rw .sale .se .security .sh .site .space .store .tech .tel .theatre .tickets .trade .tv .ua .uk .us .uz .video .website .wiki .work .xyz .za "
     ]
    },
    {
     "name": "stderr",
     "output_type": "stream",
     "text": [
      "\r",
      "  1%|          | 419/35378 [20:54<16:13:49,  1.67s/it]"
     ]
    },
    {
     "name": "stdout",
     "output_type": "stream",
     "text": [
      "Unknown TLD: .to\n",
      "Valid TLDs: .ac_uk .am .amsterdam .ar .at .au .bank .be .biz .br .by .ca .cc .cl .club .cn .co .co_il .co_jp .com .com_au .com_tr .cr .cz .de .download .edu .education .eu .fi .fm .fr .frl .game .global_ .hk .id_ .ie .im .in_ .info .ink .io .ir .is_ .it .jp .kr .kz .link .lt .lv .me .mobi .mu .mx .name .net .ninja .nl .nu .nyc .nz .online .org .pe .pharmacy .pl .press .pro .pt .pub .pw .rest .ru .ru_rf .rw .sale .se .security .sh .site .space .store .tech .tel .theatre .tickets .trade .tv .ua .uk .us .uz .video .website .wiki .work .xyz .za "
     ]
    },
    {
     "name": "stderr",
     "output_type": "stream",
     "text": [
      "\r",
      "  1%|          | 420/35378 [20:54<12:24:27,  1.28s/it]"
     ]
    },
    {
     "name": "stdout",
     "output_type": "stream",
     "text": [
      "Unknown TLD: .to\n",
      "Valid TLDs: .ac_uk .am .amsterdam .ar .at .au .bank .be .biz .br .by .ca .cc .cl .club .cn .co .co_il .co_jp .com .com_au .com_tr .cr .cz .de .download .edu .education .eu .fi .fm .fr .frl .game .global_ .hk .id_ .ie .im .in_ .info .ink .io .ir .is_ .it .jp .kr .kz .link .lt .lv .me .mobi .mu .mx .name .net .ninja .nl .nu .nyc .nz .online .org .pe .pharmacy .pl .press .pro .pt .pub .pw .rest .ru .ru_rf .rw .sale .se .security .sh .site .space .store .tech .tel .theatre .tickets .trade .tv .ua .uk .us .uz .video .website .wiki .work .xyz .za "
     ]
    },
    {
     "name": "stderr",
     "output_type": "stream",
     "text": [
      "\r",
      "  1%|          | 421/35378 [20:55<9:45:53,  1.01s/it] "
     ]
    },
    {
     "name": "stdout",
     "output_type": "stream",
     "text": [
      "Unknown TLD: .to\n",
      "Valid TLDs: .ac_uk .am .amsterdam .ar .at .au .bank .be .biz .br .by .ca .cc .cl .club .cn .co .co_il .co_jp .com .com_au .com_tr .cr .cz .de .download .edu .education .eu .fi .fm .fr .frl .game .global_ .hk .id_ .ie .im .in_ .info .ink .io .ir .is_ .it .jp .kr .kz .link .lt .lv .me .mobi .mu .mx .name .net .ninja .nl .nu .nyc .nz .online .org .pe .pharmacy .pl .press .pro .pt .pub .pw .rest .ru .ru_rf .rw .sale .se .security .sh .site .space .store .tech .tel .theatre .tickets .trade .tv .ua .uk .us .uz .video .website .wiki .work .xyz .za "
     ]
    },
    {
     "name": "stderr",
     "output_type": "stream",
     "text": [
      "\r",
      "  1%|          | 422/35378 [20:55<7:57:42,  1.22it/s]"
     ]
    },
    {
     "name": "stdout",
     "output_type": "stream",
     "text": [
      "Unknown TLD: .to\n",
      "Valid TLDs: .ac_uk .am .amsterdam .ar .at .au .bank .be .biz .br .by .ca .cc .cl .club .cn .co .co_il .co_jp .com .com_au .com_tr .cr .cz .de .download .edu .education .eu .fi .fm .fr .frl .game .global_ .hk .id_ .ie .im .in_ .info .ink .io .ir .is_ .it .jp .kr .kz .link .lt .lv .me .mobi .mu .mx .name .net .ninja .nl .nu .nyc .nz .online .org .pe .pharmacy .pl .press .pro .pt .pub .pw .rest .ru .ru_rf .rw .sale .se .security .sh .site .space .store .tech .tel .theatre .tickets .trade .tv .ua .uk .us .uz .video .website .wiki .work .xyz .za "
     ]
    },
    {
     "name": "stderr",
     "output_type": "stream",
     "text": [
      "\r",
      "  1%|          | 423/35378 [20:55<6:39:56,  1.46it/s]"
     ]
    },
    {
     "name": "stdout",
     "output_type": "stream",
     "text": [
      "Unknown TLD: .to\n",
      "Valid TLDs: .ac_uk .am .amsterdam .ar .at .au .bank .be .biz .br .by .ca .cc .cl .club .cn .co .co_il .co_jp .com .com_au .com_tr .cr .cz .de .download .edu .education .eu .fi .fm .fr .frl .game .global_ .hk .id_ .ie .im .in_ .info .ink .io .ir .is_ .it .jp .kr .kz .link .lt .lv .me .mobi .mu .mx .name .net .ninja .nl .nu .nyc .nz .online .org .pe .pharmacy .pl .press .pro .pt .pub .pw .rest .ru .ru_rf .rw .sale .se .security .sh .site .space .store .tech .tel .theatre .tickets .trade .tv .ua .uk .us .uz .video .website .wiki .work .xyz .za "
     ]
    },
    {
     "name": "stderr",
     "output_type": "stream",
     "text": [
      "\r",
      "  1%|          | 424/35378 [20:56<5:40:38,  1.71it/s]"
     ]
    },
    {
     "name": "stdout",
     "output_type": "stream",
     "text": [
      "Unknown TLD: .to\n",
      "Valid TLDs: .ac_uk .am .amsterdam .ar .at .au .bank .be .biz .br .by .ca .cc .cl .club .cn .co .co_il .co_jp .com .com_au .com_tr .cr .cz .de .download .edu .education .eu .fi .fm .fr .frl .game .global_ .hk .id_ .ie .im .in_ .info .ink .io .ir .is_ .it .jp .kr .kz .link .lt .lv .me .mobi .mu .mx .name .net .ninja .nl .nu .nyc .nz .online .org .pe .pharmacy .pl .press .pro .pt .pub .pw .rest .ru .ru_rf .rw .sale .se .security .sh .site .space .store .tech .tel .theatre .tickets .trade .tv .ua .uk .us .uz .video .website .wiki .work .xyz .za "
     ]
    },
    {
     "name": "stderr",
     "output_type": "stream",
     "text": [
      "\r",
      "  1%|          | 425/35378 [20:56<4:59:07,  1.95it/s]"
     ]
    },
    {
     "name": "stdout",
     "output_type": "stream",
     "text": [
      "Unknown TLD: .to\n",
      "Valid TLDs: .ac_uk .am .amsterdam .ar .at .au .bank .be .biz .br .by .ca .cc .cl .club .cn .co .co_il .co_jp .com .com_au .com_tr .cr .cz .de .download .edu .education .eu .fi .fm .fr .frl .game .global_ .hk .id_ .ie .im .in_ .info .ink .io .ir .is_ .it .jp .kr .kz .link .lt .lv .me .mobi .mu .mx .name .net .ninja .nl .nu .nyc .nz .online .org .pe .pharmacy .pl .press .pro .pt .pub .pw .rest .ru .ru_rf .rw .sale .se .security .sh .site .space .store .tech .tel .theatre .tickets .trade .tv .ua .uk .us .uz .video .website .wiki .work .xyz .za "
     ]
    },
    {
     "name": "stderr",
     "output_type": "stream",
     "text": [
      "\r",
      "  1%|          | 426/35378 [20:57<4:32:33,  2.14it/s]"
     ]
    },
    {
     "name": "stdout",
     "output_type": "stream",
     "text": [
      "Unknown TLD: .to\n",
      "Valid TLDs: .ac_uk .am .amsterdam .ar .at .au .bank .be .biz .br .by .ca .cc .cl .club .cn .co .co_il .co_jp .com .com_au .com_tr .cr .cz .de .download .edu .education .eu .fi .fm .fr .frl .game .global_ .hk .id_ .ie .im .in_ .info .ink .io .ir .is_ .it .jp .kr .kz .link .lt .lv .me .mobi .mu .mx .name .net .ninja .nl .nu .nyc .nz .online .org .pe .pharmacy .pl .press .pro .pt .pub .pw .rest .ru .ru_rf .rw .sale .se .security .sh .site .space .store .tech .tel .theatre .tickets .trade .tv .ua .uk .us .uz .video .website .wiki .work .xyz .za "
     ]
    },
    {
     "name": "stderr",
     "output_type": "stream",
     "text": [
      "\r",
      "  1%|          | 427/35378 [20:57<4:12:13,  2.31it/s]"
     ]
    },
    {
     "name": "stdout",
     "output_type": "stream",
     "text": [
      "Unknown TLD: .vn\n",
      "Valid TLDs: .ac_uk .am .amsterdam .ar .at .au .bank .be .biz .br .by .ca .cc .cl .club .cn .co .co_il .co_jp .com .com_au .com_tr .cr .cz .de .download .edu .education .eu .fi .fm .fr .frl .game .global_ .hk .id_ .ie .im .in_ .info .ink .io .ir .is_ .it .jp .kr .kz .link .lt .lv .me .mobi .mu .mx .name .net .ninja .nl .nu .nyc .nz .online .org .pe .pharmacy .pl .press .pro .pt .pub .pw .rest .ru .ru_rf .rw .sale .se .security .sh .site .space .store .tech .tel .theatre .tickets .trade .tv .ua .uk .us .uz .video .website .wiki .work .xyz .za "
     ]
    },
    {
     "name": "stderr",
     "output_type": "stream",
     "text": [
      "\r",
      "  1%|          | 428/35378 [20:59<8:14:12,  1.18it/s]"
     ]
    },
    {
     "name": "stdout",
     "output_type": "stream",
     "text": [
      "Unknown TLD: .vn\n",
      "Valid TLDs: .ac_uk .am .amsterdam .ar .at .au .bank .be .biz .br .by .ca .cc .cl .club .cn .co .co_il .co_jp .com .com_au .com_tr .cr .cz .de .download .edu .education .eu .fi .fm .fr .frl .game .global_ .hk .id_ .ie .im .in_ .info .ink .io .ir .is_ .it .jp .kr .kz .link .lt .lv .me .mobi .mu .mx .name .net .ninja .nl .nu .nyc .nz .online .org .pe .pharmacy .pl .press .pro .pt .pub .pw .rest .ru .ru_rf .rw .sale .se .security .sh .site .space .store .tech .tel .theatre .tickets .trade .tv .ua .uk .us .uz .video .website .wiki .work .xyz .za "
     ]
    },
    {
     "name": "stderr",
     "output_type": "stream",
     "text": [
      "\r",
      "  1%|          | 429/35378 [21:00<8:35:40,  1.13it/s]"
     ]
    },
    {
     "name": "stdout",
     "output_type": "stream",
     "text": [
      "Unknown TLD: .vn\n",
      "Valid TLDs: .ac_uk .am .amsterdam .ar .at .au .bank .be .biz .br .by .ca .cc .cl .club .cn .co .co_il .co_jp .com .com_au .com_tr .cr .cz .de .download .edu .education .eu .fi .fm .fr .frl .game .global_ .hk .id_ .ie .im .in_ .info .ink .io .ir .is_ .it .jp .kr .kz .link .lt .lv .me .mobi .mu .mx .name .net .ninja .nl .nu .nyc .nz .online .org .pe .pharmacy .pl .press .pro .pt .pub .pw .rest .ru .ru_rf .rw .sale .se .security .sh .site .space .store .tech .tel .theatre .tickets .trade .tv .ua .uk .us .uz .video .website .wiki .work .xyz .za "
     ]
    },
    {
     "name": "stderr",
     "output_type": "stream",
     "text": [
      "\r",
      "  1%|          | 430/35378 [21:01<9:43:01,  1.00s/it]"
     ]
    },
    {
     "name": "stdout",
     "output_type": "stream",
     "text": [
      "Unknown TLD: .vn\n",
      "Valid TLDs: .ac_uk .am .amsterdam .ar .at .au .bank .be .biz .br .by .ca .cc .cl .club .cn .co .co_il .co_jp .com .com_au .com_tr .cr .cz .de .download .edu .education .eu .fi .fm .fr .frl .game .global_ .hk .id_ .ie .im .in_ .info .ink .io .ir .is_ .it .jp .kr .kz .link .lt .lv .me .mobi .mu .mx .name .net .ninja .nl .nu .nyc .nz .online .org .pe .pharmacy .pl .press .pro .pt .pub .pw .rest .ru .ru_rf .rw .sale .se .security .sh .site .space .store .tech .tel .theatre .tickets .trade .tv .ua .uk .us .uz .video .website .wiki .work .xyz .za "
     ]
    },
    {
     "name": "stderr",
     "output_type": "stream",
     "text": [
      "\r",
      "  1%|          | 431/35378 [21:02<10:01:40,  1.03s/it]"
     ]
    },
    {
     "name": "stdout",
     "output_type": "stream",
     "text": [
      "Unknown TLD: .vn\n",
      "Valid TLDs: .ac_uk .am .amsterdam .ar .at .au .bank .be .biz .br .by .ca .cc .cl .club .cn .co .co_il .co_jp .com .com_au .com_tr .cr .cz .de .download .edu .education .eu .fi .fm .fr .frl .game .global_ .hk .id_ .ie .im .in_ .info .ink .io .ir .is_ .it .jp .kr .kz .link .lt .lv .me .mobi .mu .mx .name .net .ninja .nl .nu .nyc .nz .online .org .pe .pharmacy .pl .press .pro .pt .pub .pw .rest .ru .ru_rf .rw .sale .se .security .sh .site .space .store .tech .tel .theatre .tickets .trade .tv .ua .uk .us .uz .video .website .wiki .work .xyz .za "
     ]
    },
    {
     "name": "stderr",
     "output_type": "stream",
     "text": [
      "\r",
      "  1%|          | 432/35378 [21:03<10:05:55,  1.04s/it]"
     ]
    },
    {
     "name": "stdout",
     "output_type": "stream",
     "text": [
      "Unknown TLD: .vn\n",
      "Valid TLDs: .ac_uk .am .amsterdam .ar .at .au .bank .be .biz .br .by .ca .cc .cl .club .cn .co .co_il .co_jp .com .com_au .com_tr .cr .cz .de .download .edu .education .eu .fi .fm .fr .frl .game .global_ .hk .id_ .ie .im .in_ .info .ink .io .ir .is_ .it .jp .kr .kz .link .lt .lv .me .mobi .mu .mx .name .net .ninja .nl .nu .nyc .nz .online .org .pe .pharmacy .pl .press .pro .pt .pub .pw .rest .ru .ru_rf .rw .sale .se .security .sh .site .space .store .tech .tel .theatre .tickets .trade .tv .ua .uk .us .uz .video .website .wiki .work .xyz .za "
     ]
    },
    {
     "name": "stderr",
     "output_type": "stream",
     "text": [
      "\r",
      "  1%|          | 433/35378 [21:04<10:39:09,  1.10s/it]"
     ]
    },
    {
     "name": "stdout",
     "output_type": "stream",
     "text": [
      "downloading dependencies\n",
      "copy \\\\live.sysinternals.com\\tools\\whois.exe C:\\Users\\ADI\\Desktop\\Major Project\n"
     ]
    },
    {
     "name": "stderr",
     "output_type": "stream",
     "text": [
      "\r",
      "  1%|          | 434/35378 [21:06<11:57:11,  1.23s/it]"
     ]
    },
    {
     "name": "stdout",
     "output_type": "stream",
     "text": [
      "downloading dependencies\n",
      "copy \\\\live.sysinternals.com\\tools\\whois.exe C:\\Users\\ADI\\Desktop\\Major Project\n"
     ]
    },
    {
     "name": "stderr",
     "output_type": "stream",
     "text": [
      "\r",
      "  1%|          | 435/35378 [21:06<10:03:43,  1.04s/it]"
     ]
    },
    {
     "name": "stdout",
     "output_type": "stream",
     "text": [
      "downloading dependencies\n",
      "copy \\\\live.sysinternals.com\\tools\\whois.exe C:\\Users\\ADI\\Desktop\\Major Project\n"
     ]
    },
    {
     "name": "stderr",
     "output_type": "stream",
     "text": [
      "\r",
      "  1%|          | 436/35378 [21:07<8:58:52,  1.08it/s] "
     ]
    },
    {
     "name": "stdout",
     "output_type": "stream",
     "text": [
      "downloading dependencies\n",
      "copy \\\\live.sysinternals.com\\tools\\whois.exe C:\\Users\\ADI\\Desktop\\Major Project\n"
     ]
    },
    {
     "name": "stderr",
     "output_type": "stream",
     "text": [
      "\r",
      "  1%|          | 437/35378 [21:08<8:53:26,  1.09it/s]"
     ]
    },
    {
     "name": "stdout",
     "output_type": "stream",
     "text": [
      "downloading dependencies\n",
      "copy \\\\live.sysinternals.com\\tools\\whois.exe C:\\Users\\ADI\\Desktop\\Major Project\n"
     ]
    },
    {
     "name": "stderr",
     "output_type": "stream",
     "text": [
      "\r",
      "  1%|          | 438/35378 [21:09<8:22:01,  1.16it/s]"
     ]
    },
    {
     "name": "stdout",
     "output_type": "stream",
     "text": [
      "downloading dependencies\n",
      "copy \\\\live.sysinternals.com\\tools\\whois.exe C:\\Users\\ADI\\Desktop\\Major Project\n"
     ]
    },
    {
     "name": "stderr",
     "output_type": "stream",
     "text": [
      "\r",
      "  1%|          | 439/35378 [21:09<7:28:06,  1.30it/s]"
     ]
    },
    {
     "name": "stdout",
     "output_type": "stream",
     "text": [
      "downloading dependencies\n",
      "copy \\\\live.sysinternals.com\\tools\\whois.exe C:\\Users\\ADI\\Desktop\\Major Project\n"
     ]
    },
    {
     "name": "stderr",
     "output_type": "stream",
     "text": [
      "\r",
      "  1%|          | 440/35378 [21:10<6:38:13,  1.46it/s]"
     ]
    },
    {
     "name": "stdout",
     "output_type": "stream",
     "text": [
      "downloading dependencies\n",
      "copy \\\\live.sysinternals.com\\tools\\whois.exe C:\\Users\\ADI\\Desktop\\Major Project\n"
     ]
    },
    {
     "name": "stderr",
     "output_type": "stream",
     "text": [
      "\r",
      "  1%|          | 441/35378 [21:11<7:59:35,  1.21it/s]"
     ]
    },
    {
     "name": "stdout",
     "output_type": "stream",
     "text": [
      "downloading dependencies\n",
      "copy \\\\live.sysinternals.com\\tools\\whois.exe C:\\Users\\ADI\\Desktop\\Major Project\n"
     ]
    },
    {
     "name": "stderr",
     "output_type": "stream",
     "text": [
      "\r",
      "  1%|          | 442/35378 [21:12<8:12:12,  1.18it/s]"
     ]
    },
    {
     "name": "stdout",
     "output_type": "stream",
     "text": [
      "downloading dependencies\n",
      "copy \\\\live.sysinternals.com\\tools\\whois.exe C:\\Users\\ADI\\Desktop\\Major Project\n"
     ]
    },
    {
     "name": "stderr",
     "output_type": "stream",
     "text": [
      "\r",
      "  1%|▏         | 443/35378 [21:12<6:41:19,  1.45it/s]"
     ]
    },
    {
     "name": "stdout",
     "output_type": "stream",
     "text": [
      "downloading dependencies\n",
      "copy \\\\live.sysinternals.com\\tools\\whois.exe C:\\Users\\ADI\\Desktop\\Major Project\n"
     ]
    },
    {
     "name": "stderr",
     "output_type": "stream",
     "text": [
      "\r",
      "  1%|▏         | 444/35378 [21:13<6:57:01,  1.40it/s]"
     ]
    },
    {
     "name": "stdout",
     "output_type": "stream",
     "text": [
      "downloading dependencies\n",
      "copy \\\\live.sysinternals.com\\tools\\whois.exe C:\\Users\\ADI\\Desktop\\Major Project\n"
     ]
    },
    {
     "name": "stderr",
     "output_type": "stream",
     "text": [
      "\r",
      "  1%|▏         | 445/35378 [21:39<81:32:45,  8.40s/it]"
     ]
    },
    {
     "name": "stdout",
     "output_type": "stream",
     "text": [
      "downloading dependencies\n",
      "copy \\\\live.sysinternals.com\\tools\\whois.exe C:\\Users\\ADI\\Desktop\\Major Project\n"
     ]
    },
    {
     "name": "stderr",
     "output_type": "stream",
     "text": [
      "\r",
      "  1%|▏         | 446/35378 [21:42<65:33:54,  6.76s/it]"
     ]
    },
    {
     "name": "stdout",
     "output_type": "stream",
     "text": [
      "downloading dependencies\n",
      "copy \\\\live.sysinternals.com\\tools\\whois.exe C:\\Users\\ADI\\Desktop\\Major Project\n"
     ]
    },
    {
     "name": "stderr",
     "output_type": "stream",
     "text": [
      "\r",
      "  1%|▏         | 447/35378 [21:43<48:09:48,  4.96s/it]"
     ]
    },
    {
     "name": "stdout",
     "output_type": "stream",
     "text": [
      "downloading dependencies\n",
      "copy \\\\live.sysinternals.com\\tools\\whois.exe C:\\Users\\ADI\\Desktop\\Major Project\n"
     ]
    },
    {
     "name": "stderr",
     "output_type": "stream",
     "text": [
      "\r",
      "  1%|▏         | 448/35378 [21:44<37:40:47,  3.88s/it]"
     ]
    },
    {
     "name": "stdout",
     "output_type": "stream",
     "text": [
      "downloading dependencies\n",
      "copy \\\\live.sysinternals.com\\tools\\whois.exe C:\\Users\\ADI\\Desktop\\Major Project\n"
     ]
    },
    {
     "name": "stderr",
     "output_type": "stream",
     "text": [
      "\r",
      "  1%|▏         | 449/35378 [21:46<31:17:40,  3.23s/it]"
     ]
    },
    {
     "name": "stdout",
     "output_type": "stream",
     "text": [
      "downloading dependencies\n",
      "copy \\\\live.sysinternals.com\\tools\\whois.exe C:\\Users\\ADI\\Desktop\\Major Project\n"
     ]
    },
    {
     "name": "stderr",
     "output_type": "stream",
     "text": [
      "\r",
      "  1%|▏         | 450/35378 [21:47<24:19:13,  2.51s/it]"
     ]
    },
    {
     "name": "stdout",
     "output_type": "stream",
     "text": [
      "downloading dependencies\n",
      "copy \\\\live.sysinternals.com\\tools\\whois.exe C:\\Users\\ADI\\Desktop\\Major Project\n"
     ]
    },
    {
     "name": "stderr",
     "output_type": "stream",
     "text": [
      "\r",
      "  1%|▏         | 451/35378 [21:48<19:26:26,  2.00s/it]"
     ]
    },
    {
     "name": "stdout",
     "output_type": "stream",
     "text": [
      "downloading dependencies\n",
      "copy \\\\live.sysinternals.com\\tools\\whois.exe C:\\Users\\ADI\\Desktop\\Major Project\n"
     ]
    },
    {
     "name": "stderr",
     "output_type": "stream",
     "text": [
      "\r",
      "  1%|▏         | 452/35378 [21:48<15:52:49,  1.64s/it]"
     ]
    },
    {
     "name": "stdout",
     "output_type": "stream",
     "text": [
      "downloading dependencies\n",
      "copy \\\\live.sysinternals.com\\tools\\whois.exe C:\\Users\\ADI\\Desktop\\Major Project\n"
     ]
    },
    {
     "name": "stderr",
     "output_type": "stream",
     "text": [
      "\r",
      "  1%|▏         | 453/35378 [21:49<13:23:54,  1.38s/it]"
     ]
    },
    {
     "name": "stdout",
     "output_type": "stream",
     "text": [
      "downloading dependencies\n",
      "copy \\\\live.sysinternals.com\\tools\\whois.exe C:\\Users\\ADI\\Desktop\\Major Project\n"
     ]
    },
    {
     "name": "stderr",
     "output_type": "stream",
     "text": [
      "\r",
      "  1%|▏         | 454/35378 [21:50<13:00:28,  1.34s/it]"
     ]
    },
    {
     "name": "stdout",
     "output_type": "stream",
     "text": [
      "downloading dependencies\n",
      "copy \\\\live.sysinternals.com\\tools\\whois.exe C:\\Users\\ADI\\Desktop\\Major Project\n"
     ]
    },
    {
     "name": "stderr",
     "output_type": "stream",
     "text": [
      "\r",
      "  1%|▏         | 455/35378 [21:51<11:23:34,  1.17s/it]"
     ]
    },
    {
     "name": "stdout",
     "output_type": "stream",
     "text": [
      "downloading dependencies\n",
      "copy \\\\live.sysinternals.com\\tools\\whois.exe C:\\Users\\ADI\\Desktop\\Major Project\n"
     ]
    },
    {
     "name": "stderr",
     "output_type": "stream",
     "text": [
      "\r",
      "  1%|▏         | 456/35378 [21:52<10:20:32,  1.07s/it]"
     ]
    },
    {
     "name": "stdout",
     "output_type": "stream",
     "text": [
      "downloading dependencies\n",
      "copy \\\\live.sysinternals.com\\tools\\whois.exe C:\\Users\\ADI\\Desktop\\Major Project\n"
     ]
    },
    {
     "name": "stderr",
     "output_type": "stream",
     "text": [
      "\r",
      "  1%|▏         | 457/35378 [21:53<10:45:20,  1.11s/it]"
     ]
    },
    {
     "name": "stdout",
     "output_type": "stream",
     "text": [
      "downloading dependencies\n",
      "copy \\\\live.sysinternals.com\\tools\\whois.exe C:\\Users\\ADI\\Desktop\\Major Project\n"
     ]
    },
    {
     "name": "stderr",
     "output_type": "stream",
     "text": [
      "\r",
      "  1%|▏         | 458/35378 [21:54<9:58:05,  1.03s/it] "
     ]
    },
    {
     "name": "stdout",
     "output_type": "stream",
     "text": [
      "downloading dependencies\n",
      "copy \\\\live.sysinternals.com\\tools\\whois.exe C:\\Users\\ADI\\Desktop\\Major Project\n"
     ]
    },
    {
     "name": "stderr",
     "output_type": "stream",
     "text": [
      "\r",
      "  1%|▏         | 459/35378 [21:55<9:20:32,  1.04it/s]"
     ]
    },
    {
     "name": "stdout",
     "output_type": "stream",
     "text": [
      "downloading dependencies\n",
      "copy \\\\live.sysinternals.com\\tools\\whois.exe C:\\Users\\ADI\\Desktop\\Major Project\n"
     ]
    },
    {
     "name": "stderr",
     "output_type": "stream",
     "text": [
      "\r",
      "  1%|▏         | 460/35378 [21:56<8:59:41,  1.08it/s]"
     ]
    },
    {
     "name": "stdout",
     "output_type": "stream",
     "text": [
      "downloading dependencies\n",
      "copy \\\\live.sysinternals.com\\tools\\whois.exe C:\\Users\\ADI\\Desktop\\Major Project\n"
     ]
    },
    {
     "name": "stderr",
     "output_type": "stream",
     "text": [
      "\r",
      "  1%|▏         | 461/35378 [21:57<8:48:47,  1.10it/s]"
     ]
    },
    {
     "name": "stdout",
     "output_type": "stream",
     "text": [
      "downloading dependencies\n",
      "copy \\\\live.sysinternals.com\\tools\\whois.exe C:\\Users\\ADI\\Desktop\\Major Project\n"
     ]
    },
    {
     "name": "stderr",
     "output_type": "stream",
     "text": [
      "\r",
      "  1%|▏         | 462/35378 [21:58<8:38:45,  1.12it/s]"
     ]
    },
    {
     "name": "stdout",
     "output_type": "stream",
     "text": [
      "downloading dependencies\n",
      "copy \\\\live.sysinternals.com\\tools\\whois.exe C:\\Users\\ADI\\Desktop\\Major Project\n"
     ]
    },
    {
     "name": "stderr",
     "output_type": "stream",
     "text": [
      "\r",
      "  1%|▏         | 463/35378 [21:58<8:25:02,  1.15it/s]"
     ]
    },
    {
     "name": "stdout",
     "output_type": "stream",
     "text": [
      "downloading dependencies\n",
      "copy \\\\live.sysinternals.com\\tools\\whois.exe C:\\Users\\ADI\\Desktop\\Major Project\n"
     ]
    },
    {
     "name": "stderr",
     "output_type": "stream",
     "text": [
      "\r",
      "  1%|▏         | 464/35378 [21:59<8:13:08,  1.18it/s]"
     ]
    },
    {
     "name": "stdout",
     "output_type": "stream",
     "text": [
      "downloading dependencies\n",
      "copy \\\\live.sysinternals.com\\tools\\whois.exe C:\\Users\\ADI\\Desktop\\Major Project\n"
     ]
    },
    {
     "name": "stderr",
     "output_type": "stream",
     "text": [
      "\r",
      "  1%|▏         | 465/35378 [22:00<8:10:02,  1.19it/s]"
     ]
    },
    {
     "name": "stdout",
     "output_type": "stream",
     "text": [
      "downloading dependencies\n",
      "copy \\\\live.sysinternals.com\\tools\\whois.exe C:\\Users\\ADI\\Desktop\\Major Project\n"
     ]
    },
    {
     "name": "stderr",
     "output_type": "stream",
     "text": [
      "\r",
      "  1%|▏         | 466/35378 [22:01<8:10:23,  1.19it/s]"
     ]
    },
    {
     "name": "stdout",
     "output_type": "stream",
     "text": [
      "downloading dependencies\n",
      "copy \\\\live.sysinternals.com\\tools\\whois.exe C:\\Users\\ADI\\Desktop\\Major Project\n"
     ]
    },
    {
     "name": "stderr",
     "output_type": "stream",
     "text": [
      "\r",
      "  1%|▏         | 467/35378 [22:02<8:03:01,  1.20it/s]"
     ]
    },
    {
     "name": "stdout",
     "output_type": "stream",
     "text": [
      "downloading dependencies\n",
      "copy \\\\live.sysinternals.com\\tools\\whois.exe C:\\Users\\ADI\\Desktop\\Major Project\n"
     ]
    },
    {
     "name": "stderr",
     "output_type": "stream",
     "text": [
      "\r",
      "  1%|▏         | 468/35378 [22:02<8:00:44,  1.21it/s]"
     ]
    },
    {
     "name": "stdout",
     "output_type": "stream",
     "text": [
      "downloading dependencies\n",
      "copy \\\\live.sysinternals.com\\tools\\whois.exe C:\\Users\\ADI\\Desktop\\Major Project\n"
     ]
    },
    {
     "name": "stderr",
     "output_type": "stream",
     "text": [
      "\r",
      "  1%|▏         | 469/35378 [22:04<11:07:55,  1.15s/it]"
     ]
    },
    {
     "name": "stdout",
     "output_type": "stream",
     "text": [
      "downloading dependencies\n",
      "copy \\\\live.sysinternals.com\\tools\\whois.exe C:\\Users\\ADI\\Desktop\\Major Project\n"
     ]
    },
    {
     "name": "stderr",
     "output_type": "stream",
     "text": [
      "\r",
      "  1%|▏         | 470/35378 [22:05<10:22:25,  1.07s/it]"
     ]
    },
    {
     "name": "stdout",
     "output_type": "stream",
     "text": [
      "downloading dependencies\n",
      "copy \\\\live.sysinternals.com\\tools\\whois.exe C:\\Users\\ADI\\Desktop\\Major Project\n"
     ]
    },
    {
     "name": "stderr",
     "output_type": "stream",
     "text": [
      "\r",
      "  1%|▏         | 471/35378 [22:09<17:51:11,  1.84s/it]"
     ]
    },
    {
     "name": "stdout",
     "output_type": "stream",
     "text": [
      "downloading dependencies\n",
      "copy \\\\live.sysinternals.com\\tools\\whois.exe C:\\Users\\ADI\\Desktop\\Major Project\n"
     ]
    },
    {
     "name": "stderr",
     "output_type": "stream",
     "text": [
      "\r",
      "  1%|▏         | 472/35378 [22:37<93:08:50,  9.61s/it]"
     ]
    },
    {
     "name": "stdout",
     "output_type": "stream",
     "text": [
      "downloading dependencies\n",
      "copy \\\\live.sysinternals.com\\tools\\whois.exe C:\\Users\\ADI\\Desktop\\Major Project\n"
     ]
    },
    {
     "name": "stderr",
     "output_type": "stream",
     "text": [
      "\r",
      "  1%|▏         | 473/35378 [22:39<70:59:33,  7.32s/it]"
     ]
    },
    {
     "name": "stdout",
     "output_type": "stream",
     "text": [
      "downloading dependencies\n",
      "copy \\\\live.sysinternals.com\\tools\\whois.exe C:\\Users\\ADI\\Desktop\\Major Project\n"
     ]
    },
    {
     "name": "stderr",
     "output_type": "stream",
     "text": [
      "\r",
      "  1%|▏         | 474/35378 [22:40<53:22:42,  5.51s/it]"
     ]
    },
    {
     "name": "stdout",
     "output_type": "stream",
     "text": [
      "downloading dependencies\n",
      "copy \\\\live.sysinternals.com\\tools\\whois.exe C:\\Users\\ADI\\Desktop\\Major Project\n"
     ]
    },
    {
     "name": "stderr",
     "output_type": "stream",
     "text": [
      "\r",
      "  1%|▏         | 475/35378 [22:42<42:52:20,  4.42s/it]"
     ]
    },
    {
     "name": "stdout",
     "output_type": "stream",
     "text": [
      "downloading dependencies\n",
      "copy \\\\live.sysinternals.com\\tools\\whois.exe C:\\Users\\ADI\\Desktop\\Major Project\n"
     ]
    },
    {
     "name": "stderr",
     "output_type": "stream",
     "text": [
      "\r",
      "  1%|▏         | 476/35378 [22:44<36:20:18,  3.75s/it]"
     ]
    },
    {
     "name": "stdout",
     "output_type": "stream",
     "text": [
      "downloading dependencies\n",
      "copy \\\\live.sysinternals.com\\tools\\whois.exe C:\\Users\\ADI\\Desktop\\Major Project\n"
     ]
    },
    {
     "name": "stderr",
     "output_type": "stream",
     "text": [
      "\r",
      "  1%|▏         | 477/35378 [22:47<34:11:08,  3.53s/it]"
     ]
    },
    {
     "name": "stdout",
     "output_type": "stream",
     "text": [
      "downloading dependencies\n",
      "copy \\\\live.sysinternals.com\\tools\\whois.exe C:\\Users\\ADI\\Desktop\\Major Project\n"
     ]
    },
    {
     "name": "stderr",
     "output_type": "stream",
     "text": [
      "\r",
      "  1%|▏         | 478/35378 [22:50<32:58:58,  3.40s/it]"
     ]
    },
    {
     "name": "stdout",
     "output_type": "stream",
     "text": [
      "downloading dependencies\n",
      "copy \\\\live.sysinternals.com\\tools\\whois.exe C:\\Users\\ADI\\Desktop\\Major Project\n"
     ]
    },
    {
     "name": "stderr",
     "output_type": "stream",
     "text": [
      "\r",
      "  1%|▏         | 479/35378 [22:51<26:35:22,  2.74s/it]"
     ]
    },
    {
     "name": "stdout",
     "output_type": "stream",
     "text": [
      "downloading dependencies\n",
      "copy \\\\live.sysinternals.com\\tools\\whois.exe C:\\Users\\ADI\\Desktop\\Major Project\n"
     ]
    },
    {
     "name": "stderr",
     "output_type": "stream",
     "text": [
      "\r",
      "  1%|▏         | 480/35378 [22:52<21:29:20,  2.22s/it]"
     ]
    },
    {
     "name": "stdout",
     "output_type": "stream",
     "text": [
      "downloading dependencies\n",
      "copy \\\\live.sysinternals.com\\tools\\whois.exe C:\\Users\\ADI\\Desktop\\Major Project\n"
     ]
    },
    {
     "name": "stderr",
     "output_type": "stream",
     "text": [
      "  1%|▏         | 482/35378 [22:53<11:25:43,  1.18s/it]"
     ]
    },
    {
     "name": "stdout",
     "output_type": "stream",
     "text": [
      "Unknown TLD: .vn\n",
      "Valid TLDs: .ac_uk .am .amsterdam .ar .at .au .bank .be .biz .br .by .ca .cc .cl .club .cn .co .co_il .co_jp .com .com_au .com_tr .cr .cz .de .download .edu .education .eu .fi .fm .fr .frl .game .global_ .hk .id_ .ie .im .in_ .info .ink .io .ir .is_ .it .jp .kr .kz .link .lt .lv .me .mobi .mu .mx .name .net .ninja .nl .nu .nyc .nz .online .org .pe .pharmacy .pl .press .pro .pt .pub .pw .rest .ru .ru_rf .rw .sale .se .security .sh .site .space .store .tech .tel .theatre .tickets .trade .tv .ua .uk .us .uz .video .website .wiki .work .xyz .za Unknown TLD: .vn\n",
      "Valid TLDs: .ac_uk .am .amsterdam .ar .at .au .bank .be .biz .br .by .ca .cc .cl .club .cn .co .co_il .co_jp .com .com_au .com_tr .cr .cz .de .download .edu .education .eu .fi .fm .fr .frl .game .global_ .hk .id_ .ie .im .in_ .info .ink .io .ir .is_ .it .jp .kr .kz .link .lt .lv .me .mobi .mu .mx .name .net .ninja .nl .nu .nyc .nz .online .org .pe .pharmacy .pl .press .pro .pt .pub .pw .rest .ru .ru_rf .rw .sale .se .security .sh .site .space .store .tech .tel .theatre .tickets .trade .tv .ua .uk .us .uz .video .website .wiki .work .xyz .za Unknown TLD: .vn\n",
      "Valid TLDs: .ac_uk .am .amsterdam .ar .at .au .bank .be .biz .br .by .ca .cc .cl .club .cn .co .co_il .co_jp .com .com_au .com_tr .cr .cz .de .download .edu .education .eu .fi .fm .fr .frl .game .global_ .hk .id_ .ie .im .in_ .info .ink .io .ir .is_ .it .jp .kr .kz .link .lt .lv .me .mobi .mu .mx .name .net .ninja .nl .nu .nyc .nz .online .org .pe .pharmacy .pl .press .pro .pt .pub .pw .rest .ru .ru_rf .rw .sale .se .security .sh .site .space .store .tech .tel .theatre .tickets .trade .tv .ua .uk .us .uz .video .website .wiki .work .xyz .za Unknown TLD: .vn\n",
      "Valid TLDs: .ac_uk .am .amsterdam .ar .at .au .bank .be .biz .br .by .ca .cc .cl .club .cn .co .co_il .co_jp .com .com_au .com_tr .cr .cz .de .download .edu .education .eu .fi .fm .fr .frl .game .global_ .hk .id_ .ie .im .in_ .info .ink .io .ir .is_ .it .jp .kr .kz .link .lt .lv .me .mobi .mu .mx .name .net .ninja .nl .nu .nyc .nz .online .org .pe .pharmacy .pl .press .pro .pt .pub .pw .rest .ru .ru_rf .rw .sale .se .security .sh .site .space .store .tech .tel .theatre .tickets .trade .tv .ua .uk .us .uz .video .website .wiki .work .xyz .za Unknown TLD: .vn\n",
      "Valid TLDs: .ac_uk .am .amsterdam .ar .at .au .bank .be .biz .br .by .ca .cc .cl .club .cn .co .co_il .co_jp .com .com_au .com_tr .cr .cz .de .download .edu .education .eu .fi .fm .fr .frl .game .global_ .hk .id_ .ie .im .in_ .info .ink .io .ir .is_ .it .jp .kr .kz .link .lt .lv .me .mobi .mu .mx .name .net .ninja .nl .nu .nyc .nz .online .org .pe .pharmacy .pl .press .pro .pt .pub .pw .rest .ru .ru_rf .rw .sale .se .security .sh .site .space .store .tech .tel .theatre .tickets .trade .tv .ua .uk .us .uz .video .website .wiki .work .xyz .za Unknown TLD: .vn\n",
      "Valid TLDs: .ac_uk .am .amsterdam .ar .at .au .bank .be .biz .br .by .ca .cc .cl .club .cn .co .co_il .co_jp .com .com_au .com_tr .cr .cz .de .download .edu .education .eu .fi .fm .fr .frl .game .global_ .hk .id_ .ie .im .in_ .info .ink .io .ir .is_ .it .jp .kr .kz .link .lt .lv .me .mobi .mu .mx .name .net .ninja .nl .nu .nyc .nz .online .org .pe .pharmacy .pl .press .pro .pt .pub .pw .rest .ru .ru_rf .rw .sale .se .security .sh .site .space .store .tech .tel .theatre .tickets .trade .tv .ua .uk .us .uz .video .website .wiki .work .xyz .za Unknown TLD: .vn\n",
      "Valid TLDs: .ac_uk .am .amsterdam .ar .at .au .bank .be .biz .br .by .ca .cc .cl .club .cn .co .co_il .co_jp .com .com_au .com_tr .cr .cz .de .download .edu .education .eu .fi .fm .fr .frl .game .global_ .hk .id_ .ie .im .in_ .info .ink .io .ir .is_ .it .jp .kr .kz .link .lt .lv .me .mobi .mu .mx .name .net .ninja .nl .nu .nyc .nz .online .org .pe .pharmacy .pl .press .pro .pt .pub .pw .rest .ru .ru_rf .rw .sale .se .security .sh .site .space .store .tech .tel .theatre .tickets .trade .tv .ua .uk .us .uz .video .website .wiki .work .xyz .za Unknown TLD: .vn\n",
      "Valid TLDs: .ac_uk .am .amsterdam .ar .at .au .bank .be .biz .br .by .ca .cc .cl .club .cn .co .co_il .co_jp .com .com_au .com_tr .cr .cz .de .download .edu .education .eu .fi .fm .fr .frl .game .global_ .hk .id_ .ie .im .in_ .info .ink .io .ir .is_ .it .jp .kr .kz .link .lt .lv .me .mobi .mu .mx .name .net .ninja .nl .nu .nyc .nz .online .org .pe .pharmacy .pl .press .pro .pt .pub .pw .rest .ru .ru_rf .rw .sale .se .security .sh .site .space .store .tech .tel .theatre .tickets .trade .tv .ua .uk .us .uz .video .website .wiki .work .xyz .za downloading dependencies\n",
      "copy \\\\live.sysinternals.com\\tools\\whois.exe C:\\Users\\ADI\\Desktop\\Major Project\n"
     ]
    },
    {
     "name": "stderr",
     "output_type": "stream",
     "text": [
      "\r",
      "  1%|▏         | 490/35378 [22:54<3:42:55,  2.61it/s] "
     ]
    },
    {
     "name": "stdout",
     "output_type": "stream",
     "text": [
      "downloading dependencies\n",
      "copy \\\\live.sysinternals.com\\tools\\whois.exe C:\\Users\\ADI\\Desktop\\Major Project\n"
     ]
    },
    {
     "name": "stderr",
     "output_type": "stream",
     "text": [
      "\r",
      "  1%|▏         | 491/35378 [22:55<4:12:07,  2.31it/s]"
     ]
    },
    {
     "name": "stdout",
     "output_type": "stream",
     "text": [
      "Unknown TLD: .to\n",
      "Valid TLDs: .ac_uk .am .amsterdam .ar .at .au .bank .be .biz .br .by .ca .cc .cl .club .cn .co .co_il .co_jp .com .com_au .com_tr .cr .cz .de .download .edu .education .eu .fi .fm .fr .frl .game .global_ .hk .id_ .ie .im .in_ .info .ink .io .ir .is_ .it .jp .kr .kz .link .lt .lv .me .mobi .mu .mx .name .net .ninja .nl .nu .nyc .nz .online .org .pe .pharmacy .pl .press .pro .pt .pub .pw .rest .ru .ru_rf .rw .sale .se .security .sh .site .space .store .tech .tel .theatre .tickets .trade .tv .ua .uk .us .uz .video .website .wiki .work .xyz .za "
     ]
    },
    {
     "name": "stderr",
     "output_type": "stream",
     "text": [
      "\r",
      "  1%|▏         | 492/35378 [22:55<4:52:12,  1.99it/s]"
     ]
    },
    {
     "name": "stdout",
     "output_type": "stream",
     "text": [
      "downloading dependencies\n",
      "copy \\\\live.sysinternals.com\\tools\\whois.exe C:\\Users\\ADI\\Desktop\\Major Project\n"
     ]
    },
    {
     "name": "stderr",
     "output_type": "stream",
     "text": [
      "  1%|▏         | 494/35378 [22:56<3:54:44,  2.48it/s]"
     ]
    },
    {
     "name": "stdout",
     "output_type": "stream",
     "text": [
      "downloading dependencies\n",
      "copy \\\\live.sysinternals.com\\tools\\whois.exe C:\\Users\\ADI\\Desktop\\Major Project\n",
      "downloading dependencies\n",
      "copy \\\\live.sysinternals.com\\tools\\whois.exe C:\\Users\\ADI\\Desktop\\Major Project\n"
     ]
    },
    {
     "name": "stderr",
     "output_type": "stream",
     "text": [
      "  1%|▏         | 496/35378 [22:56<2:58:47,  3.25it/s]"
     ]
    },
    {
     "name": "stdout",
     "output_type": "stream",
     "text": [
      "downloading dependencies\n",
      "copy \\\\live.sysinternals.com\\tools\\whois.exe C:\\Users\\ADI\\Desktop\\Major Project\n",
      "downloading dependencies\n",
      "copy \\\\live.sysinternals.com\\tools\\whois.exe C:\\Users\\ADI\\Desktop\\Major Project\n"
     ]
    },
    {
     "name": "stderr",
     "output_type": "stream",
     "text": [
      "  1%|▏         | 498/35378 [22:57<2:22:42,  4.07it/s]"
     ]
    },
    {
     "name": "stdout",
     "output_type": "stream",
     "text": [
      "downloading dependencies\n",
      "copy \\\\live.sysinternals.com\\tools\\whois.exe C:\\Users\\ADI\\Desktop\\Major Project\n",
      "downloading dependencies\n",
      "copy \\\\live.sysinternals.com\\tools\\whois.exe C:\\Users\\ADI\\Desktop\\Major Project\n"
     ]
    },
    {
     "name": "stderr",
     "output_type": "stream",
     "text": [
      "  1%|▏         | 500/35378 [22:57<2:01:29,  4.78it/s]"
     ]
    },
    {
     "name": "stdout",
     "output_type": "stream",
     "text": [
      "downloading dependencies\n",
      "copy \\\\live.sysinternals.com\\tools\\whois.exe C:\\Users\\ADI\\Desktop\\Major Project\n",
      "downloading dependencies\n",
      "copy \\\\live.sysinternals.com\\tools\\whois.exe C:\\Users\\ADI\\Desktop\\Major Project\n"
     ]
    },
    {
     "name": "stderr",
     "output_type": "stream",
     "text": [
      "  1%|▏         | 502/35378 [22:57<1:52:37,  5.16it/s]"
     ]
    },
    {
     "name": "stdout",
     "output_type": "stream",
     "text": [
      "downloading dependencies\n",
      "copy \\\\live.sysinternals.com\\tools\\whois.exe C:\\Users\\ADI\\Desktop\\Major Project\n",
      "downloading dependencies\n",
      "copy \\\\live.sysinternals.com\\tools\\whois.exe C:\\Users\\ADI\\Desktop\\Major Project\n"
     ]
    },
    {
     "name": "stderr",
     "output_type": "stream",
     "text": [
      "  1%|▏         | 504/35378 [22:58<1:47:20,  5.41it/s]"
     ]
    },
    {
     "name": "stdout",
     "output_type": "stream",
     "text": [
      "downloading dependencies\n",
      "copy \\\\live.sysinternals.com\\tools\\whois.exe C:\\Users\\ADI\\Desktop\\Major Project\n"
     ]
    },
    {
     "name": "stderr",
     "output_type": "stream",
     "text": [
      "\r",
      "  1%|▏         | 505/35378 [22:58<1:47:41,  5.40it/s]"
     ]
    },
    {
     "name": "stdout",
     "output_type": "stream",
     "text": [
      "downloading dependencies\n",
      "copy \\\\live.sysinternals.com\\tools\\whois.exe C:\\Users\\ADI\\Desktop\\Major Project\n"
     ]
    },
    {
     "name": "stderr",
     "output_type": "stream",
     "text": [
      "\r",
      "  1%|▏         | 506/35378 [22:58<1:43:56,  5.59it/s]"
     ]
    },
    {
     "name": "stdout",
     "output_type": "stream",
     "text": [
      "downloading dependencies\n",
      "copy \\\\live.sysinternals.com\\tools\\whois.exe C:\\Users\\ADI\\Desktop\\Major Project\n",
      "downloading dependencies\n",
      "copy \\\\live.sysinternals.com\\tools\\whois.exe C:\\Users\\ADI\\Desktop\\Major Project\n"
     ]
    },
    {
     "name": "stderr",
     "output_type": "stream",
     "text": [
      "  1%|▏         | 508/35378 [22:58<1:42:52,  5.65it/s]"
     ]
    },
    {
     "name": "stdout",
     "output_type": "stream",
     "text": [
      "downloading dependencies\n",
      "copy \\\\live.sysinternals.com\\tools\\whois.exe C:\\Users\\ADI\\Desktop\\Major Project\n"
     ]
    },
    {
     "name": "stderr",
     "output_type": "stream",
     "text": [
      "\r",
      "  1%|▏         | 509/35378 [22:59<1:44:18,  5.57it/s]"
     ]
    },
    {
     "name": "stdout",
     "output_type": "stream",
     "text": [
      "downloading dependencies\n",
      "copy \\\\live.sysinternals.com\\tools\\whois.exe C:\\Users\\ADI\\Desktop\\Major Project\n",
      "downloading dependencies\n",
      "copy \\\\live.sysinternals.com\\tools\\whois.exe C:\\Users\\ADI\\Desktop\\Major Project\n"
     ]
    },
    {
     "name": "stderr",
     "output_type": "stream",
     "text": [
      "  1%|▏         | 511/35378 [22:59<1:44:42,  5.55it/s]"
     ]
    },
    {
     "name": "stdout",
     "output_type": "stream",
     "text": [
      "downloading dependencies\n",
      "copy \\\\live.sysinternals.com\\tools\\whois.exe C:\\Users\\ADI\\Desktop\\Major Project\n"
     ]
    },
    {
     "name": "stderr",
     "output_type": "stream",
     "text": [
      "\r",
      "  1%|▏         | 512/35378 [22:59<1:42:49,  5.65it/s]"
     ]
    },
    {
     "name": "stdout",
     "output_type": "stream",
     "text": [
      "downloading dependencies\n",
      "copy \\\\live.sysinternals.com\\tools\\whois.exe C:\\Users\\ADI\\Desktop\\Major Project\n",
      "downloading dependencies\n",
      "copy \\\\live.sysinternals.com\\tools\\whois.exe C:\\Users\\ADI\\Desktop\\Major Project\n"
     ]
    },
    {
     "name": "stderr",
     "output_type": "stream",
     "text": [
      "  1%|▏         | 514/35378 [22:59<1:44:48,  5.54it/s]"
     ]
    },
    {
     "name": "stdout",
     "output_type": "stream",
     "text": [
      "downloading dependencies\n",
      "copy \\\\live.sysinternals.com\\tools\\whois.exe C:\\Users\\ADI\\Desktop\\Major Project\n",
      "downloading dependencies\n",
      "copy \\\\live.sysinternals.com\\tools\\whois.exe C:\\Users\\ADI\\Desktop\\Major Project\n"
     ]
    },
    {
     "name": "stderr",
     "output_type": "stream",
     "text": [
      "\r",
      "  1%|▏         | 515/35378 [23:00<2:55:07,  3.32it/s]"
     ]
    },
    {
     "name": "stdout",
     "output_type": "stream",
     "text": [
      "downloading dependencies\n",
      "copy \\\\live.sysinternals.com\\tools\\whois.exe C:\\Users\\ADI\\Desktop\\Major Project\n"
     ]
    },
    {
     "name": "stderr",
     "output_type": "stream",
     "text": [
      "\r",
      "  1%|▏         | 516/35378 [23:00<3:14:15,  2.99it/s]"
     ]
    },
    {
     "name": "stdout",
     "output_type": "stream",
     "text": [
      "downloading dependencies\n",
      "copy \\\\live.sysinternals.com\\tools\\whois.exe C:\\Users\\ADI\\Desktop\\Major Project\n"
     ]
    },
    {
     "name": "stderr",
     "output_type": "stream",
     "text": [
      "\r",
      "  1%|▏         | 517/35378 [23:01<5:09:30,  1.88it/s]"
     ]
    },
    {
     "name": "stdout",
     "output_type": "stream",
     "text": [
      "downloading dependencies\n",
      "copy \\\\live.sysinternals.com\\tools\\whois.exe C:\\Users\\ADI\\Desktop\\Major Project\n"
     ]
    },
    {
     "name": "stderr",
     "output_type": "stream",
     "text": [
      "\r",
      "  1%|▏         | 518/35378 [23:02<6:39:28,  1.45it/s]"
     ]
    },
    {
     "name": "stdout",
     "output_type": "stream",
     "text": [
      "downloading dependencies\n",
      "copy \\\\live.sysinternals.com\\tools\\whois.exe C:\\Users\\ADI\\Desktop\\Major Project\n"
     ]
    },
    {
     "name": "stderr",
     "output_type": "stream",
     "text": [
      "\r",
      "  1%|▏         | 519/35378 [23:03<7:10:47,  1.35it/s]"
     ]
    },
    {
     "name": "stdout",
     "output_type": "stream",
     "text": [
      "downloading dependencies\n",
      "copy \\\\live.sysinternals.com\\tools\\whois.exe C:\\Users\\ADI\\Desktop\\Major Project\n"
     ]
    },
    {
     "name": "stderr",
     "output_type": "stream",
     "text": [
      "\r",
      "  1%|▏         | 520/35378 [23:04<8:22:37,  1.16it/s]"
     ]
    },
    {
     "name": "stdout",
     "output_type": "stream",
     "text": [
      "downloading dependencies\n",
      "copy \\\\live.sysinternals.com\\tools\\whois.exe C:\\Users\\ADI\\Desktop\\Major Project\n"
     ]
    },
    {
     "name": "stderr",
     "output_type": "stream",
     "text": [
      "\r",
      "  1%|▏         | 521/35378 [23:05<8:22:55,  1.16it/s]"
     ]
    },
    {
     "name": "stdout",
     "output_type": "stream",
     "text": [
      "downloading dependencies\n",
      "copy \\\\live.sysinternals.com\\tools\\whois.exe C:\\Users\\ADI\\Desktop\\Major Project\n"
     ]
    },
    {
     "name": "stderr",
     "output_type": "stream",
     "text": [
      "\r",
      "  1%|▏         | 522/35378 [23:32<83:07:00,  8.58s/it]"
     ]
    },
    {
     "name": "stdout",
     "output_type": "stream",
     "text": [
      "downloading dependencies\n",
      "copy \\\\live.sysinternals.com\\tools\\whois.exe C:\\Users\\ADI\\Desktop\\Major Project\n"
     ]
    },
    {
     "name": "stderr",
     "output_type": "stream",
     "text": [
      "\r",
      "  1%|▏         | 523/35378 [23:33<61:25:50,  6.34s/it]"
     ]
    },
    {
     "name": "stdout",
     "output_type": "stream",
     "text": [
      "downloading dependencies\n",
      "copy \\\\live.sysinternals.com\\tools\\whois.exe C:\\Users\\ADI\\Desktop\\Major Project\n"
     ]
    },
    {
     "name": "stderr",
     "output_type": "stream",
     "text": [
      "\r",
      "  1%|▏         | 524/35378 [23:34<45:49:18,  4.73s/it]"
     ]
    },
    {
     "name": "stdout",
     "output_type": "stream",
     "text": [
      "downloading dependencies\n",
      "copy \\\\live.sysinternals.com\\tools\\whois.exe C:\\Users\\ADI\\Desktop\\Major Project\n"
     ]
    },
    {
     "name": "stderr",
     "output_type": "stream",
     "text": [
      "\r",
      "  1%|▏         | 525/35378 [23:35<34:21:04,  3.55s/it]"
     ]
    },
    {
     "name": "stdout",
     "output_type": "stream",
     "text": [
      "downloading dependencies\n",
      "copy \\\\live.sysinternals.com\\tools\\whois.exe C:\\Users\\ADI\\Desktop\\Major Project\n"
     ]
    },
    {
     "name": "stderr",
     "output_type": "stream",
     "text": [
      "\r",
      "  1%|▏         | 526/35378 [23:36<26:11:51,  2.71s/it]"
     ]
    },
    {
     "name": "stdout",
     "output_type": "stream",
     "text": [
      "downloading dependencies\n",
      "copy \\\\live.sysinternals.com\\tools\\whois.exe C:\\Users\\ADI\\Desktop\\Major Project\n"
     ]
    },
    {
     "name": "stderr",
     "output_type": "stream",
     "text": [
      "\r",
      "  1%|▏         | 527/35378 [23:36<20:35:42,  2.13s/it]"
     ]
    },
    {
     "name": "stdout",
     "output_type": "stream",
     "text": [
      "downloading dependencies\n",
      "copy \\\\live.sysinternals.com\\tools\\whois.exe C:\\Users\\ADI\\Desktop\\Major Project\n"
     ]
    },
    {
     "name": "stderr",
     "output_type": "stream",
     "text": [
      "\r",
      "  1%|▏         | 528/35378 [23:37<16:36:22,  1.72s/it]"
     ]
    },
    {
     "name": "stdout",
     "output_type": "stream",
     "text": [
      "downloading dependencies\n",
      "copy \\\\live.sysinternals.com\\tools\\whois.exe C:\\Users\\ADI\\Desktop\\Major Project\n"
     ]
    },
    {
     "name": "stderr",
     "output_type": "stream",
     "text": [
      "\r",
      "  1%|▏         | 529/35378 [23:38<13:53:06,  1.43s/it]"
     ]
    },
    {
     "name": "stdout",
     "output_type": "stream",
     "text": [
      "downloading dependencies\n",
      "copy \\\\live.sysinternals.com\\tools\\whois.exe C:\\Users\\ADI\\Desktop\\Major Project\n"
     ]
    },
    {
     "name": "stderr",
     "output_type": "stream",
     "text": [
      "\r",
      "  1%|▏         | 530/35378 [23:39<11:57:22,  1.24s/it]"
     ]
    },
    {
     "name": "stdout",
     "output_type": "stream",
     "text": [
      "downloading dependencies\n",
      "copy \\\\live.sysinternals.com\\tools\\whois.exe C:\\Users\\ADI\\Desktop\\Major Project\n"
     ]
    },
    {
     "name": "stderr",
     "output_type": "stream",
     "text": [
      "\r",
      "  2%|▏         | 531/35378 [23:39<10:30:22,  1.09s/it]"
     ]
    },
    {
     "name": "stdout",
     "output_type": "stream",
     "text": [
      "downloading dependencies\n",
      "copy \\\\live.sysinternals.com\\tools\\whois.exe C:\\Users\\ADI\\Desktop\\Major Project\n"
     ]
    },
    {
     "name": "stderr",
     "output_type": "stream",
     "text": [
      "\r",
      "  2%|▏         | 532/35378 [23:40<9:36:54,  1.01it/s] "
     ]
    },
    {
     "name": "stdout",
     "output_type": "stream",
     "text": [
      "downloading dependencies\n",
      "copy \\\\live.sysinternals.com\\tools\\whois.exe C:\\Users\\ADI\\Desktop\\Major Project\n"
     ]
    },
    {
     "name": "stderr",
     "output_type": "stream",
     "text": [
      "\r",
      "  2%|▏         | 533/35378 [23:41<8:52:34,  1.09it/s]"
     ]
    },
    {
     "name": "stdout",
     "output_type": "stream",
     "text": [
      "downloading dependencies\n",
      "copy \\\\live.sysinternals.com\\tools\\whois.exe C:\\Users\\ADI\\Desktop\\Major Project\n"
     ]
    },
    {
     "name": "stderr",
     "output_type": "stream",
     "text": [
      "\r",
      "  2%|▏         | 534/35378 [23:42<8:26:14,  1.15it/s]"
     ]
    },
    {
     "name": "stdout",
     "output_type": "stream",
     "text": [
      "downloading dependencies\n",
      "copy \\\\live.sysinternals.com\\tools\\whois.exe C:\\Users\\ADI\\Desktop\\Major Project\n"
     ]
    },
    {
     "name": "stderr",
     "output_type": "stream",
     "text": [
      "\r",
      "  2%|▏         | 535/35378 [24:03<67:11:01,  6.94s/it]"
     ]
    },
    {
     "name": "stdout",
     "output_type": "stream",
     "text": [
      "downloading dependencies\n",
      "copy \\\\live.sysinternals.com\\tools\\whois.exe C:\\Users\\ADI\\Desktop\\Major Project\n"
     ]
    },
    {
     "name": "stderr",
     "output_type": "stream",
     "text": [
      "\r",
      "  2%|▏         | 536/35378 [24:31<128:52:01, 13.32s/it]"
     ]
    },
    {
     "name": "stdout",
     "output_type": "stream",
     "text": [
      "downloading dependencies\n",
      "copy \\\\live.sysinternals.com\\tools\\whois.exe C:\\Users\\ADI\\Desktop\\Major Project\n"
     ]
    },
    {
     "name": "stderr",
     "output_type": "stream",
     "text": [
      "\r",
      "  2%|▏         | 537/35378 [24:34<98:42:05, 10.20s/it] "
     ]
    },
    {
     "name": "stdout",
     "output_type": "stream",
     "text": [
      "downloading dependencies\n",
      "copy \\\\live.sysinternals.com\\tools\\whois.exe C:\\Users\\ADI\\Desktop\\Major Project\n"
     ]
    },
    {
     "name": "stderr",
     "output_type": "stream",
     "text": [
      "\r",
      "  2%|▏         | 538/35378 [24:37<78:11:52,  8.08s/it]"
     ]
    },
    {
     "name": "stdout",
     "output_type": "stream",
     "text": [
      "downloading dependencies\n",
      "copy \\\\live.sysinternals.com\\tools\\whois.exe C:\\Users\\ADI\\Desktop\\Major Project\n"
     ]
    },
    {
     "name": "stderr",
     "output_type": "stream",
     "text": [
      "\r",
      "  2%|▏         | 539/35378 [24:40<62:08:49,  6.42s/it]"
     ]
    },
    {
     "name": "stdout",
     "output_type": "stream",
     "text": [
      "downloading dependencies\n",
      "copy \\\\live.sysinternals.com\\tools\\whois.exe C:\\Users\\ADI\\Desktop\\Major Project\n"
     ]
    },
    {
     "name": "stderr",
     "output_type": "stream",
     "text": [
      "\r",
      "  2%|▏         | 540/35378 [24:42<50:41:33,  5.24s/it]"
     ]
    },
    {
     "name": "stdout",
     "output_type": "stream",
     "text": [
      "downloading dependencies\n",
      "copy \\\\live.sysinternals.com\\tools\\whois.exe C:\\Users\\ADI\\Desktop\\Major Project\n"
     ]
    },
    {
     "name": "stderr",
     "output_type": "stream",
     "text": [
      "\r",
      "  2%|▏         | 541/35378 [24:44<41:39:53,  4.31s/it]"
     ]
    },
    {
     "name": "stdout",
     "output_type": "stream",
     "text": [
      "downloading dependencies\n",
      "copy \\\\live.sysinternals.com\\tools\\whois.exe C:\\Users\\ADI\\Desktop\\Major Project\n"
     ]
    },
    {
     "name": "stderr",
     "output_type": "stream",
     "text": [
      "\r",
      "  2%|▏         | 542/35378 [24:45<32:57:16,  3.41s/it]"
     ]
    },
    {
     "name": "stdout",
     "output_type": "stream",
     "text": [
      "downloading dependencies\n",
      "copy \\\\live.sysinternals.com\\tools\\whois.exe C:\\Users\\ADI\\Desktop\\Major Project\n"
     ]
    },
    {
     "name": "stderr",
     "output_type": "stream",
     "text": [
      "\r",
      "  2%|▏         | 543/35378 [24:46<25:50:58,  2.67s/it]"
     ]
    },
    {
     "name": "stdout",
     "output_type": "stream",
     "text": [
      "downloading dependencies\n",
      "copy \\\\live.sysinternals.com\\tools\\whois.exe C:\\Users\\ADI\\Desktop\\Major Project\n"
     ]
    },
    {
     "name": "stderr",
     "output_type": "stream",
     "text": [
      "\r",
      "  2%|▏         | 544/35378 [24:47<21:04:18,  2.18s/it]"
     ]
    },
    {
     "name": "stdout",
     "output_type": "stream",
     "text": [
      "downloading dependencies\n",
      "copy \\\\live.sysinternals.com\\tools\\whois.exe C:\\Users\\ADI\\Desktop\\Major Project\n"
     ]
    },
    {
     "name": "stderr",
     "output_type": "stream",
     "text": [
      "\r",
      "  2%|▏         | 545/35378 [24:49<17:51:05,  1.84s/it]"
     ]
    },
    {
     "name": "stdout",
     "output_type": "stream",
     "text": [
      "downloading dependencies\n",
      "copy \\\\live.sysinternals.com\\tools\\whois.exe C:\\Users\\ADI\\Desktop\\Major Project\n"
     ]
    },
    {
     "name": "stderr",
     "output_type": "stream",
     "text": [
      "\r",
      "  2%|▏         | 546/35378 [24:50<15:30:11,  1.60s/it]"
     ]
    },
    {
     "name": "stdout",
     "output_type": "stream",
     "text": [
      "downloading dependencies\n",
      "copy \\\\live.sysinternals.com\\tools\\whois.exe C:\\Users\\ADI\\Desktop\\Major Project\n"
     ]
    },
    {
     "name": "stderr",
     "output_type": "stream",
     "text": [
      "\r",
      "  2%|▏         | 547/35378 [24:50<13:22:21,  1.38s/it]"
     ]
    },
    {
     "name": "stdout",
     "output_type": "stream",
     "text": [
      "downloading dependencies\n",
      "copy \\\\live.sysinternals.com\\tools\\whois.exe C:\\Users\\ADI\\Desktop\\Major Project\n"
     ]
    },
    {
     "name": "stderr",
     "output_type": "stream",
     "text": [
      "\r",
      "  2%|▏         | 548/35378 [24:52<12:31:28,  1.29s/it]"
     ]
    },
    {
     "name": "stdout",
     "output_type": "stream",
     "text": [
      "downloading dependencies\n",
      "copy \\\\live.sysinternals.com\\tools\\whois.exe C:\\Users\\ADI\\Desktop\\Major Project\n"
     ]
    },
    {
     "name": "stderr",
     "output_type": "stream",
     "text": [
      "\r",
      "  2%|▏         | 549/35378 [24:52<11:23:51,  1.18s/it]"
     ]
    },
    {
     "name": "stdout",
     "output_type": "stream",
     "text": [
      "downloading dependencies\n",
      "copy \\\\live.sysinternals.com\\tools\\whois.exe C:\\Users\\ADI\\Desktop\\Major Project\n"
     ]
    },
    {
     "name": "stderr",
     "output_type": "stream",
     "text": [
      "\r",
      "  2%|▏         | 550/35378 [24:54<11:05:45,  1.15s/it]"
     ]
    },
    {
     "name": "stdout",
     "output_type": "stream",
     "text": [
      "downloading dependencies\n",
      "copy \\\\live.sysinternals.com\\tools\\whois.exe C:\\Users\\ADI\\Desktop\\Major Project\n"
     ]
    },
    {
     "name": "stderr",
     "output_type": "stream",
     "text": [
      "\r",
      "  2%|▏         | 551/35378 [24:55<12:17:25,  1.27s/it]"
     ]
    },
    {
     "name": "stdout",
     "output_type": "stream",
     "text": [
      "downloading dependencies\n",
      "copy \\\\live.sysinternals.com\\tools\\whois.exe C:\\Users\\ADI\\Desktop\\Major Project\n"
     ]
    },
    {
     "name": "stderr",
     "output_type": "stream",
     "text": [
      "\r",
      "  2%|▏         | 552/35378 [24:56<10:44:56,  1.11s/it]"
     ]
    },
    {
     "name": "stdout",
     "output_type": "stream",
     "text": [
      "downloading dependencies\n",
      "copy \\\\live.sysinternals.com\\tools\\whois.exe C:\\Users\\ADI\\Desktop\\Major Project\n"
     ]
    },
    {
     "name": "stderr",
     "output_type": "stream",
     "text": [
      "\r",
      "  2%|▏         | 553/35378 [24:57<10:01:36,  1.04s/it]"
     ]
    },
    {
     "name": "stdout",
     "output_type": "stream",
     "text": [
      "downloading dependencies\n",
      "copy \\\\live.sysinternals.com\\tools\\whois.exe C:\\Users\\ADI\\Desktop\\Major Project\n"
     ]
    },
    {
     "name": "stderr",
     "output_type": "stream",
     "text": [
      "\r",
      "  2%|▏         | 554/35378 [24:58<9:54:12,  1.02s/it] "
     ]
    },
    {
     "name": "stdout",
     "output_type": "stream",
     "text": [
      "downloading dependencies\n",
      "copy \\\\live.sysinternals.com\\tools\\whois.exe C:\\Users\\ADI\\Desktop\\Major Project\n"
     ]
    },
    {
     "name": "stderr",
     "output_type": "stream",
     "text": [
      "\r",
      "  2%|▏         | 555/35378 [24:59<9:21:15,  1.03it/s]"
     ]
    },
    {
     "name": "stdout",
     "output_type": "stream",
     "text": [
      "downloading dependencies\n",
      "copy \\\\live.sysinternals.com\\tools\\whois.exe C:\\Users\\ADI\\Desktop\\Major Project\n"
     ]
    },
    {
     "name": "stderr",
     "output_type": "stream",
     "text": [
      "\r",
      "  2%|▏         | 556/35378 [25:00<10:26:11,  1.08s/it]"
     ]
    },
    {
     "name": "stdout",
     "output_type": "stream",
     "text": [
      "downloading dependencies\n",
      "copy \\\\live.sysinternals.com\\tools\\whois.exe C:\\Users\\ADI\\Desktop\\Major Project\n"
     ]
    },
    {
     "name": "stderr",
     "output_type": "stream",
     "text": [
      "\r",
      "  2%|▏         | 557/35378 [25:26<84:11:56,  8.70s/it]"
     ]
    },
    {
     "name": "stdout",
     "output_type": "stream",
     "text": [
      "downloading dependencies\n",
      "copy \\\\live.sysinternals.com\\tools\\whois.exe C:\\Users\\ADI\\Desktop\\Major Project\n"
     ]
    },
    {
     "name": "stderr",
     "output_type": "stream",
     "text": [
      "\r",
      "  2%|▏         | 558/35378 [25:28<63:27:28,  6.56s/it]"
     ]
    },
    {
     "name": "stdout",
     "output_type": "stream",
     "text": [
      "downloading dependencies\n",
      "copy \\\\live.sysinternals.com\\tools\\whois.exe C:\\Users\\ADI\\Desktop\\Major Project\n"
     ]
    },
    {
     "name": "stderr",
     "output_type": "stream",
     "text": [
      "\r",
      "  2%|▏         | 559/35378 [25:29<46:44:09,  4.83s/it]"
     ]
    },
    {
     "name": "stdout",
     "output_type": "stream",
     "text": [
      "downloading dependencies\n",
      "copy \\\\live.sysinternals.com\\tools\\whois.exe C:\\Users\\ADI\\Desktop\\Major Project\n"
     ]
    },
    {
     "name": "stderr",
     "output_type": "stream",
     "text": [
      "\r",
      "  2%|▏         | 560/35378 [25:29<34:53:03,  3.61s/it]"
     ]
    },
    {
     "name": "stdout",
     "output_type": "stream",
     "text": [
      "downloading dependencies\n",
      "copy \\\\live.sysinternals.com\\tools\\whois.exe C:\\Users\\ADI\\Desktop\\Major Project\n"
     ]
    },
    {
     "name": "stderr",
     "output_type": "stream",
     "text": [
      "\r",
      "  2%|▏         | 561/35378 [25:31<27:28:19,  2.84s/it]"
     ]
    },
    {
     "name": "stdout",
     "output_type": "stream",
     "text": [
      "downloading dependencies\n",
      "copy \\\\live.sysinternals.com\\tools\\whois.exe C:\\Users\\ADI\\Desktop\\Major Project\n"
     ]
    },
    {
     "name": "stderr",
     "output_type": "stream",
     "text": [
      "\r",
      "  2%|▏         | 562/35378 [25:31<21:21:14,  2.21s/it]"
     ]
    },
    {
     "name": "stdout",
     "output_type": "stream",
     "text": [
      "downloading dependencies\n",
      "copy \\\\live.sysinternals.com\\tools\\whois.exe C:\\Users\\ADI\\Desktop\\Major Project\n"
     ]
    },
    {
     "name": "stderr",
     "output_type": "stream",
     "text": [
      "\r",
      "  2%|▏         | 563/35378 [25:32<17:28:36,  1.81s/it]"
     ]
    },
    {
     "name": "stdout",
     "output_type": "stream",
     "text": [
      "downloading dependencies\n",
      "copy \\\\live.sysinternals.com\\tools\\whois.exe C:\\Users\\ADI\\Desktop\\Major Project\n"
     ]
    },
    {
     "name": "stderr",
     "output_type": "stream",
     "text": [
      "\r",
      "  2%|▏         | 564/35378 [25:33<15:27:46,  1.60s/it]"
     ]
    },
    {
     "name": "stdout",
     "output_type": "stream",
     "text": [
      "downloading dependencies\n",
      "copy \\\\live.sysinternals.com\\tools\\whois.exe C:\\Users\\ADI\\Desktop\\Major Project\n"
     ]
    },
    {
     "name": "stderr",
     "output_type": "stream",
     "text": [
      "\r",
      "  2%|▏         | 565/35378 [30:38<895:17:46, 92.58s/it]"
     ]
    },
    {
     "name": "stdout",
     "output_type": "stream",
     "text": [
      "downloading dependencies\n",
      "copy \\\\live.sysinternals.com\\tools\\whois.exe C:\\Users\\ADI\\Desktop\\Major Project\n"
     ]
    },
    {
     "name": "stderr",
     "output_type": "stream",
     "text": [
      "\r",
      "  2%|▏         | 566/35378 [36:09<1586:50:20, 164.10s/it]"
     ]
    },
    {
     "name": "stdout",
     "output_type": "stream",
     "text": [
      "downloading dependencies\n",
      "copy \\\\live.sysinternals.com\\tools\\whois.exe C:\\Users\\ADI\\Desktop\\Major Project\n"
     ]
    },
    {
     "name": "stderr",
     "output_type": "stream",
     "text": [
      "\r",
      "  2%|▏         | 567/35378 [41:37<2061:39:12, 213.21s/it]"
     ]
    },
    {
     "name": "stdout",
     "output_type": "stream",
     "text": [
      "downloading dependencies\n",
      "copy \\\\live.sysinternals.com\\tools\\whois.exe C:\\Users\\ADI\\Desktop\\Major Project\n"
     ]
    },
    {
     "name": "stderr",
     "output_type": "stream",
     "text": [
      "\r",
      "  2%|▏         | 568/35378 [47:04<2391:32:46, 247.33s/it]"
     ]
    },
    {
     "name": "stdout",
     "output_type": "stream",
     "text": [
      "downloading dependencies\n",
      "copy \\\\live.sysinternals.com\\tools\\whois.exe C:\\Users\\ADI\\Desktop\\Major Project\n"
     ]
    },
    {
     "name": "stderr",
     "output_type": "stream",
     "text": [
      "\r",
      "  2%|▏         | 569/35378 [52:33<2628:45:26, 271.87s/it]"
     ]
    },
    {
     "name": "stdout",
     "output_type": "stream",
     "text": [
      "downloading dependencies\n",
      "copy \\\\live.sysinternals.com\\tools\\whois.exe C:\\Users\\ADI\\Desktop\\Major Project\n"
     ]
    },
    {
     "name": "stderr",
     "output_type": "stream",
     "text": [
      "\r",
      "  2%|▏         | 570/35378 [58:00<2789:33:53, 288.51s/it]"
     ]
    },
    {
     "name": "stdout",
     "output_type": "stream",
     "text": [
      "downloading dependencies\n",
      "copy \\\\live.sysinternals.com\\tools\\whois.exe C:\\Users\\ADI\\Desktop\\Major Project\n"
     ]
    }
   ],
   "source": [
    "emp = UrlFeaturizer(\"\").run().keys()\n",
    "\n",
    "A = pd.DataFrame(columns = emp)\n",
    "t=[]\n",
    "for j in l:\n",
    "    print(j)\n",
    "    d=pd.read_csv(j,header=None).to_numpy().flatten()\n",
    "    for i in tqdm(d):  \n",
    "        temp=UrlFeaturizer(i).run()\n",
    "        temp[\"File\"]=j.split(\".\")[0]\n",
    "        t.append(temp) \n",
    "A=A.append(t)\n",
    "os.chdir('../')\n",
    "A.to_csv(\"Benign_features.csv\")"
   ]
  },
  {
   "cell_type": "code",
   "execution_count": null,
   "id": "3b18d1bb",
   "metadata": {},
   "outputs": [],
   "source": []
  }
 ],
 "metadata": {
  "kernelspec": {
   "display_name": "Python 3",
   "language": "python",
   "name": "python3"
  },
  "language_info": {
   "codemirror_mode": {
    "name": "ipython",
    "version": 3
   },
   "file_extension": ".py",
   "mimetype": "text/x-python",
   "name": "python",
   "nbconvert_exporter": "python",
   "pygments_lexer": "ipython3",
   "version": "3.8.5"
  }
 },
 "nbformat": 4,
 "nbformat_minor": 5
}
